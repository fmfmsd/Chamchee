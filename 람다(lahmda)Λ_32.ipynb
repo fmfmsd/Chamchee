{
  "nbformat": 4,
  "nbformat_minor": 0,
  "metadata": {
    "colab": {
      "name": "람다(lahmda)Λ 32.ipynb",
      "provenance": [],
      "authorship_tag": "ABX9TyOaWoSyNhVHxQCh9ghy1EP2",
      "include_colab_link": true
    },
    "kernelspec": {
      "name": "python3",
      "display_name": "Python 3"
    },
    "language_info": {
      "name": "python"
    }
  },
  "cells": [
    {
      "cell_type": "markdown",
      "metadata": {
        "id": "view-in-github",
        "colab_type": "text"
      },
      "source": [
        "<a href=\"https://colab.research.google.com/github/fmfmsd/Chamchee/blob/main/%EB%9E%8C%EB%8B%A4(lahmda)%CE%9B_32.ipynb\" target=\"_parent\"><img src=\"https://colab.research.google.com/assets/colab-badge.svg\" alt=\"Open In Colab\"/></a>"
      ]
    },
    {
      "cell_type": "code",
      "execution_count": null,
      "metadata": {
        "id": "awPh0nSKqssp"
      },
      "outputs": [],
      "source": [
        "def plus_ten(x):\n",
        "  return x + 10\n",
        "\n",
        "plus_ten(1)"
      ]
    },
    {
      "cell_type": "code",
      "source": [
        "lambda x: x + 10"
      ],
      "metadata": {
        "id": "YgMZ3iPzrD5e"
      },
      "execution_count": null,
      "outputs": []
    },
    {
      "cell_type": "code",
      "source": [
        "plus_ten = lambda x: x + 10\n",
        "plus_ten(1)"
      ],
      "metadata": {
        "id": "Y7zFxb2mrckF"
      },
      "execution_count": null,
      "outputs": []
    },
    {
      "cell_type": "code",
      "source": [
        "(lambda x: x + 10)(1)"
      ],
      "metadata": {
        "id": "5LxEx0I1rruK"
      },
      "execution_count": null,
      "outputs": []
    },
    {
      "cell_type": "code",
      "source": [
        "(lambda x: y=10; x+y)(1)"
      ],
      "metadata": {
        "id": "j53c4ZzwsA9c"
      },
      "execution_count": null,
      "outputs": []
    },
    {
      "cell_type": "code",
      "source": [
        "y=10\n",
        "(lambda x: x+y)(1)"
      ],
      "metadata": {
        "id": "4aEOWARYsL47"
      },
      "execution_count": null,
      "outputs": []
    },
    {
      "cell_type": "code",
      "source": [
        "def plus_ten(x):\n",
        "    return x + 10\n",
        "\n",
        "list(map(plus_ten, [1, 2, 3]))"
      ],
      "metadata": {
        "id": "sP6vyBs6simQ"
      },
      "execution_count": null,
      "outputs": []
    },
    {
      "cell_type": "code",
      "source": [
        "list(map(lambda x: x + 10, [1, 2, 3]))"
      ],
      "metadata": {
        "id": "ezyN8JbBst0m"
      },
      "execution_count": null,
      "outputs": []
    },
    {
      "cell_type": "code",
      "source": [
        "a = [1, 2, 3, 4, 5, 6, 7, 8, 9, 10]\n",
        "list(map(lambda x: str(x) if x % 3 == 0 else x, a))"
      ],
      "metadata": {
        "id": "-rTvNhbtsyAu"
      },
      "execution_count": null,
      "outputs": []
    },
    {
      "cell_type": "code",
      "source": [
        "a = [1, 2, 3, 4, 5]\n",
        "b = [2, 4, 6, 8, 10]\n",
        "list(map(lambda x, y: x*y, a,b))"
      ],
      "metadata": {
        "id": "GbiOC3SrtFTK"
      },
      "execution_count": null,
      "outputs": []
    },
    {
      "cell_type": "code",
      "source": [
        "def f(x,y):\n",
        "  return x+y\n",
        "\n",
        "a = [1,2,3,4,5]\n",
        "from functools import reduce\n",
        "reduce(f, a)"
      ],
      "metadata": {
        "id": "kAXP6TmVtyoA"
      },
      "execution_count": null,
      "outputs": []
    },
    {
      "cell_type": "code",
      "source": [
        "a = [1, 2, 3, 4, 5]\n",
        "from functools import reduce\n",
        "reduce(lambda x, y: x + y, a)"
      ],
      "metadata": {
        "id": "pfDqr9OkuGQG"
      },
      "execution_count": null,
      "outputs": []
    }
  ]
}