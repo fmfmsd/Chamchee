{
  "nbformat": 4,
  "nbformat_minor": 0,
  "metadata": {
    "colab": {
      "provenance": []
    },
    "kernelspec": {
      "name": "python3",
      "display_name": "Python 3"
    },
    "language_info": {
      "name": "python"
    }
  },
  "cells": [
    {
      "cell_type": "markdown",
      "source": [
        "프로젝트를 잘 마무리하셨나요?\n",
        "\n",
        "혼자 프로젝트를 수행하기 어려운 분들을 위해 이번 스텝에서는 가이드를 제공하려고 합니다. 혹시라도 프로젝트를 아직 완성하지 못한 분들은 프로젝트를 완성한 후에 가이드를 봐주세요. 😊\n",
        "\n",
        "# **프로젝트 가이드**\n",
        "\n",
        "**데이터 불러오기**"
      ],
      "metadata": {
        "id": "o6TMPftADa5T"
      }
    },
    {
      "cell_type": "code",
      "execution_count": 9,
      "metadata": {
        "id": "-IOi5gGDDVmO"
      },
      "outputs": [],
      "source": [
        "# 필요 라이브러리 호출하기\n",
        "# Pandas, Numpy, Matplotlib, Seaborn을 호출해봅니다.\n",
        "\n",
        "import pandas as pd\n",
        "import numpy as np\n",
        "import matplotlib.pyplot as plt\n",
        "plt.style.use('default')\n",
        "import seaborn as sns\n",
        "import os\n",
        "from os.path import join"
      ]
    },
    {
      "cell_type": "code",
      "source": [
        "from google.colab import drive\n",
        "drive.mount('/content/drive')"
      ],
      "metadata": {
        "colab": {
          "base_uri": "https://localhost:8080/"
        },
        "id": "PZxmasgZ3OZp",
        "outputId": "baf074e2-5344-4566-e7b5-55f092e371cb"
      },
      "execution_count": 10,
      "outputs": [
        {
          "output_type": "stream",
          "name": "stdout",
          "text": [
            "Drive already mounted at /content/drive; to attempt to forcibly remount, call drive.mount(\"/content/drive\", force_remount=True).\n"
          ]
        }
      ]
    },
    {
      "cell_type": "code",
      "source": [
        "data_dir=('/content/drive/MyDrive/dataFLIPPED')"
      ],
      "metadata": {
        "id": "xy23tzWG4Jdf"
      },
      "execution_count": 11,
      "outputs": []
    },
    {
      "cell_type": "code",
      "source": [
        "# 데이터 호출하기\n",
        "# entry_data.csv, sales_data.csv, item_data.csv, item_entry_data.csv의\n",
        "# 총 네 가지 파일을 각각 호출합니다.\n",
        "# 파일들은 본 클라우드에 저장되어있어 다음을 참고하여 호출해주세요.\n",
        "# entry_data = pd.read_csv('~/aiffel/data_analysis_basic/data/entry_data.csv')\n",
        "# [[YOUR CODE]]\n",
        "entry_data_path = join(data_dir, 'entry_data.csv')\n",
        "sales_data_path = join(data_dir, 'sales_data.csv')\n",
        "item_data_path = join(data_dir, 'item_data.csv')\n",
        "iten_data_path = join(data_dir, 'item_entry_data.csv')\n",
        "\n",
        "entry = pd.read_csv(entry_data_path)\n",
        "sales = pd.read_csv(sales_data_path)\n",
        "item = pd.read_csv(item_data_path)\n",
        "iten = pd.read_csv(iten_data_path)"
      ],
      "metadata": {
        "id": "hE1auVhRDiaT"
      },
      "execution_count": 16,
      "outputs": []
    },
    {
      "cell_type": "code",
      "source": [
        "# entry_data 데이터 정보 확인하기\n",
        "# [[YOUR CODE]]\n",
        "entry.head()"
      ],
      "metadata": {
        "id": "68OGEdgjDjnS",
        "colab": {
          "base_uri": "https://localhost:8080/",
          "height": 206
        },
        "outputId": "03040c3c-433f-4b3a-9e72-09d2020c9e70"
      },
      "execution_count": 17,
      "outputs": [
        {
          "output_type": "execute_result",
          "data": {
            "text/plain": [
              "           요금제명                입실                퇴실           이용    위치    금액  \\\n",
              "0    시간요금제(1시간)  2022-04-01 23:39   2022-04-02 0:39   오전 1:00:00  선불기2  3000   \n",
              "1    시간요금제(1시간)  2022-04-01 23:39   2022-04-02 0:39   오전 1:00:00  선불기2  3000   \n",
              "2       무제한 입장권  2022-04-01 20:55  2022-04-01 21:41  오전 12:46:00  선불기2  7400   \n",
              "3       무제한 입장권  2022-04-01 20:55  2022-04-01 21:41  오전 12:46:00  선불기2  7400   \n",
              "4  한국대생 무제한 입장권  2022-04-01 19:54  2022-04-01 22:28   오전 2:33:00  선불기2  7400   \n",
              "\n",
              "   구분              고객  \n",
              "0  퇴실  customer263717  \n",
              "1  퇴실  customer263717  \n",
              "2  퇴실  customer247263  \n",
              "3  퇴실  customer247263  \n",
              "4  퇴실  customer388928  "
            ],
            "text/html": [
              "\n",
              "  <div id=\"df-60db4746-e8b4-49c6-8e5f-6fcb974dd817\">\n",
              "    <div class=\"colab-df-container\">\n",
              "      <div>\n",
              "<style scoped>\n",
              "    .dataframe tbody tr th:only-of-type {\n",
              "        vertical-align: middle;\n",
              "    }\n",
              "\n",
              "    .dataframe tbody tr th {\n",
              "        vertical-align: top;\n",
              "    }\n",
              "\n",
              "    .dataframe thead th {\n",
              "        text-align: right;\n",
              "    }\n",
              "</style>\n",
              "<table border=\"1\" class=\"dataframe\">\n",
              "  <thead>\n",
              "    <tr style=\"text-align: right;\">\n",
              "      <th></th>\n",
              "      <th>요금제명</th>\n",
              "      <th>입실</th>\n",
              "      <th>퇴실</th>\n",
              "      <th>이용</th>\n",
              "      <th>위치</th>\n",
              "      <th>금액</th>\n",
              "      <th>구분</th>\n",
              "      <th>고객</th>\n",
              "    </tr>\n",
              "  </thead>\n",
              "  <tbody>\n",
              "    <tr>\n",
              "      <th>0</th>\n",
              "      <td>시간요금제(1시간)</td>\n",
              "      <td>2022-04-01 23:39</td>\n",
              "      <td>2022-04-02 0:39</td>\n",
              "      <td>오전 1:00:00</td>\n",
              "      <td>선불기2</td>\n",
              "      <td>3000</td>\n",
              "      <td>퇴실</td>\n",
              "      <td>customer263717</td>\n",
              "    </tr>\n",
              "    <tr>\n",
              "      <th>1</th>\n",
              "      <td>시간요금제(1시간)</td>\n",
              "      <td>2022-04-01 23:39</td>\n",
              "      <td>2022-04-02 0:39</td>\n",
              "      <td>오전 1:00:00</td>\n",
              "      <td>선불기2</td>\n",
              "      <td>3000</td>\n",
              "      <td>퇴실</td>\n",
              "      <td>customer263717</td>\n",
              "    </tr>\n",
              "    <tr>\n",
              "      <th>2</th>\n",
              "      <td>무제한 입장권</td>\n",
              "      <td>2022-04-01 20:55</td>\n",
              "      <td>2022-04-01 21:41</td>\n",
              "      <td>오전 12:46:00</td>\n",
              "      <td>선불기2</td>\n",
              "      <td>7400</td>\n",
              "      <td>퇴실</td>\n",
              "      <td>customer247263</td>\n",
              "    </tr>\n",
              "    <tr>\n",
              "      <th>3</th>\n",
              "      <td>무제한 입장권</td>\n",
              "      <td>2022-04-01 20:55</td>\n",
              "      <td>2022-04-01 21:41</td>\n",
              "      <td>오전 12:46:00</td>\n",
              "      <td>선불기2</td>\n",
              "      <td>7400</td>\n",
              "      <td>퇴실</td>\n",
              "      <td>customer247263</td>\n",
              "    </tr>\n",
              "    <tr>\n",
              "      <th>4</th>\n",
              "      <td>한국대생 무제한 입장권</td>\n",
              "      <td>2022-04-01 19:54</td>\n",
              "      <td>2022-04-01 22:28</td>\n",
              "      <td>오전 2:33:00</td>\n",
              "      <td>선불기2</td>\n",
              "      <td>7400</td>\n",
              "      <td>퇴실</td>\n",
              "      <td>customer388928</td>\n",
              "    </tr>\n",
              "  </tbody>\n",
              "</table>\n",
              "</div>\n",
              "      <button class=\"colab-df-convert\" onclick=\"convertToInteractive('df-60db4746-e8b4-49c6-8e5f-6fcb974dd817')\"\n",
              "              title=\"Convert this dataframe to an interactive table.\"\n",
              "              style=\"display:none;\">\n",
              "        \n",
              "  <svg xmlns=\"http://www.w3.org/2000/svg\" height=\"24px\"viewBox=\"0 0 24 24\"\n",
              "       width=\"24px\">\n",
              "    <path d=\"M0 0h24v24H0V0z\" fill=\"none\"/>\n",
              "    <path d=\"M18.56 5.44l.94 2.06.94-2.06 2.06-.94-2.06-.94-.94-2.06-.94 2.06-2.06.94zm-11 1L8.5 8.5l.94-2.06 2.06-.94-2.06-.94L8.5 2.5l-.94 2.06-2.06.94zm10 10l.94 2.06.94-2.06 2.06-.94-2.06-.94-.94-2.06-.94 2.06-2.06.94z\"/><path d=\"M17.41 7.96l-1.37-1.37c-.4-.4-.92-.59-1.43-.59-.52 0-1.04.2-1.43.59L10.3 9.45l-7.72 7.72c-.78.78-.78 2.05 0 2.83L4 21.41c.39.39.9.59 1.41.59.51 0 1.02-.2 1.41-.59l7.78-7.78 2.81-2.81c.8-.78.8-2.07 0-2.86zM5.41 20L4 18.59l7.72-7.72 1.47 1.35L5.41 20z\"/>\n",
              "  </svg>\n",
              "      </button>\n",
              "      \n",
              "  <style>\n",
              "    .colab-df-container {\n",
              "      display:flex;\n",
              "      flex-wrap:wrap;\n",
              "      gap: 12px;\n",
              "    }\n",
              "\n",
              "    .colab-df-convert {\n",
              "      background-color: #E8F0FE;\n",
              "      border: none;\n",
              "      border-radius: 50%;\n",
              "      cursor: pointer;\n",
              "      display: none;\n",
              "      fill: #1967D2;\n",
              "      height: 32px;\n",
              "      padding: 0 0 0 0;\n",
              "      width: 32px;\n",
              "    }\n",
              "\n",
              "    .colab-df-convert:hover {\n",
              "      background-color: #E2EBFA;\n",
              "      box-shadow: 0px 1px 2px rgba(60, 64, 67, 0.3), 0px 1px 3px 1px rgba(60, 64, 67, 0.15);\n",
              "      fill: #174EA6;\n",
              "    }\n",
              "\n",
              "    [theme=dark] .colab-df-convert {\n",
              "      background-color: #3B4455;\n",
              "      fill: #D2E3FC;\n",
              "    }\n",
              "\n",
              "    [theme=dark] .colab-df-convert:hover {\n",
              "      background-color: #434B5C;\n",
              "      box-shadow: 0px 1px 3px 1px rgba(0, 0, 0, 0.15);\n",
              "      filter: drop-shadow(0px 1px 2px rgba(0, 0, 0, 0.3));\n",
              "      fill: #FFFFFF;\n",
              "    }\n",
              "  </style>\n",
              "\n",
              "      <script>\n",
              "        const buttonEl =\n",
              "          document.querySelector('#df-60db4746-e8b4-49c6-8e5f-6fcb974dd817 button.colab-df-convert');\n",
              "        buttonEl.style.display =\n",
              "          google.colab.kernel.accessAllowed ? 'block' : 'none';\n",
              "\n",
              "        async function convertToInteractive(key) {\n",
              "          const element = document.querySelector('#df-60db4746-e8b4-49c6-8e5f-6fcb974dd817');\n",
              "          const dataTable =\n",
              "            await google.colab.kernel.invokeFunction('convertToInteractive',\n",
              "                                                     [key], {});\n",
              "          if (!dataTable) return;\n",
              "\n",
              "          const docLinkHtml = 'Like what you see? Visit the ' +\n",
              "            '<a target=\"_blank\" href=https://colab.research.google.com/notebooks/data_table.ipynb>data table notebook</a>'\n",
              "            + ' to learn more about interactive tables.';\n",
              "          element.innerHTML = '';\n",
              "          dataTable['output_type'] = 'display_data';\n",
              "          await google.colab.output.renderOutput(dataTable, element);\n",
              "          const docLink = document.createElement('div');\n",
              "          docLink.innerHTML = docLinkHtml;\n",
              "          element.appendChild(docLink);\n",
              "        }\n",
              "      </script>\n",
              "    </div>\n",
              "  </div>\n",
              "  "
            ]
          },
          "metadata": {},
          "execution_count": 17
        }
      ]
    },
    {
      "cell_type": "code",
      "source": [
        "# sales_data 데이터 정보 확인하기\n",
        "# [[YOUR CODE]]\n",
        "sales.head()"
      ],
      "metadata": {
        "id": "ickS_62DDk88",
        "colab": {
          "base_uri": "https://localhost:8080/",
          "height": 206
        },
        "outputId": "6eefb4d8-5a0c-42ef-caf0-74566503021a"
      },
      "execution_count": 18,
      "outputs": [
        {
          "output_type": "execute_result",
          "data": {
            "text/plain": [
              "               결제일시  판매위치          상품명  결제방식    비고  판매수량   결제금액  \\\n",
              "0  2022-04-01 19:41  선불기1   치킨카라아케 6pc  신용카드  결제완료     1  4,500   \n",
              "1  2022-04-01 19:41  선불기1   짜장라면(계란추가)  신용카드  결제완료     1  5,500   \n",
              "2  2022-04-01 19:41  선불기1           라면  신용카드  결제완료     1  4,000   \n",
              "3  2022-04-01 19:41  선불기1   비엔나소세지(토핑)  신용카드  결제완료     1  1,000   \n",
              "4  2022-04-01 19:41  선불기1  라면(계란/치즈추가)  신용카드  결제완료     1  5,000   \n",
              "\n",
              "               고객  \n",
              "0  customer275507  \n",
              "1  customer275507  \n",
              "2  customer275507  \n",
              "3  customer275507  \n",
              "4  customer275507  "
            ],
            "text/html": [
              "\n",
              "  <div id=\"df-df1815e2-4291-4a31-9430-bdf3a3b7eb5c\">\n",
              "    <div class=\"colab-df-container\">\n",
              "      <div>\n",
              "<style scoped>\n",
              "    .dataframe tbody tr th:only-of-type {\n",
              "        vertical-align: middle;\n",
              "    }\n",
              "\n",
              "    .dataframe tbody tr th {\n",
              "        vertical-align: top;\n",
              "    }\n",
              "\n",
              "    .dataframe thead th {\n",
              "        text-align: right;\n",
              "    }\n",
              "</style>\n",
              "<table border=\"1\" class=\"dataframe\">\n",
              "  <thead>\n",
              "    <tr style=\"text-align: right;\">\n",
              "      <th></th>\n",
              "      <th>결제일시</th>\n",
              "      <th>판매위치</th>\n",
              "      <th>상품명</th>\n",
              "      <th>결제방식</th>\n",
              "      <th>비고</th>\n",
              "      <th>판매수량</th>\n",
              "      <th>결제금액</th>\n",
              "      <th>고객</th>\n",
              "    </tr>\n",
              "  </thead>\n",
              "  <tbody>\n",
              "    <tr>\n",
              "      <th>0</th>\n",
              "      <td>2022-04-01 19:41</td>\n",
              "      <td>선불기1</td>\n",
              "      <td>치킨카라아케 6pc</td>\n",
              "      <td>신용카드</td>\n",
              "      <td>결제완료</td>\n",
              "      <td>1</td>\n",
              "      <td>4,500</td>\n",
              "      <td>customer275507</td>\n",
              "    </tr>\n",
              "    <tr>\n",
              "      <th>1</th>\n",
              "      <td>2022-04-01 19:41</td>\n",
              "      <td>선불기1</td>\n",
              "      <td>짜장라면(계란추가)</td>\n",
              "      <td>신용카드</td>\n",
              "      <td>결제완료</td>\n",
              "      <td>1</td>\n",
              "      <td>5,500</td>\n",
              "      <td>customer275507</td>\n",
              "    </tr>\n",
              "    <tr>\n",
              "      <th>2</th>\n",
              "      <td>2022-04-01 19:41</td>\n",
              "      <td>선불기1</td>\n",
              "      <td>라면</td>\n",
              "      <td>신용카드</td>\n",
              "      <td>결제완료</td>\n",
              "      <td>1</td>\n",
              "      <td>4,000</td>\n",
              "      <td>customer275507</td>\n",
              "    </tr>\n",
              "    <tr>\n",
              "      <th>3</th>\n",
              "      <td>2022-04-01 19:41</td>\n",
              "      <td>선불기1</td>\n",
              "      <td>비엔나소세지(토핑)</td>\n",
              "      <td>신용카드</td>\n",
              "      <td>결제완료</td>\n",
              "      <td>1</td>\n",
              "      <td>1,000</td>\n",
              "      <td>customer275507</td>\n",
              "    </tr>\n",
              "    <tr>\n",
              "      <th>4</th>\n",
              "      <td>2022-04-01 19:41</td>\n",
              "      <td>선불기1</td>\n",
              "      <td>라면(계란/치즈추가)</td>\n",
              "      <td>신용카드</td>\n",
              "      <td>결제완료</td>\n",
              "      <td>1</td>\n",
              "      <td>5,000</td>\n",
              "      <td>customer275507</td>\n",
              "    </tr>\n",
              "  </tbody>\n",
              "</table>\n",
              "</div>\n",
              "      <button class=\"colab-df-convert\" onclick=\"convertToInteractive('df-df1815e2-4291-4a31-9430-bdf3a3b7eb5c')\"\n",
              "              title=\"Convert this dataframe to an interactive table.\"\n",
              "              style=\"display:none;\">\n",
              "        \n",
              "  <svg xmlns=\"http://www.w3.org/2000/svg\" height=\"24px\"viewBox=\"0 0 24 24\"\n",
              "       width=\"24px\">\n",
              "    <path d=\"M0 0h24v24H0V0z\" fill=\"none\"/>\n",
              "    <path d=\"M18.56 5.44l.94 2.06.94-2.06 2.06-.94-2.06-.94-.94-2.06-.94 2.06-2.06.94zm-11 1L8.5 8.5l.94-2.06 2.06-.94-2.06-.94L8.5 2.5l-.94 2.06-2.06.94zm10 10l.94 2.06.94-2.06 2.06-.94-2.06-.94-.94-2.06-.94 2.06-2.06.94z\"/><path d=\"M17.41 7.96l-1.37-1.37c-.4-.4-.92-.59-1.43-.59-.52 0-1.04.2-1.43.59L10.3 9.45l-7.72 7.72c-.78.78-.78 2.05 0 2.83L4 21.41c.39.39.9.59 1.41.59.51 0 1.02-.2 1.41-.59l7.78-7.78 2.81-2.81c.8-.78.8-2.07 0-2.86zM5.41 20L4 18.59l7.72-7.72 1.47 1.35L5.41 20z\"/>\n",
              "  </svg>\n",
              "      </button>\n",
              "      \n",
              "  <style>\n",
              "    .colab-df-container {\n",
              "      display:flex;\n",
              "      flex-wrap:wrap;\n",
              "      gap: 12px;\n",
              "    }\n",
              "\n",
              "    .colab-df-convert {\n",
              "      background-color: #E8F0FE;\n",
              "      border: none;\n",
              "      border-radius: 50%;\n",
              "      cursor: pointer;\n",
              "      display: none;\n",
              "      fill: #1967D2;\n",
              "      height: 32px;\n",
              "      padding: 0 0 0 0;\n",
              "      width: 32px;\n",
              "    }\n",
              "\n",
              "    .colab-df-convert:hover {\n",
              "      background-color: #E2EBFA;\n",
              "      box-shadow: 0px 1px 2px rgba(60, 64, 67, 0.3), 0px 1px 3px 1px rgba(60, 64, 67, 0.15);\n",
              "      fill: #174EA6;\n",
              "    }\n",
              "\n",
              "    [theme=dark] .colab-df-convert {\n",
              "      background-color: #3B4455;\n",
              "      fill: #D2E3FC;\n",
              "    }\n",
              "\n",
              "    [theme=dark] .colab-df-convert:hover {\n",
              "      background-color: #434B5C;\n",
              "      box-shadow: 0px 1px 3px 1px rgba(0, 0, 0, 0.15);\n",
              "      filter: drop-shadow(0px 1px 2px rgba(0, 0, 0, 0.3));\n",
              "      fill: #FFFFFF;\n",
              "    }\n",
              "  </style>\n",
              "\n",
              "      <script>\n",
              "        const buttonEl =\n",
              "          document.querySelector('#df-df1815e2-4291-4a31-9430-bdf3a3b7eb5c button.colab-df-convert');\n",
              "        buttonEl.style.display =\n",
              "          google.colab.kernel.accessAllowed ? 'block' : 'none';\n",
              "\n",
              "        async function convertToInteractive(key) {\n",
              "          const element = document.querySelector('#df-df1815e2-4291-4a31-9430-bdf3a3b7eb5c');\n",
              "          const dataTable =\n",
              "            await google.colab.kernel.invokeFunction('convertToInteractive',\n",
              "                                                     [key], {});\n",
              "          if (!dataTable) return;\n",
              "\n",
              "          const docLinkHtml = 'Like what you see? Visit the ' +\n",
              "            '<a target=\"_blank\" href=https://colab.research.google.com/notebooks/data_table.ipynb>data table notebook</a>'\n",
              "            + ' to learn more about interactive tables.';\n",
              "          element.innerHTML = '';\n",
              "          dataTable['output_type'] = 'display_data';\n",
              "          await google.colab.output.renderOutput(dataTable, element);\n",
              "          const docLink = document.createElement('div');\n",
              "          docLink.innerHTML = docLinkHtml;\n",
              "          element.appendChild(docLink);\n",
              "        }\n",
              "      </script>\n",
              "    </div>\n",
              "  </div>\n",
              "  "
            ]
          },
          "metadata": {},
          "execution_count": 18
        }
      ]
    },
    {
      "cell_type": "code",
      "source": [
        "# item_data 데이터 정보 확인하기\n",
        "# [[YOUR CODE]]\n",
        "item.head()"
      ],
      "metadata": {
        "id": "BBiHRmguDmV6",
        "colab": {
          "base_uri": "https://localhost:8080/",
          "height": 206
        },
        "outputId": "f7d75567-6105-49b0-f9f4-decbf5406a60"
      },
      "execution_count": 19,
      "outputs": [
        {
          "output_type": "execute_result",
          "data": {
            "text/plain": [
              "   구분     분류        상품명    판매금액\n",
              "0   1  게임&TV   이어폰(커널형)  3,000원\n",
              "1   2    디저트       초코머핀  3,500원\n",
              "2   3    디저트    쿠키(초코칩)  1,500원\n",
              "3   4    디저트  쿠키(마카다미아)  1,500원\n",
              "4   5    디저트  미니마카롱(3개)  2,000원"
            ],
            "text/html": [
              "\n",
              "  <div id=\"df-0a644fa4-b026-4206-a0c5-fcfd0621129d\">\n",
              "    <div class=\"colab-df-container\">\n",
              "      <div>\n",
              "<style scoped>\n",
              "    .dataframe tbody tr th:only-of-type {\n",
              "        vertical-align: middle;\n",
              "    }\n",
              "\n",
              "    .dataframe tbody tr th {\n",
              "        vertical-align: top;\n",
              "    }\n",
              "\n",
              "    .dataframe thead th {\n",
              "        text-align: right;\n",
              "    }\n",
              "</style>\n",
              "<table border=\"1\" class=\"dataframe\">\n",
              "  <thead>\n",
              "    <tr style=\"text-align: right;\">\n",
              "      <th></th>\n",
              "      <th>구분</th>\n",
              "      <th>분류</th>\n",
              "      <th>상품명</th>\n",
              "      <th>판매금액</th>\n",
              "    </tr>\n",
              "  </thead>\n",
              "  <tbody>\n",
              "    <tr>\n",
              "      <th>0</th>\n",
              "      <td>1</td>\n",
              "      <td>게임&amp;TV</td>\n",
              "      <td>이어폰(커널형)</td>\n",
              "      <td>3,000원</td>\n",
              "    </tr>\n",
              "    <tr>\n",
              "      <th>1</th>\n",
              "      <td>2</td>\n",
              "      <td>디저트</td>\n",
              "      <td>초코머핀</td>\n",
              "      <td>3,500원</td>\n",
              "    </tr>\n",
              "    <tr>\n",
              "      <th>2</th>\n",
              "      <td>3</td>\n",
              "      <td>디저트</td>\n",
              "      <td>쿠키(초코칩)</td>\n",
              "      <td>1,500원</td>\n",
              "    </tr>\n",
              "    <tr>\n",
              "      <th>3</th>\n",
              "      <td>4</td>\n",
              "      <td>디저트</td>\n",
              "      <td>쿠키(마카다미아)</td>\n",
              "      <td>1,500원</td>\n",
              "    </tr>\n",
              "    <tr>\n",
              "      <th>4</th>\n",
              "      <td>5</td>\n",
              "      <td>디저트</td>\n",
              "      <td>미니마카롱(3개)</td>\n",
              "      <td>2,000원</td>\n",
              "    </tr>\n",
              "  </tbody>\n",
              "</table>\n",
              "</div>\n",
              "      <button class=\"colab-df-convert\" onclick=\"convertToInteractive('df-0a644fa4-b026-4206-a0c5-fcfd0621129d')\"\n",
              "              title=\"Convert this dataframe to an interactive table.\"\n",
              "              style=\"display:none;\">\n",
              "        \n",
              "  <svg xmlns=\"http://www.w3.org/2000/svg\" height=\"24px\"viewBox=\"0 0 24 24\"\n",
              "       width=\"24px\">\n",
              "    <path d=\"M0 0h24v24H0V0z\" fill=\"none\"/>\n",
              "    <path d=\"M18.56 5.44l.94 2.06.94-2.06 2.06-.94-2.06-.94-.94-2.06-.94 2.06-2.06.94zm-11 1L8.5 8.5l.94-2.06 2.06-.94-2.06-.94L8.5 2.5l-.94 2.06-2.06.94zm10 10l.94 2.06.94-2.06 2.06-.94-2.06-.94-.94-2.06-.94 2.06-2.06.94z\"/><path d=\"M17.41 7.96l-1.37-1.37c-.4-.4-.92-.59-1.43-.59-.52 0-1.04.2-1.43.59L10.3 9.45l-7.72 7.72c-.78.78-.78 2.05 0 2.83L4 21.41c.39.39.9.59 1.41.59.51 0 1.02-.2 1.41-.59l7.78-7.78 2.81-2.81c.8-.78.8-2.07 0-2.86zM5.41 20L4 18.59l7.72-7.72 1.47 1.35L5.41 20z\"/>\n",
              "  </svg>\n",
              "      </button>\n",
              "      \n",
              "  <style>\n",
              "    .colab-df-container {\n",
              "      display:flex;\n",
              "      flex-wrap:wrap;\n",
              "      gap: 12px;\n",
              "    }\n",
              "\n",
              "    .colab-df-convert {\n",
              "      background-color: #E8F0FE;\n",
              "      border: none;\n",
              "      border-radius: 50%;\n",
              "      cursor: pointer;\n",
              "      display: none;\n",
              "      fill: #1967D2;\n",
              "      height: 32px;\n",
              "      padding: 0 0 0 0;\n",
              "      width: 32px;\n",
              "    }\n",
              "\n",
              "    .colab-df-convert:hover {\n",
              "      background-color: #E2EBFA;\n",
              "      box-shadow: 0px 1px 2px rgba(60, 64, 67, 0.3), 0px 1px 3px 1px rgba(60, 64, 67, 0.15);\n",
              "      fill: #174EA6;\n",
              "    }\n",
              "\n",
              "    [theme=dark] .colab-df-convert {\n",
              "      background-color: #3B4455;\n",
              "      fill: #D2E3FC;\n",
              "    }\n",
              "\n",
              "    [theme=dark] .colab-df-convert:hover {\n",
              "      background-color: #434B5C;\n",
              "      box-shadow: 0px 1px 3px 1px rgba(0, 0, 0, 0.15);\n",
              "      filter: drop-shadow(0px 1px 2px rgba(0, 0, 0, 0.3));\n",
              "      fill: #FFFFFF;\n",
              "    }\n",
              "  </style>\n",
              "\n",
              "      <script>\n",
              "        const buttonEl =\n",
              "          document.querySelector('#df-0a644fa4-b026-4206-a0c5-fcfd0621129d button.colab-df-convert');\n",
              "        buttonEl.style.display =\n",
              "          google.colab.kernel.accessAllowed ? 'block' : 'none';\n",
              "\n",
              "        async function convertToInteractive(key) {\n",
              "          const element = document.querySelector('#df-0a644fa4-b026-4206-a0c5-fcfd0621129d');\n",
              "          const dataTable =\n",
              "            await google.colab.kernel.invokeFunction('convertToInteractive',\n",
              "                                                     [key], {});\n",
              "          if (!dataTable) return;\n",
              "\n",
              "          const docLinkHtml = 'Like what you see? Visit the ' +\n",
              "            '<a target=\"_blank\" href=https://colab.research.google.com/notebooks/data_table.ipynb>data table notebook</a>'\n",
              "            + ' to learn more about interactive tables.';\n",
              "          element.innerHTML = '';\n",
              "          dataTable['output_type'] = 'display_data';\n",
              "          await google.colab.output.renderOutput(dataTable, element);\n",
              "          const docLink = document.createElement('div');\n",
              "          docLink.innerHTML = docLinkHtml;\n",
              "          element.appendChild(docLink);\n",
              "        }\n",
              "      </script>\n",
              "    </div>\n",
              "  </div>\n",
              "  "
            ]
          },
          "metadata": {},
          "execution_count": 19
        }
      ]
    },
    {
      "cell_type": "code",
      "source": [
        "# item_entry_data 데이터 정보 확인하기\n",
        "# [[YOUR CODE]]\n",
        "iten.head()"
      ],
      "metadata": {
        "id": "wFVVESDYDndB",
        "colab": {
          "base_uri": "https://localhost:8080/",
          "height": 206
        },
        "outputId": "5b210c45-032e-4c57-d304-7c4853e73c62"
      },
      "execution_count": 20,
      "outputs": [
        {
          "output_type": "execute_result",
          "data": {
            "text/plain": [
              "   순위     분류        상품명    판매금액\n",
              "0   1   한국대생   한국대생 요금제  2,000원\n",
              "1   2  심야-조조  심야-조조 요금제  5,000원\n",
              "2   3    일반인      일반요금제  2,500원\n",
              "3   4   한국대생   한국대생 요금제  2,500원\n",
              "4   5    일반인      일반요금제  2,000원"
            ],
            "text/html": [
              "\n",
              "  <div id=\"df-fcac01d8-135c-40ee-9237-15bb6242bbc9\">\n",
              "    <div class=\"colab-df-container\">\n",
              "      <div>\n",
              "<style scoped>\n",
              "    .dataframe tbody tr th:only-of-type {\n",
              "        vertical-align: middle;\n",
              "    }\n",
              "\n",
              "    .dataframe tbody tr th {\n",
              "        vertical-align: top;\n",
              "    }\n",
              "\n",
              "    .dataframe thead th {\n",
              "        text-align: right;\n",
              "    }\n",
              "</style>\n",
              "<table border=\"1\" class=\"dataframe\">\n",
              "  <thead>\n",
              "    <tr style=\"text-align: right;\">\n",
              "      <th></th>\n",
              "      <th>순위</th>\n",
              "      <th>분류</th>\n",
              "      <th>상품명</th>\n",
              "      <th>판매금액</th>\n",
              "    </tr>\n",
              "  </thead>\n",
              "  <tbody>\n",
              "    <tr>\n",
              "      <th>0</th>\n",
              "      <td>1</td>\n",
              "      <td>한국대생</td>\n",
              "      <td>한국대생 요금제</td>\n",
              "      <td>2,000원</td>\n",
              "    </tr>\n",
              "    <tr>\n",
              "      <th>1</th>\n",
              "      <td>2</td>\n",
              "      <td>심야-조조</td>\n",
              "      <td>심야-조조 요금제</td>\n",
              "      <td>5,000원</td>\n",
              "    </tr>\n",
              "    <tr>\n",
              "      <th>2</th>\n",
              "      <td>3</td>\n",
              "      <td>일반인</td>\n",
              "      <td>일반요금제</td>\n",
              "      <td>2,500원</td>\n",
              "    </tr>\n",
              "    <tr>\n",
              "      <th>3</th>\n",
              "      <td>4</td>\n",
              "      <td>한국대생</td>\n",
              "      <td>한국대생 요금제</td>\n",
              "      <td>2,500원</td>\n",
              "    </tr>\n",
              "    <tr>\n",
              "      <th>4</th>\n",
              "      <td>5</td>\n",
              "      <td>일반인</td>\n",
              "      <td>일반요금제</td>\n",
              "      <td>2,000원</td>\n",
              "    </tr>\n",
              "  </tbody>\n",
              "</table>\n",
              "</div>\n",
              "      <button class=\"colab-df-convert\" onclick=\"convertToInteractive('df-fcac01d8-135c-40ee-9237-15bb6242bbc9')\"\n",
              "              title=\"Convert this dataframe to an interactive table.\"\n",
              "              style=\"display:none;\">\n",
              "        \n",
              "  <svg xmlns=\"http://www.w3.org/2000/svg\" height=\"24px\"viewBox=\"0 0 24 24\"\n",
              "       width=\"24px\">\n",
              "    <path d=\"M0 0h24v24H0V0z\" fill=\"none\"/>\n",
              "    <path d=\"M18.56 5.44l.94 2.06.94-2.06 2.06-.94-2.06-.94-.94-2.06-.94 2.06-2.06.94zm-11 1L8.5 8.5l.94-2.06 2.06-.94-2.06-.94L8.5 2.5l-.94 2.06-2.06.94zm10 10l.94 2.06.94-2.06 2.06-.94-2.06-.94-.94-2.06-.94 2.06-2.06.94z\"/><path d=\"M17.41 7.96l-1.37-1.37c-.4-.4-.92-.59-1.43-.59-.52 0-1.04.2-1.43.59L10.3 9.45l-7.72 7.72c-.78.78-.78 2.05 0 2.83L4 21.41c.39.39.9.59 1.41.59.51 0 1.02-.2 1.41-.59l7.78-7.78 2.81-2.81c.8-.78.8-2.07 0-2.86zM5.41 20L4 18.59l7.72-7.72 1.47 1.35L5.41 20z\"/>\n",
              "  </svg>\n",
              "      </button>\n",
              "      \n",
              "  <style>\n",
              "    .colab-df-container {\n",
              "      display:flex;\n",
              "      flex-wrap:wrap;\n",
              "      gap: 12px;\n",
              "    }\n",
              "\n",
              "    .colab-df-convert {\n",
              "      background-color: #E8F0FE;\n",
              "      border: none;\n",
              "      border-radius: 50%;\n",
              "      cursor: pointer;\n",
              "      display: none;\n",
              "      fill: #1967D2;\n",
              "      height: 32px;\n",
              "      padding: 0 0 0 0;\n",
              "      width: 32px;\n",
              "    }\n",
              "\n",
              "    .colab-df-convert:hover {\n",
              "      background-color: #E2EBFA;\n",
              "      box-shadow: 0px 1px 2px rgba(60, 64, 67, 0.3), 0px 1px 3px 1px rgba(60, 64, 67, 0.15);\n",
              "      fill: #174EA6;\n",
              "    }\n",
              "\n",
              "    [theme=dark] .colab-df-convert {\n",
              "      background-color: #3B4455;\n",
              "      fill: #D2E3FC;\n",
              "    }\n",
              "\n",
              "    [theme=dark] .colab-df-convert:hover {\n",
              "      background-color: #434B5C;\n",
              "      box-shadow: 0px 1px 3px 1px rgba(0, 0, 0, 0.15);\n",
              "      filter: drop-shadow(0px 1px 2px rgba(0, 0, 0, 0.3));\n",
              "      fill: #FFFFFF;\n",
              "    }\n",
              "  </style>\n",
              "\n",
              "      <script>\n",
              "        const buttonEl =\n",
              "          document.querySelector('#df-fcac01d8-135c-40ee-9237-15bb6242bbc9 button.colab-df-convert');\n",
              "        buttonEl.style.display =\n",
              "          google.colab.kernel.accessAllowed ? 'block' : 'none';\n",
              "\n",
              "        async function convertToInteractive(key) {\n",
              "          const element = document.querySelector('#df-fcac01d8-135c-40ee-9237-15bb6242bbc9');\n",
              "          const dataTable =\n",
              "            await google.colab.kernel.invokeFunction('convertToInteractive',\n",
              "                                                     [key], {});\n",
              "          if (!dataTable) return;\n",
              "\n",
              "          const docLinkHtml = 'Like what you see? Visit the ' +\n",
              "            '<a target=\"_blank\" href=https://colab.research.google.com/notebooks/data_table.ipynb>data table notebook</a>'\n",
              "            + ' to learn more about interactive tables.';\n",
              "          element.innerHTML = '';\n",
              "          dataTable['output_type'] = 'display_data';\n",
              "          await google.colab.output.renderOutput(dataTable, element);\n",
              "          const docLink = document.createElement('div');\n",
              "          docLink.innerHTML = docLinkHtml;\n",
              "          element.appendChild(docLink);\n",
              "        }\n",
              "      </script>\n",
              "    </div>\n",
              "  </div>\n",
              "  "
            ]
          },
          "metadata": {},
          "execution_count": 20
        }
      ]
    },
    {
      "cell_type": "markdown",
      "source": [
        "**3-2 데이터 분석하기**\n",
        "\n",
        "   -  필수 문제1 : 월별 매출액 추세(sales_data를 이용합니다.)\n",
        "    월별 매출액 추세를 집계하고 그 결과를 시각화해봅니다.\n",
        "    힌트: groupby() 함수를 사용하세요.\n"
      ],
      "metadata": {
        "id": "1enbqMX4DpXh"
      }
    },
    {
      "cell_type": "code",
      "source": [
        "# 활용할 데이터(sales_data)를 temp_var로 정의하기\n",
        "# [[YOUR CODE]]\n",
        "temp_var = sales"
      ],
      "metadata": {
        "id": "T6wDaw-CDuPH"
      },
      "execution_count": 21,
      "outputs": []
    },
    {
      "cell_type": "code",
      "source": [
        "# temp_var의 date열을 만들고, sales_date의 결제일시 중 앞에서 7번째 값까지 할당\n",
        "# [[YOUR CODE]]\n",
        "temp_var['date'] = sales['결제일시'].str[:7]"
      ],
      "metadata": {
        "id": "DXeCibZMDxip"
      },
      "execution_count": 22,
      "outputs": []
    },
    {
      "cell_type": "markdown",
      "source": [
        "salse_data의 결제금액에는 쉼표(,)가 들어있어서 현재 문자열로 인식되고 있어요. 따라서 쉼표를 지우고, 문자열을 숫자료 바꿔줘야합니다."
      ],
      "metadata": {
        "id": "Y4QMeun2Dyt-"
      }
    },
    {
      "cell_type": "code",
      "source": [
        "# salse_data의 결제금액에 포함된 쉼표(,) 지우기\n",
        "# [[YOUR CODE]]\n",
        "sales['결제금액'] = sales['결제금액'].str.replace(',', '')"
      ],
      "metadata": {
        "id": "LXHWf_8hD1FI"
      },
      "execution_count": 24,
      "outputs": []
    },
    {
      "cell_type": "code",
      "source": [
        "# salse_data의 결제금액을 숫자형태로 바꾸기\n",
        "# [[YOUR CODE]]\n",
        "temp_var['payment'] = sales['결제금액'].astype(int)"
      ],
      "metadata": {
        "id": "WYeTl376D2qY"
      },
      "execution_count": 25,
      "outputs": []
    },
    {
      "cell_type": "code",
      "source": [
        "# temp_var의 payment열을 date 기준으로 집계하기\n",
        "# [[YOUR CODE]]\n",
        "payment_data = temp_var['payment'].groupby(temp_var['date']).sum()\n",
        "payment_data"
      ],
      "metadata": {
        "id": "Tq7GXe8XD4Pw",
        "colab": {
          "base_uri": "https://localhost:8080/"
        },
        "outputId": "9e7503a4-a483-4a13-b483-e79222297c33"
      },
      "execution_count": 26,
      "outputs": [
        {
          "output_type": "execute_result",
          "data": {
            "text/plain": [
              "date\n",
              "2021-02       7000\n",
              "2021-03    2104500\n",
              "2021-04    3116600\n",
              "2021-05    2537000\n",
              "2021-06    3621500\n",
              "2021-07    1215000\n",
              "2021-08    1229000\n",
              "2021-09    1197500\n",
              "2021-10    2138500\n",
              "2021-11    2748500\n",
              "2021-12    3290000\n",
              "2022-01    1430500\n",
              "2022-02    1181500\n",
              "2022-03    1870900\n",
              "2022-04      49900\n",
              "Name: payment, dtype: int64"
            ]
          },
          "metadata": {},
          "execution_count": 26
        }
      ]
    },
    {
      "cell_type": "code",
      "source": [
        "# 집계 결과를 시각화하기\n",
        "# [[YOUR CODE]]\n",
        "ax = payment_data.plot(kind='bar')\n",
        "\n",
        "plt.title('Sales By Months')\n",
        "plt.xlabel('Month')\n",
        "plt.ylabel('Sales')\n",
        "plt.show()"
      ],
      "metadata": {
        "id": "dXP43lqyD5fj",
        "colab": {
          "base_uri": "https://localhost:8080/",
          "height": 515
        },
        "outputId": "46a0ffeb-6c4a-4ff7-ccd8-f0162b0d5047"
      },
      "execution_count": 27,
      "outputs": [
        {
          "output_type": "display_data",
          "data": {
            "text/plain": [
              "<Figure size 640x480 with 1 Axes>"
            ],
            "image/png": "[encoded data removed]"
          },
          "metadata": {}
        }
      ]
    },
    {
      "cell_type": "markdown",
      "source": [
        "- 필수 문제2: 가장 인기 있는 음식/음료(salses_data를 이용합니다.)\n",
        "\n",
        "    여러 메뉴들(음식,음료)을 판매 개수 순으로 정렬하고 상위 10개를 뽑아 결과를 시각화해봅니다.\n",
        "\n",
        "    힌트: value_counts() 함수를 사용하세요."
      ],
      "metadata": {
        "id": "ueGEerJjD8iq"
      }
    },
    {
      "cell_type": "code",
      "source": [
        "# temp_var의 상품명을 value_counts를 이용해 집계하기\n",
        "# [[YOUR CODE]]\n",
        "items_count = temp_var['상품명'].value_counts()\n",
        "items_count"
      ],
      "metadata": {
        "id": "WCG2nN-wD68W",
        "colab": {
          "base_uri": "https://localhost:8080/"
        },
        "outputId": "579a1da8-3267-4281-fde4-5961c8125391"
      },
      "execution_count": 28,
      "outputs": [
        {
          "output_type": "execute_result",
          "data": {
            "text/plain": [
              "김치볶음밥           1211\n",
              "라면               756\n",
              "짜장라면             457\n",
              "치즈불고기볶음밥         423\n",
              "계란추가             315\n",
              "                ... \n",
              "녹차(HOT)            1\n",
              "짜장라면(계란추가)         1\n",
              "이어폰(커널형)           1\n",
              "오늘은 한돈고추장불고기       1\n",
              "오늘은 한돈간장불고기        1\n",
              "Name: 상품명, Length: 100, dtype: int64"
            ]
          },
          "metadata": {},
          "execution_count": 28
        }
      ]
    },
    {
      "cell_type": "code",
      "source": [
        "# 집계 결과를 데이터프레임으로 변환하고, 상위 10개 선정하기\n",
        "# [[YOUR CODE]]\n",
        "items_count = pd.DataFrame(items_count)\n",
        "items_count[:10]"
      ],
      "metadata": {
        "id": "Fueag2toEH6S",
        "colab": {
          "base_uri": "https://localhost:8080/",
          "height": 363
        },
        "outputId": "5e1354f6-cc95-4ee8-ec01-af4c584a9d71"
      },
      "execution_count": 29,
      "outputs": [
        {
          "output_type": "execute_result",
          "data": {
            "text/plain": [
              "             상품명\n",
              "김치볶음밥       1211\n",
              "라면           756\n",
              "짜장라면         457\n",
              "치즈불고기볶음밥     423\n",
              "계란추가         315\n",
              "아메리카노(ICE)   314\n",
              "낙지볶음밥        314\n",
              "새우볶음밥        311\n",
              "치즈감자튀김       247\n",
              "감자튀김         242"
            ],
            "text/html": [
              "\n",
              "  <div id=\"df-b08de020-5a02-46a4-b55c-b11b70a89b35\">\n",
              "    <div class=\"colab-df-container\">\n",
              "      <div>\n",
              "<style scoped>\n",
              "    .dataframe tbody tr th:only-of-type {\n",
              "        vertical-align: middle;\n",
              "    }\n",
              "\n",
              "    .dataframe tbody tr th {\n",
              "        vertical-align: top;\n",
              "    }\n",
              "\n",
              "    .dataframe thead th {\n",
              "        text-align: right;\n",
              "    }\n",
              "</style>\n",
              "<table border=\"1\" class=\"dataframe\">\n",
              "  <thead>\n",
              "    <tr style=\"text-align: right;\">\n",
              "      <th></th>\n",
              "      <th>상품명</th>\n",
              "    </tr>\n",
              "  </thead>\n",
              "  <tbody>\n",
              "    <tr>\n",
              "      <th>김치볶음밥</th>\n",
              "      <td>1211</td>\n",
              "    </tr>\n",
              "    <tr>\n",
              "      <th>라면</th>\n",
              "      <td>756</td>\n",
              "    </tr>\n",
              "    <tr>\n",
              "      <th>짜장라면</th>\n",
              "      <td>457</td>\n",
              "    </tr>\n",
              "    <tr>\n",
              "      <th>치즈불고기볶음밥</th>\n",
              "      <td>423</td>\n",
              "    </tr>\n",
              "    <tr>\n",
              "      <th>계란추가</th>\n",
              "      <td>315</td>\n",
              "    </tr>\n",
              "    <tr>\n",
              "      <th>아메리카노(ICE)</th>\n",
              "      <td>314</td>\n",
              "    </tr>\n",
              "    <tr>\n",
              "      <th>낙지볶음밥</th>\n",
              "      <td>314</td>\n",
              "    </tr>\n",
              "    <tr>\n",
              "      <th>새우볶음밥</th>\n",
              "      <td>311</td>\n",
              "    </tr>\n",
              "    <tr>\n",
              "      <th>치즈감자튀김</th>\n",
              "      <td>247</td>\n",
              "    </tr>\n",
              "    <tr>\n",
              "      <th>감자튀김</th>\n",
              "      <td>242</td>\n",
              "    </tr>\n",
              "  </tbody>\n",
              "</table>\n",
              "</div>\n",
              "      <button class=\"colab-df-convert\" onclick=\"convertToInteractive('df-b08de020-5a02-46a4-b55c-b11b70a89b35')\"\n",
              "              title=\"Convert this dataframe to an interactive table.\"\n",
              "              style=\"display:none;\">\n",
              "        \n",
              "  <svg xmlns=\"http://www.w3.org/2000/svg\" height=\"24px\"viewBox=\"0 0 24 24\"\n",
              "       width=\"24px\">\n",
              "    <path d=\"M0 0h24v24H0V0z\" fill=\"none\"/>\n",
              "    <path d=\"M18.56 5.44l.94 2.06.94-2.06 2.06-.94-2.06-.94-.94-2.06-.94 2.06-2.06.94zm-11 1L8.5 8.5l.94-2.06 2.06-.94-2.06-.94L8.5 2.5l-.94 2.06-2.06.94zm10 10l.94 2.06.94-2.06 2.06-.94-2.06-.94-.94-2.06-.94 2.06-2.06.94z\"/><path d=\"M17.41 7.96l-1.37-1.37c-.4-.4-.92-.59-1.43-.59-.52 0-1.04.2-1.43.59L10.3 9.45l-7.72 7.72c-.78.78-.78 2.05 0 2.83L4 21.41c.39.39.9.59 1.41.59.51 0 1.02-.2 1.41-.59l7.78-7.78 2.81-2.81c.8-.78.8-2.07 0-2.86zM5.41 20L4 18.59l7.72-7.72 1.47 1.35L5.41 20z\"/>\n",
              "  </svg>\n",
              "      </button>\n",
              "      \n",
              "  <style>\n",
              "    .colab-df-container {\n",
              "      display:flex;\n",
              "      flex-wrap:wrap;\n",
              "      gap: 12px;\n",
              "    }\n",
              "\n",
              "    .colab-df-convert {\n",
              "      background-color: #E8F0FE;\n",
              "      border: none;\n",
              "      border-radius: 50%;\n",
              "      cursor: pointer;\n",
              "      display: none;\n",
              "      fill: #1967D2;\n",
              "      height: 32px;\n",
              "      padding: 0 0 0 0;\n",
              "      width: 32px;\n",
              "    }\n",
              "\n",
              "    .colab-df-convert:hover {\n",
              "      background-color: #E2EBFA;\n",
              "      box-shadow: 0px 1px 2px rgba(60, 64, 67, 0.3), 0px 1px 3px 1px rgba(60, 64, 67, 0.15);\n",
              "      fill: #174EA6;\n",
              "    }\n",
              "\n",
              "    [theme=dark] .colab-df-convert {\n",
              "      background-color: #3B4455;\n",
              "      fill: #D2E3FC;\n",
              "    }\n",
              "\n",
              "    [theme=dark] .colab-df-convert:hover {\n",
              "      background-color: #434B5C;\n",
              "      box-shadow: 0px 1px 3px 1px rgba(0, 0, 0, 0.15);\n",
              "      filter: drop-shadow(0px 1px 2px rgba(0, 0, 0, 0.3));\n",
              "      fill: #FFFFFF;\n",
              "    }\n",
              "  </style>\n",
              "\n",
              "      <script>\n",
              "        const buttonEl =\n",
              "          document.querySelector('#df-b08de020-5a02-46a4-b55c-b11b70a89b35 button.colab-df-convert');\n",
              "        buttonEl.style.display =\n",
              "          google.colab.kernel.accessAllowed ? 'block' : 'none';\n",
              "\n",
              "        async function convertToInteractive(key) {\n",
              "          const element = document.querySelector('#df-b08de020-5a02-46a4-b55c-b11b70a89b35');\n",
              "          const dataTable =\n",
              "            await google.colab.kernel.invokeFunction('convertToInteractive',\n",
              "                                                     [key], {});\n",
              "          if (!dataTable) return;\n",
              "\n",
              "          const docLinkHtml = 'Like what you see? Visit the ' +\n",
              "            '<a target=\"_blank\" href=https://colab.research.google.com/notebooks/data_table.ipynb>data table notebook</a>'\n",
              "            + ' to learn more about interactive tables.';\n",
              "          element.innerHTML = '';\n",
              "          dataTable['output_type'] = 'display_data';\n",
              "          await google.colab.output.renderOutput(dataTable, element);\n",
              "          const docLink = document.createElement('div');\n",
              "          docLink.innerHTML = docLinkHtml;\n",
              "          element.appendChild(docLink);\n",
              "        }\n",
              "      </script>\n",
              "    </div>\n",
              "  </div>\n",
              "  "
            ]
          },
          "metadata": {},
          "execution_count": 29
        }
      ]
    },
    {
      "cell_type": "code",
      "source": [
        "# 한글이 포함된 시각화를 위해 Matplotlib 설정\n",
        "# [[YOUR CODE]]\n",
        "import matplotlib as mpl\n",
        "import matplotlib.pyplot as plt\n",
        "import matplotlib.font_manager as fm\n",
        "fontpath = '/content/drive/MyDrive/dataFLIPPED/NanumBarunGothic.ttf'\n",
        "font = fm.FontProperties(fname=fontpath, size=9)\n",
        "plt.rc('font', family='NanumBarunGothic') \n",
        "mpl.font_manager.findfont(font)\n",
        "print(\"완료!\")"
      ],
      "metadata": {
        "id": "pE7M68qYEJC0",
        "colab": {
          "base_uri": "https://localhost:8080/"
        },
        "outputId": "67935946-07b9-4425-ba24-207fb7a86ce6"
      },
      "execution_count": 32,
      "outputs": [
        {
          "output_type": "stream",
          "name": "stdout",
          "text": [
            "완료!\n"
          ]
        }
      ]
    },
    {
      "cell_type": "code",
      "source": [
        "# 집계 결과를 시각화하기\n",
        "# [[YOUR CODE]]\n",
        "items_count[:10].plot(kind='bar')\n",
        "plt.ylabel('개')\n",
        "plt.title('판매 개수')\n",
        "plt.show()"
      ],
      "metadata": {
        "id": "TFIm1pAsEKjJ",
        "colab": {
          "base_uri": "https://localhost:8080/",
          "height": 513
        },
        "outputId": "d3fc382a-7854-41d1-ba63-427ee8fc3bff"
      },
      "execution_count": 33,
      "outputs": [
        {
          "output_type": "display_data",
          "data": {
            "text/plain": [
              "<Figure size 640x480 with 1 Axes>"
            ],
            "image/png": "[encoded data removed]"
          },
          "metadata": {}
        }
      ]
    },
    {
      "cell_type": "markdown",
      "source": [
        "- 여러 메뉴들(음식,음료)을 판매 매출(판매 개수 x 결제 금액) 순으로 정렬하고 상위 10개를 뽑아 결과를 시각화해봅니다.\n",
        "\n",
        "  힌트: value_counts() 함수를 사용하세요."
      ],
      "metadata": {
        "id": "sm173BLBEO-n"
      }
    },
    {
      "cell_type": "code",
      "source": [
        "# temp_var의 payment열을 상품명을 기준으로 집계하기\n",
        "# [[YOUR CODE]]\n",
        "items_payment = temp_var['payment'].groupby(temp_var['상품명']).sum()\n",
        "items_payment"
      ],
      "metadata": {
        "id": "xMuDl2WzEMXw",
        "colab": {
          "base_uri": "https://localhost:8080/"
        },
        "outputId": "fb9b2843-c586-43ca-ac06-97be09697fb5"
      },
      "execution_count": 34,
      "outputs": [
        {
          "output_type": "execute_result",
          "data": {
            "text/plain": [
              "상품명\n",
              "(면)계란추가-국물라면           5000\n",
              "(면)계란후라이 추가-불닭/짜장     20000\n",
              "(면)치즈추가               10500\n",
              "(밥)계란후라이 추가            3000\n",
              "(밥)슈레드치즈추가             4500\n",
              "                      ...  \n",
              "한돈간장불고기덮밥            112500\n",
              "한돈고추장불고기덮밥           127500\n",
              "허니밀크쉐이크              108500\n",
              "헤이즐넛라떼(HOT)            9000\n",
              "헤이즐넛라떼(ICE)           62500\n",
              "Name: payment, Length: 100, dtype: int64"
            ]
          },
          "metadata": {},
          "execution_count": 34
        }
      ]
    },
    {
      "cell_type": "code",
      "source": [
        "# item_payment의 값을 내림차순으로 정렬하고 상위 10개 도출하기\n",
        "# [[YOUR CODE]]\n",
        "items_payment = items_payment.sort_values(ascending=False)\n",
        "items_payment[:10]"
      ],
      "metadata": {
        "id": "YQWEqt05ES2s",
        "colab": {
          "base_uri": "https://localhost:8080/"
        },
        "outputId": "a542f7e6-884b-4a40-b8e9-4f04114ce3ee"
      },
      "execution_count": 35,
      "outputs": [
        {
          "output_type": "execute_result",
          "data": {
            "text/plain": [
              "상품명\n",
              "김치볶음밥         5971900\n",
              "라면            2916000\n",
              "치즈불고기볶음밥      2276100\n",
              "짜장라면          2032500\n",
              "낙지볶음밥         1699700\n",
              "새우볶음밥         1529800\n",
              "치즈감자튀김        1348700\n",
              "감자튀김          1083800\n",
              "아메리카노(ICE)     936100\n",
              "불닭볶음면          688500\n",
              "Name: payment, dtype: int64"
            ]
          },
          "metadata": {},
          "execution_count": 35
        }
      ]
    },
    {
      "cell_type": "code",
      "source": [
        "# 집계 결과 시각화하기\n",
        "# [[YOUR CODE]]\n",
        "items_payment[:10].plot(kind='bar')\n",
        "plt.ylabel('원')\n",
        "plt.title('판매 금액')\n",
        "plt.show()"
      ],
      "metadata": {
        "id": "jZ7AaX3AEUN5",
        "colab": {
          "base_uri": "https://localhost:8080/",
          "height": 827
        },
        "outputId": "2a258018-e21b-442f-e022-f016d9613c5d"
      },
      "execution_count": 36,
      "outputs": [
        {
          "output_type": "stream",
          "name": "stderr",
          "text": [
            "/usr/local/lib/python3.7/dist-packages/matplotlib/backends/backend_agg.py:214: RuntimeWarning: Glyph 44552 missing from current font.\n",
            "  font.set_text(s, 0.0, flags=flags)\n",
            "/usr/local/lib/python3.7/dist-packages/matplotlib/backends/backend_agg.py:214: RuntimeWarning: Glyph 50529 missing from current font.\n",
            "  font.set_text(s, 0.0, flags=flags)\n",
            "/usr/local/lib/python3.7/dist-packages/matplotlib/backends/backend_agg.py:214: RuntimeWarning: Glyph 45805 missing from current font.\n",
            "  font.set_text(s, 0.0, flags=flags)\n",
            "/usr/local/lib/python3.7/dist-packages/matplotlib/backends/backend_agg.py:214: RuntimeWarning: Glyph 50896 missing from current font.\n",
            "  font.set_text(s, 0.0, flags=flags)\n",
            "/usr/local/lib/python3.7/dist-packages/matplotlib/backends/backend_agg.py:183: RuntimeWarning: Glyph 45805 missing from current font.\n",
            "  font.set_text(s, 0, flags=flags)\n",
            "/usr/local/lib/python3.7/dist-packages/matplotlib/backends/backend_agg.py:183: RuntimeWarning: Glyph 50896 missing from current font.\n",
            "  font.set_text(s, 0, flags=flags)\n",
            "/usr/local/lib/python3.7/dist-packages/matplotlib/backends/backend_agg.py:183: RuntimeWarning: Glyph 44552 missing from current font.\n",
            "  font.set_text(s, 0, flags=flags)\n",
            "/usr/local/lib/python3.7/dist-packages/matplotlib/backends/backend_agg.py:183: RuntimeWarning: Glyph 50529 missing from current font.\n",
            "  font.set_text(s, 0, flags=flags)\n"
          ]
        },
        {
          "output_type": "display_data",
          "data": {
            "text/plain": [
              "<Figure size 640x480 with 1 Axes>"
            ],
            "image/png": "[encoded data removed]"
          },
          "metadata": {}
        }
      ]
    },
    {
      "cell_type": "markdown",
      "source": [
        "- 필수 문제3: 가장 많이 팔린 입장권 종류(entry_data를 이용합니다.)\n",
        "\n",
        "    여러 입장권 종류를 판매 매출(판매 개수 x 금액) 순으로 정렬하고 상위 10개를 뽑아 결과를 시각화해봅니다.\n",
        "\n",
        "  힌트: value_counts() 함수를 사용하세요."
      ],
      "metadata": {
        "id": "P2R4ek_IEW9N"
      }
    },
    {
      "cell_type": "code",
      "source": [
        "# 활용할 데이터(entry_data)를 temp_var로 정의하기\n",
        "# [[YOUR CODE]]\n",
        "temp_var = entry\n",
        "temp_var"
      ],
      "metadata": {
        "id": "-DlS1z33EVdG",
        "colab": {
          "base_uri": "https://localhost:8080/",
          "height": 424
        },
        "outputId": "7db4a15e-15d1-4a8b-8f79-ff499f63ac8b"
      },
      "execution_count": 37,
      "outputs": [
        {
          "output_type": "execute_result",
          "data": {
            "text/plain": [
              "               요금제명                입실                퇴실           이용    위치  \\\n",
              "0        시간요금제(1시간)  2022-04-01 23:39   2022-04-02 0:39   오전 1:00:00  선불기2   \n",
              "1        시간요금제(1시간)  2022-04-01 23:39   2022-04-02 0:39   오전 1:00:00  선불기2   \n",
              "2           무제한 입장권  2022-04-01 20:55  2022-04-01 21:41  오전 12:46:00  선불기2   \n",
              "3           무제한 입장권  2022-04-01 20:55  2022-04-01 21:41  오전 12:46:00  선불기2   \n",
              "4      한국대생 무제한 입장권  2022-04-01 19:54  2022-04-01 22:28   오전 2:33:00  선불기2   \n",
              "...             ...               ...               ...          ...   ...   \n",
              "22550         종일요금제  2021-02-17 13:09  2021-02-17 14:19   오전 1:10:00  선불기1   \n",
              "22551         종일요금제  2021-02-17 13:09  2021-02-17 14:19   오전 1:10:00  선불기1   \n",
              "22552         종일요금제  2021-02-17 13:06  2021-02-17 14:19   오전 1:13:00  선불기1   \n",
              "22553         종일요금제  2021-02-17 13:06  2021-02-17 14:19   오전 1:13:00  선불기1   \n",
              "22554         종일요금제  2021-02-17 12:58  2021-02-17 14:19   오전 1:21:00  선불기1   \n",
              "\n",
              "         금액  구분              고객  \n",
              "0      3000  퇴실  customer263717  \n",
              "1      3000  퇴실  customer263717  \n",
              "2      7400  퇴실  customer247263  \n",
              "3      7400  퇴실  customer247263  \n",
              "4      7400  퇴실  customer388928  \n",
              "...     ...  ..             ...  \n",
              "22550  6500  퇴실  customer774105  \n",
              "22551  6500  퇴실  customer774105  \n",
              "22552  7000  퇴실  customer774105  \n",
              "22553  7000  퇴실  customer774105  \n",
              "22554  7000  퇴실  customer774105  \n",
              "\n",
              "[22555 rows x 8 columns]"
            ],
            "text/html": [
              "\n",
              "  <div id=\"df-ebbbe036-f24f-4a95-88eb-f601cab8d43b\">\n",
              "    <div class=\"colab-df-container\">\n",
              "      <div>\n",
              "<style scoped>\n",
              "    .dataframe tbody tr th:only-of-type {\n",
              "        vertical-align: middle;\n",
              "    }\n",
              "\n",
              "    .dataframe tbody tr th {\n",
              "        vertical-align: top;\n",
              "    }\n",
              "\n",
              "    .dataframe thead th {\n",
              "        text-align: right;\n",
              "    }\n",
              "</style>\n",
              "<table border=\"1\" class=\"dataframe\">\n",
              "  <thead>\n",
              "    <tr style=\"text-align: right;\">\n",
              "      <th></th>\n",
              "      <th>요금제명</th>\n",
              "      <th>입실</th>\n",
              "      <th>퇴실</th>\n",
              "      <th>이용</th>\n",
              "      <th>위치</th>\n",
              "      <th>금액</th>\n",
              "      <th>구분</th>\n",
              "      <th>고객</th>\n",
              "    </tr>\n",
              "  </thead>\n",
              "  <tbody>\n",
              "    <tr>\n",
              "      <th>0</th>\n",
              "      <td>시간요금제(1시간)</td>\n",
              "      <td>2022-04-01 23:39</td>\n",
              "      <td>2022-04-02 0:39</td>\n",
              "      <td>오전 1:00:00</td>\n",
              "      <td>선불기2</td>\n",
              "      <td>3000</td>\n",
              "      <td>퇴실</td>\n",
              "      <td>customer263717</td>\n",
              "    </tr>\n",
              "    <tr>\n",
              "      <th>1</th>\n",
              "      <td>시간요금제(1시간)</td>\n",
              "      <td>2022-04-01 23:39</td>\n",
              "      <td>2022-04-02 0:39</td>\n",
              "      <td>오전 1:00:00</td>\n",
              "      <td>선불기2</td>\n",
              "      <td>3000</td>\n",
              "      <td>퇴실</td>\n",
              "      <td>customer263717</td>\n",
              "    </tr>\n",
              "    <tr>\n",
              "      <th>2</th>\n",
              "      <td>무제한 입장권</td>\n",
              "      <td>2022-04-01 20:55</td>\n",
              "      <td>2022-04-01 21:41</td>\n",
              "      <td>오전 12:46:00</td>\n",
              "      <td>선불기2</td>\n",
              "      <td>7400</td>\n",
              "      <td>퇴실</td>\n",
              "      <td>customer247263</td>\n",
              "    </tr>\n",
              "    <tr>\n",
              "      <th>3</th>\n",
              "      <td>무제한 입장권</td>\n",
              "      <td>2022-04-01 20:55</td>\n",
              "      <td>2022-04-01 21:41</td>\n",
              "      <td>오전 12:46:00</td>\n",
              "      <td>선불기2</td>\n",
              "      <td>7400</td>\n",
              "      <td>퇴실</td>\n",
              "      <td>customer247263</td>\n",
              "    </tr>\n",
              "    <tr>\n",
              "      <th>4</th>\n",
              "      <td>한국대생 무제한 입장권</td>\n",
              "      <td>2022-04-01 19:54</td>\n",
              "      <td>2022-04-01 22:28</td>\n",
              "      <td>오전 2:33:00</td>\n",
              "      <td>선불기2</td>\n",
              "      <td>7400</td>\n",
              "      <td>퇴실</td>\n",
              "      <td>customer388928</td>\n",
              "    </tr>\n",
              "    <tr>\n",
              "      <th>...</th>\n",
              "      <td>...</td>\n",
              "      <td>...</td>\n",
              "      <td>...</td>\n",
              "      <td>...</td>\n",
              "      <td>...</td>\n",
              "      <td>...</td>\n",
              "      <td>...</td>\n",
              "      <td>...</td>\n",
              "    </tr>\n",
              "    <tr>\n",
              "      <th>22550</th>\n",
              "      <td>종일요금제</td>\n",
              "      <td>2021-02-17 13:09</td>\n",
              "      <td>2021-02-17 14:19</td>\n",
              "      <td>오전 1:10:00</td>\n",
              "      <td>선불기1</td>\n",
              "      <td>6500</td>\n",
              "      <td>퇴실</td>\n",
              "      <td>customer774105</td>\n",
              "    </tr>\n",
              "    <tr>\n",
              "      <th>22551</th>\n",
              "      <td>종일요금제</td>\n",
              "      <td>2021-02-17 13:09</td>\n",
              "      <td>2021-02-17 14:19</td>\n",
              "      <td>오전 1:10:00</td>\n",
              "      <td>선불기1</td>\n",
              "      <td>6500</td>\n",
              "      <td>퇴실</td>\n",
              "      <td>customer774105</td>\n",
              "    </tr>\n",
              "    <tr>\n",
              "      <th>22552</th>\n",
              "      <td>종일요금제</td>\n",
              "      <td>2021-02-17 13:06</td>\n",
              "      <td>2021-02-17 14:19</td>\n",
              "      <td>오전 1:13:00</td>\n",
              "      <td>선불기1</td>\n",
              "      <td>7000</td>\n",
              "      <td>퇴실</td>\n",
              "      <td>customer774105</td>\n",
              "    </tr>\n",
              "    <tr>\n",
              "      <th>22553</th>\n",
              "      <td>종일요금제</td>\n",
              "      <td>2021-02-17 13:06</td>\n",
              "      <td>2021-02-17 14:19</td>\n",
              "      <td>오전 1:13:00</td>\n",
              "      <td>선불기1</td>\n",
              "      <td>7000</td>\n",
              "      <td>퇴실</td>\n",
              "      <td>customer774105</td>\n",
              "    </tr>\n",
              "    <tr>\n",
              "      <th>22554</th>\n",
              "      <td>종일요금제</td>\n",
              "      <td>2021-02-17 12:58</td>\n",
              "      <td>2021-02-17 14:19</td>\n",
              "      <td>오전 1:21:00</td>\n",
              "      <td>선불기1</td>\n",
              "      <td>7000</td>\n",
              "      <td>퇴실</td>\n",
              "      <td>customer774105</td>\n",
              "    </tr>\n",
              "  </tbody>\n",
              "</table>\n",
              "<p>22555 rows × 8 columns</p>\n",
              "</div>\n",
              "      <button class=\"colab-df-convert\" onclick=\"convertToInteractive('df-ebbbe036-f24f-4a95-88eb-f601cab8d43b')\"\n",
              "              title=\"Convert this dataframe to an interactive table.\"\n",
              "              style=\"display:none;\">\n",
              "        \n",
              "  <svg xmlns=\"http://www.w3.org/2000/svg\" height=\"24px\"viewBox=\"0 0 24 24\"\n",
              "       width=\"24px\">\n",
              "    <path d=\"M0 0h24v24H0V0z\" fill=\"none\"/>\n",
              "    <path d=\"M18.56 5.44l.94 2.06.94-2.06 2.06-.94-2.06-.94-.94-2.06-.94 2.06-2.06.94zm-11 1L8.5 8.5l.94-2.06 2.06-.94-2.06-.94L8.5 2.5l-.94 2.06-2.06.94zm10 10l.94 2.06.94-2.06 2.06-.94-2.06-.94-.94-2.06-.94 2.06-2.06.94z\"/><path d=\"M17.41 7.96l-1.37-1.37c-.4-.4-.92-.59-1.43-.59-.52 0-1.04.2-1.43.59L10.3 9.45l-7.72 7.72c-.78.78-.78 2.05 0 2.83L4 21.41c.39.39.9.59 1.41.59.51 0 1.02-.2 1.41-.59l7.78-7.78 2.81-2.81c.8-.78.8-2.07 0-2.86zM5.41 20L4 18.59l7.72-7.72 1.47 1.35L5.41 20z\"/>\n",
              "  </svg>\n",
              "      </button>\n",
              "      \n",
              "  <style>\n",
              "    .colab-df-container {\n",
              "      display:flex;\n",
              "      flex-wrap:wrap;\n",
              "      gap: 12px;\n",
              "    }\n",
              "\n",
              "    .colab-df-convert {\n",
              "      background-color: #E8F0FE;\n",
              "      border: none;\n",
              "      border-radius: 50%;\n",
              "      cursor: pointer;\n",
              "      display: none;\n",
              "      fill: #1967D2;\n",
              "      height: 32px;\n",
              "      padding: 0 0 0 0;\n",
              "      width: 32px;\n",
              "    }\n",
              "\n",
              "    .colab-df-convert:hover {\n",
              "      background-color: #E2EBFA;\n",
              "      box-shadow: 0px 1px 2px rgba(60, 64, 67, 0.3), 0px 1px 3px 1px rgba(60, 64, 67, 0.15);\n",
              "      fill: #174EA6;\n",
              "    }\n",
              "\n",
              "    [theme=dark] .colab-df-convert {\n",
              "      background-color: #3B4455;\n",
              "      fill: #D2E3FC;\n",
              "    }\n",
              "\n",
              "    [theme=dark] .colab-df-convert:hover {\n",
              "      background-color: #434B5C;\n",
              "      box-shadow: 0px 1px 3px 1px rgba(0, 0, 0, 0.15);\n",
              "      filter: drop-shadow(0px 1px 2px rgba(0, 0, 0, 0.3));\n",
              "      fill: #FFFFFF;\n",
              "    }\n",
              "  </style>\n",
              "\n",
              "      <script>\n",
              "        const buttonEl =\n",
              "          document.querySelector('#df-ebbbe036-f24f-4a95-88eb-f601cab8d43b button.colab-df-convert');\n",
              "        buttonEl.style.display =\n",
              "          google.colab.kernel.accessAllowed ? 'block' : 'none';\n",
              "\n",
              "        async function convertToInteractive(key) {\n",
              "          const element = document.querySelector('#df-ebbbe036-f24f-4a95-88eb-f601cab8d43b');\n",
              "          const dataTable =\n",
              "            await google.colab.kernel.invokeFunction('convertToInteractive',\n",
              "                                                     [key], {});\n",
              "          if (!dataTable) return;\n",
              "\n",
              "          const docLinkHtml = 'Like what you see? Visit the ' +\n",
              "            '<a target=\"_blank\" href=https://colab.research.google.com/notebooks/data_table.ipynb>data table notebook</a>'\n",
              "            + ' to learn more about interactive tables.';\n",
              "          element.innerHTML = '';\n",
              "          dataTable['output_type'] = 'display_data';\n",
              "          await google.colab.output.renderOutput(dataTable, element);\n",
              "          const docLink = document.createElement('div');\n",
              "          docLink.innerHTML = docLinkHtml;\n",
              "          element.appendChild(docLink);\n",
              "        }\n",
              "      </script>\n",
              "    </div>\n",
              "  </div>\n",
              "  "
            ]
          },
          "metadata": {},
          "execution_count": 37
        }
      ]
    },
    {
      "cell_type": "code",
      "source": [
        "# temp_var의 금액을 숫자형태로 변환하기\n",
        "# [[YOUR CODE]]\n",
        "temp_var['금액'] = temp_var['금액'].astype(int)"
      ],
      "metadata": {
        "id": "8kZDSArhEikC"
      },
      "execution_count": 38,
      "outputs": []
    },
    {
      "cell_type": "code",
      "source": [
        "# temp_var의 금액을 요금제명을 기준으로 집계하기\n",
        "# [[YOUR CODE]]\n",
        "tickets = temp_var['금액'].groupby(temp_var['요금제명']).sum()\n",
        "tickets"
      ],
      "metadata": {
        "id": "W9F1jbLhEjsd",
        "colab": {
          "base_uri": "https://localhost:8080/"
        },
        "outputId": "66cee1c4-506b-4116-8100-420aaf71b8c7"
      },
      "execution_count": 39,
      "outputs": [
        {
          "output_type": "execute_result",
          "data": {
            "text/plain": [
              "요금제명\n",
              "18시이후 무제한           1330500\n",
              "1시간                   90000\n",
              "1시간 요금제               14000\n",
              "3시간                   21000\n",
              "기간권                       0\n",
              "무제한 입장권             1568600\n",
              "무제한(일반요금)              6000\n",
              "무제한(한국대생)             14000\n",
              "시간 요금제(1시간당)          25000\n",
              "시간권                       0\n",
              "시간요금제                 12300\n",
              "시간요금제(1시간)          2665500\n",
              "시간요금제(1시간당)           22500\n",
              "시간요금제(3시간)          2042000\n",
              "심야-조조무제한            6221000\n",
              "심야-조조무제한(06시까지)    11600000\n",
              "이용권                       0\n",
              "입장권(종일권)           23570500\n",
              "조조무제한                693000\n",
              "종일요금제                233000\n",
              "한국대생 무제한 입장권        5207500\n",
              "한국대생 입장권(종일권)      70037000\n",
              "Name: 금액, dtype: int64"
            ]
          },
          "metadata": {},
          "execution_count": 39
        }
      ]
    },
    {
      "cell_type": "code",
      "source": [
        "# tickets의 값을 내림차순으로 정렬하고 상위 10개 도출하기\n",
        "# [[YOUR CODE]]\n",
        "tickets = tickets.sort_values(ascending=False)\n",
        "tickets[:10]"
      ],
      "metadata": {
        "id": "vK8CxZPWElDZ",
        "colab": {
          "base_uri": "https://localhost:8080/"
        },
        "outputId": "39b257ca-3be8-4e24-e95f-876347beca37"
      },
      "execution_count": 40,
      "outputs": [
        {
          "output_type": "execute_result",
          "data": {
            "text/plain": [
              "요금제명\n",
              "한국대생 입장권(종일권)      70037000\n",
              "입장권(종일권)           23570500\n",
              "심야-조조무제한(06시까지)    11600000\n",
              "심야-조조무제한            6221000\n",
              "한국대생 무제한 입장권        5207500\n",
              "시간요금제(1시간)          2665500\n",
              "시간요금제(3시간)          2042000\n",
              "무제한 입장권             1568600\n",
              "18시이후 무제한           1330500\n",
              "조조무제한                693000\n",
              "Name: 금액, dtype: int64"
            ]
          },
          "metadata": {},
          "execution_count": 40
        }
      ]
    },
    {
      "cell_type": "code",
      "source": [
        "# 집계 결과 시각화하기\n",
        "# [[YOUR CODE]]\n",
        "tickets[:10].plot(kind='bar')\n",
        "plt.ylabel('원')\n",
        "plt.title('입장권별 판매금액')\n",
        "plt.show()"
      ],
      "metadata": {
        "id": "RvQJSesQEmW2",
        "colab": {
          "base_uri": "https://localhost:8080/",
          "height": 1000
        },
        "outputId": "bffc4d19-a742-4e52-ccaf-ad69f29abdb8"
      },
      "execution_count": 41,
      "outputs": [
        {
          "output_type": "stream",
          "name": "stderr",
          "text": [
            "/usr/local/lib/python3.7/dist-packages/matplotlib/backends/backend_agg.py:214: RuntimeWarning: Glyph 51077 missing from current font.\n",
            "  font.set_text(s, 0.0, flags=flags)\n",
            "/usr/local/lib/python3.7/dist-packages/matplotlib/backends/backend_agg.py:214: RuntimeWarning: Glyph 51109 missing from current font.\n",
            "  font.set_text(s, 0.0, flags=flags)\n",
            "/usr/local/lib/python3.7/dist-packages/matplotlib/backends/backend_agg.py:214: RuntimeWarning: Glyph 44428 missing from current font.\n",
            "  font.set_text(s, 0.0, flags=flags)\n",
            "/usr/local/lib/python3.7/dist-packages/matplotlib/backends/backend_agg.py:214: RuntimeWarning: Glyph 48324 missing from current font.\n",
            "  font.set_text(s, 0.0, flags=flags)\n",
            "/usr/local/lib/python3.7/dist-packages/matplotlib/backends/backend_agg.py:214: RuntimeWarning: Glyph 54032 missing from current font.\n",
            "  font.set_text(s, 0.0, flags=flags)\n",
            "/usr/local/lib/python3.7/dist-packages/matplotlib/backends/backend_agg.py:214: RuntimeWarning: Glyph 47588 missing from current font.\n",
            "  font.set_text(s, 0.0, flags=flags)\n",
            "/usr/local/lib/python3.7/dist-packages/matplotlib/backends/backend_agg.py:214: RuntimeWarning: Glyph 44552 missing from current font.\n",
            "  font.set_text(s, 0.0, flags=flags)\n",
            "/usr/local/lib/python3.7/dist-packages/matplotlib/backends/backend_agg.py:214: RuntimeWarning: Glyph 50529 missing from current font.\n",
            "  font.set_text(s, 0.0, flags=flags)\n",
            "/usr/local/lib/python3.7/dist-packages/matplotlib/backends/backend_agg.py:214: RuntimeWarning: Glyph 54620 missing from current font.\n",
            "  font.set_text(s, 0.0, flags=flags)\n",
            "/usr/local/lib/python3.7/dist-packages/matplotlib/backends/backend_agg.py:214: RuntimeWarning: Glyph 44397 missing from current font.\n",
            "  font.set_text(s, 0.0, flags=flags)\n",
            "/usr/local/lib/python3.7/dist-packages/matplotlib/backends/backend_agg.py:214: RuntimeWarning: Glyph 45824 missing from current font.\n",
            "  font.set_text(s, 0.0, flags=flags)\n",
            "/usr/local/lib/python3.7/dist-packages/matplotlib/backends/backend_agg.py:214: RuntimeWarning: Glyph 49373 missing from current font.\n",
            "  font.set_text(s, 0.0, flags=flags)\n",
            "/usr/local/lib/python3.7/dist-packages/matplotlib/backends/backend_agg.py:214: RuntimeWarning: Glyph 51333 missing from current font.\n",
            "  font.set_text(s, 0.0, flags=flags)\n",
            "/usr/local/lib/python3.7/dist-packages/matplotlib/backends/backend_agg.py:214: RuntimeWarning: Glyph 51068 missing from current font.\n",
            "  font.set_text(s, 0.0, flags=flags)\n",
            "/usr/local/lib/python3.7/dist-packages/matplotlib/backends/backend_agg.py:214: RuntimeWarning: Glyph 49900 missing from current font.\n",
            "  font.set_text(s, 0.0, flags=flags)\n",
            "/usr/local/lib/python3.7/dist-packages/matplotlib/backends/backend_agg.py:214: RuntimeWarning: Glyph 50556 missing from current font.\n",
            "  font.set_text(s, 0.0, flags=flags)\n",
            "/usr/local/lib/python3.7/dist-packages/matplotlib/backends/backend_agg.py:214: RuntimeWarning: Glyph 51312 missing from current font.\n",
            "  font.set_text(s, 0.0, flags=flags)\n",
            "/usr/local/lib/python3.7/dist-packages/matplotlib/backends/backend_agg.py:214: RuntimeWarning: Glyph 47924 missing from current font.\n",
            "  font.set_text(s, 0.0, flags=flags)\n",
            "/usr/local/lib/python3.7/dist-packages/matplotlib/backends/backend_agg.py:214: RuntimeWarning: Glyph 51228 missing from current font.\n",
            "  font.set_text(s, 0.0, flags=flags)\n",
            "/usr/local/lib/python3.7/dist-packages/matplotlib/backends/backend_agg.py:214: RuntimeWarning: Glyph 49884 missing from current font.\n",
            "  font.set_text(s, 0.0, flags=flags)\n",
            "/usr/local/lib/python3.7/dist-packages/matplotlib/backends/backend_agg.py:214: RuntimeWarning: Glyph 44620 missing from current font.\n",
            "  font.set_text(s, 0.0, flags=flags)\n",
            "/usr/local/lib/python3.7/dist-packages/matplotlib/backends/backend_agg.py:214: RuntimeWarning: Glyph 51648 missing from current font.\n",
            "  font.set_text(s, 0.0, flags=flags)\n",
            "/usr/local/lib/python3.7/dist-packages/matplotlib/backends/backend_agg.py:214: RuntimeWarning: Glyph 44036 missing from current font.\n",
            "  font.set_text(s, 0.0, flags=flags)\n",
            "/usr/local/lib/python3.7/dist-packages/matplotlib/backends/backend_agg.py:214: RuntimeWarning: Glyph 50836 missing from current font.\n",
            "  font.set_text(s, 0.0, flags=flags)\n",
            "/usr/local/lib/python3.7/dist-packages/matplotlib/backends/backend_agg.py:214: RuntimeWarning: Glyph 51060 missing from current font.\n",
            "  font.set_text(s, 0.0, flags=flags)\n",
            "/usr/local/lib/python3.7/dist-packages/matplotlib/backends/backend_agg.py:214: RuntimeWarning: Glyph 54980 missing from current font.\n",
            "  font.set_text(s, 0.0, flags=flags)\n",
            "/usr/local/lib/python3.7/dist-packages/matplotlib/backends/backend_agg.py:214: RuntimeWarning: Glyph 47749 missing from current font.\n",
            "  font.set_text(s, 0.0, flags=flags)\n",
            "/usr/local/lib/python3.7/dist-packages/matplotlib/backends/backend_agg.py:214: RuntimeWarning: Glyph 50896 missing from current font.\n",
            "  font.set_text(s, 0.0, flags=flags)\n",
            "/usr/local/lib/python3.7/dist-packages/matplotlib/backends/backend_agg.py:183: RuntimeWarning: Glyph 54620 missing from current font.\n",
            "  font.set_text(s, 0, flags=flags)\n",
            "/usr/local/lib/python3.7/dist-packages/matplotlib/backends/backend_agg.py:183: RuntimeWarning: Glyph 44397 missing from current font.\n",
            "  font.set_text(s, 0, flags=flags)\n",
            "/usr/local/lib/python3.7/dist-packages/matplotlib/backends/backend_agg.py:183: RuntimeWarning: Glyph 45824 missing from current font.\n",
            "  font.set_text(s, 0, flags=flags)\n",
            "/usr/local/lib/python3.7/dist-packages/matplotlib/backends/backend_agg.py:183: RuntimeWarning: Glyph 49373 missing from current font.\n",
            "  font.set_text(s, 0, flags=flags)\n",
            "/usr/local/lib/python3.7/dist-packages/matplotlib/backends/backend_agg.py:183: RuntimeWarning: Glyph 51077 missing from current font.\n",
            "  font.set_text(s, 0, flags=flags)\n",
            "/usr/local/lib/python3.7/dist-packages/matplotlib/backends/backend_agg.py:183: RuntimeWarning: Glyph 51109 missing from current font.\n",
            "  font.set_text(s, 0, flags=flags)\n",
            "/usr/local/lib/python3.7/dist-packages/matplotlib/backends/backend_agg.py:183: RuntimeWarning: Glyph 44428 missing from current font.\n",
            "  font.set_text(s, 0, flags=flags)\n",
            "/usr/local/lib/python3.7/dist-packages/matplotlib/backends/backend_agg.py:183: RuntimeWarning: Glyph 51333 missing from current font.\n",
            "  font.set_text(s, 0, flags=flags)\n",
            "/usr/local/lib/python3.7/dist-packages/matplotlib/backends/backend_agg.py:183: RuntimeWarning: Glyph 51068 missing from current font.\n",
            "  font.set_text(s, 0, flags=flags)\n",
            "/usr/local/lib/python3.7/dist-packages/matplotlib/backends/backend_agg.py:183: RuntimeWarning: Glyph 49900 missing from current font.\n",
            "  font.set_text(s, 0, flags=flags)\n",
            "/usr/local/lib/python3.7/dist-packages/matplotlib/backends/backend_agg.py:183: RuntimeWarning: Glyph 50556 missing from current font.\n",
            "  font.set_text(s, 0, flags=flags)\n",
            "/usr/local/lib/python3.7/dist-packages/matplotlib/backends/backend_agg.py:183: RuntimeWarning: Glyph 51312 missing from current font.\n",
            "  font.set_text(s, 0, flags=flags)\n",
            "/usr/local/lib/python3.7/dist-packages/matplotlib/backends/backend_agg.py:183: RuntimeWarning: Glyph 47924 missing from current font.\n",
            "  font.set_text(s, 0, flags=flags)\n",
            "/usr/local/lib/python3.7/dist-packages/matplotlib/backends/backend_agg.py:183: RuntimeWarning: Glyph 51228 missing from current font.\n",
            "  font.set_text(s, 0, flags=flags)\n",
            "/usr/local/lib/python3.7/dist-packages/matplotlib/backends/backend_agg.py:183: RuntimeWarning: Glyph 49884 missing from current font.\n",
            "  font.set_text(s, 0, flags=flags)\n",
            "/usr/local/lib/python3.7/dist-packages/matplotlib/backends/backend_agg.py:183: RuntimeWarning: Glyph 44620 missing from current font.\n",
            "  font.set_text(s, 0, flags=flags)\n",
            "/usr/local/lib/python3.7/dist-packages/matplotlib/backends/backend_agg.py:183: RuntimeWarning: Glyph 51648 missing from current font.\n",
            "  font.set_text(s, 0, flags=flags)\n",
            "/usr/local/lib/python3.7/dist-packages/matplotlib/backends/backend_agg.py:183: RuntimeWarning: Glyph 44036 missing from current font.\n",
            "  font.set_text(s, 0, flags=flags)\n",
            "/usr/local/lib/python3.7/dist-packages/matplotlib/backends/backend_agg.py:183: RuntimeWarning: Glyph 50836 missing from current font.\n",
            "  font.set_text(s, 0, flags=flags)\n",
            "/usr/local/lib/python3.7/dist-packages/matplotlib/backends/backend_agg.py:183: RuntimeWarning: Glyph 44552 missing from current font.\n",
            "  font.set_text(s, 0, flags=flags)\n",
            "/usr/local/lib/python3.7/dist-packages/matplotlib/backends/backend_agg.py:183: RuntimeWarning: Glyph 51060 missing from current font.\n",
            "  font.set_text(s, 0, flags=flags)\n",
            "/usr/local/lib/python3.7/dist-packages/matplotlib/backends/backend_agg.py:183: RuntimeWarning: Glyph 54980 missing from current font.\n",
            "  font.set_text(s, 0, flags=flags)\n",
            "/usr/local/lib/python3.7/dist-packages/matplotlib/backends/backend_agg.py:183: RuntimeWarning: Glyph 47749 missing from current font.\n",
            "  font.set_text(s, 0, flags=flags)\n",
            "/usr/local/lib/python3.7/dist-packages/matplotlib/backends/backend_agg.py:183: RuntimeWarning: Glyph 50896 missing from current font.\n",
            "  font.set_text(s, 0, flags=flags)\n",
            "/usr/local/lib/python3.7/dist-packages/matplotlib/backends/backend_agg.py:183: RuntimeWarning: Glyph 48324 missing from current font.\n",
            "  font.set_text(s, 0, flags=flags)\n",
            "/usr/local/lib/python3.7/dist-packages/matplotlib/backends/backend_agg.py:183: RuntimeWarning: Glyph 54032 missing from current font.\n",
            "  font.set_text(s, 0, flags=flags)\n",
            "/usr/local/lib/python3.7/dist-packages/matplotlib/backends/backend_agg.py:183: RuntimeWarning: Glyph 47588 missing from current font.\n",
            "  font.set_text(s, 0, flags=flags)\n",
            "/usr/local/lib/python3.7/dist-packages/matplotlib/backends/backend_agg.py:183: RuntimeWarning: Glyph 50529 missing from current font.\n",
            "  font.set_text(s, 0, flags=flags)\n"
          ]
        },
        {
          "output_type": "display_data",
          "data": {
            "text/plain": [
              "<Figure size 640x480 with 1 Axes>"
            ],
            "image/png": "[encoded data removed]"
          },
          "metadata": {}
        }
      ]
    },
    {
      "cell_type": "markdown",
      "source": [
        "**내가 정의한 문제 해결하기**"
      ],
      "metadata": {
        "id": "2uhrJ4F2EoAU"
      }
    },
    {
      "cell_type": "code",
      "source": [
        "# 내 Key Question을 중심으로 다양한 분석을 진행해봅시다.\n",
        "# [[YOUR CODE]]"
      ],
      "metadata": {
        "id": "k6Dk_jAtErGt"
      },
      "execution_count": null,
      "outputs": []
    },
    {
      "cell_type": "code",
      "source": [
        "# [[YOUR CODE]]"
      ],
      "metadata": {
        "id": "SwqsVAeGEsag"
      },
      "execution_count": null,
      "outputs": []
    },
    {
      "cell_type": "code",
      "source": [
        "# [[YOUR CODE]]"
      ],
      "metadata": {
        "id": "QQuapyUIEvwG"
      },
      "execution_count": null,
      "outputs": []
    },
    {
      "cell_type": "code",
      "source": [
        "# [[YOUR CODE]]"
      ],
      "metadata": {
        "id": "6d3gHfJGEwDd"
      },
      "execution_count": null,
      "outputs": []
    },
    {
      "cell_type": "code",
      "source": [
        "# [[YOUR CODE]]"
      ],
      "metadata": {
        "id": "iQX6_zT0EwTw"
      },
      "execution_count": null,
      "outputs": []
    },
    {
      "cell_type": "code",
      "source": [
        "# [[YOUR CODE]]"
      ],
      "metadata": {
        "id": "agzvaC5PEwjy"
      },
      "execution_count": null,
      "outputs": []
    },
    {
      "cell_type": "code",
      "source": [
        "# [[YOUR CODE]]"
      ],
      "metadata": {
        "id": "FA9kntBvEwyV"
      },
      "execution_count": null,
      "outputs": []
    },
    {
      "cell_type": "code",
      "source": [
        "# [[YOUR CODE]]"
      ],
      "metadata": {
        "id": "CUJZm_rXExAS"
      },
      "execution_count": null,
      "outputs": []
    },
    {
      "cell_type": "markdown",
      "source": [
        "**4. 전략 수립 및 실행**\n",
        "\n",
        "아래 질문에 답을 하며 분석을 평가하고, 앞으로의 전략을 수립해봅시다."
      ],
      "metadata": {
        "id": "5hOWFnlEEy7N"
      }
    },
    {
      "cell_type": "markdown",
      "source": [
        "여러분, 처음 목표했던 분석은 달성되었나요? '모두카페'에게 어떤 전략을 제안할 수 있나요?"
      ],
      "metadata": {
        "id": "8JORVUPUE2Vh"
      }
    },
    {
      "cell_type": "markdown",
      "source": [
        "주어진 필수 3문제는 아래와 같이 정리할 수 있습니다.\n",
        "\n",
        "    월별 매출액 추세: 2021년 6월이 가장 높은 매출액을, 2021년 9월이 가장 낮은 매출액을 보인다.\n",
        "    가장 인기있는 음식/음료: 김치볶음밥, 그리고 라면이 가장 많이 팔렸다.\n",
        "    가장 많이 팔린 입장권 종류: 한국대생(종일권)이 가장 많이 팔렸다. 두번째는 일반 입장권(종일권)이다.\n",
        "\n",
        "아무래도 대학 앞에 있는 스터디카페다보니 매출현황이 대학 학기 패턴을 따라가고 있는 것 같습니다. 물론 COVID-19에 따른 영업제한 조치 또한 무시할 수 없어요. 앞으로 우리 모두카페는 어떻게 해야 할까요?"
      ],
      "metadata": {
        "id": "xWZumjM3E5gn"
      }
    }
  ]
}