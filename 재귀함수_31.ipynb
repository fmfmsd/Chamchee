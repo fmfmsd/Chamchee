{
  "nbformat": 4,
  "nbformat_minor": 0,
  "metadata": {
    "colab": {
      "name": "재귀함수 31.ipynb",
      "provenance": [],
      "authorship_tag": "ABX9TyO0JzI7JSjICX8Tpj/+urCa",
      "include_colab_link": true
    },
    "kernelspec": {
      "name": "python3",
      "display_name": "Python 3"
    },
    "language_info": {
      "name": "python"
    }
  },
  "cells": [
    {
      "cell_type": "markdown",
      "metadata": {
        "id": "view-in-github",
        "colab_type": "text"
      },
      "source": [
        "<a href=\"https://colab.research.google.com/github/fmfmsd/Chamchee/blob/main/%EC%9E%AC%EA%B7%80%ED%95%A8%EC%88%98_31.ipynb\" target=\"_parent\"><img src=\"https://colab.research.google.com/assets/colab-badge.svg\" alt=\"Open In Colab\"/></a>"
      ]
    },
    {
      "cell_type": "code",
      "execution_count": null,
      "metadata": {
        "id": "cIrG7VgOeMY5"
      },
      "outputs": [],
      "source": [
        "def hello():\n",
        "    print('Hello, world!')\n",
        "    hello()\n",
        " \n",
        "hello()"
      ]
    },
    {
      "cell_type": "code",
      "source": [
        "def hello(count):\n",
        "  if count==0:\n",
        "    return\n",
        "\n",
        "  print('Hello, Worid!', count)\n",
        "\n",
        "  count -= 1\n",
        "  hello(count)\n",
        "\n",
        "hello(5)"
      ],
      "metadata": {
        "id": "aUViVC2-jVVM"
      },
      "execution_count": null,
      "outputs": []
    },
    {
      "cell_type": "code",
      "source": [
        "def factorial(n):\n",
        "  if n== 1:\n",
        "    return 1\n",
        "  return n * factorial(n - 1)\n",
        "\n",
        "print(factorial(5))"
      ],
      "metadata": {
        "colab": {
          "base_uri": "https://localhost:8080/"
        },
        "id": "BeADPGs1j9I6",
        "outputId": "fbeb4028-69fb-4a0d-ea30-9b15fa4c1ccc"
      },
      "execution_count": 13,
      "outputs": [
        {
          "output_type": "stream",
          "name": "stdout",
          "text": [
            "120\n"
          ]
        }
      ]
    },
    {
      "cell_type": "code",
      "source": [
        "def factorial(n):\n",
        "  if n == 1:\n",
        "    return 1"
      ],
      "metadata": {
        "id": "4VmjR5vIkVgx"
      },
      "execution_count": 14,
      "outputs": []
    }
  ]
}