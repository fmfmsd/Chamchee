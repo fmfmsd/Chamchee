{
  "nbformat": 4,
  "nbformat_minor": 0,
  "metadata": {
    "colab": {
      "provenance": [],
      "collapsed_sections": []
    },
    "kernelspec": {
      "name": "python3",
      "display_name": "Python 3"
    },
    "language_info": {
      "name": "python"
    },
    "accelerator": "GPU",
    "gpuClass": "standard"
  },
  "cells": [
    {
      "cell_type": "markdown",
      "source": [
        "# **data set**"
      ],
      "metadata": {
        "id": "7UwXHdRvWMcf"
      }
    },
    {
      "cell_type": "code",
      "source": [
        "from sklearn.datasets import load_breast_cancer, load_digits, load_wine\n",
        "\n",
        "#모델\n",
        "from sklearn.pipeline import make_pipeline\n",
        "from sklearn.tree import DecisionTreeClassifier\n",
        "from sklearn.ensemble import RandomForestClassifier\n",
        "from sklearn.svm import SVC\n",
        "from sklearn.linear_model import SGDClassifier\n",
        "from sklearn.linear_model import LogisticRegression\n",
        "classifier = SVC(kernel = 'linear')\n",
        "\n",
        "import numpy as np\n",
        "import matplotlib.pyplot as plt\n",
        "from sklearn.model_selection import train_test_split\n",
        "\n",
        "from sklearn.metrics import accuracy_score, precision_score, recall_score, f1_score, confusion_matrix, classification_report"
      ],
      "metadata": {
        "id": "qlW_Em4R13GZ"
      },
      "execution_count": 15,
      "outputs": []
    },
    {
      "cell_type": "markdown",
      "source": [
        "# **load_digits**"
      ],
      "metadata": {
        "id": "jsqNBhT4WJ7L"
      }
    },
    {
      "cell_type": "code",
      "source": [
        "data = load_digits()\n",
        "x = data.data\n",
        "y = data.target"
      ],
      "metadata": {
        "id": "iEpku9U7UL7e"
      },
      "execution_count": 3,
      "outputs": []
    },
    {
      "cell_type": "code",
      "source": [],
      "metadata": {
        "id": "bvcugdRfF-zX"
      },
      "execution_count": 1,
      "outputs": []
    },
    {
      "cell_type": "code",
      "source": [
        "plt.imshow(data.images[8], cmap=\"bone\")"
      ],
      "metadata": {
        "colab": {
          "base_uri": "https://localhost:8080/",
          "height": 283
        },
        "id": "1TglV214VjM3",
        "outputId": "3ed3803c-a580-4b57-f028-283929af7e2d"
      },
      "execution_count": 4,
      "outputs": [
        {
          "output_type": "execute_result",
          "data": {
            "text/plain": [
              "<matplotlib.image.AxesImage at 0x7f7f4c4a0490>"
            ]
          },
          "metadata": {},
          "execution_count": 4
        },
        {
          "output_type": "display_data",
          "data": {
            "text/plain": [
              "<Figure size 432x288 with 1 Axes>"
            ],
            "image/png": "[encoded data removed]"
          },
          "metadata": {
            "needs_background": "light"
          }
        }
      ]
    },
    {
      "cell_type": "code",
      "source": [
        "#Train, Test 지정\n",
        "x_train, x_test, y_train, y_test = train_test_split(x, y, stratify=y, \n",
        "                                                    random_state=15, \n",
        "                                                    test_size=0.2)"
      ],
      "metadata": {
        "id": "UHYrkDwnWbYx"
      },
      "execution_count": 5,
      "outputs": []
    },
    {
      "cell_type": "code",
      "source": [
        "#모델학습\n",
        "rf = RandomForestClassifier(random_state=15)\n",
        "rf.fit(x_train, y_train)\n",
        "y_pred = rf.predict(x_test)\n",
        "#Matrix\n",
        "acc = accuracy_score(y_test, y_pred)\n",
        "precision = precision_score(y_test, y_pred, average='macro') #micro macro의 단위가 있는데 서로 의미하는 바가 다르다.\n",
        "recall = recall_score(y_test, y_pred, average='macro')\n",
        "f1_score = f1_score(y_test, y_pred, average='macro')\n",
        "cf_matrix = confusion_matrix(y_test, y_pred)\n",
        "report = classification_report(y_test, y_pred)"
      ],
      "metadata": {
        "id": "zGEa686uW9I2"
      },
      "execution_count": 6,
      "outputs": []
    },
    {
      "cell_type": "code",
      "source": [
        "from PIL.Image import preinit\n",
        "print(f\"accuracy = {acc}\")\n",
        "print(f\"precision = {precision}\")\n",
        "print(f\"recall = {recall}\")\n",
        "print(f\"f1_score = {f1_score}\")\n",
        "print(f\"confusion_matrix = \\n{cf_matrix}\")\n",
        "print(f\"report {report}\")"
      ],
      "metadata": {
        "id": "vWlIAtjFY6Wz"
      },
      "execution_count": null,
      "outputs": []
    }
  ]
}
