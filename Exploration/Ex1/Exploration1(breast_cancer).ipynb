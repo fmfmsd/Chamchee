{
  "nbformat": 4,
  "nbformat_minor": 0,
  "metadata": {
    "colab": {
      "provenance": [],
      "collapsed_sections": []
    },
    "kernelspec": {
      "name": "python3",
      "display_name": "Python 3"
    },
    "language_info": {
      "name": "python"
    }
  },
  "cells": [
    {
      "cell_type": "code",
      "execution_count": null,
      "metadata": {
        "id": "o-wxM6lMzk11"
      },
      "outputs": [],
      "source": [
        "import matplotlib.pyplot as plt\n",
        "import numpy as np\n",
        "from sklearn.datasets import load_breast_cancer\n",
        "from sklearn.model_selection import train_test_split\n",
        "from sklearn.tree import DecisionTreeClassifier\n",
        "from sklearn.ensemble import RandomForestClassifier\n",
        "from sklearn import svm\n",
        "from sklearn.linear_model import SGDClassifier\n",
        "from sklearn.linear_model import LogisticRegression\n",
        "from sklearn.metrics import classification_report"
      ]
    },
    {
      "cell_type": "code",
      "source": [
        "cancer = load_breast_cancer()"
      ],
      "metadata": {
        "id": "Nr4zCRyzzzEf"
      },
      "execution_count": null,
      "outputs": []
    },
    {
      "cell_type": "code",
      "source": [
        "feature_data = cancer.data\n",
        "label_data = cancer.target\n",
        "print(cancer.target_names)\n",
        "print(cancer.DESCR)"
      ],
      "metadata": {
        "id": "FSCTbhC6z7RQ"
      },
      "execution_count": null,
      "outputs": []
    },
    {
      "cell_type": "code",
      "source": [
        "x_train, x_test, y_train, y_test = train_test_split(feature_data, label_data, test_size = 32)\n",
        "print(\"data len: {}\\ntrain len: {}\".format(len(feature_data), len(x_train)))"
      ],
      "metadata": {
        "colab": {
          "base_uri": "https://localhost:8080/"
        },
        "id": "bUrDXdCO1jxw",
        "outputId": "310dc69c-6653-4a11-be8c-31022d9047ae"
      },
      "execution_count": null,
      "outputs": [
        {
          "output_type": "stream",
          "name": "stdout",
          "text": [
            "data len: 569\n",
            "train len: 537\n"
          ]
        }
      ]
    },
    {
      "cell_type": "code",
      "source": [
        "models = []\n",
        "#Decision Tree \n",
        "decision_tree = DecisionTreeClassifier(random_state=32)\n",
        "models.append(decision_tree)\n",
        "decision_tree.fit(x_train, y_train)\n",
        "#Random Forest\n",
        "random_forest = RandomForestClassifier(random_state=32)\n",
        "models.append(random_forest)\n",
        "random_forest.fit(x_train, y_train)\n",
        "#SVM\n",
        "svm_model = svm.SVC()\n",
        "models.append(svm_model)\n",
        "svm_model.fit(x_train, y_train)\n",
        "#SGD Classifier\n",
        "sgd_model = SGDClassifier()\n",
        "models.append(sgd_model)\n",
        "sgd_model.fit(x_train, y_train)\n",
        "#Logistic Regression\n",
        "logistic_model = LogisticRegression(solver='lbfgs', max_iter=5000)\n",
        "models.append(logistic_model)\n",
        "logistic_model.fit(x_train, y_train)"
      ],
      "metadata": {
        "colab": {
          "base_uri": "https://localhost:8080/"
        },
        "id": "21JYrWNr1dQm",
        "outputId": "04533c96-6383-4a95-ffdd-4fdea09d33ec"
      },
      "execution_count": null,
      "outputs": [
        {
          "output_type": "execute_result",
          "data": {
            "text/plain": [
              "LogisticRegression(max_iter=5000)"
            ]
          },
          "metadata": {},
          "execution_count": 59
        }
      ]
    },
    {
      "cell_type": "code",
      "source": [
        "y_pred = []\n",
        "for i in models:\n",
        "    y_pred.append(i.predict(x_test))"
      ],
      "metadata": {
        "id": "4W8YgYlm1ly3"
      },
      "execution_count": null,
      "outputs": []
    },
    {
      "cell_type": "code",
      "source": [
        "accuracy = [['Decision Tree'], ['Random Forest'], ['SVM'], ['SGDClassifier'], ['Logistic Regression']]\n",
        "weighted_avg = [['Decision Tree'], ['Random Forest'], ['SVM'], ['SGDClassifier'], ['Logistic Regression']]\n",
        "for i, y_pred in enumerate(y_pred):\n",
        "    temp_class_report = classification_report(y_test, y_pred, output_dict=True)\n",
        "    accuracy[i].append(temp_class_report['accuracy'])\n",
        "    weighted_avg[i].append(temp_class_report['weighted avg']['f1-score'])"
      ],
      "metadata": {
        "id": "iaiWDcoO1oyk"
      },
      "execution_count": null,
      "outputs": []
    },
    {
      "cell_type": "code",
      "source": [
        "print(\"f1 socre \\n:\", weighted_avg)\n",
        "model_name, acc = max(weighted_avg, key=lambda k : k[1])\n",
        "print(\"model = {}, weigted_avg = {}\".format(model_name, acc))\n",
        "model_num = [i for i in range(len(weighted_avg)) if weighted_avg[i][0]==model_name]"
      ],
      "metadata": {
        "id": "7O7P2QR41uHi"
      },
      "execution_count": null,
      "outputs": []
    },
    {
      "cell_type": "code",
      "source": [
        "model = LogisticRegression(C=1)\n",
        "model.fit(x_train, y_train)\n",
        "model.score(x_train, y_train), model.score(x_test, y_test)"
      ],
      "metadata": {
        "id": "bswBdz-31x6P"
      },
      "execution_count": null,
      "outputs": []
    },
    {
      "cell_type": "code",
      "source": [
        "plt.plot(model.coef_.T, 'o')\n",
        "plt.xticks(range(cancer.data.shape[1]), cancer.feature_names, rotation=90)\n",
        "xlim = plt.xlim()\n",
        "plt.hlines(0, xlim[0], xlim[1])\n",
        "plt.ylim(-1, 1)\n",
        "#카테고리별 선형모델"
      ],
      "metadata": {
        "colab": {
          "base_uri": "https://localhost:8080/",
          "height": 396
        },
        "id": "4454slqQ11vB",
        "outputId": "5298202d-c45f-448f-f4b0-35a867b4a6c6"
      },
      "execution_count": null,
      "outputs": [
        {
          "output_type": "execute_result",
          "data": {
            "text/plain": [
              "(-1.0, 1.0)"
            ]
          },
          "metadata": {},
          "execution_count": 56
        },
        {
          "output_type": "display_data",
          "data": {
            "text/plain": [
              "<Figure size 432x288 with 1 Axes>"
            ],
            "image/png": "[encoded data removed]"
          },
          "metadata": {
            "needs_background": "light"
          }
        }
      ]
    }
  ]
}