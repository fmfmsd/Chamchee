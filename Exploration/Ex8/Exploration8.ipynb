{
  "cells": [
    {
      "cell_type": "markdown",
      "metadata": {
        "id": "hlVTqFUh2UGl"
      },
      "source": [
        "# **Ex8. 영화리뷰 텍스트 감성분석하기**"
      ]
    },
    {
      "cell_type": "markdown",
      "source": [
        "**루브릭 평가**\n",
        "\n",
        "----\n",
        "\n",
        "1. 다양한 방법으로 Text Classification 태스크를 성공적으로 구현하였다. - 3가지 이상의 모델이 성공적으로 시도됨\n",
        "\n",
        "2. gensim을 활용하여 자체학습된 혹은 사전학습된 임베딩 레이어를 분석하였다. - \n",
        "gensim의 유사단어 찾기를 활용하여 자체학습한 임베딩과 사전학습 임베딩을 비교 분석함\n",
        "3. 한국어 Word2Vec을 활용하여 가시적인 성능향상을 달성했다. - 네이버 영화리뷰 데이터 감성분석 정확도를 85% 이상 달성함\n"
      ],
      "metadata": {
        "id": "2n6f2XUUQF-m"
      }
    },
    {
      "cell_type": "markdown",
      "source": [
        "# 1.데이터 불러오기 "
      ],
      "metadata": {
        "id": "mb3B6b7jRD2f"
      }
    },
    {
      "cell_type": "code",
      "execution_count": null,
      "metadata": {
        "id": "2wljaeO-ip9Z"
      },
      "outputs": [],
      "source": [
        "import os\n",
        "# install konlpy, jdk, JPype\n",
        "!pip install konlpy\n",
        "!apt-get install openjdk-8-jdk-headless -qq > /dev/null\n",
        "!pip3 install JPype1-py3\n",
        "\n",
        "# install mecab-ko\n",
        "os.chdir('/tmp/')\n",
        "!curl -LO https://bitbucket.org/eunjeon/mecab-ko/downloads/mecab-0.996-ko-0.9.2.tar.gz\n",
        "!tar zxfv mecab-0.996-ko-0.9.2.tar.gz\n",
        "os.chdir('/tmp/mecab-0.996-ko-0.9.2')\n",
        "!./configure\n",
        "!make\n",
        "!make check\n",
        "!make install\n",
        "\n",
        "# install mecab-ko-dic\n",
        "!apt-get install automake\n",
        "os.chdir('/tmp')\n",
        "!curl -LO https://bitbucket.org/eunjeon/mecab-ko-dic/downloads/mecab-ko-dic-2.1.1-20180720.tar.gz\n",
        "!tar -zxvf mecab-ko-dic-2.1.1-20180720.tar.gz\n",
        "os.chdir('/tmp/mecab-ko-dic-2.1.1-20180720')\n",
        "!./autogen.sh\n",
        "!./configure\n",
        "!make\n",
        "!make install\n",
        "\n",
        "# install mecab-python\n",
        "os.chdir('/content')\n",
        "!git clone https://bitbucket.org/eunjeon/mecab-python-0.996.git\n",
        "os.chdir('/content/mecab-python-0.996')\n",
        "!python3 setup.py build\n",
        "!python3 setup.py install"
      ]
    },
    {
      "cell_type": "markdown",
      "source": [
        "- Mecab 한글판을 사용하기 위한 모듈 다운로드"
      ],
      "metadata": {
        "id": "BGx0o1nTQbOV"
      }
    },
    {
      "cell_type": "code",
      "execution_count": null,
      "metadata": {
        "colab": {
          "base_uri": "https://localhost:8080/"
        },
        "id": "IswXXwS8Okj8",
        "outputId": "288880e1-8460-4a4f-ed27-8ca873a83e30"
      },
      "outputs": [
        {
          "output_type": "stream",
          "name": "stdout",
          "text": [
            "0.6.0\n",
            "3.6.0\n"
          ]
        }
      ],
      "source": [
        "# 환경 설정\n",
        "\n",
        "import glob\n",
        "import os\n",
        "import re\n",
        "import numpy as np\n",
        "import pandas as pd\n",
        "import konlpy\n",
        "\n",
        "from collections import Counter\n",
        "\n",
        "import urllib.request\n",
        "from konlpy.tag import Okt, Mecab\n",
        "\n",
        "import tensorflow as tf\n",
        "from tensorflow import keras\n",
        "from tensorflow.keras.preprocessing.text import Tokenizer\n",
        "from tensorflow.keras.preprocessing.sequence import pad_sequences\n",
        "from tensorflow.keras.initializers import Constant\n",
        "\n",
        "import gensim\n",
        "from gensim.models import KeyedVectors\n",
        "from sklearn.model_selection import train_test_split\n",
        "\n",
        "from keras.layers import Bidirectional, LSTM, GRU, Dense, Conv1D\n",
        "from keras.layers import Embedding, MaxPooling1D, GlobalMaxPooling1D\n",
        "from keras.layers import Dropout\n",
        "from keras.callbacks import EarlyStopping\n",
        "\n",
        "import seaborn as sns\n",
        "import matplotlib.pyplot as plt\n",
        "%matplotlib inline\n",
        "\n",
        "print(konlpy.__version__)\n",
        "print(gensim.__version__)\n",
        "# 훈련 데이터, 테스트 데이터 준비\n",
        "# ~ 이 HOME\n",
        "train_data = pd.read_table('/content/drive/MyDrive/exploration/Ex8/ratings_train.txt')\n",
        "test_data = pd.read_table('/content/drive/MyDrive/exploration/Ex8/ratings_test.txt')"
      ]
    },
    {
      "cell_type": "code",
      "execution_count": null,
      "metadata": {
        "colab": {
          "base_uri": "https://localhost:8080/",
          "height": 267
        },
        "id": "lK3mlSy6yiOV",
        "outputId": "492e178c-08a9-482a-c787-06574212eaa4"
      },
      "outputs": [
        {
          "output_type": "execute_result",
          "data": {
            "text/plain": [
              "         id                                           document  label\n",
              "0   9976970                                아 더빙.. 진짜 짜증나네요 목소리      0\n",
              "1   3819312                  흠...포스터보고 초딩영화줄....오버연기조차 가볍지 않구나      1\n",
              "2  10265843                                  너무재밓었다그래서보는것을추천한다      0\n",
              "3   9045019                      교도소 이야기구먼 ..솔직히 재미는 없다..평점 조정      0\n",
              "4   6483659  사이몬페그의 익살스런 연기가 돋보였던 영화!스파이더맨에서 늙어보이기만 했던 커스틴 ...      1"
            ],
            "text/html": [
              "\n",
              "  <div id=\"df-8051febf-228c-4aa4-9673-d757377fad0d\">\n",
              "    <div class=\"colab-df-container\">\n",
              "      <div>\n",
              "<style scoped>\n",
              "    .dataframe tbody tr th:only-of-type {\n",
              "        vertical-align: middle;\n",
              "    }\n",
              "\n",
              "    .dataframe tbody tr th {\n",
              "        vertical-align: top;\n",
              "    }\n",
              "\n",
              "    .dataframe thead th {\n",
              "        text-align: right;\n",
              "    }\n",
              "</style>\n",
              "<table border=\"1\" class=\"dataframe\">\n",
              "  <thead>\n",
              "    <tr style=\"text-align: right;\">\n",
              "      <th></th>\n",
              "      <th>id</th>\n",
              "      <th>document</th>\n",
              "      <th>label</th>\n",
              "    </tr>\n",
              "  </thead>\n",
              "  <tbody>\n",
              "    <tr>\n",
              "      <th>0</th>\n",
              "      <td>9976970</td>\n",
              "      <td>아 더빙.. 진짜 짜증나네요 목소리</td>\n",
              "      <td>0</td>\n",
              "    </tr>\n",
              "    <tr>\n",
              "      <th>1</th>\n",
              "      <td>3819312</td>\n",
              "      <td>흠...포스터보고 초딩영화줄....오버연기조차 가볍지 않구나</td>\n",
              "      <td>1</td>\n",
              "    </tr>\n",
              "    <tr>\n",
              "      <th>2</th>\n",
              "      <td>10265843</td>\n",
              "      <td>너무재밓었다그래서보는것을추천한다</td>\n",
              "      <td>0</td>\n",
              "    </tr>\n",
              "    <tr>\n",
              "      <th>3</th>\n",
              "      <td>9045019</td>\n",
              "      <td>교도소 이야기구먼 ..솔직히 재미는 없다..평점 조정</td>\n",
              "      <td>0</td>\n",
              "    </tr>\n",
              "    <tr>\n",
              "      <th>4</th>\n",
              "      <td>6483659</td>\n",
              "      <td>사이몬페그의 익살스런 연기가 돋보였던 영화!스파이더맨에서 늙어보이기만 했던 커스틴 ...</td>\n",
              "      <td>1</td>\n",
              "    </tr>\n",
              "  </tbody>\n",
              "</table>\n",
              "</div>\n",
              "      <button class=\"colab-df-convert\" onclick=\"convertToInteractive('df-8051febf-228c-4aa4-9673-d757377fad0d')\"\n",
              "              title=\"Convert this dataframe to an interactive table.\"\n",
              "              style=\"display:none;\">\n",
              "        \n",
              "  <svg xmlns=\"http://www.w3.org/2000/svg\" height=\"24px\"viewBox=\"0 0 24 24\"\n",
              "       width=\"24px\">\n",
              "    <path d=\"M0 0h24v24H0V0z\" fill=\"none\"/>\n",
              "    <path d=\"M18.56 5.44l.94 2.06.94-2.06 2.06-.94-2.06-.94-.94-2.06-.94 2.06-2.06.94zm-11 1L8.5 8.5l.94-2.06 2.06-.94-2.06-.94L8.5 2.5l-.94 2.06-2.06.94zm10 10l.94 2.06.94-2.06 2.06-.94-2.06-.94-.94-2.06-.94 2.06-2.06.94z\"/><path d=\"M17.41 7.96l-1.37-1.37c-.4-.4-.92-.59-1.43-.59-.52 0-1.04.2-1.43.59L10.3 9.45l-7.72 7.72c-.78.78-.78 2.05 0 2.83L4 21.41c.39.39.9.59 1.41.59.51 0 1.02-.2 1.41-.59l7.78-7.78 2.81-2.81c.8-.78.8-2.07 0-2.86zM5.41 20L4 18.59l7.72-7.72 1.47 1.35L5.41 20z\"/>\n",
              "  </svg>\n",
              "      </button>\n",
              "      \n",
              "  <style>\n",
              "    .colab-df-container {\n",
              "      display:flex;\n",
              "      flex-wrap:wrap;\n",
              "      gap: 12px;\n",
              "    }\n",
              "\n",
              "    .colab-df-convert {\n",
              "      background-color: #E8F0FE;\n",
              "      border: none;\n",
              "      border-radius: 50%;\n",
              "      cursor: pointer;\n",
              "      display: none;\n",
              "      fill: #1967D2;\n",
              "      height: 32px;\n",
              "      padding: 0 0 0 0;\n",
              "      width: 32px;\n",
              "    }\n",
              "\n",
              "    .colab-df-convert:hover {\n",
              "      background-color: #E2EBFA;\n",
              "      box-shadow: 0px 1px 2px rgba(60, 64, 67, 0.3), 0px 1px 3px 1px rgba(60, 64, 67, 0.15);\n",
              "      fill: #174EA6;\n",
              "    }\n",
              "\n",
              "    [theme=dark] .colab-df-convert {\n",
              "      background-color: #3B4455;\n",
              "      fill: #D2E3FC;\n",
              "    }\n",
              "\n",
              "    [theme=dark] .colab-df-convert:hover {\n",
              "      background-color: #434B5C;\n",
              "      box-shadow: 0px 1px 3px 1px rgba(0, 0, 0, 0.15);\n",
              "      filter: drop-shadow(0px 1px 2px rgba(0, 0, 0, 0.3));\n",
              "      fill: #FFFFFF;\n",
              "    }\n",
              "  </style>\n",
              "\n",
              "      <script>\n",
              "        const buttonEl =\n",
              "          document.querySelector('#df-8051febf-228c-4aa4-9673-d757377fad0d button.colab-df-convert');\n",
              "        buttonEl.style.display =\n",
              "          google.colab.kernel.accessAllowed ? 'block' : 'none';\n",
              "\n",
              "        async function convertToInteractive(key) {\n",
              "          const element = document.querySelector('#df-8051febf-228c-4aa4-9673-d757377fad0d');\n",
              "          const dataTable =\n",
              "            await google.colab.kernel.invokeFunction('convertToInteractive',\n",
              "                                                     [key], {});\n",
              "          if (!dataTable) return;\n",
              "\n",
              "          const docLinkHtml = 'Like what you see? Visit the ' +\n",
              "            '<a target=\"_blank\" href=https://colab.research.google.com/notebooks/data_table.ipynb>data table notebook</a>'\n",
              "            + ' to learn more about interactive tables.';\n",
              "          element.innerHTML = '';\n",
              "          dataTable['output_type'] = 'display_data';\n",
              "          await google.colab.output.renderOutput(dataTable, element);\n",
              "          const docLink = document.createElement('div');\n",
              "          docLink.innerHTML = docLinkHtml;\n",
              "          element.appendChild(docLink);\n",
              "        }\n",
              "      </script>\n",
              "    </div>\n",
              "  </div>\n",
              "  "
            ]
          },
          "metadata": {},
          "execution_count": 34
        }
      ],
      "source": [
        "# 훈련 데이터 살펴보기\n",
        "train_data.head()"
      ]
    },
    {
      "cell_type": "code",
      "execution_count": null,
      "metadata": {
        "colab": {
          "base_uri": "https://localhost:8080/",
          "height": 267
        },
        "id": "FEJq0XX_yk2w",
        "outputId": "f7838fac-808c-4795-bb97-8b4af77e7258"
      },
      "outputs": [
        {
          "output_type": "execute_result",
          "data": {
            "text/plain": [
              "        id                                           document  label\n",
              "0  6270596                                                굳 ㅋ      1\n",
              "1  9274899                               GDNTOPCLASSINTHECLUB      0\n",
              "2  8544678             뭐야 이 평점들은.... 나쁘진 않지만 10점 짜리는 더더욱 아니잖아      0\n",
              "3  6825595                   지루하지는 않은데 완전 막장임... 돈주고 보기에는....      0\n",
              "4  6723715  3D만 아니었어도 별 다섯 개 줬을텐데.. 왜 3D로 나와서 제 심기를 불편하게 하죠??      0"
            ],
            "text/html": [
              "\n",
              "  <div id=\"df-08ad5ecd-7da0-45f8-a16c-9685b2f8ed8d\">\n",
              "    <div class=\"colab-df-container\">\n",
              "      <div>\n",
              "<style scoped>\n",
              "    .dataframe tbody tr th:only-of-type {\n",
              "        vertical-align: middle;\n",
              "    }\n",
              "\n",
              "    .dataframe tbody tr th {\n",
              "        vertical-align: top;\n",
              "    }\n",
              "\n",
              "    .dataframe thead th {\n",
              "        text-align: right;\n",
              "    }\n",
              "</style>\n",
              "<table border=\"1\" class=\"dataframe\">\n",
              "  <thead>\n",
              "    <tr style=\"text-align: right;\">\n",
              "      <th></th>\n",
              "      <th>id</th>\n",
              "      <th>document</th>\n",
              "      <th>label</th>\n",
              "    </tr>\n",
              "  </thead>\n",
              "  <tbody>\n",
              "    <tr>\n",
              "      <th>0</th>\n",
              "      <td>6270596</td>\n",
              "      <td>굳 ㅋ</td>\n",
              "      <td>1</td>\n",
              "    </tr>\n",
              "    <tr>\n",
              "      <th>1</th>\n",
              "      <td>9274899</td>\n",
              "      <td>GDNTOPCLASSINTHECLUB</td>\n",
              "      <td>0</td>\n",
              "    </tr>\n",
              "    <tr>\n",
              "      <th>2</th>\n",
              "      <td>8544678</td>\n",
              "      <td>뭐야 이 평점들은.... 나쁘진 않지만 10점 짜리는 더더욱 아니잖아</td>\n",
              "      <td>0</td>\n",
              "    </tr>\n",
              "    <tr>\n",
              "      <th>3</th>\n",
              "      <td>6825595</td>\n",
              "      <td>지루하지는 않은데 완전 막장임... 돈주고 보기에는....</td>\n",
              "      <td>0</td>\n",
              "    </tr>\n",
              "    <tr>\n",
              "      <th>4</th>\n",
              "      <td>6723715</td>\n",
              "      <td>3D만 아니었어도 별 다섯 개 줬을텐데.. 왜 3D로 나와서 제 심기를 불편하게 하죠??</td>\n",
              "      <td>0</td>\n",
              "    </tr>\n",
              "  </tbody>\n",
              "</table>\n",
              "</div>\n",
              "      <button class=\"colab-df-convert\" onclick=\"convertToInteractive('df-08ad5ecd-7da0-45f8-a16c-9685b2f8ed8d')\"\n",
              "              title=\"Convert this dataframe to an interactive table.\"\n",
              "              style=\"display:none;\">\n",
              "        \n",
              "  <svg xmlns=\"http://www.w3.org/2000/svg\" height=\"24px\"viewBox=\"0 0 24 24\"\n",
              "       width=\"24px\">\n",
              "    <path d=\"M0 0h24v24H0V0z\" fill=\"none\"/>\n",
              "    <path d=\"M18.56 5.44l.94 2.06.94-2.06 2.06-.94-2.06-.94-.94-2.06-.94 2.06-2.06.94zm-11 1L8.5 8.5l.94-2.06 2.06-.94-2.06-.94L8.5 2.5l-.94 2.06-2.06.94zm10 10l.94 2.06.94-2.06 2.06-.94-2.06-.94-.94-2.06-.94 2.06-2.06.94z\"/><path d=\"M17.41 7.96l-1.37-1.37c-.4-.4-.92-.59-1.43-.59-.52 0-1.04.2-1.43.59L10.3 9.45l-7.72 7.72c-.78.78-.78 2.05 0 2.83L4 21.41c.39.39.9.59 1.41.59.51 0 1.02-.2 1.41-.59l7.78-7.78 2.81-2.81c.8-.78.8-2.07 0-2.86zM5.41 20L4 18.59l7.72-7.72 1.47 1.35L5.41 20z\"/>\n",
              "  </svg>\n",
              "      </button>\n",
              "      \n",
              "  <style>\n",
              "    .colab-df-container {\n",
              "      display:flex;\n",
              "      flex-wrap:wrap;\n",
              "      gap: 12px;\n",
              "    }\n",
              "\n",
              "    .colab-df-convert {\n",
              "      background-color: #E8F0FE;\n",
              "      border: none;\n",
              "      border-radius: 50%;\n",
              "      cursor: pointer;\n",
              "      display: none;\n",
              "      fill: #1967D2;\n",
              "      height: 32px;\n",
              "      padding: 0 0 0 0;\n",
              "      width: 32px;\n",
              "    }\n",
              "\n",
              "    .colab-df-convert:hover {\n",
              "      background-color: #E2EBFA;\n",
              "      box-shadow: 0px 1px 2px rgba(60, 64, 67, 0.3), 0px 1px 3px 1px rgba(60, 64, 67, 0.15);\n",
              "      fill: #174EA6;\n",
              "    }\n",
              "\n",
              "    [theme=dark] .colab-df-convert {\n",
              "      background-color: #3B4455;\n",
              "      fill: #D2E3FC;\n",
              "    }\n",
              "\n",
              "    [theme=dark] .colab-df-convert:hover {\n",
              "      background-color: #434B5C;\n",
              "      box-shadow: 0px 1px 3px 1px rgba(0, 0, 0, 0.15);\n",
              "      filter: drop-shadow(0px 1px 2px rgba(0, 0, 0, 0.3));\n",
              "      fill: #FFFFFF;\n",
              "    }\n",
              "  </style>\n",
              "\n",
              "      <script>\n",
              "        const buttonEl =\n",
              "          document.querySelector('#df-08ad5ecd-7da0-45f8-a16c-9685b2f8ed8d button.colab-df-convert');\n",
              "        buttonEl.style.display =\n",
              "          google.colab.kernel.accessAllowed ? 'block' : 'none';\n",
              "\n",
              "        async function convertToInteractive(key) {\n",
              "          const element = document.querySelector('#df-08ad5ecd-7da0-45f8-a16c-9685b2f8ed8d');\n",
              "          const dataTable =\n",
              "            await google.colab.kernel.invokeFunction('convertToInteractive',\n",
              "                                                     [key], {});\n",
              "          if (!dataTable) return;\n",
              "\n",
              "          const docLinkHtml = 'Like what you see? Visit the ' +\n",
              "            '<a target=\"_blank\" href=https://colab.research.google.com/notebooks/data_table.ipynb>data table notebook</a>'\n",
              "            + ' to learn more about interactive tables.';\n",
              "          element.innerHTML = '';\n",
              "          dataTable['output_type'] = 'display_data';\n",
              "          await google.colab.output.renderOutput(dataTable, element);\n",
              "          const docLink = document.createElement('div');\n",
              "          docLink.innerHTML = docLinkHtml;\n",
              "          element.appendChild(docLink);\n",
              "        }\n",
              "      </script>\n",
              "    </div>\n",
              "  </div>\n",
              "  "
            ]
          },
          "metadata": {},
          "execution_count": 35
        }
      ],
      "source": [
        "# 테스트 데이터 살펴보기\n",
        "test_data.head()"
      ]
    },
    {
      "cell_type": "markdown",
      "source": [
        "- label 값이 0이면 부정적, 1이면 긍정적 반응"
      ],
      "metadata": {
        "id": "_9s2-IZwQm2u"
      }
    },
    {
      "cell_type": "markdown",
      "source": [
        "# 2.데이터로더 구성"
      ],
      "metadata": {
        "id": "MswY1HULRKVH"
      }
    },
    {
      "cell_type": "code",
      "execution_count": null,
      "metadata": {
        "id": "LKLQQdRdywMV"
      },
      "outputs": [],
      "source": [
        "# Mecab으로 토큰화하기\n",
        "\n",
        "tokenizer = Mecab()\n",
        "stopwords = ['의','가','이','은','들','는','좀','잘','걍','과','도','를','으로','자','에','와','한','하다']\n",
        "\n",
        "def load_data(train_data, test_data, num_words=10000):\n",
        "    train_data.drop_duplicates(subset=['document'], inplace=True)\n",
        "    train_data = train_data.dropna(how = 'any') \n",
        "    test_data.drop_duplicates(subset=['document'], inplace=True)\n",
        "    test_data = test_data.dropna(how = 'any') \n",
        "    \n",
        "    X_train = []\n",
        "    for sentence in train_data['document']:\n",
        "        temp_X = tokenizer.morphs(sentence) # 토큰화\n",
        "        temp_X = [word for word in temp_X if not word in stopwords] # 불용어 제거\n",
        "        X_train.append(temp_X)\n",
        "\n",
        "    X_test = []\n",
        "    for sentence in test_data['document']:\n",
        "        temp_X = tokenizer.morphs(sentence) # 토큰화\n",
        "        temp_X = [word for word in temp_X if not word in stopwords] # 불용어 제거\n",
        "        X_test.append(temp_X)\n",
        "    \n",
        "    words = np.concatenate(X_train).tolist()\n",
        "    counter = Counter(words)\n",
        "    counter = counter.most_common(10000-4)\n",
        "    vocab = ['', '', '', ''] + [key for key, _ in counter]\n",
        "    word_to_index = {word:index for index, word in enumerate(vocab)}\n",
        "        \n",
        "    def wordlist_to_indexlist(wordlist):\n",
        "        return [word_to_index[word] if word in word_to_index else word_to_index[''] for word in wordlist]\n",
        "        \n",
        "    X_train = list(map(wordlist_to_indexlist, X_train))\n",
        "    X_test = list(map(wordlist_to_indexlist, X_test))\n",
        "        \n",
        "    return X_train, np.array(list(train_data['label'])), X_test, np.array(list(test_data['label'])), word_to_index\n",
        "    \n",
        "X_train, y_train, X_test, y_test, word_to_index = load_data(train_data, test_data)"
      ]
    },
    {
      "cell_type": "code",
      "source": [
        "# idx2wrd\n",
        "index_to_word = {index:word for word, index in word_to_index.items()}\n",
        "\n",
        "# 모든 문장은 <BOS>로 시작\n",
        "def get_encoded_sentence(sentence, word_to_index):\n",
        "    return [word_to_index['<BOS>']]+[word_to_index[word] if word in word_to_index else word_to_index['<UNK>'] for word in sentence.split()]\n",
        "\n",
        "# 여러 개 문장 리스트 + 딕셔너리 = 인덱스로 변환\n",
        "def get_encoded_sentences(sentences, word_to_index):\n",
        "    return [get_encoded_sentence(sentence, word_to_index) for sentence in sentences]\n",
        "\n",
        "# 워드벡터 디코딩\n",
        "def get_decoded_sentence(encoded_sentence, index_to_word):\n",
        "    return ' '.join(index_to_word[index] if index in index_to_word else '<UNK>' for index in encoded_sentence[1:])  #[1:]를 통해 <BOS>를 제외\n",
        "\n",
        "# 여러 개 문장 디코딩\n",
        "def get_decoded_sentences(encoded_sentences, index_to_word):\n",
        "    return [get_decoded_sentence(encoded_sentence, index_to_word) for encoded_sentence in encoded_sentences]"
      ],
      "metadata": {
        "colab": {
          "base_uri": "https://localhost:8080/",
          "height": 245
        },
        "id": "qquKNRoAQ2R_",
        "outputId": "50ec590b-baca-4ade-ff7d-403b5b2c7173"
      },
      "execution_count": null,
      "outputs": [
        {
          "output_type": "error",
          "ename": "AttributeError",
          "evalue": "ignored",
          "traceback": [
            "\u001b[0;31m---------------------------------------------------------------------------\u001b[0m",
            "\u001b[0;31mAttributeError\u001b[0m                            Traceback (most recent call last)",
            "\u001b[0;32m<ipython-input-121-785d41b7eab4>\u001b[0m in \u001b[0;36m<module>\u001b[0;34m\u001b[0m\n\u001b[1;32m      1\u001b[0m \u001b[0;31m# idx2wrd\u001b[0m\u001b[0;34m\u001b[0m\u001b[0;34m\u001b[0m\u001b[0;34m\u001b[0m\u001b[0m\n\u001b[0;32m----> 2\u001b[0;31m \u001b[0mindex_to_word\u001b[0m \u001b[0;34m=\u001b[0m \u001b[0;34m{\u001b[0m\u001b[0mindex\u001b[0m\u001b[0;34m:\u001b[0m\u001b[0mword\u001b[0m \u001b[0;32mfor\u001b[0m \u001b[0mword\u001b[0m\u001b[0;34m,\u001b[0m \u001b[0mindex\u001b[0m \u001b[0;32min\u001b[0m \u001b[0mword_to_index\u001b[0m\u001b[0;34m.\u001b[0m\u001b[0mitems\u001b[0m\u001b[0;34m(\u001b[0m\u001b[0;34m)\u001b[0m\u001b[0;34m}\u001b[0m\u001b[0;34m\u001b[0m\u001b[0;34m\u001b[0m\u001b[0m\n\u001b[0m\u001b[1;32m      3\u001b[0m \u001b[0;34m\u001b[0m\u001b[0m\n\u001b[1;32m      4\u001b[0m \u001b[0;31m# 모든 문장은 <BOS>로 시작\u001b[0m\u001b[0;34m\u001b[0m\u001b[0;34m\u001b[0m\u001b[0;34m\u001b[0m\u001b[0m\n\u001b[1;32m      5\u001b[0m \u001b[0;32mdef\u001b[0m \u001b[0mget_encoded_sentence\u001b[0m\u001b[0;34m(\u001b[0m\u001b[0msentence\u001b[0m\u001b[0;34m,\u001b[0m \u001b[0mword_to_index\u001b[0m\u001b[0;34m)\u001b[0m\u001b[0;34m:\u001b[0m\u001b[0;34m\u001b[0m\u001b[0;34m\u001b[0m\u001b[0m\n",
            "\u001b[0;31mAttributeError\u001b[0m: type object 'list' has no attribute 'items'"
          ]
        }
      ]
    },
    {
      "cell_type": "code",
      "execution_count": null,
      "metadata": {
        "colab": {
          "base_uri": "https://localhost:8080/",
          "height": 281
        },
        "id": "TnrFbElVuodo",
        "outputId": "9b7cabf7-d686-4e97-b98e-4f9434cb8067"
      },
      "outputs": [
        {
          "output_type": "stream",
          "name": "stdout",
          "text": [
            "146182\n",
            "146182\n",
            "49157\n",
            "49157\n"
          ]
        },
        {
          "output_type": "error",
          "ename": "TypeError",
          "evalue": "ignored",
          "traceback": [
            "\u001b[0;31m---------------------------------------------------------------------------\u001b[0m",
            "\u001b[0;31mTypeError\u001b[0m                                 Traceback (most recent call last)",
            "\u001b[0;32m<ipython-input-120-3c415ca15cfb>\u001b[0m in \u001b[0;36m<module>\u001b[0;34m\u001b[0m\n\u001b[1;32m      3\u001b[0m \u001b[0mprint\u001b[0m\u001b[0;34m(\u001b[0m\u001b[0mlen\u001b[0m\u001b[0;34m(\u001b[0m\u001b[0mX_test\u001b[0m\u001b[0;34m)\u001b[0m\u001b[0;34m)\u001b[0m\u001b[0;34m\u001b[0m\u001b[0;34m\u001b[0m\u001b[0m\n\u001b[1;32m      4\u001b[0m \u001b[0mprint\u001b[0m\u001b[0;34m(\u001b[0m\u001b[0mlen\u001b[0m\u001b[0;34m(\u001b[0m\u001b[0my_test\u001b[0m\u001b[0;34m)\u001b[0m\u001b[0;34m)\u001b[0m\u001b[0;34m\u001b[0m\u001b[0;34m\u001b[0m\u001b[0m\n\u001b[0;32m----> 5\u001b[0;31m \u001b[0mprint\u001b[0m\u001b[0;34m(\u001b[0m\u001b[0;34m'word_to_index : '\u001b[0m\u001b[0;34m,\u001b[0m\u001b[0mlen\u001b[0m\u001b[0;34m(\u001b[0m\u001b[0mword_to_index\u001b[0m\u001b[0;34m)\u001b[0m\u001b[0;34m,\u001b[0m \u001b[0mtype\u001b[0m\u001b[0;34m(\u001b[0m\u001b[0mword_to_index\u001b[0m\u001b[0;34m)\u001b[0m\u001b[0;34m)\u001b[0m\u001b[0;34m\u001b[0m\u001b[0;34m\u001b[0m\u001b[0m\n\u001b[0m",
            "\u001b[0;31mTypeError\u001b[0m: object of type 'type' has no len()"
          ]
        }
      ],
      "source": [
        "print(len(X_train)) \n",
        "print(len(y_train)) \n",
        "print(len(X_test))\n",
        "print(len(y_test))\n",
        "print('word_to_index : ',len(word_to_index), type(word_to_index))"
      ]
    },
    {
      "cell_type": "code",
      "execution_count": null,
      "metadata": {
        "id": "BKD-Jt5TzBF6"
      },
      "outputs": [],
      "source": [
        "word_to_index"
      ]
    },
    {
      "cell_type": "markdown",
      "source": [
        "- 토큰 index 확인"
      ],
      "metadata": {
        "id": "EYsw_Q6pRbht"
      }
    },
    {
      "cell_type": "code",
      "execution_count": null,
      "metadata": {
        "id": "TznJGOdD0CSA"
      },
      "outputs": [],
      "source": [
        "word_to_index[\"<PAD>\"] = 0  # 패딩\n",
        "word_to_index[\"<BOS>\"] = 1  # 모든 문장의 시작\n",
        "word_to_index[\"<UNK>\"] = 2  # Unknown을 의미"
      ]
    },
    {
      "cell_type": "code",
      "execution_count": null,
      "metadata": {
        "id": "J9Q7-1Ey0EhI"
      },
      "outputs": [],
      "source": [
        "index_to_word = {index:word for word, index in word_to_index.items()}"
      ]
    },
    {
      "cell_type": "code",
      "execution_count": null,
      "metadata": {
        "colab": {
          "background_save": true
        },
        "id": "T5uP_S0l0GxJ"
      },
      "outputs": [],
      "source": [
        "# 문장 1개를 활용할 딕셔너리와 함께 주면 단어 인덱스 리스트 벡터로 변환해 주는 함수 \n",
        "# 모든 문장은 <BOS>로 시작하도록 설정\n",
        "def get_encoded_sentence(sentence, word_to_index):\n",
        "    return [word_to_index['<BOS>']]+[word_to_index[word] if word in word_to_index else word_to_index['<UNK>'] for word in sentence.split()]\n",
        "\n",
        "# 여러 개의 문장 리스트를 한꺼번에 단어 인덱스 리스트 벡터로 encode해 주는 함수\n",
        "def get_encoded_sentences(sentences, word_to_index):\n",
        "    return [get_encoded_sentence(sentence, word_to_index) for sentence in sentences]\n",
        "\n",
        "# 숫자 벡터로 encode된 문장을 원래대로 decode하는 함수\n",
        "def get_decoded_sentence(encoded_sentence, index_to_word):\n",
        "    return ' '.join(index_to_word[index] if index in index_to_word else '<UNK>' for index in encoded_sentence[1:])  #[1:]를 통해 <BOS>를 제외\n",
        "\n",
        "# 여러 개의 숫자 벡터로 encode된 문장을 한꺼번에 원래대로 decode해 주는 함수\n",
        "def get_decoded_sentences(encoded_sentences, index_to_word):\n",
        "    return [get_decoded_sentence(encoded_sentence, index_to_word) for encoded_sentence in encoded_sentences]"
      ]
    },
    {
      "cell_type": "markdown",
      "metadata": {
        "id": "3k4BWQfh0Jt3"
      },
      "source": [
        "# 3.데이터 가공"
      ]
    },
    {
      "cell_type": "code",
      "execution_count": null,
      "metadata": {
        "colab": {
          "base_uri": "https://localhost:8080/"
        },
        "id": "sZKi-4sU0LPJ",
        "outputId": "6fa094f5-f88d-41a0-872c-374956aa8a48"
      },
      "outputs": [
        {
          "output_type": "stream",
          "name": "stdout",
          "text": [
            "평균:  15.969376315021577\n",
            "최대값:  116\n",
            "표준편차:  12.843535456326455\n",
            "최대길이:  41\n",
            "전체 문장의 93.065%가 포함됨\n"
          ]
        }
      ],
      "source": [
        "total_text_len = list(X_train) + list(X_test)\n",
        "\n",
        "# 텍스트데이터 문장 길이 리스트 생성\n",
        "num_tokens = [len(tokens) for tokens in total_text_len]\n",
        "num_tokens = np.array(num_tokens)\n",
        "\n",
        "# 문장길이의 평균값, 최대값, 표준편차 계산\n",
        "print('평균: ', np.mean(num_tokens))\n",
        "print('최대값: ', np.max(num_tokens))\n",
        "print('표준편차: ', np.std(num_tokens))\n",
        "\n",
        "# 최대 길이 = 평균 + 표준편차*2\n",
        "maxlen = int(np.mean(num_tokens) + np.std(num_tokens)*2)\n",
        "\n",
        "print('최대길이: ', maxlen)\n",
        "print('전체 문장의 {}%가 포함됨'.format(round(np.sum(num_tokens < maxlen)/len(num_tokens)*100, 3)))"
      ]
    },
    {
      "cell_type": "code",
      "execution_count": null,
      "metadata": {
        "colab": {
          "base_uri": "https://localhost:8080/"
        },
        "id": "6xlqjbMC0QxD",
        "outputId": "1aae1ec4-7c48-4bc8-b08f-c5cfe5f7cfbc"
      },
      "outputs": [
        {
          "output_type": "stream",
          "name": "stdout",
          "text": [
            "(146182, 41)\n",
            "(49157, 41)\n"
          ]
        }
      ],
      "source": [
        "# RNN 모델에 맞게 pre 옵션으로 패딩\n",
        "X_train = tf.keras.preprocessing.sequence.pad_sequences(X_train,\n",
        "                                                       value=word_to_index['<PAD>'],\n",
        "                                                       padding='pre',\n",
        "                                                       maxlen=maxlen)\n",
        "\n",
        "X_test = tf.keras.preprocessing.sequence.pad_sequences(X_test,\n",
        "                                                      value=word_to_index['<PAD>'],\n",
        "                                                      padding='pre',\n",
        "                                                      maxlen=maxlen)\n",
        "print(x_train.shape)\n",
        "print(x_test.shape)"
      ]
    },
    {
      "cell_type": "markdown",
      "source": [
        "# 4.학습모델, validation 설정"
      ],
      "metadata": {
        "id": "lEL1PFowR_AY"
      }
    },
    {
      "cell_type": "code",
      "execution_count": null,
      "metadata": {
        "colab": {
          "base_uri": "https://localhost:8080/"
        },
        "id": "3OVd0eSC0S0q",
        "outputId": "b8dd3bc4-ec25-46d7-91ee-f6d5ccafd470"
      },
      "outputs": [
        {
          "output_type": "stream",
          "name": "stdout",
          "text": [
            "Model: \"sequential_3\"\n",
            "_________________________________________________________________\n",
            " Layer (type)                Output Shape              Param #   \n",
            "=================================================================\n",
            " embedding_3 (Embedding)     (None, None, 16)          160000    \n",
            "                                                                 \n",
            " lstm_1 (LSTM)               (None, 8)                 800       \n",
            "                                                                 \n",
            " dense_6 (Dense)             (None, 8)                 72        \n",
            "                                                                 \n",
            " dense_7 (Dense)             (None, 1)                 9         \n",
            "                                                                 \n",
            "=================================================================\n",
            "Total params: 160,881\n",
            "Trainable params: 160,881\n",
            "Non-trainable params: 0\n",
            "_________________________________________________________________\n"
          ]
        }
      ],
      "source": [
        "#RNN모델\n",
        "# 단어사전\n",
        "vocab_size = 10000\n",
        "\n",
        "# 워드임베딩 벡터\n",
        "word_vec_dim = 16\n",
        "\n",
        "# relu, sigmoid RNN\n",
        "model_rnn = tf.keras.Sequential()\n",
        "model_rnn.add(tf.keras.layers.Embedding(vocab_size, word_vec_dim, input_shape=(None,)))\n",
        "model_rnn.add(tf.keras.layers.LSTM(8))\n",
        "model_rnn.add(tf.keras.layers.Dense(8, activation='relu'))\n",
        "model_rnn.add(tf.keras.layers.Dense(1, activation='sigmoid'))\n",
        "\n",
        "model_rnn.summary()"
      ]
    },
    {
      "cell_type": "code",
      "source": [
        "# CNN 모델\n",
        "model_cnn = tf.keras.Sequential()\n",
        "model_cnn.add(tf.keras.layers.Embedding(vocab_size, word_vec_dim, input_shape=(None,)))\n",
        "model_cnn.add(tf.keras.layers.Conv1D(16, 7, activation='relu'))\n",
        "model_cnn.add(tf.keras.layers.MaxPooling1D(5))\n",
        "model_cnn.add(tf.keras.layers.Conv1D(16, 7, activation='relu'))\n",
        "model_cnn.add(tf.keras.layers.GlobalMaxPooling1D())\n",
        "model_cnn.add(tf.keras.layers.Dense(8, activation='relu'))\n",
        "model_cnn.add(tf.keras.layers.Dense(1, activation='sigmoid'))\n",
        "\n",
        "model_cnn.summary()"
      ],
      "metadata": {
        "colab": {
          "base_uri": "https://localhost:8080/"
        },
        "id": "a5M0T2iXSTsB",
        "outputId": "a3b1bebb-e73c-4478-9959-cd7752834bfc"
      },
      "execution_count": null,
      "outputs": [
        {
          "output_type": "stream",
          "name": "stdout",
          "text": [
            "Model: \"sequential_4\"\n",
            "_________________________________________________________________\n",
            " Layer (type)                Output Shape              Param #   \n",
            "=================================================================\n",
            " embedding_4 (Embedding)     (None, None, 16)          160000    \n",
            "                                                                 \n",
            " conv1d_2 (Conv1D)           (None, None, 16)          1808      \n",
            "                                                                 \n",
            " max_pooling1d_1 (MaxPooling  (None, None, 16)         0         \n",
            " 1D)                                                             \n",
            "                                                                 \n",
            " conv1d_3 (Conv1D)           (None, None, 16)          1808      \n",
            "                                                                 \n",
            " global_max_pooling1d_2 (Glo  (None, 16)               0         \n",
            " balMaxPooling1D)                                                \n",
            "                                                                 \n",
            " dense_8 (Dense)             (None, 8)                 136       \n",
            "                                                                 \n",
            " dense_9 (Dense)             (None, 1)                 9         \n",
            "                                                                 \n",
            "=================================================================\n",
            "Total params: 163,761\n",
            "Trainable params: 163,761\n",
            "Non-trainable params: 0\n",
            "_________________________________________________________________\n"
          ]
        }
      ]
    },
    {
      "cell_type": "code",
      "source": [
        "# Global Maxpooling 모델\n",
        "model_gmp = tf.keras.Sequential()\n",
        "model_gmp.add(tf.keras.layers.Embedding(vocab_size, word_vec_dim, input_shape=(None,)))\n",
        "model_gmp.add(tf.keras.layers.GlobalMaxPooling1D())\n",
        "model_gmp.add(tf.keras.layers.Dense(8, activation='relu'))\n",
        "model_gmp.add(tf.keras.layers.Dense(1, activation='sigmoid'))\n",
        "\n",
        "model_gmp.summary()"
      ],
      "metadata": {
        "colab": {
          "base_uri": "https://localhost:8080/"
        },
        "id": "Mpsqyw5-Sdsw",
        "outputId": "4119e298-84af-4ea5-c5eb-980bf48d6011"
      },
      "execution_count": null,
      "outputs": [
        {
          "output_type": "stream",
          "name": "stdout",
          "text": [
            "Model: \"sequential_5\"\n",
            "_________________________________________________________________\n",
            " Layer (type)                Output Shape              Param #   \n",
            "=================================================================\n",
            " embedding_5 (Embedding)     (None, None, 16)          160000    \n",
            "                                                                 \n",
            " global_max_pooling1d_3 (Glo  (None, 16)               0         \n",
            " balMaxPooling1D)                                                \n",
            "                                                                 \n",
            " dense_10 (Dense)            (None, 8)                 136       \n",
            "                                                                 \n",
            " dense_11 (Dense)            (None, 1)                 9         \n",
            "                                                                 \n",
            "=================================================================\n",
            "Total params: 160,145\n",
            "Trainable params: 160,145\n",
            "Non-trainable params: 0\n",
            "_________________________________________________________________\n"
          ]
        }
      ]
    },
    {
      "cell_type": "code",
      "source": [
        "partial_x, x_val, partial_y, y_val = train_test_split(X_train, y_train, test_size=0.2, random_state=17)"
      ],
      "metadata": {
        "id": "c5gXMfipStW6"
      },
      "execution_count": null,
      "outputs": []
    },
    {
      "cell_type": "markdown",
      "source": [
        "# 5.모델 학습과 시각화"
      ],
      "metadata": {
        "id": "cwTWMXHuS3vX"
      }
    },
    {
      "cell_type": "code",
      "source": [
        "# visualization Loss & Accuracy by epochs\n",
        "def visualization(history):\n",
        "    history_dict = history.history\n",
        "\n",
        "    acc = history_dict['accuracy']\n",
        "    val_acc = history_dict['val_accuracy']\n",
        "    loss = history_dict['loss']\n",
        "    val_loss = history_dict['val_loss']\n",
        "\n",
        "    epochs = range(1, len(acc) + 1)\n",
        "    \n",
        "    # Loss\n",
        "    plt.plot(epochs, loss, 'bo', label='Training loss')\n",
        "    plt.plot(epochs, val_loss, 'b', label='Validation loss')\n",
        "    plt.title('Training and validation loss')\n",
        "    plt.xlabel('Epochs')\n",
        "    plt.ylabel('Loss')\n",
        "    plt.legend()\n",
        "    plt.show()\n",
        "    \n",
        "    # Accuracy\n",
        "    plt.clf()\n",
        "    plt.plot(epochs, acc, 'bo', label='Training acc')\n",
        "    plt.plot(epochs, val_acc, 'b', label='Validation acc')\n",
        "    plt.title('Training and validation accuracy')\n",
        "    plt.xlabel('Epochs')\n",
        "    plt.ylabel('Accuracy')\n",
        "    plt.legend()\n",
        "    plt.show()\n",
        "\n",
        "# model을 훈련시키고 평가해보는 함수\n",
        "def fitting_machine(model,epoch):\n",
        "    # model compile\n",
        "    model = model\n",
        "    model.compile(optimizer='adam',\n",
        "              loss='binary_crossentropy',\n",
        "              metrics=['accuracy'])\n",
        "    \n",
        "    # model training and recording history\n",
        "    history = model.fit(partial_x,\n",
        "                        partial_y,\n",
        "                        epochs=epoch,\n",
        "                        batch_size=512,\n",
        "                        validation_data=(x_val, y_val),\n",
        "                        verbose=1)\n",
        "    # print result\n",
        "    results = model.evaluate(X_test,  y_test, verbose=2)\n",
        "    print(f'\\nThis is {model.name}\\nLoss: {results[0]}\\nAccurancy: {results[1]}\\n')\n",
        "    \n",
        "    return history"
      ],
      "metadata": {
        "id": "20JzvyyDS-jJ"
      },
      "execution_count": null,
      "outputs": []
    },
    {
      "cell_type": "code",
      "source": [
        "# RNN\n",
        "rnn_history = fitting_machine(model_rnn, 5)"
      ],
      "metadata": {
        "colab": {
          "base_uri": "https://localhost:8080/"
        },
        "id": "Kpun_9xuTBj0",
        "outputId": "91b451d5-9f53-4c7a-a81a-b315ff55f0d4"
      },
      "execution_count": null,
      "outputs": [
        {
          "output_type": "stream",
          "name": "stdout",
          "text": [
            "Epoch 1/5\n",
            "229/229 [==============================] - 3s 8ms/step - loss: 0.4950 - accuracy: 0.7847 - val_loss: 0.3758 - val_accuracy: 0.8396\n",
            "Epoch 2/5\n",
            "229/229 [==============================] - 1s 6ms/step - loss: 0.3416 - accuracy: 0.8571 - val_loss: 0.3598 - val_accuracy: 0.8444\n",
            "Epoch 3/5\n",
            "229/229 [==============================] - 1s 6ms/step - loss: 0.3179 - accuracy: 0.8687 - val_loss: 0.3572 - val_accuracy: 0.8452\n",
            "Epoch 4/5\n",
            "229/229 [==============================] - 1s 6ms/step - loss: 0.3056 - accuracy: 0.8741 - val_loss: 0.3581 - val_accuracy: 0.8453\n",
            "Epoch 5/5\n",
            "229/229 [==============================] - 2s 7ms/step - loss: 0.2963 - accuracy: 0.8777 - val_loss: 0.3588 - val_accuracy: 0.8456\n",
            "1537/1537 - 4s - loss: 0.3579 - accuracy: 0.8453 - 4s/epoch - 2ms/step\n",
            "\n",
            "This is sequential_3\n",
            "Loss: 0.3578675091266632\n",
            "Accurancy: 0.8452916145324707\n",
            "\n"
          ]
        }
      ]
    },
    {
      "cell_type": "code",
      "source": [
        "# CNN\n",
        "cnn_history = fitting_machine(model_cnn, 5)"
      ],
      "metadata": {
        "colab": {
          "base_uri": "https://localhost:8080/"
        },
        "id": "gzoEtY6iTCCu",
        "outputId": "5c033dbc-eeb4-49e9-82d0-6e54518b2c97"
      },
      "execution_count": null,
      "outputs": [
        {
          "output_type": "stream",
          "name": "stdout",
          "text": [
            "Epoch 1/5\n",
            "229/229 [==============================] - 2s 6ms/step - loss: 0.5080 - accuracy: 0.7437 - val_loss: 0.3673 - val_accuracy: 0.8395\n",
            "Epoch 2/5\n",
            "229/229 [==============================] - 1s 5ms/step - loss: 0.3301 - accuracy: 0.8594 - val_loss: 0.3522 - val_accuracy: 0.8468\n",
            "Epoch 3/5\n",
            "229/229 [==============================] - 1s 5ms/step - loss: 0.2962 - accuracy: 0.8770 - val_loss: 0.3481 - val_accuracy: 0.8495\n",
            "Epoch 4/5\n",
            "229/229 [==============================] - 1s 5ms/step - loss: 0.2687 - accuracy: 0.8913 - val_loss: 0.3583 - val_accuracy: 0.8476\n",
            "Epoch 5/5\n",
            "229/229 [==============================] - 1s 5ms/step - loss: 0.2405 - accuracy: 0.9047 - val_loss: 0.3624 - val_accuracy: 0.8510\n",
            "1537/1537 - 3s - loss: 0.3632 - accuracy: 0.8502 - 3s/epoch - 2ms/step\n",
            "\n",
            "This is sequential_4\n",
            "Loss: 0.36317139863967896\n",
            "Accurancy: 0.8502349853515625\n",
            "\n"
          ]
        }
      ]
    },
    {
      "cell_type": "code",
      "source": [
        "# Global Maxpooling\n",
        "gmp_history = fitting_machine(model_gmp, 5)"
      ],
      "metadata": {
        "colab": {
          "base_uri": "https://localhost:8080/"
        },
        "id": "7ZYYCC6-TDo3",
        "outputId": "2afaff4c-a6b9-477a-99b9-079c074d95c8"
      },
      "execution_count": null,
      "outputs": [
        {
          "output_type": "stream",
          "name": "stdout",
          "text": [
            "Epoch 1/5\n",
            "229/229 [==============================] - 1s 4ms/step - loss: 0.5954 - accuracy: 0.7506 - val_loss: 0.4459 - val_accuracy: 0.8114\n",
            "Epoch 2/5\n",
            "229/229 [==============================] - 1s 4ms/step - loss: 0.3853 - accuracy: 0.8335 - val_loss: 0.3769 - val_accuracy: 0.8339\n",
            "Epoch 3/5\n",
            "229/229 [==============================] - 1s 4ms/step - loss: 0.3343 - accuracy: 0.8576 - val_loss: 0.3660 - val_accuracy: 0.8393\n",
            "Epoch 4/5\n",
            "229/229 [==============================] - 1s 4ms/step - loss: 0.3077 - accuracy: 0.8708 - val_loss: 0.3656 - val_accuracy: 0.8396\n",
            "Epoch 5/5\n",
            "229/229 [==============================] - 1s 4ms/step - loss: 0.2883 - accuracy: 0.8806 - val_loss: 0.3690 - val_accuracy: 0.8402\n",
            "1537/1537 - 2s - loss: 0.3697 - accuracy: 0.8380 - 2s/epoch - 2ms/step\n",
            "\n",
            "This is sequential_5\n",
            "Loss: 0.3696741461753845\n",
            "Accurancy: 0.8379681706428528\n",
            "\n"
          ]
        }
      ]
    },
    {
      "cell_type": "code",
      "source": [
        "# rnn\n",
        "visualization(rnn_history)"
      ],
      "metadata": {
        "colab": {
          "base_uri": "https://localhost:8080/",
          "height": 573
        },
        "id": "g-MJI5svTaCv",
        "outputId": "27640b12-d023-43d3-d72d-3ba8976d5255"
      },
      "execution_count": null,
      "outputs": [
        {
          "output_type": "display_data",
          "data": {
            "text/plain": [
              "<Figure size 432x288 with 1 Axes>"
            ],
            "image/png": "[encoded data removed]"
          },
          "metadata": {
            "needs_background": "light"
          }
        },
        {
          "output_type": "display_data",
          "data": {
            "text/plain": [
              "<Figure size 432x288 with 1 Axes>"
            ],
            "image/png": "[encoded data removed]"
          },
          "metadata": {
            "needs_background": "light"
          }
        }
      ]
    },
    {
      "cell_type": "code",
      "source": [
        "visualization(cnn_history)"
      ],
      "metadata": {
        "colab": {
          "base_uri": "https://localhost:8080/",
          "height": 573
        },
        "id": "RqPipSy0TjBS",
        "outputId": "d4c9f2d3-7045-44a9-9f70-c0a0e3d666a0"
      },
      "execution_count": null,
      "outputs": [
        {
          "output_type": "display_data",
          "data": {
            "text/plain": [
              "<Figure size 432x288 with 1 Axes>"
            ],
            "image/png": "[encoded data removed]"
          },
          "metadata": {
            "needs_background": "light"
          }
        },
        {
          "output_type": "display_data",
          "data": {
            "text/plain": [
              "<Figure size 432x288 with 1 Axes>"
            ],
            "image/png": "[encoded data removed]"
          },
          "metadata": {
            "needs_background": "light"
          }
        }
      ]
    },
    {
      "cell_type": "code",
      "source": [
        "visualization(gmp_history)"
      ],
      "metadata": {
        "colab": {
          "base_uri": "https://localhost:8080/",
          "height": 573
        },
        "id": "gFoEF216TkgE",
        "outputId": "98786d91-f504-4bd5-94c6-8d1edeb48a5b"
      },
      "execution_count": null,
      "outputs": [
        {
          "output_type": "display_data",
          "data": {
            "text/plain": [
              "<Figure size 432x288 with 1 Axes>"
            ],
            "image/png": "[encoded data removed]"
          },
          "metadata": {
            "needs_background": "light"
          }
        },
        {
          "output_type": "display_data",
          "data": {
            "text/plain": [
              "<Figure size 432x288 with 1 Axes>"
            ],
            "image/png": "[encoded data removed]"
          },
          "metadata": {
            "needs_background": "light"
          }
        }
      ]
    },
    {
      "cell_type": "markdown",
      "source": [
        "# RNN"
      ],
      "metadata": {
        "id": "HvAS4dZIXWIg"
      }
    },
    {
      "cell_type": "code",
      "source": [
        "from gensim.models.keyedvectors import Word2VecKeyedVectors\n",
        "\n",
        "embedding_layer = model_rnn.layers[0]\n",
        "weights = embedding_layer.get_weights()[0]\n",
        "vocab_size, word_vector_dim = weights.shape[0], weights.shape[1]\n",
        "\n",
        "word2vec_file_path = '/content/drive/MyDrive/exploration/Ex8/word2vec.txt'\n",
        "f = open(word2vec_file_path, 'w')\n",
        "f.write('{} {}\\n'.format(vocab_size-4, word_vector_dim))\n",
        "\n",
        "vectors = model_rnn.get_weights()[0]\n",
        "for i in range(4,vocab_size):\n",
        "    f.write('{} {}\\n'.format(index_to_word[i], ' '.join(map(str, list(vectors[i, :])))))\n",
        "f.close()\n",
        "\n",
        "word_vectors = Word2VecKeyedVectors.load_word2vec_format(word2vec_file_path, binary=False)\n",
        "vector = word_vectors['컴퓨터']\n",
        "vector"
      ],
      "metadata": {
        "colab": {
          "base_uri": "https://localhost:8080/"
        },
        "id": "BOeZw1i_WMwm",
        "outputId": "0e926ff9-a292-4bdd-f744-cc7e053b6144"
      },
      "execution_count": null,
      "outputs": [
        {
          "output_type": "execute_result",
          "data": {
            "text/plain": [
              "array([-0.05880253, -0.00975633, -0.04509036, -0.05033837, -0.00593232,\n",
              "       -0.05815073,  0.05004425,  0.07996732,  0.06578143,  0.02422018,\n",
              "        0.01547838,  0.0517291 ,  0.00822471,  0.02263253, -0.01636472,\n",
              "        0.01100137], dtype=float32)"
            ]
          },
          "metadata": {},
          "execution_count": 65
        }
      ]
    },
    {
      "cell_type": "code",
      "source": [
        "word_vectors.similar_by_word('사랑')"
      ],
      "metadata": {
        "colab": {
          "base_uri": "https://localhost:8080/"
        },
        "id": "d9HQTJuDW7VS",
        "outputId": "a1a06f18-a867-439b-b641-7373456f0076"
      },
      "execution_count": null,
      "outputs": [
        {
          "output_type": "execute_result",
          "data": {
            "text/plain": [
              "[('걸작', 0.9598358869552612),\n",
              " ('미소', 0.9557639956474304),\n",
              " ('베이더', 0.9528648853302002),\n",
              " ('어울려요', 0.9523595571517944),\n",
              " ('요런', 0.9515356421470642),\n",
              " ('올림', 0.948522686958313),\n",
              " ('9', 0.9474233388900757),\n",
              " ('^^♥', 0.9459345936775208),\n",
              " ('따뜻', 0.9457799196243286),\n",
              " ('ㅠㅠㅠㅠ', 0.9452619552612305)]"
            ]
          },
          "metadata": {},
          "execution_count": 66
        }
      ]
    },
    {
      "cell_type": "code",
      "source": [
        "word_vectors.similar_by_word('최고')"
      ],
      "metadata": {
        "colab": {
          "base_uri": "https://localhost:8080/"
        },
        "id": "DROkGeHXXCgm",
        "outputId": "3b1b34ee-e3ec-425a-f9a5-c2a42ab97a3c"
      },
      "execution_count": null,
      "outputs": [
        {
          "output_type": "execute_result",
          "data": {
            "text/plain": [
              "[('테일러', 0.9855296611785889),\n",
              " ('곱씹', 0.9853688478469849),\n",
              " ('되돌아보', 0.9850332736968994),\n",
              " ('달달', 0.9846851229667664),\n",
              " ('love', 0.9820016622543335),\n",
              " ('외우', 0.9815325736999512),\n",
              " ('빠져드', 0.981306791305542),\n",
              " ('쿵', 0.9799346923828125),\n",
              " ('매트릭스', 0.9795199632644653),\n",
              " ('모건', 0.9793590307235718)]"
            ]
          },
          "metadata": {},
          "execution_count": 67
        }
      ]
    },
    {
      "cell_type": "code",
      "source": [
        "word_vectors.similar_by_word('실망')"
      ],
      "metadata": {
        "colab": {
          "base_uri": "https://localhost:8080/"
        },
        "id": "Ywv_DfCLXG1L",
        "outputId": "4f3170b0-31b0-42d9-9fba-4dde79a85c62"
      },
      "execution_count": null,
      "outputs": [
        {
          "output_type": "execute_result",
          "data": {
            "text/plain": [
              "[('베끼', 0.9907784461975098),\n",
              " ('눈살', 0.9905377626419067),\n",
              " ('선동', 0.9892390370368958),\n",
              " ('맛없', 0.988705575466156),\n",
              " ('짝퉁', 0.9871876239776611),\n",
              " ('아까웠', 0.9861903786659241),\n",
              " ('신파', 0.9860045909881592),\n",
              " ('늘어진다', 0.985871434211731),\n",
              " ('불면증', 0.9857812523841858),\n",
              " ('그라', 0.9857176542282104)]"
            ]
          },
          "metadata": {},
          "execution_count": 68
        }
      ]
    },
    {
      "cell_type": "code",
      "source": [
        "word_vectors.similar_by_word('감동')"
      ],
      "metadata": {
        "colab": {
          "base_uri": "https://localhost:8080/"
        },
        "id": "-NdUF9o7XKAm",
        "outputId": "53d50937-8f0c-4d0c-879b-b14936e63475"
      },
      "execution_count": null,
      "outputs": [
        {
          "output_type": "execute_result",
          "data": {
            "text/plain": [
              "[('집니다', 0.9527807235717773),\n",
              " ('듭니다', 0.9474495649337769),\n",
              " ('한텐', 0.9467990398406982),\n",
              " ('갑', 0.9458689093589783),\n",
              " ('조니뎁', 0.9450272917747498),\n",
              " ('^^♥', 0.9422000646591187),\n",
              " ('높여', 0.9384574890136719),\n",
              " ('어염', 0.9364267587661743),\n",
              " ('꼽히', 0.9359285831451416),\n",
              " ('쩐', 0.933407187461853)]"
            ]
          },
          "metadata": {},
          "execution_count": 69
        }
      ]
    },
    {
      "cell_type": "markdown",
      "source": [
        "- 조금 아쉽지만 어느정도 납득이 가는 부분이 있긴하다."
      ],
      "metadata": {
        "id": "XWsxGqRXuqs4"
      }
    },
    {
      "cell_type": "markdown",
      "source": [
        "# CNN"
      ],
      "metadata": {
        "id": "5cIoiSBUXPsi"
      }
    },
    {
      "cell_type": "code",
      "source": [
        "embedding_layer = model_cnn.layers[0]\n",
        "weights = embedding_layer.get_weights()[0]\n",
        "vocab_size, word_vector_dim = weights.shape[0], weights.shape[1]\n",
        "\n",
        "word2vec_file_path = '/content/drive/MyDrive/exploration/Ex8/word2vec.txt'\n",
        "f2 = open(word2vec_file_path, 'w')\n",
        "f2.write('{} {}\\n'.format(vocab_size-4, word_vector_dim))\n",
        "\n",
        "vectors = model_cnn.get_weights()[0]\n",
        "for i in range(4,vocab_size):\n",
        "    f2.write('{} {}\\n'.format(index_to_word[i], ' '.join(map(str, list(vectors[i, :])))))\n",
        "f2.close()\n",
        "\n",
        "word_vectors2 = Word2VecKeyedVectors.load_word2vec_format(word2vec_file_path, binary=False)\n",
        "vector2 = word_vectors2['컴퓨터']\n",
        "vector2"
      ],
      "metadata": {
        "colab": {
          "base_uri": "https://localhost:8080/"
        },
        "id": "W5denMmLXL4x",
        "outputId": "18f66bfb-bf55-47f1-e3ff-91c2d1f14d90"
      },
      "execution_count": null,
      "outputs": [
        {
          "output_type": "execute_result",
          "data": {
            "text/plain": [
              "array([-0.04354319,  0.06153209, -0.14624107, -0.02067504,  0.00397056,\n",
              "        0.05293054, -0.07103912, -0.02722322,  0.0774714 ,  0.04940563,\n",
              "        0.03602645, -0.04261161, -0.03091254, -0.03310879, -0.03603431,\n",
              "       -0.09346683], dtype=float32)"
            ]
          },
          "metadata": {},
          "execution_count": 71
        }
      ]
    },
    {
      "cell_type": "code",
      "source": [
        "word_vectors2.similar_by_word('사랑')"
      ],
      "metadata": {
        "colab": {
          "base_uri": "https://localhost:8080/"
        },
        "id": "puovAvLBXeP8",
        "outputId": "87593574-5b14-4924-f90d-88dccef02daa"
      },
      "execution_count": null,
      "outputs": [
        {
          "output_type": "execute_result",
          "data": {
            "text/plain": [
              "[('위력', 0.9366095066070557),\n",
              " ('am', 0.9117095470428467),\n",
              " ('본방', 0.9088447690010071),\n",
              " ('감탄사', 0.9085747003555298),\n",
              " ('힐링', 0.906576931476593),\n",
              " ('아름다우', 0.9025333523750305),\n",
              " ('젊', 0.9009824991226196),\n",
              " ('맑', 0.9001326560974121),\n",
              " ('일품', 0.8985932469367981),\n",
              " ('very', 0.8970806002616882)]"
            ]
          },
          "metadata": {},
          "execution_count": 72
        }
      ]
    },
    {
      "cell_type": "code",
      "source": [
        "word_vectors2.similar_by_word('최고')"
      ],
      "metadata": {
        "colab": {
          "base_uri": "https://localhost:8080/"
        },
        "id": "wHF95D1OXgtS",
        "outputId": "57c60c49-adbd-492a-b4d8-0f83a39b690a"
      },
      "execution_count": null,
      "outputs": [
        {
          "output_type": "execute_result",
          "data": {
            "text/plain": [
              "[('나무랄', 0.9613500237464905),\n",
              " ('발킬머', 0.960889458656311),\n",
              " ('하모니', 0.9599438309669495),\n",
              " ('놀라웠', 0.9574078321456909),\n",
              " ('괜춘', 0.957161009311676),\n",
              " ('쌤', 0.9564313888549805),\n",
              " ('찡하', 0.9557209014892578),\n",
              " ('감독판', 0.9542120695114136),\n",
              " ('졸이', 0.953821063041687),\n",
              " ('호프만', 0.9531809091567993)]"
            ]
          },
          "metadata": {},
          "execution_count": 77
        }
      ]
    },
    {
      "cell_type": "code",
      "source": [
        "word_vectors2.similar_by_word('실망')"
      ],
      "metadata": {
        "colab": {
          "base_uri": "https://localhost:8080/"
        },
        "id": "HPsbDO5MXmNc",
        "outputId": "abcb18cb-2e0e-4fca-eec0-2430239a343d"
      },
      "execution_count": null,
      "outputs": [
        {
          "output_type": "execute_result",
          "data": {
            "text/plain": [
              "[('재탕', 0.9577193260192871),\n",
              " ('기영화', 0.9497253894805908),\n",
              " ('피곤', 0.9487301707267761),\n",
              " ('별로', 0.9342886805534363),\n",
              " ('더러워', 0.9308969378471375),\n",
              " ('당혹', 0.9255508780479431),\n",
              " ('지못미', 0.9237115979194641),\n",
              " ('뻔해서', 0.9236860275268555),\n",
              " ('유도', 0.9232006669044495),\n",
              " ('먹칠', 0.9197146892547607)]"
            ]
          },
          "metadata": {},
          "execution_count": 74
        }
      ]
    },
    {
      "cell_type": "code",
      "source": [
        "word_vectors2.similar_by_word('감동')"
      ],
      "metadata": {
        "colab": {
          "base_uri": "https://localhost:8080/"
        },
        "id": "WKcFjgEYXtPJ",
        "outputId": "7189440e-0adc-4b90-9ea4-13d550884875"
      },
      "execution_count": null,
      "outputs": [
        {
          "output_type": "execute_result",
          "data": {
            "text/plain": [
              "[('깨닫', 0.9040153622627258),\n",
              " ('탁월', 0.8856406211853027),\n",
              " ('폴', 0.8841241598129272),\n",
              " ('살아갈', 0.8811447620391846),\n",
              " ('간지', 0.8805170655250549),\n",
              " ('사로잡', 0.8800039887428284),\n",
              " ('달랐', 0.8750413656234741),\n",
              " ('더락', 0.8733901977539062),\n",
              " ('매혹', 0.8713136911392212),\n",
              " ('위대', 0.8710557818412781)]"
            ]
          },
          "metadata": {},
          "execution_count": 78
        }
      ]
    },
    {
      "cell_type": "markdown",
      "source": [
        "- 얘는 약간 문장이 끊겨서 출력되는 느낌이다."
      ],
      "metadata": {
        "id": "rD1UGMyGuwM0"
      }
    },
    {
      "cell_type": "markdown",
      "source": [
        "# Global Maxpooling"
      ],
      "metadata": {
        "id": "KAMBAJRiXxze"
      }
    },
    {
      "cell_type": "code",
      "source": [
        "embedding_layer = model_gmp.layers[0]\n",
        "weights = embedding_layer.get_weights()[0]\n",
        "vocab_size, word_vector_dim = weights.shape[0], weights.shape[1]\n",
        "\n",
        "word2vec_file_path = '/content/drive/MyDrive/exploration/Ex8/word2vec.txt'\n",
        "f3 = open(word2vec_file_path, 'w')\n",
        "f3.write('{} {}\\n'.format(vocab_size-4, word_vector_dim))\n",
        "\n",
        "vectors = model_gmp.get_weights()[0]\n",
        "for i in range(4,vocab_size):\n",
        "    f3.write('{} {}\\n'.format(index_to_word[i], ' '.join(map(str, list(vectors[i, :])))))\n",
        "f3.close()\n",
        "\n",
        "word_vectors3 = Word2VecKeyedVectors.load_word2vec_format(word2vec_file_path, binary=False)\n",
        "vector3 = word_vectors3['컴퓨터']\n",
        "vector3"
      ],
      "metadata": {
        "colab": {
          "base_uri": "https://localhost:8080/"
        },
        "id": "qxptS2MMX0v0",
        "outputId": "6cb2d265-6d44-4731-f065-1922e416ea07"
      },
      "execution_count": null,
      "outputs": [
        {
          "output_type": "execute_result",
          "data": {
            "text/plain": [
              "array([-0.08692946,  0.0403352 , -0.00061484,  0.01379084, -0.08932009,\n",
              "        0.00768522, -0.04868272, -0.04235793, -0.09264401, -0.03787342,\n",
              "       -0.0331058 , -0.05115375, -0.06665156, -0.08725067,  0.01705205,\n",
              "        0.02507496], dtype=float32)"
            ]
          },
          "metadata": {},
          "execution_count": 79
        }
      ]
    },
    {
      "cell_type": "code",
      "source": [
        "word_vectors3.similar_by_word('사랑')"
      ],
      "metadata": {
        "colab": {
          "base_uri": "https://localhost:8080/"
        },
        "id": "5d29N8CUX7Yk",
        "outputId": "df345f5d-5a2c-4b3e-88ed-80359e64f4d9"
      },
      "execution_count": null,
      "outputs": [
        {
          "output_type": "execute_result",
          "data": {
            "text/plain": [
              "[('다룬', 0.9610794186592102),\n",
              " ('콜린', 0.9495394825935364),\n",
              " ('꽤', 0.9485722780227661),\n",
              " ('제주', 0.939071774482727),\n",
              " ('부담없이', 0.9390106201171875),\n",
              " ('느와르', 0.9340960383415222),\n",
              " ('!♥', 0.9337279796600342),\n",
              " ('명작', 0.9336435794830322),\n",
              " ('산다는', 0.9319370985031128),\n",
              " ('홍금보', 0.9318886995315552)]"
            ]
          },
          "metadata": {},
          "execution_count": 80
        }
      ]
    },
    {
      "cell_type": "code",
      "source": [
        "word_vectors3.similar_by_word('최고')"
      ],
      "metadata": {
        "colab": {
          "base_uri": "https://localhost:8080/"
        },
        "id": "YjfnIjkbX8qV",
        "outputId": "a574f90b-d0d8-468c-ea83-e39ee4a84b53"
      },
      "execution_count": null,
      "outputs": [
        {
          "output_type": "execute_result",
          "data": {
            "text/plain": [
              "[('그려냈', 0.9060783386230469),\n",
              " ('미묘', 0.9036746025085449),\n",
              " ('연민', 0.9009443521499634),\n",
              " ('따스', 0.8972414135932922),\n",
              " ('작살', 0.893101155757904),\n",
              " ('요세', 0.8835309743881226),\n",
              " ('멋지', 0.8827212452888489),\n",
              " ('이제서야', 0.8814734816551208),\n",
              " ('은대', 0.8809100389480591),\n",
              " ('백미', 0.8793767094612122)]"
            ]
          },
          "metadata": {},
          "execution_count": 81
        }
      ]
    },
    {
      "cell_type": "code",
      "source": [
        "word_vectors3.similar_by_word('실망')"
      ],
      "metadata": {
        "colab": {
          "base_uri": "https://localhost:8080/"
        },
        "id": "yTJmW-g5X_kf",
        "outputId": "9f7236d7-eddc-4524-eeb3-d88052be4b9f"
      },
      "execution_count": null,
      "outputs": [
        {
          "output_type": "execute_result",
          "data": {
            "text/plain": [
              "[('흑인', 0.8890486359596252),\n",
              " ('어째', 0.8841453790664673),\n",
              " ('고갈', 0.8679172992706299),\n",
              " ('미화', 0.8457769751548767),\n",
              " ('으려는', 0.8452491164207458),\n",
              " ('...?', 0.8451630473136902),\n",
              " ('아휴', 0.8412999510765076),\n",
              " ('개구리', 0.8361984491348267),\n",
              " ('흔히', 0.8330844640731812),\n",
              " ('욕했', 0.8281581401824951)]"
            ]
          },
          "metadata": {},
          "execution_count": 82
        }
      ]
    },
    {
      "cell_type": "code",
      "source": [
        "word_vectors3.similar_by_word('감동')"
      ],
      "metadata": {
        "colab": {
          "base_uri": "https://localhost:8080/"
        },
        "id": "WfUjVmplYCZH",
        "outputId": "4d7340dd-65c6-464d-e077-b500bcbe44ba"
      },
      "execution_count": null,
      "outputs": [
        {
          "output_type": "execute_result",
          "data": {
            "text/plain": [
              "[('기쁨', 0.9598735570907593),\n",
              " ('이분', 0.9458004236221313),\n",
              " ('괜찮', 0.9442037343978882),\n",
              " ('메인', 0.9393804669380188),\n",
              " ('셔요', 0.9378529787063599),\n",
              " ('패션', 0.9375036954879761),\n",
              " ('두근두근', 0.9327843189239502),\n",
              " ('베스트', 0.9314578771591187),\n",
              " ('~!!', 0.9293482303619385),\n",
              " ('ost', 0.9282374978065491)]"
            ]
          },
          "metadata": {},
          "execution_count": 83
        }
      ]
    },
    {
      "cell_type": "markdown",
      "source": [
        "- CNN과 RNN의 요소가 섞여서 출력이 된 것 같다.\n",
        "\n",
        "- 결과적으로 가장 만족스러운 결과가 RNN이었다."
      ],
      "metadata": {
        "id": "F073NByGu3vG"
      }
    },
    {
      "cell_type": "markdown",
      "source": [
        "# 6.Word 2 Vector"
      ],
      "metadata": {
        "id": "hMMLnTaxYIrU"
      }
    },
    {
      "cell_type": "code",
      "source": [
        "word2vec_path = '/content/drive/MyDrive/exploration/Ex8/ko.bin'\n",
        "word2vec = gensim.models.Word2Vec.load(word2vec_path)\n",
        "vector = word2vec['컴퓨터']\n",
        "vector"
      ],
      "metadata": {
        "colab": {
          "base_uri": "https://localhost:8080/"
        },
        "id": "bd53n91fYeeR",
        "outputId": "e7c4cf38-ddbd-40bb-e321-e4df3eb1e2fa"
      },
      "execution_count": null,
      "outputs": [
        {
          "output_type": "stream",
          "name": "stderr",
          "text": [
            "/usr/local/lib/python3.7/dist-packages/ipykernel_launcher.py:3: DeprecationWarning: Call to deprecated `__getitem__` (Method will be removed in 4.0.0, use self.wv.__getitem__() instead).\n",
            "  This is separate from the ipykernel package so we can avoid doing imports until\n"
          ]
        },
        {
          "output_type": "execute_result",
          "data": {
            "text/plain": [
              "array([-1.517628  , -0.8935504 , -1.4352998 ,  1.5069847 , -1.5178334 ,\n",
              "        1.1542678 , -2.94064   ,  1.1850045 ,  0.19959009, -1.5288961 ,\n",
              "       -1.7067502 , -2.1892095 , -0.20728938, -2.2606812 , -2.2283888 ,\n",
              "        0.32318738, -0.2845471 , -0.07731772, -0.86269003, -1.1722927 ,\n",
              "       -0.91062415,  0.8440715 ,  0.903278  , -0.84685427,  0.7023384 ,\n",
              "       -2.1920419 , -0.47571626, -0.60159504, -0.68860835,  0.18944737,\n",
              "        0.5319404 ,  0.73058116, -0.9658133 , -1.0123725 , -0.36183038,\n",
              "        2.5851305 ,  0.66589296, -1.7231252 ,  1.7576753 ,  0.88845277,\n",
              "        1.5791365 , -4.430691  ,  0.36731872,  0.69481534, -0.46041563,\n",
              "        1.742655  , -1.5077016 ,  0.72209424, -0.04532204, -0.6557301 ,\n",
              "       -0.71276623,  0.26522732, -0.17656395, -2.4720876 , -0.845565  ,\n",
              "        0.23591152,  1.3414925 ,  0.77577615, -2.289371  , -0.8078124 ,\n",
              "        1.4359473 ,  0.22882733, -1.08867   ,  1.2607764 , -1.7469797 ,\n",
              "        0.06542054,  0.39896825, -0.3160832 , -1.7257563 ,  0.54638785,\n",
              "       -0.31753907, -0.48656994, -0.8225613 , -0.573065  ,  0.13175343,\n",
              "       -0.3924169 ,  0.55588305, -1.0773534 ,  0.55159163,  0.1352609 ,\n",
              "        0.88245326, -1.0127378 ,  0.14704451, -0.5254349 , -3.401769  ,\n",
              "       -0.42525592,  2.0031376 ,  0.36679608, -1.0043006 ,  1.3084906 ,\n",
              "        0.66252464, -0.48564675,  1.1390634 , -0.61399025, -0.50669813,\n",
              "        2.984564  ,  1.126494  ,  0.68590933, -0.2439008 , -1.317931  ,\n",
              "        0.826134  , -0.3985872 ,  0.509279  , -2.7423162 ,  2.1723568 ,\n",
              "        0.02191449, -0.16062206, -0.14502135, -0.32332814, -1.7890338 ,\n",
              "        1.8245052 , -1.3794106 ,  0.4879299 , -1.4982558 , -1.2389678 ,\n",
              "        1.1795257 , -1.54579   ,  0.07694028,  0.44653377,  0.27894926,\n",
              "       -1.9621123 ,  0.6149733 , -0.41162157, -1.0487087 , -1.7935017 ,\n",
              "        0.31845954,  0.14684801, -0.49587062,  1.6319822 ,  0.39944446,\n",
              "        0.434382  , -1.1794649 , -2.5206347 ,  0.6408292 , -0.62896025,\n",
              "        1.9872422 ,  1.2521076 , -0.21406372,  1.6773093 , -1.6608806 ,\n",
              "       -0.33801398, -0.88510543,  0.1943094 , -1.7670768 , -0.39440864,\n",
              "        1.5270631 , -1.1952105 , -0.60033166,  1.0510954 , -1.4626403 ,\n",
              "       -1.517039  ,  0.59476143,  0.36977595, -1.4121546 , -0.21997249,\n",
              "       -1.0658429 , -0.17150132,  0.8064618 ,  0.5093993 , -0.74832773,\n",
              "        1.2333933 , -1.9864655 , -0.8474578 , -1.1405545 , -3.6550071 ,\n",
              "       -1.556984  ,  1.8270527 ,  1.3725282 , -1.2329742 , -0.09723412,\n",
              "        0.34405386,  0.11565362, -0.9567215 ,  1.4773479 ,  2.169166  ,\n",
              "       -0.26613593, -1.4810696 ,  3.1457973 , -0.4415616 , -1.1940637 ,\n",
              "       -0.09637992, -0.05768079,  0.6716703 , -0.21914895,  0.56199044,\n",
              "       -1.129858  , -0.7972026 ,  0.73576796,  0.22356483,  0.9140782 ,\n",
              "       -1.4168789 ,  0.15810002, -0.79947495, -1.0691265 ,  1.4587201 ,\n",
              "       -0.5216996 ,  1.1812991 ,  0.37763026,  1.3513768 , -0.4241938 ],\n",
              "      dtype=float32)"
            ]
          },
          "metadata": {},
          "execution_count": 84
        }
      ]
    },
    {
      "cell_type": "code",
      "source": [
        "word2vec.similar_by_word('감동')"
      ],
      "metadata": {
        "colab": {
          "base_uri": "https://localhost:8080/"
        },
        "id": "-FEzfyvoYl9L",
        "outputId": "ec547ba5-a0e9-420d-d30d-279f7218c898"
      },
      "execution_count": null,
      "outputs": [
        {
          "output_type": "stream",
          "name": "stderr",
          "text": [
            "/usr/local/lib/python3.7/dist-packages/ipykernel_launcher.py:1: DeprecationWarning: Call to deprecated `similar_by_word` (Method will be removed in 4.0.0, use self.wv.similar_by_word() instead).\n",
            "  \"\"\"Entry point for launching an IPython kernel.\n"
          ]
        },
        {
          "output_type": "execute_result",
          "data": {
            "text/plain": [
              "[('감명', 0.7177015542984009),\n",
              " ('감격', 0.6908231973648071),\n",
              " ('실망', 0.6267645359039307),\n",
              " ('감화', 0.6191877126693726),\n",
              " ('감탄', 0.6140128374099731),\n",
              " ('칭찬', 0.6059398055076599),\n",
              " ('존경', 0.6032299995422363),\n",
              " ('자극', 0.594598650932312),\n",
              " ('감복', 0.5902734994888306),\n",
              " ('호응', 0.5850393772125244)]"
            ]
          },
          "metadata": {},
          "execution_count": 85
        }
      ]
    },
    {
      "cell_type": "code",
      "source": [
        "word2vec.similar_by_word('최고')"
      ],
      "metadata": {
        "colab": {
          "base_uri": "https://localhost:8080/"
        },
        "id": "vTaHuejsYpwh",
        "outputId": "bc77a6c5-d07a-4824-9e7e-406eab944484"
      },
      "execution_count": null,
      "outputs": [
        {
          "output_type": "stream",
          "name": "stderr",
          "text": [
            "/usr/local/lib/python3.7/dist-packages/ipykernel_launcher.py:1: DeprecationWarning: Call to deprecated `similar_by_word` (Method will be removed in 4.0.0, use self.wv.similar_by_word() instead).\n",
            "  \"\"\"Entry point for launching an IPython kernel.\n"
          ]
        },
        {
          "output_type": "execute_result",
          "data": {
            "text/plain": [
              "[('최대', 0.5721614360809326),\n",
              " ('최강', 0.5064552426338196),\n",
              " ('유일한', 0.46688494086265564),\n",
              " ('일류', 0.46184951066970825),\n",
              " ('최악', 0.4529539942741394),\n",
              " ('최연소', 0.45037323236465454),\n",
              " ('랭킹', 0.4485436677932739),\n",
              " ('제일의', 0.44647401571273804),\n",
              " ('최초', 0.44505739212036133),\n",
              " ('최상', 0.4345606565475464)]"
            ]
          },
          "metadata": {},
          "execution_count": 86
        }
      ]
    },
    {
      "cell_type": "code",
      "source": [
        "vector.shape #dim 200"
      ],
      "metadata": {
        "colab": {
          "base_uri": "https://localhost:8080/"
        },
        "id": "vKsPt5wbYstu",
        "outputId": "0eb2a68a-f1d9-4dfd-8817-600c3b44b48a"
      },
      "execution_count": null,
      "outputs": [
        {
          "output_type": "execute_result",
          "data": {
            "text/plain": [
              "(200,)"
            ]
          },
          "metadata": {},
          "execution_count": 87
        }
      ]
    },
    {
      "cell_type": "code",
      "source": [
        "# 단어사전\n",
        "vocab_size = 10000\n",
        "\n",
        "# 워드임베딩 벡터\n",
        "word_vec_dim = 200\n",
        "\n",
        "embedding_matrix = np.random.rand(vocab_size, word_vec_dim)\n",
        "\n",
        "# embedding_matrix에 Word2Vec 워드 벡터를 단어 하나씩마다 순서대로 카피\n",
        "for i in range(4,vocab_size):\n",
        "    if index_to_word[i] in word2vec:\n",
        "        embedding_matrix[i] = word2vec[index_to_word[i]]\n"
      ],
      "metadata": {
        "colab": {
          "base_uri": "https://localhost:8080/"
        },
        "id": "AUYdNr9nYyNQ",
        "outputId": "d3637440-c18c-4178-9161-5dde0ee9cf6d"
      },
      "execution_count": null,
      "outputs": [
        {
          "output_type": "stream",
          "name": "stderr",
          "text": [
            "/usr/local/lib/python3.7/dist-packages/ipykernel_launcher.py:11: DeprecationWarning: Call to deprecated `__contains__` (Method will be removed in 4.0.0, use self.wv.__contains__() instead).\n",
            "  # This is added back by InteractiveShellApp.init_path()\n",
            "/usr/local/lib/python3.7/dist-packages/ipykernel_launcher.py:12: DeprecationWarning: Call to deprecated `__getitem__` (Method will be removed in 4.0.0, use self.wv.__getitem__() instead).\n",
            "  if sys.path[0] == '':\n"
          ]
        }
      ]
    },
    {
      "cell_type": "code",
      "source": [
        "embedding_matrix.shape"
      ],
      "metadata": {
        "colab": {
          "base_uri": "https://localhost:8080/"
        },
        "id": "q7WPYahsY04u",
        "outputId": "707a5f99-6e3d-4037-b2ff-f79d34194642"
      },
      "execution_count": null,
      "outputs": [
        {
          "output_type": "execute_result",
          "data": {
            "text/plain": [
              "(10000, 200)"
            ]
          },
          "metadata": {},
          "execution_count": 89
        }
      ]
    },
    {
      "cell_type": "code",
      "source": [
        "# RNN_new\n",
        "new_rnn = tf.keras.Sequential()\n",
        "new_rnn.add(tf.keras.layers.Embedding(vocab_size, word_vec_dim,\n",
        "                                      embeddings_initializer=Constant(embedding_matrix),\n",
        "                                      input_length=maxlen,\n",
        "                                      trainable=True))\n",
        "new_rnn.add(tf.keras.layers.LSTM(8))\n",
        "new_rnn.add(tf.keras.layers.Dense(8, activation='relu'))\n",
        "new_rnn.add(tf.keras.layers.Dense(1, activation='sigmoid'))\n",
        "\n",
        "new_rnn.summary()"
      ],
      "metadata": {
        "colab": {
          "base_uri": "https://localhost:8080/"
        },
        "id": "K--Sf8VEY4A3",
        "outputId": "af61ec6a-229b-4998-f1d3-543210cf306d"
      },
      "execution_count": null,
      "outputs": [
        {
          "output_type": "stream",
          "name": "stdout",
          "text": [
            "Model: \"sequential_6\"\n",
            "_________________________________________________________________\n",
            " Layer (type)                Output Shape              Param #   \n",
            "=================================================================\n",
            " embedding_6 (Embedding)     (None, 41, 200)           2000000   \n",
            "                                                                 \n",
            " lstm_2 (LSTM)               (None, 8)                 6688      \n",
            "                                                                 \n",
            " dense_12 (Dense)            (None, 8)                 72        \n",
            "                                                                 \n",
            " dense_13 (Dense)            (None, 1)                 9         \n",
            "                                                                 \n",
            "=================================================================\n",
            "Total params: 2,006,769\n",
            "Trainable params: 2,006,769\n",
            "Non-trainable params: 0\n",
            "_________________________________________________________________\n"
          ]
        }
      ]
    },
    {
      "cell_type": "code",
      "source": [
        "# CNN_new\n",
        "new_cnn = tf.keras.Sequential()\n",
        "new_cnn.add(tf.keras.layers.Embedding(vocab_size, word_vec_dim,\n",
        "                                      embeddings_initializer=Constant(embedding_matrix),\n",
        "                                      input_length=maxlen,\n",
        "                                      trainable=True))\n",
        "new_cnn.add(tf.keras.layers.LSTM(8))\n",
        "new_cnn.add(tf.keras.layers.Dense(8, activation='relu'))\n",
        "new_cnn.add(tf.keras.layers.Dense(1, activation='sigmoid'))\n",
        "\n",
        "new_cnn.summary()"
      ],
      "metadata": {
        "colab": {
          "base_uri": "https://localhost:8080/"
        },
        "id": "UXf8Zc7mY6NS",
        "outputId": "ca838c37-b585-4a78-960a-6794ac8fd959"
      },
      "execution_count": null,
      "outputs": [
        {
          "output_type": "stream",
          "name": "stdout",
          "text": [
            "Model: \"sequential_7\"\n",
            "_________________________________________________________________\n",
            " Layer (type)                Output Shape              Param #   \n",
            "=================================================================\n",
            " embedding_7 (Embedding)     (None, 41, 200)           2000000   \n",
            "                                                                 \n",
            " lstm_3 (LSTM)               (None, 8)                 6688      \n",
            "                                                                 \n",
            " dense_14 (Dense)            (None, 8)                 72        \n",
            "                                                                 \n",
            " dense_15 (Dense)            (None, 1)                 9         \n",
            "                                                                 \n",
            "=================================================================\n",
            "Total params: 2,006,769\n",
            "Trainable params: 2,006,769\n",
            "Non-trainable params: 0\n",
            "_________________________________________________________________\n"
          ]
        }
      ]
    },
    {
      "cell_type": "code",
      "source": [
        "# Global Maxplling_new\n",
        "new_gmp = tf.keras.Sequential()\n",
        "new_gmp.add(tf.keras.layers.Embedding(vocab_size, word_vec_dim,\n",
        "                                      embeddings_initializer=Constant(embedding_matrix),\n",
        "                                      input_length=maxlen,\n",
        "                                      trainable=True))\n",
        "new_gmp.add(tf.keras.layers.LSTM(8))\n",
        "new_gmp.add(tf.keras.layers.Dense(8, activation='relu'))\n",
        "new_gmp.add(tf.keras.layers.Dense(1, activation='sigmoid'))\n",
        "\n",
        "new_gmp.summary()"
      ],
      "metadata": {
        "colab": {
          "base_uri": "https://localhost:8080/"
        },
        "id": "wp0eGbjuY86R",
        "outputId": "3b888b50-6d20-43c8-f527-cb6d6544462f"
      },
      "execution_count": null,
      "outputs": [
        {
          "output_type": "stream",
          "name": "stdout",
          "text": [
            "Model: \"sequential_8\"\n",
            "_________________________________________________________________\n",
            " Layer (type)                Output Shape              Param #   \n",
            "=================================================================\n",
            " embedding_8 (Embedding)     (None, 41, 200)           2000000   \n",
            "                                                                 \n",
            " lstm_4 (LSTM)               (None, 8)                 6688      \n",
            "                                                                 \n",
            " dense_16 (Dense)            (None, 8)                 72        \n",
            "                                                                 \n",
            " dense_17 (Dense)            (None, 1)                 9         \n",
            "                                                                 \n",
            "=================================================================\n",
            "Total params: 2,006,769\n",
            "Trainable params: 2,006,769\n",
            "Non-trainable params: 0\n",
            "_________________________________________________________________\n"
          ]
        }
      ]
    },
    {
      "cell_type": "markdown",
      "source": [
        "# 7.재학습"
      ],
      "metadata": {
        "id": "IRmcrB1QZFET"
      }
    },
    {
      "cell_type": "code",
      "source": [
        "# RNN\n",
        "new_rnn_hist = fitting_machine(new_rnn, 5)"
      ],
      "metadata": {
        "colab": {
          "base_uri": "https://localhost:8080/"
        },
        "id": "HublxbN8ZCw7",
        "outputId": "aedacc2d-952d-4d74-ad15-b002c4a2f96e"
      },
      "execution_count": null,
      "outputs": [
        {
          "output_type": "stream",
          "name": "stdout",
          "text": [
            "Epoch 1/5\n",
            "229/229 [==============================] - 4s 9ms/step - loss: 0.2384 - accuracy: 0.9064 - val_loss: 0.3765 - val_accuracy: 0.8485\n",
            "Epoch 2/5\n",
            "229/229 [==============================] - 2s 7ms/step - loss: 0.2269 - accuracy: 0.9116 - val_loss: 0.3783 - val_accuracy: 0.8495\n",
            "Epoch 3/5\n",
            "229/229 [==============================] - 2s 7ms/step - loss: 0.2162 - accuracy: 0.9159 - val_loss: 0.3874 - val_accuracy: 0.8498\n",
            "Epoch 4/5\n",
            "229/229 [==============================] - 2s 7ms/step - loss: 0.2065 - accuracy: 0.9209 - val_loss: 0.3995 - val_accuracy: 0.8479\n",
            "Epoch 5/5\n",
            "229/229 [==============================] - 2s 7ms/step - loss: 0.1972 - accuracy: 0.9258 - val_loss: 0.4160 - val_accuracy: 0.8391\n",
            "1537/1537 - 4s - loss: 0.4079 - accuracy: 0.8434 - 4s/epoch - 2ms/step\n",
            "\n",
            "This is sequential_6\n",
            "Loss: 0.4079018831253052\n",
            "Accurancy: 0.843399703502655\n",
            "\n"
          ]
        }
      ]
    },
    {
      "cell_type": "code",
      "source": [
        "# CNN\n",
        "new_cnn_hist = fitting_machine(new_cnn, 5)"
      ],
      "metadata": {
        "colab": {
          "base_uri": "https://localhost:8080/"
        },
        "id": "QXj3ZESuZQUN",
        "outputId": "09e5a162-83d1-4b00-8db5-dc6318146df9"
      },
      "execution_count": null,
      "outputs": [
        {
          "output_type": "stream",
          "name": "stdout",
          "text": [
            "Epoch 1/5\n",
            "229/229 [==============================] - 4s 9ms/step - loss: 0.5291 - accuracy: 0.7315 - val_loss: 0.4170 - val_accuracy: 0.8152\n",
            "Epoch 2/5\n",
            "229/229 [==============================] - 2s 7ms/step - loss: 0.3685 - accuracy: 0.8406 - val_loss: 0.3763 - val_accuracy: 0.8344\n",
            "Epoch 3/5\n",
            "229/229 [==============================] - 2s 8ms/step - loss: 0.3251 - accuracy: 0.8638 - val_loss: 0.3651 - val_accuracy: 0.8422\n",
            "Epoch 4/5\n",
            "229/229 [==============================] - 2s 7ms/step - loss: 0.2994 - accuracy: 0.8763 - val_loss: 0.3625 - val_accuracy: 0.8464\n",
            "Epoch 5/5\n",
            "229/229 [==============================] - 2s 8ms/step - loss: 0.2828 - accuracy: 0.8839 - val_loss: 0.3595 - val_accuracy: 0.8481\n",
            "1537/1537 - 4s - loss: 0.3572 - accuracy: 0.8487 - 4s/epoch - 3ms/step\n",
            "\n",
            "This is sequential_7\n",
            "Loss: 0.35719946026802063\n",
            "Accurancy: 0.8487499356269836\n",
            "\n"
          ]
        }
      ]
    },
    {
      "cell_type": "code",
      "source": [
        "# Global Maxpooling\n",
        "new_gmp_hist = fitting_machine(new_gmp, 5)"
      ],
      "metadata": {
        "colab": {
          "base_uri": "https://localhost:8080/"
        },
        "id": "C-gfGLZNZSzS",
        "outputId": "60085965-9c19-41e6-e4dc-33e06b995558"
      },
      "execution_count": null,
      "outputs": [
        {
          "output_type": "stream",
          "name": "stdout",
          "text": [
            "Epoch 1/5\n",
            "229/229 [==============================] - 4s 9ms/step - loss: 0.5342 - accuracy: 0.7251 - val_loss: 0.4097 - val_accuracy: 0.8180\n",
            "Epoch 2/5\n",
            "229/229 [==============================] - 2s 7ms/step - loss: 0.3644 - accuracy: 0.8437 - val_loss: 0.3756 - val_accuracy: 0.8356\n",
            "Epoch 3/5\n",
            "229/229 [==============================] - 2s 7ms/step - loss: 0.3223 - accuracy: 0.8646 - val_loss: 0.3587 - val_accuracy: 0.8457\n",
            "Epoch 4/5\n",
            "229/229 [==============================] - 2s 7ms/step - loss: 0.2990 - accuracy: 0.8764 - val_loss: 0.3585 - val_accuracy: 0.8477\n",
            "Epoch 5/5\n",
            "229/229 [==============================] - 2s 7ms/step - loss: 0.2812 - accuracy: 0.8845 - val_loss: 0.3580 - val_accuracy: 0.8481\n",
            "1537/1537 - 4s - loss: 0.3569 - accuracy: 0.8493 - 4s/epoch - 2ms/step\n",
            "\n",
            "This is sequential_8\n",
            "Loss: 0.3568824827671051\n",
            "Accurancy: 0.8492584824562073\n",
            "\n"
          ]
        }
      ]
    },
    {
      "cell_type": "markdown",
      "source": [
        "# 8.재학습의 재학습"
      ],
      "metadata": {
        "id": "hKQ5ab9aZgC6"
      }
    },
    {
      "cell_type": "code",
      "source": [
        "def fitting_machine2(model,epoch):\n",
        "    # model compile\n",
        "    model = model\n",
        "    model.compile(optimizer='adam',\n",
        "              loss='binary_crossentropy',\n",
        "              metrics=['accuracy'])\n",
        "    \n",
        "    # model training and recording history\n",
        "    history = model.fit(partial_x,\n",
        "                        partial_y,\n",
        "                        epochs=epoch,\n",
        "                        batch_size=32,\n",
        "                        validation_data=(x_val, y_val),\n",
        "                        verbose=1)\n",
        "    # print result\n",
        "    results = model.evaluate(X_test,  y_test, verbose=2)\n",
        "    print(f'\\nThis is {model.name}\\nLoss: {results[0]}\\nAccurancy: {results[1]}\\n')\n",
        "    \n",
        "    return history"
      ],
      "metadata": {
        "id": "TdlGu8h7Zd0T"
      },
      "execution_count": null,
      "outputs": []
    },
    {
      "cell_type": "code",
      "source": [
        "# RNN_new2\n",
        "new_rnn2 = tf.keras.Sequential()\n",
        "new_rnn2.add(tf.keras.layers.Embedding(vocab_size, word_vec_dim,\n",
        "                                      embeddings_initializer=Constant(embedding_matrix),\n",
        "                                      input_length=maxlen,\n",
        "                                      trainable=True))\n",
        "new_rnn2.add(tf.keras.layers.LSTM(16))\n",
        "new_rnn2.add(tf.keras.layers.Dense(8, activation='relu'))\n",
        "new_rnn2.add(tf.keras.layers.Dense(1, activation='sigmoid'))\n",
        "\n",
        "new_rnn2.summary()"
      ],
      "metadata": {
        "colab": {
          "base_uri": "https://localhost:8080/"
        },
        "id": "1QmnnFWeZtoW",
        "outputId": "97355420-da81-4b53-f834-30fc2a536c16"
      },
      "execution_count": null,
      "outputs": [
        {
          "output_type": "stream",
          "name": "stdout",
          "text": [
            "Model: \"sequential_9\"\n",
            "_________________________________________________________________\n",
            " Layer (type)                Output Shape              Param #   \n",
            "=================================================================\n",
            " embedding_9 (Embedding)     (None, 41, 200)           2000000   \n",
            "                                                                 \n",
            " lstm_5 (LSTM)               (None, 16)                13888     \n",
            "                                                                 \n",
            " dense_18 (Dense)            (None, 8)                 136       \n",
            "                                                                 \n",
            " dense_19 (Dense)            (None, 1)                 9         \n",
            "                                                                 \n",
            "=================================================================\n",
            "Total params: 2,014,033\n",
            "Trainable params: 2,014,033\n",
            "Non-trainable params: 0\n",
            "_________________________________________________________________\n"
          ]
        }
      ]
    },
    {
      "cell_type": "code",
      "source": [
        "# rnn2\n",
        "new_rnn_hist2 = fitting_machine2(new_rnn2, 5)"
      ],
      "metadata": {
        "colab": {
          "base_uri": "https://localhost:8080/"
        },
        "id": "A4zZYSo1Zprv",
        "outputId": "4a7f818a-5cd4-4308-f05d-f08eb253430e"
      },
      "execution_count": null,
      "outputs": [
        {
          "output_type": "stream",
          "name": "stdout",
          "text": [
            "Epoch 1/5\n",
            "3655/3655 [==============================] - 23s 6ms/step - loss: 0.4074 - accuracy: 0.8118 - val_loss: 0.3565 - val_accuracy: 0.8427\n",
            "Epoch 2/5\n",
            "3655/3655 [==============================] - 23s 6ms/step - loss: 0.3122 - accuracy: 0.8669 - val_loss: 0.3415 - val_accuracy: 0.8528\n",
            "Epoch 3/5\n",
            "3655/3655 [==============================] - 21s 6ms/step - loss: 0.2758 - accuracy: 0.8843 - val_loss: 0.3394 - val_accuracy: 0.8556\n",
            "Epoch 4/5\n",
            "3655/3655 [==============================] - 21s 6ms/step - loss: 0.2457 - accuracy: 0.8980 - val_loss: 0.3486 - val_accuracy: 0.8533\n",
            "Epoch 5/5\n",
            "3655/3655 [==============================] - 22s 6ms/step - loss: 0.2187 - accuracy: 0.9107 - val_loss: 0.3633 - val_accuracy: 0.8527\n",
            "1537/1537 - 4s - loss: 0.3629 - accuracy: 0.8531 - 4s/epoch - 2ms/step\n",
            "\n",
            "This is sequential_9\n",
            "Loss: 0.36291220784187317\n",
            "Accurancy: 0.853123664855957\n",
            "\n"
          ]
        }
      ]
    },
    {
      "cell_type": "code",
      "source": [
        "plt.plot(rnn_history.history['val_accuracy'], '--o', color='blue', label='Before') # word2vector 전\n",
        "plt.plot(new_rnn_hist.history['val_accuracy'], '--o', color='gray', label='After') # word2vector 후\n",
        "plt.plot(new_rnn_hist2.history['val_accuracy'], '--o', color='red', label='Set_Batch_size') # word2vector 후(batch size 조정)\n",
        "plt.legend()\n",
        "plt.grid()"
      ],
      "metadata": {
        "colab": {
          "base_uri": "https://localhost:8080/",
          "height": 265
        },
        "id": "khkV4SZdZyTk",
        "outputId": "80d3a8d2-9e3b-4e7c-aa4c-654b57484235"
      },
      "execution_count": null,
      "outputs": [
        {
          "output_type": "display_data",
          "data": {
            "text/plain": [
              "<Figure size 432x288 with 1 Axes>"
            ],
            "image/png": "[encoded data removed]"
          },
          "metadata": {
            "needs_background": "light"
          }
        }
      ]
    },
    {
      "cell_type": "markdown",
      "source": [
        "# 회고\n",
        "\n",
        "---\n",
        "\n",
        "- CNN과 RNN 그리고 Global maxpooling 모델 구현에 성공을 하였고, 각 모델 별로 유사단어 또한 비교할 수 있었다. 마지막으로 학습을 통하여 85.3%의 정확도도 달성하였다."
      ],
      "metadata": {
        "id": "GTA88SJytxgS"
      }
    }
  ],
  "metadata": {
    "accelerator": "GPU",
    "colab": {
      "collapsed_sections": [],
      "machine_shape": "hm",
      "provenance": [],
      "toc_visible": true
    },
    "gpuClass": "premium",
    "kernelspec": {
      "display_name": "Python 3",
      "name": "python3"
    },
    "language_info": {
      "name": "python"
    }
  },
  "nbformat": 4,
  "nbformat_minor": 0
}