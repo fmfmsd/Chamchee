{
  "nbformat": 4,
  "nbformat_minor": 0,
  "metadata": {
    "colab": {
      "provenance": [],
      "collapsed_sections": []
    },
    "kernelspec": {
      "name": "python3",
      "display_name": "Python 3"
    },
    "language_info": {
      "name": "python"
    }
  },
  "cells": [
    {
      "cell_type": "markdown",
      "source": [
        "# This is your playground! Leaderboard"
      ],
      "metadata": {
        "id": "86XgoeF0RgEF"
      }
    },
    {
      "cell_type": "markdown",
      "source": [
        " **이번 과제 루브릭**\n",
        "\n",
        "---\n",
        "\n",
        "\n",
        "\n",
        "* 캐글 데이터분석 전과정이 성공적으로 진행되었는가?\n",
        "\n",
        "* 전처리, 학습과정 및 결과에 대한 설명이 시각화를 포함하여 체계적으로 진행되었는가? (제출한 주피터노트북 파일이 캐글 커널 환경에서도 에러 없이 동작하며, 전처리, 학습, 최적화 진행 과정이 체계적으로 기술되었다.)\n",
        "\n",
        "* 회귀모델 예측정확도가 기준 이상 높게 나왔는가? (다양한 피처 엔지니어링과 하이퍼 파라미터 튜닝 등의 최적화 기법을 통해 캐글 리더보드의 Private score 기준 110000 이하의 점수를 얻었다.)\n"
      ],
      "metadata": {
        "id": "GQAM_DZTdxzS"
      }
    },
    {
      "cell_type": "code",
      "execution_count": 258,
      "metadata": {
        "id": "3znDNnbXQB9s"
      },
      "outputs": [],
      "source": [
        "#모듈 세팅\n",
        "import warnings\n",
        "warnings.filterwarnings(\"ignore\")\n",
        "\n",
        "import os\n",
        "from os.path import join\n",
        "\n",
        "import pandas as pd\n",
        "import numpy as np\n",
        "import matplotlib.pyplot as plt\n",
        "import seaborn as sns\n",
        "\n",
        "import xgboost as xgb #1.\n",
        "import lightgbm as lgb #2.\n",
        "import missingno as msno #3.\n",
        "\n",
        "from sklearn.ensemble import GradientBoostingRegressor\n",
        "from sklearn.model_selection import KFold, cross_val_score"
      ]
    },
    {
      "cell_type": "markdown",
      "source": [
        "**주요 기능**\n",
        "---\n",
        "1.   ***xgboost*** -> Boosting(= ensemble)을 병렬 학습이 지원되도록 구현한 라이브러리다. Regression, Classification 문제를 모두 지원한다. 성능과 자원 효율이 좋다.\n",
        "\n",
        "2.   ***lightgbm*** -> lightgbm은 Gradient Boosting 프레임워크로 Tree기반 학습 알고리즘을 가진 라이브러리다. 학습이 진행될수록 각 학습당 가지를 쳐내려가는 모양새로 진행이 된다.\n",
        "\n",
        "3.   ***missingno*** ->missingno는 결측데이터들을 파악하는데 직관적인 도움을 주는 패키지이다."
      ],
      "metadata": {
        "id": "dzfbyJSKejgu"
      }
    },
    {
      "cell_type": "code",
      "source": [
        "from google.colab import drive\n",
        "drive.mount('/content/drive')"
      ],
      "metadata": {
        "colab": {
          "base_uri": "https://localhost:8080/"
        },
        "id": "_K9aDTCDPUfi",
        "outputId": "5f1ed08e-9c67-4c23-b83a-51a380876953"
      },
      "execution_count": 259,
      "outputs": [
        {
          "output_type": "stream",
          "name": "stdout",
          "text": [
            "Drive already mounted at /content/drive; to attempt to forcibly remount, call drive.mount(\"/content/drive\", force_remount=True).\n"
          ]
        }
      ]
    },
    {
      "cell_type": "code",
      "source": [
        "data = '/content/drive/MyDrive/kaggledata'"
      ],
      "metadata": {
        "id": "P75kWfxXPo9b"
      },
      "execution_count": 260,
      "outputs": []
    },
    {
      "cell_type": "code",
      "source": [
        "train_data_path = join(data, 'train.csv')\n",
        "sub_data_path = join(data, 'test.csv')      # 테스트, 즉 submission 시 사용할 데이터 경로\n",
        "\n",
        "train = pd.read_csv(train_data_path)\n",
        "test = pd.read_csv(sub_data_path)\n",
        "\n",
        "print(train_data_path)\n",
        "print(sub_data_path)"
      ],
      "metadata": {
        "colab": {
          "base_uri": "https://localhost:8080/"
        },
        "id": "QSVrATM3QboO",
        "outputId": "547e11dd-cb90-4e0c-e5a1-025e8fa2e5ee"
      },
      "execution_count": 261,
      "outputs": [
        {
          "output_type": "stream",
          "name": "stdout",
          "text": [
            "/content/drive/MyDrive/kaggledata/train.csv\n",
            "/content/drive/MyDrive/kaggledata/test.csv\n"
          ]
        }
      ]
    },
    {
      "cell_type": "code",
      "source": [
        "train.head()"
      ],
      "metadata": {
        "colab": {
          "base_uri": "https://localhost:8080/",
          "height": 299
        },
        "id": "DHsSZ6p0TjFa",
        "outputId": "4359f419-73bf-4083-b9be-c848d7937c40"
      },
      "execution_count": 262,
      "outputs": [
        {
          "output_type": "execute_result",
          "data": {
            "text/plain": [
              "   id             date     price  bedrooms  bathrooms  sqft_living  sqft_lot  \\\n",
              "0   0  20141013T000000  221900.0         3       1.00         1180      5650   \n",
              "1   1  20150225T000000  180000.0         2       1.00          770     10000   \n",
              "2   2  20150218T000000  510000.0         3       2.00         1680      8080   \n",
              "3   3  20140627T000000  257500.0         3       2.25         1715      6819   \n",
              "4   4  20150115T000000  291850.0         3       1.50         1060      9711   \n",
              "\n",
              "   floors  waterfront  view  ...  grade  sqft_above  sqft_basement  yr_built  \\\n",
              "0     1.0           0     0  ...      7        1180              0      1955   \n",
              "1     1.0           0     0  ...      6         770              0      1933   \n",
              "2     1.0           0     0  ...      8        1680              0      1987   \n",
              "3     2.0           0     0  ...      7        1715              0      1995   \n",
              "4     1.0           0     0  ...      7        1060              0      1963   \n",
              "\n",
              "   yr_renovated  zipcode      lat     long  sqft_living15  sqft_lot15  \n",
              "0             0    98178  47.5112 -122.257           1340        5650  \n",
              "1             0    98028  47.7379 -122.233           2720        8062  \n",
              "2             0    98074  47.6168 -122.045           1800        7503  \n",
              "3             0    98003  47.3097 -122.327           2238        6819  \n",
              "4             0    98198  47.4095 -122.315           1650        9711  \n",
              "\n",
              "[5 rows x 21 columns]"
            ],
            "text/html": [
              "\n",
              "  <div id=\"df-1ba3ad54-3781-4dde-9461-a22497c27c1f\">\n",
              "    <div class=\"colab-df-container\">\n",
              "      <div>\n",
              "<style scoped>\n",
              "    .dataframe tbody tr th:only-of-type {\n",
              "        vertical-align: middle;\n",
              "    }\n",
              "\n",
              "    .dataframe tbody tr th {\n",
              "        vertical-align: top;\n",
              "    }\n",
              "\n",
              "    .dataframe thead th {\n",
              "        text-align: right;\n",
              "    }\n",
              "</style>\n",
              "<table border=\"1\" class=\"dataframe\">\n",
              "  <thead>\n",
              "    <tr style=\"text-align: right;\">\n",
              "      <th></th>\n",
              "      <th>id</th>\n",
              "      <th>date</th>\n",
              "      <th>price</th>\n",
              "      <th>bedrooms</th>\n",
              "      <th>bathrooms</th>\n",
              "      <th>sqft_living</th>\n",
              "      <th>sqft_lot</th>\n",
              "      <th>floors</th>\n",
              "      <th>waterfront</th>\n",
              "      <th>view</th>\n",
              "      <th>...</th>\n",
              "      <th>grade</th>\n",
              "      <th>sqft_above</th>\n",
              "      <th>sqft_basement</th>\n",
              "      <th>yr_built</th>\n",
              "      <th>yr_renovated</th>\n",
              "      <th>zipcode</th>\n",
              "      <th>lat</th>\n",
              "      <th>long</th>\n",
              "      <th>sqft_living15</th>\n",
              "      <th>sqft_lot15</th>\n",
              "    </tr>\n",
              "  </thead>\n",
              "  <tbody>\n",
              "    <tr>\n",
              "      <th>0</th>\n",
              "      <td>0</td>\n",
              "      <td>20141013T000000</td>\n",
              "      <td>221900.0</td>\n",
              "      <td>3</td>\n",
              "      <td>1.00</td>\n",
              "      <td>1180</td>\n",
              "      <td>5650</td>\n",
              "      <td>1.0</td>\n",
              "      <td>0</td>\n",
              "      <td>0</td>\n",
              "      <td>...</td>\n",
              "      <td>7</td>\n",
              "      <td>1180</td>\n",
              "      <td>0</td>\n",
              "      <td>1955</td>\n",
              "      <td>0</td>\n",
              "      <td>98178</td>\n",
              "      <td>47.5112</td>\n",
              "      <td>-122.257</td>\n",
              "      <td>1340</td>\n",
              "      <td>5650</td>\n",
              "    </tr>\n",
              "    <tr>\n",
              "      <th>1</th>\n",
              "      <td>1</td>\n",
              "      <td>20150225T000000</td>\n",
              "      <td>180000.0</td>\n",
              "      <td>2</td>\n",
              "      <td>1.00</td>\n",
              "      <td>770</td>\n",
              "      <td>10000</td>\n",
              "      <td>1.0</td>\n",
              "      <td>0</td>\n",
              "      <td>0</td>\n",
              "      <td>...</td>\n",
              "      <td>6</td>\n",
              "      <td>770</td>\n",
              "      <td>0</td>\n",
              "      <td>1933</td>\n",
              "      <td>0</td>\n",
              "      <td>98028</td>\n",
              "      <td>47.7379</td>\n",
              "      <td>-122.233</td>\n",
              "      <td>2720</td>\n",
              "      <td>8062</td>\n",
              "    </tr>\n",
              "    <tr>\n",
              "      <th>2</th>\n",
              "      <td>2</td>\n",
              "      <td>20150218T000000</td>\n",
              "      <td>510000.0</td>\n",
              "      <td>3</td>\n",
              "      <td>2.00</td>\n",
              "      <td>1680</td>\n",
              "      <td>8080</td>\n",
              "      <td>1.0</td>\n",
              "      <td>0</td>\n",
              "      <td>0</td>\n",
              "      <td>...</td>\n",
              "      <td>8</td>\n",
              "      <td>1680</td>\n",
              "      <td>0</td>\n",
              "      <td>1987</td>\n",
              "      <td>0</td>\n",
              "      <td>98074</td>\n",
              "      <td>47.6168</td>\n",
              "      <td>-122.045</td>\n",
              "      <td>1800</td>\n",
              "      <td>7503</td>\n",
              "    </tr>\n",
              "    <tr>\n",
              "      <th>3</th>\n",
              "      <td>3</td>\n",
              "      <td>20140627T000000</td>\n",
              "      <td>257500.0</td>\n",
              "      <td>3</td>\n",
              "      <td>2.25</td>\n",
              "      <td>1715</td>\n",
              "      <td>6819</td>\n",
              "      <td>2.0</td>\n",
              "      <td>0</td>\n",
              "      <td>0</td>\n",
              "      <td>...</td>\n",
              "      <td>7</td>\n",
              "      <td>1715</td>\n",
              "      <td>0</td>\n",
              "      <td>1995</td>\n",
              "      <td>0</td>\n",
              "      <td>98003</td>\n",
              "      <td>47.3097</td>\n",
              "      <td>-122.327</td>\n",
              "      <td>2238</td>\n",
              "      <td>6819</td>\n",
              "    </tr>\n",
              "    <tr>\n",
              "      <th>4</th>\n",
              "      <td>4</td>\n",
              "      <td>20150115T000000</td>\n",
              "      <td>291850.0</td>\n",
              "      <td>3</td>\n",
              "      <td>1.50</td>\n",
              "      <td>1060</td>\n",
              "      <td>9711</td>\n",
              "      <td>1.0</td>\n",
              "      <td>0</td>\n",
              "      <td>0</td>\n",
              "      <td>...</td>\n",
              "      <td>7</td>\n",
              "      <td>1060</td>\n",
              "      <td>0</td>\n",
              "      <td>1963</td>\n",
              "      <td>0</td>\n",
              "      <td>98198</td>\n",
              "      <td>47.4095</td>\n",
              "      <td>-122.315</td>\n",
              "      <td>1650</td>\n",
              "      <td>9711</td>\n",
              "    </tr>\n",
              "  </tbody>\n",
              "</table>\n",
              "<p>5 rows × 21 columns</p>\n",
              "</div>\n",
              "      <button class=\"colab-df-convert\" onclick=\"convertToInteractive('df-1ba3ad54-3781-4dde-9461-a22497c27c1f')\"\n",
              "              title=\"Convert this dataframe to an interactive table.\"\n",
              "              style=\"display:none;\">\n",
              "        \n",
              "  <svg xmlns=\"http://www.w3.org/2000/svg\" height=\"24px\"viewBox=\"0 0 24 24\"\n",
              "       width=\"24px\">\n",
              "    <path d=\"M0 0h24v24H0V0z\" fill=\"none\"/>\n",
              "    <path d=\"M18.56 5.44l.94 2.06.94-2.06 2.06-.94-2.06-.94-.94-2.06-.94 2.06-2.06.94zm-11 1L8.5 8.5l.94-2.06 2.06-.94-2.06-.94L8.5 2.5l-.94 2.06-2.06.94zm10 10l.94 2.06.94-2.06 2.06-.94-2.06-.94-.94-2.06-.94 2.06-2.06.94z\"/><path d=\"M17.41 7.96l-1.37-1.37c-.4-.4-.92-.59-1.43-.59-.52 0-1.04.2-1.43.59L10.3 9.45l-7.72 7.72c-.78.78-.78 2.05 0 2.83L4 21.41c.39.39.9.59 1.41.59.51 0 1.02-.2 1.41-.59l7.78-7.78 2.81-2.81c.8-.78.8-2.07 0-2.86zM5.41 20L4 18.59l7.72-7.72 1.47 1.35L5.41 20z\"/>\n",
              "  </svg>\n",
              "      </button>\n",
              "      \n",
              "  <style>\n",
              "    .colab-df-container {\n",
              "      display:flex;\n",
              "      flex-wrap:wrap;\n",
              "      gap: 12px;\n",
              "    }\n",
              "\n",
              "    .colab-df-convert {\n",
              "      background-color: #E8F0FE;\n",
              "      border: none;\n",
              "      border-radius: 50%;\n",
              "      cursor: pointer;\n",
              "      display: none;\n",
              "      fill: #1967D2;\n",
              "      height: 32px;\n",
              "      padding: 0 0 0 0;\n",
              "      width: 32px;\n",
              "    }\n",
              "\n",
              "    .colab-df-convert:hover {\n",
              "      background-color: #E2EBFA;\n",
              "      box-shadow: 0px 1px 2px rgba(60, 64, 67, 0.3), 0px 1px 3px 1px rgba(60, 64, 67, 0.15);\n",
              "      fill: #174EA6;\n",
              "    }\n",
              "\n",
              "    [theme=dark] .colab-df-convert {\n",
              "      background-color: #3B4455;\n",
              "      fill: #D2E3FC;\n",
              "    }\n",
              "\n",
              "    [theme=dark] .colab-df-convert:hover {\n",
              "      background-color: #434B5C;\n",
              "      box-shadow: 0px 1px 3px 1px rgba(0, 0, 0, 0.15);\n",
              "      filter: drop-shadow(0px 1px 2px rgba(0, 0, 0, 0.3));\n",
              "      fill: #FFFFFF;\n",
              "    }\n",
              "  </style>\n",
              "\n",
              "      <script>\n",
              "        const buttonEl =\n",
              "          document.querySelector('#df-1ba3ad54-3781-4dde-9461-a22497c27c1f button.colab-df-convert');\n",
              "        buttonEl.style.display =\n",
              "          google.colab.kernel.accessAllowed ? 'block' : 'none';\n",
              "\n",
              "        async function convertToInteractive(key) {\n",
              "          const element = document.querySelector('#df-1ba3ad54-3781-4dde-9461-a22497c27c1f');\n",
              "          const dataTable =\n",
              "            await google.colab.kernel.invokeFunction('convertToInteractive',\n",
              "                                                     [key], {});\n",
              "          if (!dataTable) return;\n",
              "\n",
              "          const docLinkHtml = 'Like what you see? Visit the ' +\n",
              "            '<a target=\"_blank\" href=https://colab.research.google.com/notebooks/data_table.ipynb>data table notebook</a>'\n",
              "            + ' to learn more about interactive tables.';\n",
              "          element.innerHTML = '';\n",
              "          dataTable['output_type'] = 'display_data';\n",
              "          await google.colab.output.renderOutput(dataTable, element);\n",
              "          const docLink = document.createElement('div');\n",
              "          docLink.innerHTML = docLinkHtml;\n",
              "          element.appendChild(docLink);\n",
              "        }\n",
              "      </script>\n",
              "    </div>\n",
              "  </div>\n",
              "  "
            ]
          },
          "metadata": {},
          "execution_count": 262
        }
      ]
    },
    {
      "cell_type": "markdown",
      "source": [
        "*  id는 필요가 없는 column\n",
        "*  date값은 정수로 바꿔줄 필요가 있어 보인다.\n",
        "*  target이 될 값은 price."
      ],
      "metadata": {
        "id": "9o-tVG1_Lv_j"
      }
    },
    {
      "cell_type": "code",
      "source": [
        "train['date'] = train['date'].apply(lambda i: i[:6]).astype(int) # date를 정수형으로 전처리\n",
        "train.head()"
      ],
      "metadata": {
        "colab": {
          "base_uri": "https://localhost:8080/",
          "height": 299
        },
        "id": "6bJJNJo8MDz9",
        "outputId": "ff37dcb9-b4f5-4ddb-8c68-deee2d20df69"
      },
      "execution_count": 263,
      "outputs": [
        {
          "output_type": "execute_result",
          "data": {
            "text/plain": [
              "   id    date     price  bedrooms  bathrooms  sqft_living  sqft_lot  floors  \\\n",
              "0   0  201410  221900.0         3       1.00         1180      5650     1.0   \n",
              "1   1  201502  180000.0         2       1.00          770     10000     1.0   \n",
              "2   2  201502  510000.0         3       2.00         1680      8080     1.0   \n",
              "3   3  201406  257500.0         3       2.25         1715      6819     2.0   \n",
              "4   4  201501  291850.0         3       1.50         1060      9711     1.0   \n",
              "\n",
              "   waterfront  view  ...  grade  sqft_above  sqft_basement  yr_built  \\\n",
              "0           0     0  ...      7        1180              0      1955   \n",
              "1           0     0  ...      6         770              0      1933   \n",
              "2           0     0  ...      8        1680              0      1987   \n",
              "3           0     0  ...      7        1715              0      1995   \n",
              "4           0     0  ...      7        1060              0      1963   \n",
              "\n",
              "   yr_renovated  zipcode      lat     long  sqft_living15  sqft_lot15  \n",
              "0             0    98178  47.5112 -122.257           1340        5650  \n",
              "1             0    98028  47.7379 -122.233           2720        8062  \n",
              "2             0    98074  47.6168 -122.045           1800        7503  \n",
              "3             0    98003  47.3097 -122.327           2238        6819  \n",
              "4             0    98198  47.4095 -122.315           1650        9711  \n",
              "\n",
              "[5 rows x 21 columns]"
            ],
            "text/html": [
              "\n",
              "  <div id=\"df-8a664689-edb1-4f57-b3ca-6bbf1c04910a\">\n",
              "    <div class=\"colab-df-container\">\n",
              "      <div>\n",
              "<style scoped>\n",
              "    .dataframe tbody tr th:only-of-type {\n",
              "        vertical-align: middle;\n",
              "    }\n",
              "\n",
              "    .dataframe tbody tr th {\n",
              "        vertical-align: top;\n",
              "    }\n",
              "\n",
              "    .dataframe thead th {\n",
              "        text-align: right;\n",
              "    }\n",
              "</style>\n",
              "<table border=\"1\" class=\"dataframe\">\n",
              "  <thead>\n",
              "    <tr style=\"text-align: right;\">\n",
              "      <th></th>\n",
              "      <th>id</th>\n",
              "      <th>date</th>\n",
              "      <th>price</th>\n",
              "      <th>bedrooms</th>\n",
              "      <th>bathrooms</th>\n",
              "      <th>sqft_living</th>\n",
              "      <th>sqft_lot</th>\n",
              "      <th>floors</th>\n",
              "      <th>waterfront</th>\n",
              "      <th>view</th>\n",
              "      <th>...</th>\n",
              "      <th>grade</th>\n",
              "      <th>sqft_above</th>\n",
              "      <th>sqft_basement</th>\n",
              "      <th>yr_built</th>\n",
              "      <th>yr_renovated</th>\n",
              "      <th>zipcode</th>\n",
              "      <th>lat</th>\n",
              "      <th>long</th>\n",
              "      <th>sqft_living15</th>\n",
              "      <th>sqft_lot15</th>\n",
              "    </tr>\n",
              "  </thead>\n",
              "  <tbody>\n",
              "    <tr>\n",
              "      <th>0</th>\n",
              "      <td>0</td>\n",
              "      <td>201410</td>\n",
              "      <td>221900.0</td>\n",
              "      <td>3</td>\n",
              "      <td>1.00</td>\n",
              "      <td>1180</td>\n",
              "      <td>5650</td>\n",
              "      <td>1.0</td>\n",
              "      <td>0</td>\n",
              "      <td>0</td>\n",
              "      <td>...</td>\n",
              "      <td>7</td>\n",
              "      <td>1180</td>\n",
              "      <td>0</td>\n",
              "      <td>1955</td>\n",
              "      <td>0</td>\n",
              "      <td>98178</td>\n",
              "      <td>47.5112</td>\n",
              "      <td>-122.257</td>\n",
              "      <td>1340</td>\n",
              "      <td>5650</td>\n",
              "    </tr>\n",
              "    <tr>\n",
              "      <th>1</th>\n",
              "      <td>1</td>\n",
              "      <td>201502</td>\n",
              "      <td>180000.0</td>\n",
              "      <td>2</td>\n",
              "      <td>1.00</td>\n",
              "      <td>770</td>\n",
              "      <td>10000</td>\n",
              "      <td>1.0</td>\n",
              "      <td>0</td>\n",
              "      <td>0</td>\n",
              "      <td>...</td>\n",
              "      <td>6</td>\n",
              "      <td>770</td>\n",
              "      <td>0</td>\n",
              "      <td>1933</td>\n",
              "      <td>0</td>\n",
              "      <td>98028</td>\n",
              "      <td>47.7379</td>\n",
              "      <td>-122.233</td>\n",
              "      <td>2720</td>\n",
              "      <td>8062</td>\n",
              "    </tr>\n",
              "    <tr>\n",
              "      <th>2</th>\n",
              "      <td>2</td>\n",
              "      <td>201502</td>\n",
              "      <td>510000.0</td>\n",
              "      <td>3</td>\n",
              "      <td>2.00</td>\n",
              "      <td>1680</td>\n",
              "      <td>8080</td>\n",
              "      <td>1.0</td>\n",
              "      <td>0</td>\n",
              "      <td>0</td>\n",
              "      <td>...</td>\n",
              "      <td>8</td>\n",
              "      <td>1680</td>\n",
              "      <td>0</td>\n",
              "      <td>1987</td>\n",
              "      <td>0</td>\n",
              "      <td>98074</td>\n",
              "      <td>47.6168</td>\n",
              "      <td>-122.045</td>\n",
              "      <td>1800</td>\n",
              "      <td>7503</td>\n",
              "    </tr>\n",
              "    <tr>\n",
              "      <th>3</th>\n",
              "      <td>3</td>\n",
              "      <td>201406</td>\n",
              "      <td>257500.0</td>\n",
              "      <td>3</td>\n",
              "      <td>2.25</td>\n",
              "      <td>1715</td>\n",
              "      <td>6819</td>\n",
              "      <td>2.0</td>\n",
              "      <td>0</td>\n",
              "      <td>0</td>\n",
              "      <td>...</td>\n",
              "      <td>7</td>\n",
              "      <td>1715</td>\n",
              "      <td>0</td>\n",
              "      <td>1995</td>\n",
              "      <td>0</td>\n",
              "      <td>98003</td>\n",
              "      <td>47.3097</td>\n",
              "      <td>-122.327</td>\n",
              "      <td>2238</td>\n",
              "      <td>6819</td>\n",
              "    </tr>\n",
              "    <tr>\n",
              "      <th>4</th>\n",
              "      <td>4</td>\n",
              "      <td>201501</td>\n",
              "      <td>291850.0</td>\n",
              "      <td>3</td>\n",
              "      <td>1.50</td>\n",
              "      <td>1060</td>\n",
              "      <td>9711</td>\n",
              "      <td>1.0</td>\n",
              "      <td>0</td>\n",
              "      <td>0</td>\n",
              "      <td>...</td>\n",
              "      <td>7</td>\n",
              "      <td>1060</td>\n",
              "      <td>0</td>\n",
              "      <td>1963</td>\n",
              "      <td>0</td>\n",
              "      <td>98198</td>\n",
              "      <td>47.4095</td>\n",
              "      <td>-122.315</td>\n",
              "      <td>1650</td>\n",
              "      <td>9711</td>\n",
              "    </tr>\n",
              "  </tbody>\n",
              "</table>\n",
              "<p>5 rows × 21 columns</p>\n",
              "</div>\n",
              "      <button class=\"colab-df-convert\" onclick=\"convertToInteractive('df-8a664689-edb1-4f57-b3ca-6bbf1c04910a')\"\n",
              "              title=\"Convert this dataframe to an interactive table.\"\n",
              "              style=\"display:none;\">\n",
              "        \n",
              "  <svg xmlns=\"http://www.w3.org/2000/svg\" height=\"24px\"viewBox=\"0 0 24 24\"\n",
              "       width=\"24px\">\n",
              "    <path d=\"M0 0h24v24H0V0z\" fill=\"none\"/>\n",
              "    <path d=\"M18.56 5.44l.94 2.06.94-2.06 2.06-.94-2.06-.94-.94-2.06-.94 2.06-2.06.94zm-11 1L8.5 8.5l.94-2.06 2.06-.94-2.06-.94L8.5 2.5l-.94 2.06-2.06.94zm10 10l.94 2.06.94-2.06 2.06-.94-2.06-.94-.94-2.06-.94 2.06-2.06.94z\"/><path d=\"M17.41 7.96l-1.37-1.37c-.4-.4-.92-.59-1.43-.59-.52 0-1.04.2-1.43.59L10.3 9.45l-7.72 7.72c-.78.78-.78 2.05 0 2.83L4 21.41c.39.39.9.59 1.41.59.51 0 1.02-.2 1.41-.59l7.78-7.78 2.81-2.81c.8-.78.8-2.07 0-2.86zM5.41 20L4 18.59l7.72-7.72 1.47 1.35L5.41 20z\"/>\n",
              "  </svg>\n",
              "      </button>\n",
              "      \n",
              "  <style>\n",
              "    .colab-df-container {\n",
              "      display:flex;\n",
              "      flex-wrap:wrap;\n",
              "      gap: 12px;\n",
              "    }\n",
              "\n",
              "    .colab-df-convert {\n",
              "      background-color: #E8F0FE;\n",
              "      border: none;\n",
              "      border-radius: 50%;\n",
              "      cursor: pointer;\n",
              "      display: none;\n",
              "      fill: #1967D2;\n",
              "      height: 32px;\n",
              "      padding: 0 0 0 0;\n",
              "      width: 32px;\n",
              "    }\n",
              "\n",
              "    .colab-df-convert:hover {\n",
              "      background-color: #E2EBFA;\n",
              "      box-shadow: 0px 1px 2px rgba(60, 64, 67, 0.3), 0px 1px 3px 1px rgba(60, 64, 67, 0.15);\n",
              "      fill: #174EA6;\n",
              "    }\n",
              "\n",
              "    [theme=dark] .colab-df-convert {\n",
              "      background-color: #3B4455;\n",
              "      fill: #D2E3FC;\n",
              "    }\n",
              "\n",
              "    [theme=dark] .colab-df-convert:hover {\n",
              "      background-color: #434B5C;\n",
              "      box-shadow: 0px 1px 3px 1px rgba(0, 0, 0, 0.15);\n",
              "      filter: drop-shadow(0px 1px 2px rgba(0, 0, 0, 0.3));\n",
              "      fill: #FFFFFF;\n",
              "    }\n",
              "  </style>\n",
              "\n",
              "      <script>\n",
              "        const buttonEl =\n",
              "          document.querySelector('#df-8a664689-edb1-4f57-b3ca-6bbf1c04910a button.colab-df-convert');\n",
              "        buttonEl.style.display =\n",
              "          google.colab.kernel.accessAllowed ? 'block' : 'none';\n",
              "\n",
              "        async function convertToInteractive(key) {\n",
              "          const element = document.querySelector('#df-8a664689-edb1-4f57-b3ca-6bbf1c04910a');\n",
              "          const dataTable =\n",
              "            await google.colab.kernel.invokeFunction('convertToInteractive',\n",
              "                                                     [key], {});\n",
              "          if (!dataTable) return;\n",
              "\n",
              "          const docLinkHtml = 'Like what you see? Visit the ' +\n",
              "            '<a target=\"_blank\" href=https://colab.research.google.com/notebooks/data_table.ipynb>data table notebook</a>'\n",
              "            + ' to learn more about interactive tables.';\n",
              "          element.innerHTML = '';\n",
              "          dataTable['output_type'] = 'display_data';\n",
              "          await google.colab.output.renderOutput(dataTable, element);\n",
              "          const docLink = document.createElement('div');\n",
              "          docLink.innerHTML = docLinkHtml;\n",
              "          element.appendChild(docLink);\n",
              "        }\n",
              "      </script>\n",
              "    </div>\n",
              "  </div>\n",
              "  "
            ]
          },
          "metadata": {},
          "execution_count": 263
        }
      ]
    },
    {
      "cell_type": "code",
      "source": [
        "y = train['price'] #y축을 target인 price로 설정\n",
        "del train['price']\n",
        "\n",
        "print(train.columns)"
      ],
      "metadata": {
        "colab": {
          "base_uri": "https://localhost:8080/"
        },
        "id": "t7YvVdZIWkNT",
        "outputId": "6d4f44b8-9335-4b7c-d7da-57d01876c158"
      },
      "execution_count": 264,
      "outputs": [
        {
          "output_type": "stream",
          "name": "stdout",
          "text": [
            "Index(['id', 'date', 'bedrooms', 'bathrooms', 'sqft_living', 'sqft_lot',\n",
            "       'floors', 'waterfront', 'view', 'condition', 'grade', 'sqft_above',\n",
            "       'sqft_basement', 'yr_built', 'yr_renovated', 'zipcode', 'lat', 'long',\n",
            "       'sqft_living15', 'sqft_lot15'],\n",
            "      dtype='object')\n"
          ]
        }
      ]
    },
    {
      "cell_type": "code",
      "source": [
        "del train['id'] #id삭제\n",
        "\n",
        "print(train.columns)"
      ],
      "metadata": {
        "colab": {
          "base_uri": "https://localhost:8080/"
        },
        "id": "oAFR_hQbM6vB",
        "outputId": "e6baa4e9-e859-4b2a-972c-443d15ed94f1"
      },
      "execution_count": 265,
      "outputs": [
        {
          "output_type": "stream",
          "name": "stdout",
          "text": [
            "Index(['date', 'bedrooms', 'bathrooms', 'sqft_living', 'sqft_lot', 'floors',\n",
            "       'waterfront', 'view', 'condition', 'grade', 'sqft_above',\n",
            "       'sqft_basement', 'yr_built', 'yr_renovated', 'zipcode', 'lat', 'long',\n",
            "       'sqft_living15', 'sqft_lot15'],\n",
            "      dtype='object')\n"
          ]
        }
      ]
    },
    {
      "cell_type": "code",
      "source": [
        "test['date'] = test['date'].apply(lambda i: i[:6]).astype(int) #test도 train과 같이 전처리\n",
        "del test['id']\n",
        "\n",
        "print(test.columns)"
      ],
      "metadata": {
        "colab": {
          "base_uri": "https://localhost:8080/"
        },
        "id": "khKO3qHwWVpL",
        "outputId": "6f7c91d1-90ee-4a13-cc34-e625b2eb206b"
      },
      "execution_count": 266,
      "outputs": [
        {
          "output_type": "stream",
          "name": "stdout",
          "text": [
            "Index(['date', 'bedrooms', 'bathrooms', 'sqft_living', 'sqft_lot', 'floors',\n",
            "       'waterfront', 'view', 'condition', 'grade', 'sqft_above',\n",
            "       'sqft_basement', 'yr_built', 'yr_renovated', 'zipcode', 'lat', 'long',\n",
            "       'sqft_living15', 'sqft_lot15'],\n",
            "      dtype='object')\n"
          ]
        }
      ]
    },
    {
      "cell_type": "code",
      "source": [
        "y"
      ],
      "metadata": {
        "colab": {
          "base_uri": "https://localhost:8080/"
        },
        "id": "b6JdseCgOm8h",
        "outputId": "f6de44f9-1f0c-44e9-a0b2-6d73335ff678"
      },
      "execution_count": 267,
      "outputs": [
        {
          "output_type": "execute_result",
          "data": {
            "text/plain": [
              "0         221900.0\n",
              "1         180000.0\n",
              "2         510000.0\n",
              "3         257500.0\n",
              "4         291850.0\n",
              "           ...    \n",
              "15030     610685.0\n",
              "15031    1007500.0\n",
              "15032     360000.0\n",
              "15033     400000.0\n",
              "15034     325000.0\n",
              "Name: price, Length: 15035, dtype: float64"
            ]
          },
          "metadata": {},
          "execution_count": 267
        }
      ]
    },
    {
      "cell_type": "markdown",
      "source": [
        "*  y축으로 price값이 들어간 것을 확인"
      ],
      "metadata": {
        "id": "g5vHJzIfOozL"
      }
    },
    {
      "cell_type": "code",
      "source": [
        "sns.kdeplot(y)\n",
        "plt.show()"
      ],
      "metadata": {
        "colab": {
          "base_uri": "https://localhost:8080/",
          "height": 290
        },
        "id": "ez5EkG_-OwFz",
        "outputId": "ee559ca8-5919-4f1a-9381-931c43ea82f3"
      },
      "execution_count": 268,
      "outputs": [
        {
          "output_type": "display_data",
          "data": {
            "text/plain": [
              "<Figure size 432x288 with 1 Axes>"
            ],
            "image/png": "[encoded data removed]"
          },
          "metadata": {
            "needs_background": "light"
          }
        }
      ]
    },
    {
      "cell_type": "markdown",
      "source": [
        "*  데이터가 y축으로 치우쳐져 있다. 데이터를 로그함수처리 해서 분포를 중앙으로 해야 된다."
      ],
      "metadata": {
        "id": "ZcJDyHb2epou"
      }
    },
    {
      "cell_type": "code",
      "source": [
        "y = np.log1p(y) #log(y)\n",
        "y"
      ],
      "metadata": {
        "colab": {
          "base_uri": "https://localhost:8080/"
        },
        "id": "Giunvg9aQi-i",
        "outputId": "e5e5014b-f289-47ea-e32f-2996dcd92ee2"
      },
      "execution_count": 269,
      "outputs": [
        {
          "output_type": "execute_result",
          "data": {
            "text/plain": [
              "0        12.309987\n",
              "1        12.100718\n",
              "2        13.142168\n",
              "3        12.458779\n",
              "4        12.583999\n",
              "           ...    \n",
              "15030    13.322338\n",
              "15031    13.822984\n",
              "15032    12.793862\n",
              "15033    12.899222\n",
              "15034    12.691584\n",
              "Name: price, Length: 15035, dtype: float64"
            ]
          },
          "metadata": {},
          "execution_count": 269
        }
      ]
    },
    {
      "cell_type": "markdown",
      "source": [
        "*  로그함수 처리 된 것을 확인"
      ],
      "metadata": {
        "id": "5cZD4syte_dw"
      }
    },
    {
      "cell_type": "code",
      "source": [
        "sns.kdeplot(y) #로그정규분포 처리가 된 것을 그래프로 확인 가능하다.\n",
        "plt.show()"
      ],
      "metadata": {
        "colab": {
          "base_uri": "https://localhost:8080/",
          "height": 280
        },
        "id": "VcZ0eMqkO7KI",
        "outputId": "16a34622-e9c1-4174-f9c9-09607c65d950"
      },
      "execution_count": 270,
      "outputs": [
        {
          "output_type": "display_data",
          "data": {
            "text/plain": [
              "<Figure size 432x288 with 1 Axes>"
            ],
            "image/png": "[encoded data removed]"
          },
          "metadata": {
            "needs_background": "light"
          }
        }
      ]
    },
    {
      "cell_type": "code",
      "source": [
        "train.info() #정수형자료로 바뀌었는지 확인"
      ],
      "metadata": {
        "colab": {
          "base_uri": "https://localhost:8080/"
        },
        "id": "VqJV0wFQRE26",
        "outputId": "fb104952-438d-4e55-feb1-17a011a51b7e"
      },
      "execution_count": 271,
      "outputs": [
        {
          "output_type": "stream",
          "name": "stdout",
          "text": [
            "<class 'pandas.core.frame.DataFrame'>\n",
            "RangeIndex: 15035 entries, 0 to 15034\n",
            "Data columns (total 19 columns):\n",
            " #   Column         Non-Null Count  Dtype  \n",
            "---  ------         --------------  -----  \n",
            " 0   date           15035 non-null  int64  \n",
            " 1   bedrooms       15035 non-null  int64  \n",
            " 2   bathrooms      15035 non-null  float64\n",
            " 3   sqft_living    15035 non-null  int64  \n",
            " 4   sqft_lot       15035 non-null  int64  \n",
            " 5   floors         15035 non-null  float64\n",
            " 6   waterfront     15035 non-null  int64  \n",
            " 7   view           15035 non-null  int64  \n",
            " 8   condition      15035 non-null  int64  \n",
            " 9   grade          15035 non-null  int64  \n",
            " 10  sqft_above     15035 non-null  int64  \n",
            " 11  sqft_basement  15035 non-null  int64  \n",
            " 12  yr_built       15035 non-null  int64  \n",
            " 13  yr_renovated   15035 non-null  int64  \n",
            " 14  zipcode        15035 non-null  int64  \n",
            " 15  lat            15035 non-null  float64\n",
            " 16  long           15035 non-null  float64\n",
            " 17  sqft_living15  15035 non-null  int64  \n",
            " 18  sqft_lot15     15035 non-null  int64  \n",
            "dtypes: float64(4), int64(15)\n",
            "memory usage: 2.2 MB\n"
          ]
        }
      ]
    },
    {
      "cell_type": "code",
      "source": [
        "#학습모듈\n",
        "from sklearn.model_selection import train_test_split\n",
        "from sklearn.metrics import mean_squared_error"
      ],
      "metadata": {
        "id": "RjtZHV09YQqV"
      },
      "execution_count": 272,
      "outputs": []
    },
    {
      "cell_type": "code",
      "source": [
        "from xgboost import XGBRegressor\n",
        "from lightgbm import LGBMRegressor\n",
        "from sklearn.ensemble import GradientBoostingRegressor\n",
        "#지금 다루는 것이 회귀모델이기 때문에 각 회귀모듈을 불러왔다."
      ],
      "metadata": {
        "id": "rUghoS44YSqX"
      },
      "execution_count": 273,
      "outputs": []
    },
    {
      "cell_type": "markdown",
      "source": [
        "*  Average Blending을 위해서 4가지의 모델을 가져왔다."
      ],
      "metadata": {
        "id": "58_jqW4oWACj"
      }
    },
    {
      "cell_type": "code",
      "source": [
        "#대회 평가 척도인 RMSE를 계산하는 함수\n",
        "\n",
        "def rmse(y_test, y_pred):\n",
        "    return np.sqrt(mean_squared_error(np.expm1(y_test), np.expm1(y_pred)))"
      ],
      "metadata": {
        "id": "CjX1mQOo_4Rn"
      },
      "execution_count": 364,
      "outputs": []
    },
    {
      "cell_type": "code",
      "source": [
        "random_state=2002 #고정값 지정 \n",
        "\n",
        "gboost = GradientBoostingRegressor(random_state=random_state)\n",
        "xgboost = XGBRegressor(random_state=random_state)\n",
        "lightgbm = LGBMRegressor(random_state=random_state)\n",
        "\n",
        "models = [gboost, xgboost, lightgbm]"
      ],
      "metadata": {
        "id": "PD8yodwUYV4j"
      },
      "execution_count": 368,
      "outputs": []
    },
    {
      "cell_type": "code",
      "source": [
        "def get_scores(models, train, y): #각 블렌딩의 score를 데이터 프레임 작업\n",
        "    df = {}\n",
        "    \n",
        "    for model in models:\n",
        "        model_name = model.__class__.__name__\n",
        "        \n",
        "        X_train, X_test, y_train, y_test = train_test_split(train, y, random_state=random_state, test_size=0.2)\n",
        "        model.fit(X_train, y_train)\n",
        "        y_pred = model.predict(X_test)\n",
        "        \n",
        "        df[model_name] = rmse(y_test, y_pred)\n",
        "        score_df = pd.DataFrame(df, index=['RMSE']).T.sort_values('RMSE', ascending=False)\n",
        "            \n",
        "    return score_df\n",
        "get_scores(models, train, y)"
      ],
      "metadata": {
        "colab": {
          "base_uri": "https://localhost:8080/",
          "height": 193
        },
        "id": "ZAu6oPJrYiGb",
        "outputId": "55676374-4cfa-4bed-c46b-f8bdff5636bf"
      },
      "execution_count": 369,
      "outputs": [
        {
          "output_type": "stream",
          "name": "stdout",
          "text": [
            "[13:15:43] WARNING: /workspace/src/objective/regression_obj.cu:152: reg:linear is now deprecated in favor of reg:squarederror.\n"
          ]
        },
        {
          "output_type": "execute_result",
          "data": {
            "text/plain": [
              "                                    RMSE\n",
              "XGBRegressor               140779.018548\n",
              "GradientBoostingRegressor  138720.603726\n",
              "RandomForestRegressor      136296.305217\n",
              "LGBMRegressor              124566.481186"
            ],
            "text/html": [
              "\n",
              "  <div id=\"df-acd46e0a-845a-4dc3-bc3c-f3cdcec20245\">\n",
              "    <div class=\"colab-df-container\">\n",
              "      <div>\n",
              "<style scoped>\n",
              "    .dataframe tbody tr th:only-of-type {\n",
              "        vertical-align: middle;\n",
              "    }\n",
              "\n",
              "    .dataframe tbody tr th {\n",
              "        vertical-align: top;\n",
              "    }\n",
              "\n",
              "    .dataframe thead th {\n",
              "        text-align: right;\n",
              "    }\n",
              "</style>\n",
              "<table border=\"1\" class=\"dataframe\">\n",
              "  <thead>\n",
              "    <tr style=\"text-align: right;\">\n",
              "      <th></th>\n",
              "      <th>RMSE</th>\n",
              "    </tr>\n",
              "  </thead>\n",
              "  <tbody>\n",
              "    <tr>\n",
              "      <th>XGBRegressor</th>\n",
              "      <td>140779.018548</td>\n",
              "    </tr>\n",
              "    <tr>\n",
              "      <th>GradientBoostingRegressor</th>\n",
              "      <td>138720.603726</td>\n",
              "    </tr>\n",
              "    <tr>\n",
              "      <th>RandomForestRegressor</th>\n",
              "      <td>136296.305217</td>\n",
              "    </tr>\n",
              "    <tr>\n",
              "      <th>LGBMRegressor</th>\n",
              "      <td>124566.481186</td>\n",
              "    </tr>\n",
              "  </tbody>\n",
              "</table>\n",
              "</div>\n",
              "      <button class=\"colab-df-convert\" onclick=\"convertToInteractive('df-acd46e0a-845a-4dc3-bc3c-f3cdcec20245')\"\n",
              "              title=\"Convert this dataframe to an interactive table.\"\n",
              "              style=\"display:none;\">\n",
              "        \n",
              "  <svg xmlns=\"http://www.w3.org/2000/svg\" height=\"24px\"viewBox=\"0 0 24 24\"\n",
              "       width=\"24px\">\n",
              "    <path d=\"M0 0h24v24H0V0z\" fill=\"none\"/>\n",
              "    <path d=\"M18.56 5.44l.94 2.06.94-2.06 2.06-.94-2.06-.94-.94-2.06-.94 2.06-2.06.94zm-11 1L8.5 8.5l.94-2.06 2.06-.94-2.06-.94L8.5 2.5l-.94 2.06-2.06.94zm10 10l.94 2.06.94-2.06 2.06-.94-2.06-.94-.94-2.06-.94 2.06-2.06.94z\"/><path d=\"M17.41 7.96l-1.37-1.37c-.4-.4-.92-.59-1.43-.59-.52 0-1.04.2-1.43.59L10.3 9.45l-7.72 7.72c-.78.78-.78 2.05 0 2.83L4 21.41c.39.39.9.59 1.41.59.51 0 1.02-.2 1.41-.59l7.78-7.78 2.81-2.81c.8-.78.8-2.07 0-2.86zM5.41 20L4 18.59l7.72-7.72 1.47 1.35L5.41 20z\"/>\n",
              "  </svg>\n",
              "      </button>\n",
              "      \n",
              "  <style>\n",
              "    .colab-df-container {\n",
              "      display:flex;\n",
              "      flex-wrap:wrap;\n",
              "      gap: 12px;\n",
              "    }\n",
              "\n",
              "    .colab-df-convert {\n",
              "      background-color: #E8F0FE;\n",
              "      border: none;\n",
              "      border-radius: 50%;\n",
              "      cursor: pointer;\n",
              "      display: none;\n",
              "      fill: #1967D2;\n",
              "      height: 32px;\n",
              "      padding: 0 0 0 0;\n",
              "      width: 32px;\n",
              "    }\n",
              "\n",
              "    .colab-df-convert:hover {\n",
              "      background-color: #E2EBFA;\n",
              "      box-shadow: 0px 1px 2px rgba(60, 64, 67, 0.3), 0px 1px 3px 1px rgba(60, 64, 67, 0.15);\n",
              "      fill: #174EA6;\n",
              "    }\n",
              "\n",
              "    [theme=dark] .colab-df-convert {\n",
              "      background-color: #3B4455;\n",
              "      fill: #D2E3FC;\n",
              "    }\n",
              "\n",
              "    [theme=dark] .colab-df-convert:hover {\n",
              "      background-color: #434B5C;\n",
              "      box-shadow: 0px 1px 3px 1px rgba(0, 0, 0, 0.15);\n",
              "      filter: drop-shadow(0px 1px 2px rgba(0, 0, 0, 0.3));\n",
              "      fill: #FFFFFF;\n",
              "    }\n",
              "  </style>\n",
              "\n",
              "      <script>\n",
              "        const buttonEl =\n",
              "          document.querySelector('#df-acd46e0a-845a-4dc3-bc3c-f3cdcec20245 button.colab-df-convert');\n",
              "        buttonEl.style.display =\n",
              "          google.colab.kernel.accessAllowed ? 'block' : 'none';\n",
              "\n",
              "        async function convertToInteractive(key) {\n",
              "          const element = document.querySelector('#df-acd46e0a-845a-4dc3-bc3c-f3cdcec20245');\n",
              "          const dataTable =\n",
              "            await google.colab.kernel.invokeFunction('convertToInteractive',\n",
              "                                                     [key], {});\n",
              "          if (!dataTable) return;\n",
              "\n",
              "          const docLinkHtml = 'Like what you see? Visit the ' +\n",
              "            '<a target=\"_blank\" href=https://colab.research.google.com/notebooks/data_table.ipynb>data table notebook</a>'\n",
              "            + ' to learn more about interactive tables.';\n",
              "          element.innerHTML = '';\n",
              "          dataTable['output_type'] = 'display_data';\n",
              "          await google.colab.output.renderOutput(dataTable, element);\n",
              "          const docLink = document.createElement('div');\n",
              "          docLink.innerHTML = docLinkHtml;\n",
              "          element.appendChild(docLink);\n",
              "        }\n",
              "      </script>\n",
              "    </div>\n",
              "  </div>\n",
              "  "
            ]
          },
          "metadata": {},
          "execution_count": 369
        }
      ]
    },
    {
      "cell_type": "markdown",
      "source": [
        "*  rmse점수가 제일 낮은 LGBM회귀모델을 채용"
      ],
      "metadata": {
        "id": "tDqa-bEBf3We"
      }
    },
    {
      "cell_type": "code",
      "source": [
        "#모델 최적의 하이퍼 파라미터를 찾는 함수\n",
        "def my_GridSearch(model, train, y, param_grid, verbose=2, n_jobs=5):\n",
        "    grid_model = GridSearchCV(model, param_grid=param_grid, scoring='neg_mean_squared_error',\\\n",
        "                              cv=5, verbose=verbose, n_jobs=n_jobs)\n",
        "    \n",
        "    grid_model.fit(train, y)\n",
        "\n",
        "    params = grid_model.cv_results_['params']\n",
        "    score = grid_model.cv_results_['mean_test_score']\n",
        "    \n",
        "    results = pd.DataFrame(params)\n",
        "    results['score'] = score\n",
        "    \n",
        "    results['RMSLE'] = np.sqrt(-1 * results['score'])\n",
        "    results = results.sort_values('RMSLE')\n",
        "\n",
        "    return results"
      ],
      "metadata": {
        "id": "_ZQEoFd-Agg7"
      },
      "execution_count": 370,
      "outputs": []
    },
    {
      "cell_type": "code",
      "source": [
        "from sklearn.model_selection import GridSearchCV #sklearn의 그리드 서치 모듈\n",
        "\n",
        "param_grid = param_grid = {'n_estimators': [100, 200],'max_depth': [5, 10],'learning_rate' : [0.001, 0.01]}"
      ],
      "metadata": {
        "id": "3U0TQDjqY8Cm"
      },
      "execution_count": 371,
      "outputs": []
    },
    {
      "cell_type": "markdown",
      "source": [
        "*사용된 튜닝 클래스인자*\n",
        "---\n",
        "*  **param_grid** : 복수 파라미터 최적화용 그리드\n",
        "*  **n_estimators** : 사용하는 개별 모델의 개수, 보통 50~100 이상의 정수 사용\n",
        "*  **max_depth** : 의사 결정 나무의 깊이, 정수 사용의사 결정 나무의 깊이, 정수 사용\n",
        "> num_leaves, min_data_in_leaf는 max_depth를 좀더 다양하게 사용하는 인자가 있다.(이번에 여러번 사용해 봤지만 점수가 점점 올라가기만 해서 따로 사용을 하지 않았다.)\n",
        "\n",
        "\n"
      ],
      "metadata": {
        "id": "P9zF0ozEgRGk"
      }
    },
    {
      "cell_type": "code",
      "source": [
        "model = LGBMRegressor(random_state=random_state) # 위에서 선정한 LGBM회귀모델"
      ],
      "metadata": {
        "id": "qn-oLmYpY-AX"
      },
      "execution_count": 372,
      "outputs": []
    },
    {
      "cell_type": "code",
      "source": [
        "grid_model = GridSearchCV(model, param_grid=param_grid, \n",
        "                          scoring='neg_mean_squared_error', \n",
        "                          cv=5, verbose=1, n_jobs=5)\n",
        "\n",
        "grid_model.fit(train, y)\n",
        "#그리드 서치를 시작"
      ],
      "metadata": {
        "colab": {
          "base_uri": "https://localhost:8080/"
        },
        "id": "8rFLVUisY_K3",
        "outputId": "5595061e-734a-4166-bda1-da2e36d7ceea"
      },
      "execution_count": 373,
      "outputs": [
        {
          "output_type": "stream",
          "name": "stdout",
          "text": [
            "Fitting 5 folds for each of 8 candidates, totalling 40 fits\n"
          ]
        },
        {
          "output_type": "execute_result",
          "data": {
            "text/plain": [
              "GridSearchCV(cv=5, estimator=LGBMRegressor(random_state=2002), n_jobs=5,\n",
              "             param_grid={'learning_rate': [0.001, 0.01], 'max_depth': [5, 10],\n",
              "                         'n_estimators': [100, 200]},\n",
              "             scoring='neg_mean_squared_error', verbose=1)"
            ]
          },
          "metadata": {},
          "execution_count": 373
        }
      ]
    },
    {
      "cell_type": "code",
      "source": [
        "grid_model.cv_results_ #위에서 실행한 그리드 서치의 결과들"
      ],
      "metadata": {
        "colab": {
          "base_uri": "https://localhost:8080/"
        },
        "id": "ix6SZnmdZFCX",
        "outputId": "3779778c-fb90-4fce-a208-62ce363a5889"
      },
      "execution_count": 374,
      "outputs": [
        {
          "output_type": "execute_result",
          "data": {
            "text/plain": [
              "{'mean_fit_time': array([0.96190882, 1.97467017, 1.3890079 , 2.53001833, 0.99712076,\n",
              "        1.7891264 , 1.34437928, 2.41395278]),\n",
              " 'std_fit_time': array([0.07692933, 0.17172201, 0.13391305, 0.09799188, 0.08158245,\n",
              "        0.11221205, 0.05341536, 0.1268108 ]),\n",
              " 'mean_score_time': array([0.04360104, 0.08168621, 0.04029126, 0.07451744, 0.04490972,\n",
              "        0.09229646, 0.05435133, 0.07640529]),\n",
              " 'std_score_time': array([0.00539546, 0.01636562, 0.00930983, 0.01726272, 0.00834949,\n",
              "        0.01364739, 0.00878417, 0.02235397]),\n",
              " 'param_learning_rate': masked_array(data=[0.001, 0.001, 0.001, 0.001, 0.01, 0.01, 0.01, 0.01],\n",
              "              mask=[False, False, False, False, False, False, False, False],\n",
              "        fill_value='?',\n",
              "             dtype=object),\n",
              " 'param_max_depth': masked_array(data=[5, 5, 10, 10, 5, 5, 10, 10],\n",
              "              mask=[False, False, False, False, False, False, False, False],\n",
              "        fill_value='?',\n",
              "             dtype=object),\n",
              " 'param_n_estimators': masked_array(data=[100, 200, 100, 200, 100, 200, 100, 200],\n",
              "              mask=[False, False, False, False, False, False, False, False],\n",
              "        fill_value='?',\n",
              "             dtype=object),\n",
              " 'params': [{'learning_rate': 0.001, 'max_depth': 5, 'n_estimators': 100},\n",
              "  {'learning_rate': 0.001, 'max_depth': 5, 'n_estimators': 200},\n",
              "  {'learning_rate': 0.001, 'max_depth': 10, 'n_estimators': 100},\n",
              "  {'learning_rate': 0.001, 'max_depth': 10, 'n_estimators': 200},\n",
              "  {'learning_rate': 0.01, 'max_depth': 5, 'n_estimators': 100},\n",
              "  {'learning_rate': 0.01, 'max_depth': 5, 'n_estimators': 200},\n",
              "  {'learning_rate': 0.01, 'max_depth': 10, 'n_estimators': 100},\n",
              "  {'learning_rate': 0.01, 'max_depth': 10, 'n_estimators': 200}],\n",
              " 'split0_test_score': array([-0.25005949, -0.21673128, -0.24969727, -0.21590678, -0.08592708,\n",
              "        -0.04650251, -0.083688  , -0.04416906]),\n",
              " 'split1_test_score': array([-0.24152098, -0.21008688, -0.24088954, -0.20901626, -0.08554833,\n",
              "        -0.04784886, -0.08333587, -0.04541459]),\n",
              " 'split2_test_score': array([-0.2364561 , -0.20531398, -0.23609158, -0.20449805, -0.08401014,\n",
              "        -0.04785008, -0.08125552, -0.0449132 ]),\n",
              " 'split3_test_score': array([-0.24545442, -0.21318719, -0.24484745, -0.2121283 , -0.08547793,\n",
              "        -0.04786294, -0.08248617, -0.04438376]),\n",
              " 'split4_test_score': array([-0.22607197, -0.19512133, -0.22547976, -0.19395198, -0.07753793,\n",
              "        -0.04350747, -0.07463321, -0.04034777]),\n",
              " 'mean_test_score': array([-0.23991259, -0.20808813, -0.23940112, -0.20710027, -0.08370028,\n",
              "        -0.04671437, -0.08107976, -0.04384568]),\n",
              " 'std_test_score': array([0.0082434 , 0.00749044, 0.00827824, 0.00756513, 0.00314975,\n",
              "        0.00168672, 0.00333046, 0.0018017 ]),\n",
              " 'rank_test_score': array([8, 6, 7, 5, 4, 2, 3, 1], dtype=int32)}"
            ]
          },
          "metadata": {},
          "execution_count": 374
        }
      ]
    },
    {
      "cell_type": "code",
      "source": [
        "params = grid_model.cv_results_['params'] #튜닝한 파라미터의 동작을 확인\n",
        "params"
      ],
      "metadata": {
        "colab": {
          "base_uri": "https://localhost:8080/"
        },
        "id": "shnSmzV5ZI85",
        "outputId": "9e3b89d1-c325-4725-d144-9dc1248f06ac"
      },
      "execution_count": 375,
      "outputs": [
        {
          "output_type": "execute_result",
          "data": {
            "text/plain": [
              "[{'learning_rate': 0.001, 'max_depth': 5, 'n_estimators': 100},\n",
              " {'learning_rate': 0.001, 'max_depth': 5, 'n_estimators': 200},\n",
              " {'learning_rate': 0.001, 'max_depth': 10, 'n_estimators': 100},\n",
              " {'learning_rate': 0.001, 'max_depth': 10, 'n_estimators': 200},\n",
              " {'learning_rate': 0.01, 'max_depth': 5, 'n_estimators': 100},\n",
              " {'learning_rate': 0.01, 'max_depth': 5, 'n_estimators': 200},\n",
              " {'learning_rate': 0.01, 'max_depth': 10, 'n_estimators': 100},\n",
              " {'learning_rate': 0.01, 'max_depth': 10, 'n_estimators': 200}]"
            ]
          },
          "metadata": {},
          "execution_count": 375
        }
      ]
    },
    {
      "cell_type": "code",
      "source": [
        "score = grid_model.cv_results_['mean_test_score'] #점수를 확인"
      ],
      "metadata": {
        "id": "guoYbqZSZK_c"
      },
      "execution_count": 376,
      "outputs": []
    },
    {
      "cell_type": "code",
      "source": [
        "results = pd.DataFrame(params) #mse 점수를 확인\n",
        "results['score'] = score\n",
        "\n",
        "results"
      ],
      "metadata": {
        "colab": {
          "base_uri": "https://localhost:8080/",
          "height": 300
        },
        "id": "iSofxcxvZM7Q",
        "outputId": "da54371b-5bb5-4fcf-83cc-ca4dc4f559d8"
      },
      "execution_count": 377,
      "outputs": [
        {
          "output_type": "execute_result",
          "data": {
            "text/plain": [
              "   learning_rate  max_depth  n_estimators     score\n",
              "0          0.001          5           100 -0.239913\n",
              "1          0.001          5           200 -0.208088\n",
              "2          0.001         10           100 -0.239401\n",
              "3          0.001         10           200 -0.207100\n",
              "4          0.010          5           100 -0.083700\n",
              "5          0.010          5           200 -0.046714\n",
              "6          0.010         10           100 -0.081080\n",
              "7          0.010         10           200 -0.043846"
            ],
            "text/html": [
              "\n",
              "  <div id=\"df-ad60af6c-a8ce-4295-9904-250418c15a31\">\n",
              "    <div class=\"colab-df-container\">\n",
              "      <div>\n",
              "<style scoped>\n",
              "    .dataframe tbody tr th:only-of-type {\n",
              "        vertical-align: middle;\n",
              "    }\n",
              "\n",
              "    .dataframe tbody tr th {\n",
              "        vertical-align: top;\n",
              "    }\n",
              "\n",
              "    .dataframe thead th {\n",
              "        text-align: right;\n",
              "    }\n",
              "</style>\n",
              "<table border=\"1\" class=\"dataframe\">\n",
              "  <thead>\n",
              "    <tr style=\"text-align: right;\">\n",
              "      <th></th>\n",
              "      <th>learning_rate</th>\n",
              "      <th>max_depth</th>\n",
              "      <th>n_estimators</th>\n",
              "      <th>score</th>\n",
              "    </tr>\n",
              "  </thead>\n",
              "  <tbody>\n",
              "    <tr>\n",
              "      <th>0</th>\n",
              "      <td>0.001</td>\n",
              "      <td>5</td>\n",
              "      <td>100</td>\n",
              "      <td>-0.239913</td>\n",
              "    </tr>\n",
              "    <tr>\n",
              "      <th>1</th>\n",
              "      <td>0.001</td>\n",
              "      <td>5</td>\n",
              "      <td>200</td>\n",
              "      <td>-0.208088</td>\n",
              "    </tr>\n",
              "    <tr>\n",
              "      <th>2</th>\n",
              "      <td>0.001</td>\n",
              "      <td>10</td>\n",
              "      <td>100</td>\n",
              "      <td>-0.239401</td>\n",
              "    </tr>\n",
              "    <tr>\n",
              "      <th>3</th>\n",
              "      <td>0.001</td>\n",
              "      <td>10</td>\n",
              "      <td>200</td>\n",
              "      <td>-0.207100</td>\n",
              "    </tr>\n",
              "    <tr>\n",
              "      <th>4</th>\n",
              "      <td>0.010</td>\n",
              "      <td>5</td>\n",
              "      <td>100</td>\n",
              "      <td>-0.083700</td>\n",
              "    </tr>\n",
              "    <tr>\n",
              "      <th>5</th>\n",
              "      <td>0.010</td>\n",
              "      <td>5</td>\n",
              "      <td>200</td>\n",
              "      <td>-0.046714</td>\n",
              "    </tr>\n",
              "    <tr>\n",
              "      <th>6</th>\n",
              "      <td>0.010</td>\n",
              "      <td>10</td>\n",
              "      <td>100</td>\n",
              "      <td>-0.081080</td>\n",
              "    </tr>\n",
              "    <tr>\n",
              "      <th>7</th>\n",
              "      <td>0.010</td>\n",
              "      <td>10</td>\n",
              "      <td>200</td>\n",
              "      <td>-0.043846</td>\n",
              "    </tr>\n",
              "  </tbody>\n",
              "</table>\n",
              "</div>\n",
              "      <button class=\"colab-df-convert\" onclick=\"convertToInteractive('df-ad60af6c-a8ce-4295-9904-250418c15a31')\"\n",
              "              title=\"Convert this dataframe to an interactive table.\"\n",
              "              style=\"display:none;\">\n",
              "        \n",
              "  <svg xmlns=\"http://www.w3.org/2000/svg\" height=\"24px\"viewBox=\"0 0 24 24\"\n",
              "       width=\"24px\">\n",
              "    <path d=\"M0 0h24v24H0V0z\" fill=\"none\"/>\n",
              "    <path d=\"M18.56 5.44l.94 2.06.94-2.06 2.06-.94-2.06-.94-.94-2.06-.94 2.06-2.06.94zm-11 1L8.5 8.5l.94-2.06 2.06-.94-2.06-.94L8.5 2.5l-.94 2.06-2.06.94zm10 10l.94 2.06.94-2.06 2.06-.94-2.06-.94-.94-2.06-.94 2.06-2.06.94z\"/><path d=\"M17.41 7.96l-1.37-1.37c-.4-.4-.92-.59-1.43-.59-.52 0-1.04.2-1.43.59L10.3 9.45l-7.72 7.72c-.78.78-.78 2.05 0 2.83L4 21.41c.39.39.9.59 1.41.59.51 0 1.02-.2 1.41-.59l7.78-7.78 2.81-2.81c.8-.78.8-2.07 0-2.86zM5.41 20L4 18.59l7.72-7.72 1.47 1.35L5.41 20z\"/>\n",
              "  </svg>\n",
              "      </button>\n",
              "      \n",
              "  <style>\n",
              "    .colab-df-container {\n",
              "      display:flex;\n",
              "      flex-wrap:wrap;\n",
              "      gap: 12px;\n",
              "    }\n",
              "\n",
              "    .colab-df-convert {\n",
              "      background-color: #E8F0FE;\n",
              "      border: none;\n",
              "      border-radius: 50%;\n",
              "      cursor: pointer;\n",
              "      display: none;\n",
              "      fill: #1967D2;\n",
              "      height: 32px;\n",
              "      padding: 0 0 0 0;\n",
              "      width: 32px;\n",
              "    }\n",
              "\n",
              "    .colab-df-convert:hover {\n",
              "      background-color: #E2EBFA;\n",
              "      box-shadow: 0px 1px 2px rgba(60, 64, 67, 0.3), 0px 1px 3px 1px rgba(60, 64, 67, 0.15);\n",
              "      fill: #174EA6;\n",
              "    }\n",
              "\n",
              "    [theme=dark] .colab-df-convert {\n",
              "      background-color: #3B4455;\n",
              "      fill: #D2E3FC;\n",
              "    }\n",
              "\n",
              "    [theme=dark] .colab-df-convert:hover {\n",
              "      background-color: #434B5C;\n",
              "      box-shadow: 0px 1px 3px 1px rgba(0, 0, 0, 0.15);\n",
              "      filter: drop-shadow(0px 1px 2px rgba(0, 0, 0, 0.3));\n",
              "      fill: #FFFFFF;\n",
              "    }\n",
              "  </style>\n",
              "\n",
              "      <script>\n",
              "        const buttonEl =\n",
              "          document.querySelector('#df-ad60af6c-a8ce-4295-9904-250418c15a31 button.colab-df-convert');\n",
              "        buttonEl.style.display =\n",
              "          google.colab.kernel.accessAllowed ? 'block' : 'none';\n",
              "\n",
              "        async function convertToInteractive(key) {\n",
              "          const element = document.querySelector('#df-ad60af6c-a8ce-4295-9904-250418c15a31');\n",
              "          const dataTable =\n",
              "            await google.colab.kernel.invokeFunction('convertToInteractive',\n",
              "                                                     [key], {});\n",
              "          if (!dataTable) return;\n",
              "\n",
              "          const docLinkHtml = 'Like what you see? Visit the ' +\n",
              "            '<a target=\"_blank\" href=https://colab.research.google.com/notebooks/data_table.ipynb>data table notebook</a>'\n",
              "            + ' to learn more about interactive tables.';\n",
              "          element.innerHTML = '';\n",
              "          dataTable['output_type'] = 'display_data';\n",
              "          await google.colab.output.renderOutput(dataTable, element);\n",
              "          const docLink = document.createElement('div');\n",
              "          docLink.innerHTML = docLinkHtml;\n",
              "          element.appendChild(docLink);\n",
              "        }\n",
              "      </script>\n",
              "    </div>\n",
              "  </div>\n",
              "  "
            ]
          },
          "metadata": {},
          "execution_count": 377
        }
      ]
    },
    {
      "cell_type": "markdown",
      "source": [
        "*  조건이 RMSE값을 기준으로 하기에 score에 RMSE를 적용"
      ],
      "metadata": {
        "id": "6q0T8rmojiZa"
      }
    },
    {
      "cell_type": "code",
      "source": [
        "results['RMSE'] = np.sqrt(-1 * results['score']) \n",
        "results"
      ],
      "metadata": {
        "colab": {
          "base_uri": "https://localhost:8080/",
          "height": 300
        },
        "id": "ZR4swNX2ZNVa",
        "outputId": "c7a750eb-0697-44a6-d619-629f990f3dee"
      },
      "execution_count": 378,
      "outputs": [
        {
          "output_type": "execute_result",
          "data": {
            "text/plain": [
              "   learning_rate  max_depth  n_estimators     score      RMSE\n",
              "0          0.001          5           100 -0.239913  0.489809\n",
              "1          0.001          5           200 -0.208088  0.456167\n",
              "2          0.001         10           100 -0.239401  0.489286\n",
              "3          0.001         10           200 -0.207100  0.455083\n",
              "4          0.010          5           100 -0.083700  0.289310\n",
              "5          0.010          5           200 -0.046714  0.216135\n",
              "6          0.010         10           100 -0.081080  0.284745\n",
              "7          0.010         10           200 -0.043846  0.209394"
            ],
            "text/html": [
              "\n",
              "  <div id=\"df-49cb1d2c-6544-4b14-b834-b2644b2968bf\">\n",
              "    <div class=\"colab-df-container\">\n",
              "      <div>\n",
              "<style scoped>\n",
              "    .dataframe tbody tr th:only-of-type {\n",
              "        vertical-align: middle;\n",
              "    }\n",
              "\n",
              "    .dataframe tbody tr th {\n",
              "        vertical-align: top;\n",
              "    }\n",
              "\n",
              "    .dataframe thead th {\n",
              "        text-align: right;\n",
              "    }\n",
              "</style>\n",
              "<table border=\"1\" class=\"dataframe\">\n",
              "  <thead>\n",
              "    <tr style=\"text-align: right;\">\n",
              "      <th></th>\n",
              "      <th>learning_rate</th>\n",
              "      <th>max_depth</th>\n",
              "      <th>n_estimators</th>\n",
              "      <th>score</th>\n",
              "      <th>RMSE</th>\n",
              "    </tr>\n",
              "  </thead>\n",
              "  <tbody>\n",
              "    <tr>\n",
              "      <th>0</th>\n",
              "      <td>0.001</td>\n",
              "      <td>5</td>\n",
              "      <td>100</td>\n",
              "      <td>-0.239913</td>\n",
              "      <td>0.489809</td>\n",
              "    </tr>\n",
              "    <tr>\n",
              "      <th>1</th>\n",
              "      <td>0.001</td>\n",
              "      <td>5</td>\n",
              "      <td>200</td>\n",
              "      <td>-0.208088</td>\n",
              "      <td>0.456167</td>\n",
              "    </tr>\n",
              "    <tr>\n",
              "      <th>2</th>\n",
              "      <td>0.001</td>\n",
              "      <td>10</td>\n",
              "      <td>100</td>\n",
              "      <td>-0.239401</td>\n",
              "      <td>0.489286</td>\n",
              "    </tr>\n",
              "    <tr>\n",
              "      <th>3</th>\n",
              "      <td>0.001</td>\n",
              "      <td>10</td>\n",
              "      <td>200</td>\n",
              "      <td>-0.207100</td>\n",
              "      <td>0.455083</td>\n",
              "    </tr>\n",
              "    <tr>\n",
              "      <th>4</th>\n",
              "      <td>0.010</td>\n",
              "      <td>5</td>\n",
              "      <td>100</td>\n",
              "      <td>-0.083700</td>\n",
              "      <td>0.289310</td>\n",
              "    </tr>\n",
              "    <tr>\n",
              "      <th>5</th>\n",
              "      <td>0.010</td>\n",
              "      <td>5</td>\n",
              "      <td>200</td>\n",
              "      <td>-0.046714</td>\n",
              "      <td>0.216135</td>\n",
              "    </tr>\n",
              "    <tr>\n",
              "      <th>6</th>\n",
              "      <td>0.010</td>\n",
              "      <td>10</td>\n",
              "      <td>100</td>\n",
              "      <td>-0.081080</td>\n",
              "      <td>0.284745</td>\n",
              "    </tr>\n",
              "    <tr>\n",
              "      <th>7</th>\n",
              "      <td>0.010</td>\n",
              "      <td>10</td>\n",
              "      <td>200</td>\n",
              "      <td>-0.043846</td>\n",
              "      <td>0.209394</td>\n",
              "    </tr>\n",
              "  </tbody>\n",
              "</table>\n",
              "</div>\n",
              "      <button class=\"colab-df-convert\" onclick=\"convertToInteractive('df-49cb1d2c-6544-4b14-b834-b2644b2968bf')\"\n",
              "              title=\"Convert this dataframe to an interactive table.\"\n",
              "              style=\"display:none;\">\n",
              "        \n",
              "  <svg xmlns=\"http://www.w3.org/2000/svg\" height=\"24px\"viewBox=\"0 0 24 24\"\n",
              "       width=\"24px\">\n",
              "    <path d=\"M0 0h24v24H0V0z\" fill=\"none\"/>\n",
              "    <path d=\"M18.56 5.44l.94 2.06.94-2.06 2.06-.94-2.06-.94-.94-2.06-.94 2.06-2.06.94zm-11 1L8.5 8.5l.94-2.06 2.06-.94-2.06-.94L8.5 2.5l-.94 2.06-2.06.94zm10 10l.94 2.06.94-2.06 2.06-.94-2.06-.94-.94-2.06-.94 2.06-2.06.94z\"/><path d=\"M17.41 7.96l-1.37-1.37c-.4-.4-.92-.59-1.43-.59-.52 0-1.04.2-1.43.59L10.3 9.45l-7.72 7.72c-.78.78-.78 2.05 0 2.83L4 21.41c.39.39.9.59 1.41.59.51 0 1.02-.2 1.41-.59l7.78-7.78 2.81-2.81c.8-.78.8-2.07 0-2.86zM5.41 20L4 18.59l7.72-7.72 1.47 1.35L5.41 20z\"/>\n",
              "  </svg>\n",
              "      </button>\n",
              "      \n",
              "  <style>\n",
              "    .colab-df-container {\n",
              "      display:flex;\n",
              "      flex-wrap:wrap;\n",
              "      gap: 12px;\n",
              "    }\n",
              "\n",
              "    .colab-df-convert {\n",
              "      background-color: #E8F0FE;\n",
              "      border: none;\n",
              "      border-radius: 50%;\n",
              "      cursor: pointer;\n",
              "      display: none;\n",
              "      fill: #1967D2;\n",
              "      height: 32px;\n",
              "      padding: 0 0 0 0;\n",
              "      width: 32px;\n",
              "    }\n",
              "\n",
              "    .colab-df-convert:hover {\n",
              "      background-color: #E2EBFA;\n",
              "      box-shadow: 0px 1px 2px rgba(60, 64, 67, 0.3), 0px 1px 3px 1px rgba(60, 64, 67, 0.15);\n",
              "      fill: #174EA6;\n",
              "    }\n",
              "\n",
              "    [theme=dark] .colab-df-convert {\n",
              "      background-color: #3B4455;\n",
              "      fill: #D2E3FC;\n",
              "    }\n",
              "\n",
              "    [theme=dark] .colab-df-convert:hover {\n",
              "      background-color: #434B5C;\n",
              "      box-shadow: 0px 1px 3px 1px rgba(0, 0, 0, 0.15);\n",
              "      filter: drop-shadow(0px 1px 2px rgba(0, 0, 0, 0.3));\n",
              "      fill: #FFFFFF;\n",
              "    }\n",
              "  </style>\n",
              "\n",
              "      <script>\n",
              "        const buttonEl =\n",
              "          document.querySelector('#df-49cb1d2c-6544-4b14-b834-b2644b2968bf button.colab-df-convert');\n",
              "        buttonEl.style.display =\n",
              "          google.colab.kernel.accessAllowed ? 'block' : 'none';\n",
              "\n",
              "        async function convertToInteractive(key) {\n",
              "          const element = document.querySelector('#df-49cb1d2c-6544-4b14-b834-b2644b2968bf');\n",
              "          const dataTable =\n",
              "            await google.colab.kernel.invokeFunction('convertToInteractive',\n",
              "                                                     [key], {});\n",
              "          if (!dataTable) return;\n",
              "\n",
              "          const docLinkHtml = 'Like what you see? Visit the ' +\n",
              "            '<a target=\"_blank\" href=https://colab.research.google.com/notebooks/data_table.ipynb>data table notebook</a>'\n",
              "            + ' to learn more about interactive tables.';\n",
              "          element.innerHTML = '';\n",
              "          dataTable['output_type'] = 'display_data';\n",
              "          await google.colab.output.renderOutput(dataTable, element);\n",
              "          const docLink = document.createElement('div');\n",
              "          docLink.innerHTML = docLinkHtml;\n",
              "          element.appendChild(docLink);\n",
              "        }\n",
              "      </script>\n",
              "    </div>\n",
              "  </div>\n",
              "  "
            ]
          },
          "metadata": {},
          "execution_count": 378
        }
      ]
    },
    {
      "cell_type": "code",
      "source": [
        "results = results.rename(columns={'RMSE': 'RMSLE'})\n",
        "results"
      ],
      "metadata": {
        "colab": {
          "base_uri": "https://localhost:8080/",
          "height": 300
        },
        "id": "mu7ybqV6ZRbK",
        "outputId": "f3c5bc10-5f15-47ea-8d85-ddfb4da1cd5e"
      },
      "execution_count": 379,
      "outputs": [
        {
          "output_type": "execute_result",
          "data": {
            "text/plain": [
              "   learning_rate  max_depth  n_estimators     score     RMSLE\n",
              "0          0.001          5           100 -0.239913  0.489809\n",
              "1          0.001          5           200 -0.208088  0.456167\n",
              "2          0.001         10           100 -0.239401  0.489286\n",
              "3          0.001         10           200 -0.207100  0.455083\n",
              "4          0.010          5           100 -0.083700  0.289310\n",
              "5          0.010          5           200 -0.046714  0.216135\n",
              "6          0.010         10           100 -0.081080  0.284745\n",
              "7          0.010         10           200 -0.043846  0.209394"
            ],
            "text/html": [
              "\n",
              "  <div id=\"df-1ae35701-3f9d-4cf7-a257-b15d7871b550\">\n",
              "    <div class=\"colab-df-container\">\n",
              "      <div>\n",
              "<style scoped>\n",
              "    .dataframe tbody tr th:only-of-type {\n",
              "        vertical-align: middle;\n",
              "    }\n",
              "\n",
              "    .dataframe tbody tr th {\n",
              "        vertical-align: top;\n",
              "    }\n",
              "\n",
              "    .dataframe thead th {\n",
              "        text-align: right;\n",
              "    }\n",
              "</style>\n",
              "<table border=\"1\" class=\"dataframe\">\n",
              "  <thead>\n",
              "    <tr style=\"text-align: right;\">\n",
              "      <th></th>\n",
              "      <th>learning_rate</th>\n",
              "      <th>max_depth</th>\n",
              "      <th>n_estimators</th>\n",
              "      <th>score</th>\n",
              "      <th>RMSLE</th>\n",
              "    </tr>\n",
              "  </thead>\n",
              "  <tbody>\n",
              "    <tr>\n",
              "      <th>0</th>\n",
              "      <td>0.001</td>\n",
              "      <td>5</td>\n",
              "      <td>100</td>\n",
              "      <td>-0.239913</td>\n",
              "      <td>0.489809</td>\n",
              "    </tr>\n",
              "    <tr>\n",
              "      <th>1</th>\n",
              "      <td>0.001</td>\n",
              "      <td>5</td>\n",
              "      <td>200</td>\n",
              "      <td>-0.208088</td>\n",
              "      <td>0.456167</td>\n",
              "    </tr>\n",
              "    <tr>\n",
              "      <th>2</th>\n",
              "      <td>0.001</td>\n",
              "      <td>10</td>\n",
              "      <td>100</td>\n",
              "      <td>-0.239401</td>\n",
              "      <td>0.489286</td>\n",
              "    </tr>\n",
              "    <tr>\n",
              "      <th>3</th>\n",
              "      <td>0.001</td>\n",
              "      <td>10</td>\n",
              "      <td>200</td>\n",
              "      <td>-0.207100</td>\n",
              "      <td>0.455083</td>\n",
              "    </tr>\n",
              "    <tr>\n",
              "      <th>4</th>\n",
              "      <td>0.010</td>\n",
              "      <td>5</td>\n",
              "      <td>100</td>\n",
              "      <td>-0.083700</td>\n",
              "      <td>0.289310</td>\n",
              "    </tr>\n",
              "    <tr>\n",
              "      <th>5</th>\n",
              "      <td>0.010</td>\n",
              "      <td>5</td>\n",
              "      <td>200</td>\n",
              "      <td>-0.046714</td>\n",
              "      <td>0.216135</td>\n",
              "    </tr>\n",
              "    <tr>\n",
              "      <th>6</th>\n",
              "      <td>0.010</td>\n",
              "      <td>10</td>\n",
              "      <td>100</td>\n",
              "      <td>-0.081080</td>\n",
              "      <td>0.284745</td>\n",
              "    </tr>\n",
              "    <tr>\n",
              "      <th>7</th>\n",
              "      <td>0.010</td>\n",
              "      <td>10</td>\n",
              "      <td>200</td>\n",
              "      <td>-0.043846</td>\n",
              "      <td>0.209394</td>\n",
              "    </tr>\n",
              "  </tbody>\n",
              "</table>\n",
              "</div>\n",
              "      <button class=\"colab-df-convert\" onclick=\"convertToInteractive('df-1ae35701-3f9d-4cf7-a257-b15d7871b550')\"\n",
              "              title=\"Convert this dataframe to an interactive table.\"\n",
              "              style=\"display:none;\">\n",
              "        \n",
              "  <svg xmlns=\"http://www.w3.org/2000/svg\" height=\"24px\"viewBox=\"0 0 24 24\"\n",
              "       width=\"24px\">\n",
              "    <path d=\"M0 0h24v24H0V0z\" fill=\"none\"/>\n",
              "    <path d=\"M18.56 5.44l.94 2.06.94-2.06 2.06-.94-2.06-.94-.94-2.06-.94 2.06-2.06.94zm-11 1L8.5 8.5l.94-2.06 2.06-.94-2.06-.94L8.5 2.5l-.94 2.06-2.06.94zm10 10l.94 2.06.94-2.06 2.06-.94-2.06-.94-.94-2.06-.94 2.06-2.06.94z\"/><path d=\"M17.41 7.96l-1.37-1.37c-.4-.4-.92-.59-1.43-.59-.52 0-1.04.2-1.43.59L10.3 9.45l-7.72 7.72c-.78.78-.78 2.05 0 2.83L4 21.41c.39.39.9.59 1.41.59.51 0 1.02-.2 1.41-.59l7.78-7.78 2.81-2.81c.8-.78.8-2.07 0-2.86zM5.41 20L4 18.59l7.72-7.72 1.47 1.35L5.41 20z\"/>\n",
              "  </svg>\n",
              "      </button>\n",
              "      \n",
              "  <style>\n",
              "    .colab-df-container {\n",
              "      display:flex;\n",
              "      flex-wrap:wrap;\n",
              "      gap: 12px;\n",
              "    }\n",
              "\n",
              "    .colab-df-convert {\n",
              "      background-color: #E8F0FE;\n",
              "      border: none;\n",
              "      border-radius: 50%;\n",
              "      cursor: pointer;\n",
              "      display: none;\n",
              "      fill: #1967D2;\n",
              "      height: 32px;\n",
              "      padding: 0 0 0 0;\n",
              "      width: 32px;\n",
              "    }\n",
              "\n",
              "    .colab-df-convert:hover {\n",
              "      background-color: #E2EBFA;\n",
              "      box-shadow: 0px 1px 2px rgba(60, 64, 67, 0.3), 0px 1px 3px 1px rgba(60, 64, 67, 0.15);\n",
              "      fill: #174EA6;\n",
              "    }\n",
              "\n",
              "    [theme=dark] .colab-df-convert {\n",
              "      background-color: #3B4455;\n",
              "      fill: #D2E3FC;\n",
              "    }\n",
              "\n",
              "    [theme=dark] .colab-df-convert:hover {\n",
              "      background-color: #434B5C;\n",
              "      box-shadow: 0px 1px 3px 1px rgba(0, 0, 0, 0.15);\n",
              "      filter: drop-shadow(0px 1px 2px rgba(0, 0, 0, 0.3));\n",
              "      fill: #FFFFFF;\n",
              "    }\n",
              "  </style>\n",
              "\n",
              "      <script>\n",
              "        const buttonEl =\n",
              "          document.querySelector('#df-1ae35701-3f9d-4cf7-a257-b15d7871b550 button.colab-df-convert');\n",
              "        buttonEl.style.display =\n",
              "          google.colab.kernel.accessAllowed ? 'block' : 'none';\n",
              "\n",
              "        async function convertToInteractive(key) {\n",
              "          const element = document.querySelector('#df-1ae35701-3f9d-4cf7-a257-b15d7871b550');\n",
              "          const dataTable =\n",
              "            await google.colab.kernel.invokeFunction('convertToInteractive',\n",
              "                                                     [key], {});\n",
              "          if (!dataTable) return;\n",
              "\n",
              "          const docLinkHtml = 'Like what you see? Visit the ' +\n",
              "            '<a target=\"_blank\" href=https://colab.research.google.com/notebooks/data_table.ipynb>data table notebook</a>'\n",
              "            + ' to learn more about interactive tables.';\n",
              "          element.innerHTML = '';\n",
              "          dataTable['output_type'] = 'display_data';\n",
              "          await google.colab.output.renderOutput(dataTable, element);\n",
              "          const docLink = document.createElement('div');\n",
              "          docLink.innerHTML = docLinkHtml;\n",
              "          element.appendChild(docLink);\n",
              "        }\n",
              "      </script>\n",
              "    </div>\n",
              "  </div>\n",
              "  "
            ]
          },
          "metadata": {},
          "execution_count": 379
        }
      ]
    },
    {
      "cell_type": "code",
      "source": [
        "results = results.sort_values('RMSLE') #sort_values 낮은순서대로 정렬\n",
        "results"
      ],
      "metadata": {
        "colab": {
          "base_uri": "https://localhost:8080/",
          "height": 300
        },
        "id": "162XwmcVZUu2",
        "outputId": "32252777-6fc9-4dab-f2a4-a0853c7a517a"
      },
      "execution_count": 380,
      "outputs": [
        {
          "output_type": "execute_result",
          "data": {
            "text/plain": [
              "   learning_rate  max_depth  n_estimators     score     RMSLE\n",
              "7          0.010         10           200 -0.043846  0.209394\n",
              "5          0.010          5           200 -0.046714  0.216135\n",
              "6          0.010         10           100 -0.081080  0.284745\n",
              "4          0.010          5           100 -0.083700  0.289310\n",
              "3          0.001         10           200 -0.207100  0.455083\n",
              "1          0.001          5           200 -0.208088  0.456167\n",
              "2          0.001         10           100 -0.239401  0.489286\n",
              "0          0.001          5           100 -0.239913  0.489809"
            ],
            "text/html": [
              "\n",
              "  <div id=\"df-696b27c0-a858-4003-9ca3-93476c3139ae\">\n",
              "    <div class=\"colab-df-container\">\n",
              "      <div>\n",
              "<style scoped>\n",
              "    .dataframe tbody tr th:only-of-type {\n",
              "        vertical-align: middle;\n",
              "    }\n",
              "\n",
              "    .dataframe tbody tr th {\n",
              "        vertical-align: top;\n",
              "    }\n",
              "\n",
              "    .dataframe thead th {\n",
              "        text-align: right;\n",
              "    }\n",
              "</style>\n",
              "<table border=\"1\" class=\"dataframe\">\n",
              "  <thead>\n",
              "    <tr style=\"text-align: right;\">\n",
              "      <th></th>\n",
              "      <th>learning_rate</th>\n",
              "      <th>max_depth</th>\n",
              "      <th>n_estimators</th>\n",
              "      <th>score</th>\n",
              "      <th>RMSLE</th>\n",
              "    </tr>\n",
              "  </thead>\n",
              "  <tbody>\n",
              "    <tr>\n",
              "      <th>7</th>\n",
              "      <td>0.010</td>\n",
              "      <td>10</td>\n",
              "      <td>200</td>\n",
              "      <td>-0.043846</td>\n",
              "      <td>0.209394</td>\n",
              "    </tr>\n",
              "    <tr>\n",
              "      <th>5</th>\n",
              "      <td>0.010</td>\n",
              "      <td>5</td>\n",
              "      <td>200</td>\n",
              "      <td>-0.046714</td>\n",
              "      <td>0.216135</td>\n",
              "    </tr>\n",
              "    <tr>\n",
              "      <th>6</th>\n",
              "      <td>0.010</td>\n",
              "      <td>10</td>\n",
              "      <td>100</td>\n",
              "      <td>-0.081080</td>\n",
              "      <td>0.284745</td>\n",
              "    </tr>\n",
              "    <tr>\n",
              "      <th>4</th>\n",
              "      <td>0.010</td>\n",
              "      <td>5</td>\n",
              "      <td>100</td>\n",
              "      <td>-0.083700</td>\n",
              "      <td>0.289310</td>\n",
              "    </tr>\n",
              "    <tr>\n",
              "      <th>3</th>\n",
              "      <td>0.001</td>\n",
              "      <td>10</td>\n",
              "      <td>200</td>\n",
              "      <td>-0.207100</td>\n",
              "      <td>0.455083</td>\n",
              "    </tr>\n",
              "    <tr>\n",
              "      <th>1</th>\n",
              "      <td>0.001</td>\n",
              "      <td>5</td>\n",
              "      <td>200</td>\n",
              "      <td>-0.208088</td>\n",
              "      <td>0.456167</td>\n",
              "    </tr>\n",
              "    <tr>\n",
              "      <th>2</th>\n",
              "      <td>0.001</td>\n",
              "      <td>10</td>\n",
              "      <td>100</td>\n",
              "      <td>-0.239401</td>\n",
              "      <td>0.489286</td>\n",
              "    </tr>\n",
              "    <tr>\n",
              "      <th>0</th>\n",
              "      <td>0.001</td>\n",
              "      <td>5</td>\n",
              "      <td>100</td>\n",
              "      <td>-0.239913</td>\n",
              "      <td>0.489809</td>\n",
              "    </tr>\n",
              "  </tbody>\n",
              "</table>\n",
              "</div>\n",
              "      <button class=\"colab-df-convert\" onclick=\"convertToInteractive('df-696b27c0-a858-4003-9ca3-93476c3139ae')\"\n",
              "              title=\"Convert this dataframe to an interactive table.\"\n",
              "              style=\"display:none;\">\n",
              "        \n",
              "  <svg xmlns=\"http://www.w3.org/2000/svg\" height=\"24px\"viewBox=\"0 0 24 24\"\n",
              "       width=\"24px\">\n",
              "    <path d=\"M0 0h24v24H0V0z\" fill=\"none\"/>\n",
              "    <path d=\"M18.56 5.44l.94 2.06.94-2.06 2.06-.94-2.06-.94-.94-2.06-.94 2.06-2.06.94zm-11 1L8.5 8.5l.94-2.06 2.06-.94-2.06-.94L8.5 2.5l-.94 2.06-2.06.94zm10 10l.94 2.06.94-2.06 2.06-.94-2.06-.94-.94-2.06-.94 2.06-2.06.94z\"/><path d=\"M17.41 7.96l-1.37-1.37c-.4-.4-.92-.59-1.43-.59-.52 0-1.04.2-1.43.59L10.3 9.45l-7.72 7.72c-.78.78-.78 2.05 0 2.83L4 21.41c.39.39.9.59 1.41.59.51 0 1.02-.2 1.41-.59l7.78-7.78 2.81-2.81c.8-.78.8-2.07 0-2.86zM5.41 20L4 18.59l7.72-7.72 1.47 1.35L5.41 20z\"/>\n",
              "  </svg>\n",
              "      </button>\n",
              "      \n",
              "  <style>\n",
              "    .colab-df-container {\n",
              "      display:flex;\n",
              "      flex-wrap:wrap;\n",
              "      gap: 12px;\n",
              "    }\n",
              "\n",
              "    .colab-df-convert {\n",
              "      background-color: #E8F0FE;\n",
              "      border: none;\n",
              "      border-radius: 50%;\n",
              "      cursor: pointer;\n",
              "      display: none;\n",
              "      fill: #1967D2;\n",
              "      height: 32px;\n",
              "      padding: 0 0 0 0;\n",
              "      width: 32px;\n",
              "    }\n",
              "\n",
              "    .colab-df-convert:hover {\n",
              "      background-color: #E2EBFA;\n",
              "      box-shadow: 0px 1px 2px rgba(60, 64, 67, 0.3), 0px 1px 3px 1px rgba(60, 64, 67, 0.15);\n",
              "      fill: #174EA6;\n",
              "    }\n",
              "\n",
              "    [theme=dark] .colab-df-convert {\n",
              "      background-color: #3B4455;\n",
              "      fill: #D2E3FC;\n",
              "    }\n",
              "\n",
              "    [theme=dark] .colab-df-convert:hover {\n",
              "      background-color: #434B5C;\n",
              "      box-shadow: 0px 1px 3px 1px rgba(0, 0, 0, 0.15);\n",
              "      filter: drop-shadow(0px 1px 2px rgba(0, 0, 0, 0.3));\n",
              "      fill: #FFFFFF;\n",
              "    }\n",
              "  </style>\n",
              "\n",
              "      <script>\n",
              "        const buttonEl =\n",
              "          document.querySelector('#df-696b27c0-a858-4003-9ca3-93476c3139ae button.colab-df-convert');\n",
              "        buttonEl.style.display =\n",
              "          google.colab.kernel.accessAllowed ? 'block' : 'none';\n",
              "\n",
              "        async function convertToInteractive(key) {\n",
              "          const element = document.querySelector('#df-696b27c0-a858-4003-9ca3-93476c3139ae');\n",
              "          const dataTable =\n",
              "            await google.colab.kernel.invokeFunction('convertToInteractive',\n",
              "                                                     [key], {});\n",
              "          if (!dataTable) return;\n",
              "\n",
              "          const docLinkHtml = 'Like what you see? Visit the ' +\n",
              "            '<a target=\"_blank\" href=https://colab.research.google.com/notebooks/data_table.ipynb>data table notebook</a>'\n",
              "            + ' to learn more about interactive tables.';\n",
              "          element.innerHTML = '';\n",
              "          dataTable['output_type'] = 'display_data';\n",
              "          await google.colab.output.renderOutput(dataTable, element);\n",
              "          const docLink = document.createElement('div');\n",
              "          docLink.innerHTML = docLinkHtml;\n",
              "          element.appendChild(docLink);\n",
              "        }\n",
              "      </script>\n",
              "    </div>\n",
              "  </div>\n",
              "  "
            ]
          },
          "metadata": {},
          "execution_count": 380
        }
      ]
    },
    {
      "cell_type": "markdown",
      "source": [
        "*  모델 데이터 최소값이 0.216135으로 나온 것을 알 수 있다."
      ],
      "metadata": {
        "id": "433BdhnVWuDF"
      }
    },
    {
      "cell_type": "code",
      "source": [
        "model = LGBMRegressor(n_estimators=200, max_depth=10, learning_rate=0.01, random_state=random_state) #LGBM 학습모델\n",
        "model.fit(train, y)\n",
        "prediction = model.predict(test)\n",
        "prediction"
      ],
      "metadata": {
        "colab": {
          "base_uri": "https://localhost:8080/"
        },
        "id": "zAuW9lvGZe6E",
        "outputId": "4a7f2155-8e3c-4216-f6cc-d919adb99bee"
      },
      "execution_count": 381,
      "outputs": [
        {
          "output_type": "execute_result",
          "data": {
            "text/plain": [
              "array([13.08081401, 12.94702765, 13.95156425, ..., 12.99292545,\n",
              "       12.83392175, 13.00026938])"
            ]
          },
          "metadata": {},
          "execution_count": 381
        }
      ]
    },
    {
      "cell_type": "code",
      "source": [
        "prediction = np.expm1(prediction)\n",
        "prediction"
      ],
      "metadata": {
        "colab": {
          "base_uri": "https://localhost:8080/"
        },
        "id": "Csb5VVLCZjkY",
        "outputId": "f6c8ff88-abd2-4aac-f1a1-a4d6edb06db3"
      },
      "execution_count": 382,
      "outputs": [
        {
          "output_type": "execute_result",
          "data": {
            "text/plain": [
              "array([ 479649.98586346,  419586.61857722, 1145742.40864588, ...,\n",
              "        439293.56136677,  374714.27634033,  442531.58479101])"
            ]
          },
          "metadata": {},
          "execution_count": 382
        }
      ]
    },
    {
      "cell_type": "code",
      "source": [
        "submission_path = join(data, 'sample_submission.csv') #제출용 양식 sample_submission.csv파일을 불러온다\n",
        "submission = pd.read_csv(submission_path)\n",
        "submission.head()"
      ],
      "metadata": {
        "colab": {
          "base_uri": "https://localhost:8080/",
          "height": 206
        },
        "id": "nV4CUh27ZltE",
        "outputId": "152c73b6-8f73-49d5-f879-6452fdfd1a65"
      },
      "execution_count": 383,
      "outputs": [
        {
          "output_type": "execute_result",
          "data": {
            "text/plain": [
              "      id   price\n",
              "0  15035  100000\n",
              "1  15036  100000\n",
              "2  15037  100000\n",
              "3  15038  100000\n",
              "4  15039  100000"
            ],
            "text/html": [
              "\n",
              "  <div id=\"df-3940380e-f690-4839-af92-01166436d886\">\n",
              "    <div class=\"colab-df-container\">\n",
              "      <div>\n",
              "<style scoped>\n",
              "    .dataframe tbody tr th:only-of-type {\n",
              "        vertical-align: middle;\n",
              "    }\n",
              "\n",
              "    .dataframe tbody tr th {\n",
              "        vertical-align: top;\n",
              "    }\n",
              "\n",
              "    .dataframe thead th {\n",
              "        text-align: right;\n",
              "    }\n",
              "</style>\n",
              "<table border=\"1\" class=\"dataframe\">\n",
              "  <thead>\n",
              "    <tr style=\"text-align: right;\">\n",
              "      <th></th>\n",
              "      <th>id</th>\n",
              "      <th>price</th>\n",
              "    </tr>\n",
              "  </thead>\n",
              "  <tbody>\n",
              "    <tr>\n",
              "      <th>0</th>\n",
              "      <td>15035</td>\n",
              "      <td>100000</td>\n",
              "    </tr>\n",
              "    <tr>\n",
              "      <th>1</th>\n",
              "      <td>15036</td>\n",
              "      <td>100000</td>\n",
              "    </tr>\n",
              "    <tr>\n",
              "      <th>2</th>\n",
              "      <td>15037</td>\n",
              "      <td>100000</td>\n",
              "    </tr>\n",
              "    <tr>\n",
              "      <th>3</th>\n",
              "      <td>15038</td>\n",
              "      <td>100000</td>\n",
              "    </tr>\n",
              "    <tr>\n",
              "      <th>4</th>\n",
              "      <td>15039</td>\n",
              "      <td>100000</td>\n",
              "    </tr>\n",
              "  </tbody>\n",
              "</table>\n",
              "</div>\n",
              "      <button class=\"colab-df-convert\" onclick=\"convertToInteractive('df-3940380e-f690-4839-af92-01166436d886')\"\n",
              "              title=\"Convert this dataframe to an interactive table.\"\n",
              "              style=\"display:none;\">\n",
              "        \n",
              "  <svg xmlns=\"http://www.w3.org/2000/svg\" height=\"24px\"viewBox=\"0 0 24 24\"\n",
              "       width=\"24px\">\n",
              "    <path d=\"M0 0h24v24H0V0z\" fill=\"none\"/>\n",
              "    <path d=\"M18.56 5.44l.94 2.06.94-2.06 2.06-.94-2.06-.94-.94-2.06-.94 2.06-2.06.94zm-11 1L8.5 8.5l.94-2.06 2.06-.94-2.06-.94L8.5 2.5l-.94 2.06-2.06.94zm10 10l.94 2.06.94-2.06 2.06-.94-2.06-.94-.94-2.06-.94 2.06-2.06.94z\"/><path d=\"M17.41 7.96l-1.37-1.37c-.4-.4-.92-.59-1.43-.59-.52 0-1.04.2-1.43.59L10.3 9.45l-7.72 7.72c-.78.78-.78 2.05 0 2.83L4 21.41c.39.39.9.59 1.41.59.51 0 1.02-.2 1.41-.59l7.78-7.78 2.81-2.81c.8-.78.8-2.07 0-2.86zM5.41 20L4 18.59l7.72-7.72 1.47 1.35L5.41 20z\"/>\n",
              "  </svg>\n",
              "      </button>\n",
              "      \n",
              "  <style>\n",
              "    .colab-df-container {\n",
              "      display:flex;\n",
              "      flex-wrap:wrap;\n",
              "      gap: 12px;\n",
              "    }\n",
              "\n",
              "    .colab-df-convert {\n",
              "      background-color: #E8F0FE;\n",
              "      border: none;\n",
              "      border-radius: 50%;\n",
              "      cursor: pointer;\n",
              "      display: none;\n",
              "      fill: #1967D2;\n",
              "      height: 32px;\n",
              "      padding: 0 0 0 0;\n",
              "      width: 32px;\n",
              "    }\n",
              "\n",
              "    .colab-df-convert:hover {\n",
              "      background-color: #E2EBFA;\n",
              "      box-shadow: 0px 1px 2px rgba(60, 64, 67, 0.3), 0px 1px 3px 1px rgba(60, 64, 67, 0.15);\n",
              "      fill: #174EA6;\n",
              "    }\n",
              "\n",
              "    [theme=dark] .colab-df-convert {\n",
              "      background-color: #3B4455;\n",
              "      fill: #D2E3FC;\n",
              "    }\n",
              "\n",
              "    [theme=dark] .colab-df-convert:hover {\n",
              "      background-color: #434B5C;\n",
              "      box-shadow: 0px 1px 3px 1px rgba(0, 0, 0, 0.15);\n",
              "      filter: drop-shadow(0px 1px 2px rgba(0, 0, 0, 0.3));\n",
              "      fill: #FFFFFF;\n",
              "    }\n",
              "  </style>\n",
              "\n",
              "      <script>\n",
              "        const buttonEl =\n",
              "          document.querySelector('#df-3940380e-f690-4839-af92-01166436d886 button.colab-df-convert');\n",
              "        buttonEl.style.display =\n",
              "          google.colab.kernel.accessAllowed ? 'block' : 'none';\n",
              "\n",
              "        async function convertToInteractive(key) {\n",
              "          const element = document.querySelector('#df-3940380e-f690-4839-af92-01166436d886');\n",
              "          const dataTable =\n",
              "            await google.colab.kernel.invokeFunction('convertToInteractive',\n",
              "                                                     [key], {});\n",
              "          if (!dataTable) return;\n",
              "\n",
              "          const docLinkHtml = 'Like what you see? Visit the ' +\n",
              "            '<a target=\"_blank\" href=https://colab.research.google.com/notebooks/data_table.ipynb>data table notebook</a>'\n",
              "            + ' to learn more about interactive tables.';\n",
              "          element.innerHTML = '';\n",
              "          dataTable['output_type'] = 'display_data';\n",
              "          await google.colab.output.renderOutput(dataTable, element);\n",
              "          const docLink = document.createElement('div');\n",
              "          docLink.innerHTML = docLinkHtml;\n",
              "          element.appendChild(docLink);\n",
              "        }\n",
              "      </script>\n",
              "    </div>\n",
              "  </div>\n",
              "  "
            ]
          },
          "metadata": {},
          "execution_count": 383
        }
      ]
    },
    {
      "cell_type": "code",
      "source": [
        "submission['price'] = prediction #예측 모델을 sample_submission로 저장\n",
        "submission.head()"
      ],
      "metadata": {
        "colab": {
          "base_uri": "https://localhost:8080/",
          "height": 206
        },
        "id": "FpXv78AFZxue",
        "outputId": "1dc08036-7721-4db7-a797-6e929a10e3ad"
      },
      "execution_count": 384,
      "outputs": [
        {
          "output_type": "execute_result",
          "data": {
            "text/plain": [
              "      id         price\n",
              "0  15035  4.796500e+05\n",
              "1  15036  4.195866e+05\n",
              "2  15037  1.145742e+06\n",
              "3  15038  3.269627e+05\n",
              "4  15039  3.227191e+05"
            ],
            "text/html": [
              "\n",
              "  <div id=\"df-8dd9e57e-f414-4934-8f47-352331097662\">\n",
              "    <div class=\"colab-df-container\">\n",
              "      <div>\n",
              "<style scoped>\n",
              "    .dataframe tbody tr th:only-of-type {\n",
              "        vertical-align: middle;\n",
              "    }\n",
              "\n",
              "    .dataframe tbody tr th {\n",
              "        vertical-align: top;\n",
              "    }\n",
              "\n",
              "    .dataframe thead th {\n",
              "        text-align: right;\n",
              "    }\n",
              "</style>\n",
              "<table border=\"1\" class=\"dataframe\">\n",
              "  <thead>\n",
              "    <tr style=\"text-align: right;\">\n",
              "      <th></th>\n",
              "      <th>id</th>\n",
              "      <th>price</th>\n",
              "    </tr>\n",
              "  </thead>\n",
              "  <tbody>\n",
              "    <tr>\n",
              "      <th>0</th>\n",
              "      <td>15035</td>\n",
              "      <td>4.796500e+05</td>\n",
              "    </tr>\n",
              "    <tr>\n",
              "      <th>1</th>\n",
              "      <td>15036</td>\n",
              "      <td>4.195866e+05</td>\n",
              "    </tr>\n",
              "    <tr>\n",
              "      <th>2</th>\n",
              "      <td>15037</td>\n",
              "      <td>1.145742e+06</td>\n",
              "    </tr>\n",
              "    <tr>\n",
              "      <th>3</th>\n",
              "      <td>15038</td>\n",
              "      <td>3.269627e+05</td>\n",
              "    </tr>\n",
              "    <tr>\n",
              "      <th>4</th>\n",
              "      <td>15039</td>\n",
              "      <td>3.227191e+05</td>\n",
              "    </tr>\n",
              "  </tbody>\n",
              "</table>\n",
              "</div>\n",
              "      <button class=\"colab-df-convert\" onclick=\"convertToInteractive('df-8dd9e57e-f414-4934-8f47-352331097662')\"\n",
              "              title=\"Convert this dataframe to an interactive table.\"\n",
              "              style=\"display:none;\">\n",
              "        \n",
              "  <svg xmlns=\"http://www.w3.org/2000/svg\" height=\"24px\"viewBox=\"0 0 24 24\"\n",
              "       width=\"24px\">\n",
              "    <path d=\"M0 0h24v24H0V0z\" fill=\"none\"/>\n",
              "    <path d=\"M18.56 5.44l.94 2.06.94-2.06 2.06-.94-2.06-.94-.94-2.06-.94 2.06-2.06.94zm-11 1L8.5 8.5l.94-2.06 2.06-.94-2.06-.94L8.5 2.5l-.94 2.06-2.06.94zm10 10l.94 2.06.94-2.06 2.06-.94-2.06-.94-.94-2.06-.94 2.06-2.06.94z\"/><path d=\"M17.41 7.96l-1.37-1.37c-.4-.4-.92-.59-1.43-.59-.52 0-1.04.2-1.43.59L10.3 9.45l-7.72 7.72c-.78.78-.78 2.05 0 2.83L4 21.41c.39.39.9.59 1.41.59.51 0 1.02-.2 1.41-.59l7.78-7.78 2.81-2.81c.8-.78.8-2.07 0-2.86zM5.41 20L4 18.59l7.72-7.72 1.47 1.35L5.41 20z\"/>\n",
              "  </svg>\n",
              "      </button>\n",
              "      \n",
              "  <style>\n",
              "    .colab-df-container {\n",
              "      display:flex;\n",
              "      flex-wrap:wrap;\n",
              "      gap: 12px;\n",
              "    }\n",
              "\n",
              "    .colab-df-convert {\n",
              "      background-color: #E8F0FE;\n",
              "      border: none;\n",
              "      border-radius: 50%;\n",
              "      cursor: pointer;\n",
              "      display: none;\n",
              "      fill: #1967D2;\n",
              "      height: 32px;\n",
              "      padding: 0 0 0 0;\n",
              "      width: 32px;\n",
              "    }\n",
              "\n",
              "    .colab-df-convert:hover {\n",
              "      background-color: #E2EBFA;\n",
              "      box-shadow: 0px 1px 2px rgba(60, 64, 67, 0.3), 0px 1px 3px 1px rgba(60, 64, 67, 0.15);\n",
              "      fill: #174EA6;\n",
              "    }\n",
              "\n",
              "    [theme=dark] .colab-df-convert {\n",
              "      background-color: #3B4455;\n",
              "      fill: #D2E3FC;\n",
              "    }\n",
              "\n",
              "    [theme=dark] .colab-df-convert:hover {\n",
              "      background-color: #434B5C;\n",
              "      box-shadow: 0px 1px 3px 1px rgba(0, 0, 0, 0.15);\n",
              "      filter: drop-shadow(0px 1px 2px rgba(0, 0, 0, 0.3));\n",
              "      fill: #FFFFFF;\n",
              "    }\n",
              "  </style>\n",
              "\n",
              "      <script>\n",
              "        const buttonEl =\n",
              "          document.querySelector('#df-8dd9e57e-f414-4934-8f47-352331097662 button.colab-df-convert');\n",
              "        buttonEl.style.display =\n",
              "          google.colab.kernel.accessAllowed ? 'block' : 'none';\n",
              "\n",
              "        async function convertToInteractive(key) {\n",
              "          const element = document.querySelector('#df-8dd9e57e-f414-4934-8f47-352331097662');\n",
              "          const dataTable =\n",
              "            await google.colab.kernel.invokeFunction('convertToInteractive',\n",
              "                                                     [key], {});\n",
              "          if (!dataTable) return;\n",
              "\n",
              "          const docLinkHtml = 'Like what you see? Visit the ' +\n",
              "            '<a target=\"_blank\" href=https://colab.research.google.com/notebooks/data_table.ipynb>data table notebook</a>'\n",
              "            + ' to learn more about interactive tables.';\n",
              "          element.innerHTML = '';\n",
              "          dataTable['output_type'] = 'display_data';\n",
              "          await google.colab.output.renderOutput(dataTable, element);\n",
              "          const docLink = document.createElement('div');\n",
              "          docLink.innerHTML = docLinkHtml;\n",
              "          element.appendChild(docLink);\n",
              "        }\n",
              "      </script>\n",
              "    </div>\n",
              "  </div>\n",
              "  "
            ]
          },
          "metadata": {},
          "execution_count": 384
        }
      ]
    },
    {
      "cell_type": "code",
      "source": [
        "def save_submission(model, train, y, test, model_name):\n",
        "    model.fit(train, y)\n",
        "    prediction = model.predict(test)\n",
        "    prediction = np.expm1(prediction)\n",
        "    data = '/content/drive/MyDrive/kaggledata'\n",
        "    submission_path = join(data, 'sample_submission.csv')\n",
        "    submission = pd.read_csv(submission_path)\n",
        "    submission['price'] = prediction\n",
        "    submission_csv_path = '{}/submission_{}_RMSLE.csv'.format(data, model_name)\n",
        "    submission.to_csv(submission_csv_path, index=False)\n",
        "    print(format(submission_csv_path))"
      ],
      "metadata": {
        "id": "By4XMkv-Z4r3"
      },
      "execution_count": 386,
      "outputs": []
    },
    {
      "cell_type": "code",
      "source": [
        "save_submission(model, train, y, test, 'lgbm')"
      ],
      "metadata": {
        "colab": {
          "base_uri": "https://localhost:8080/"
        },
        "id": "CjW8YwwJaUlk",
        "outputId": "6307563c-a47d-4fdc-b9b8-49a18ab6da11"
      },
      "execution_count": 387,
      "outputs": [
        {
          "output_type": "stream",
          "name": "stdout",
          "text": [
            "/content/drive/MyDrive/kaggledata/submission_lgbm_RMSLE.csv\n"
          ]
        }
      ]
    },
    {
      "cell_type": "markdown",
      "source": [
        "*  예측모델이 문제 없이 작동을 하였다.\n",
        "*  저장은 구글드라이브로 설정하고 submission 파일을 저장"
      ],
      "metadata": {
        "id": "CBdjNxvyZ-p2"
      }
    },
    {
      "cell_type": "markdown",
      "source": [
        "![서브미션.png](data:image/png;base64,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)"
      ],
      "metadata": {
        "id": "SauryJoVWqG0"
      }
    },
    {
      "cell_type": "markdown",
      "source": [
        "# **마치며**\n",
        "\n",
        "---\n",
        "초반엔 최적의 파라미터를 어떻게 설정하는지 감이 잡히질 않아서 스코어가 18~19만사이를 왔다 갔다했다. 수십번의 시행 착오 끝에 가장 알맞은 그리드 모델을 찾아서 다시 튜닝을 하였지만, 결국 110,000점 이하로는 내리지 못하였다.\n",
        "완벽하게 과제를 해낸 것은 아니지만, 지난 일주일동안 캐글을 붙잡고 있으면서 대략적인 앙상블 기법의 메커니즘을 익힐 수 있었다. 나중에 아이펠 후반부쯤 더 많은 지식을 가진 상태에서 다시 한번 이 주제에 대해서 한번 더 도전 해보고 싶다는 것을 마지막으로 이번 EX3를 마무리 짓는다."
      ],
      "metadata": {
        "id": "ahrQPhd8W6Cc"
      }
    }
  ]
}