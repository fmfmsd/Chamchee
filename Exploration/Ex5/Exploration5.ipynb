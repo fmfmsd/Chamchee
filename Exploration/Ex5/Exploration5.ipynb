{
  "nbformat": 4,
  "nbformat_minor": 0,
  "metadata": {
    "colab": {
      "provenance": [],
      "collapsed_sections": [],
      "machine_shape": "hm"
    },
    "kernelspec": {
      "name": "python3",
      "display_name": "Python 3"
    },
    "language_info": {
      "name": "python"
    },
    "accelerator": "GPU",
    "gpuClass": "premium"
  },
  "cells": [
    {
      "cell_type": "markdown",
      "source": [
        "# 5. 인공지능과 가위바위보 하기\n",
        "\n",
        "\n",
        "1. 이미지 분류기 모델이 성공적으로 만들어졌는가? - 학습과정이 정상적으로 수행되었으며, 학습 결과에 대한 그래프를 시각화(ex. train acc / train loss / val acc / val loss 등) 해 보았음\n",
        "\n",
        "2. 오버피팅을 극복하기 위한 적절한 시도가 있었는가? - 오버피팅 극복을 위하여 데이터셋의 다양성, 정규화 등을 2가지 이상 시도해보았음\n",
        "\n",
        "3. 분류모델의 test accuracy가 기준 이상 높게 나왔는가? - 60% 이상 도달하였음"
      ],
      "metadata": {
        "id": "XaERQTbyYVLo"
      }
    },
    {
      "cell_type": "code",
      "source": [
        "!pip install pillow"
      ],
      "metadata": {
        "colab": {
          "base_uri": "https://localhost:8080/"
        },
        "id": "n71ivZCnQjbe",
        "outputId": "d97ad8f5-939f-40ad-98d8-c8c5941b31f0"
      },
      "execution_count": null,
      "outputs": [
        {
          "output_type": "stream",
          "name": "stdout",
          "text": [
            "Looking in indexes: https://pypi.org/simple, https://us-python.pkg.dev/colab-wheels/public/simple/\n",
            "Requirement already satisfied: pillow in /usr/local/lib/python3.7/dist-packages (7.1.2)\n"
          ]
        }
      ]
    },
    {
      "cell_type": "code",
      "execution_count": null,
      "metadata": {
        "colab": {
          "base_uri": "https://localhost:8080/"
        },
        "id": "MNfOkbS_GS13",
        "outputId": "becc55fa-66f7-4de4-8292-fd3be7e7c769"
      },
      "outputs": [
        {
          "output_type": "stream",
          "name": "stdout",
          "text": [
            "PIL 라이브러리 import 완료!\n"
          ]
        }
      ],
      "source": [
        "from PIL import Image\n",
        "import os, glob\n",
        "\n",
        "print(\"PIL 라이브러리 import 완료!\")"
      ]
    },
    {
      "cell_type": "code",
      "source": [
        "from google.colab import drive\n",
        "drive.mount('/content/drive')"
      ],
      "metadata": {
        "colab": {
          "base_uri": "https://localhost:8080/"
        },
        "id": "vjb2mw0bRa9Q",
        "outputId": "25dcb75c-37eb-4c28-ab1d-d75c6153d53c"
      },
      "execution_count": null,
      "outputs": [
        {
          "output_type": "stream",
          "name": "stdout",
          "text": [
            "Drive already mounted at /content/drive; to attempt to forcibly remount, call drive.mount(\"/content/drive\", force_remount=True).\n"
          ]
        }
      ]
    },
    {
      "cell_type": "code",
      "source": [
        "image_path = '/content/drive/MyDrive/rock_scissor_paper'\n",
        "images=glob.glob(image_path + \"/*.jpg\")"
      ],
      "metadata": {
        "id": "i1XXoIqtRfNr"
      },
      "execution_count": null,
      "outputs": []
    },
    {
      "cell_type": "markdown",
      "source": [
        "# train 모델"
      ],
      "metadata": {
        "id": "UDi602T6UBPh"
      }
    },
    {
      "cell_type": "code",
      "source": [
        "import os\n",
        "import glob\n",
        "from PIL import Image\n",
        "\n",
        "def resize_images(img_path):\n",
        "\timages=glob.glob(img_path + \"/*.jpg\")  \n",
        "\n",
        "\tprint(len(images), \" images to be resized.\")\n",
        "\n",
        "    # 파일마다 모두 28x28 사이즈로 바꾸어 저장합니다.\n",
        "\ttarget_size=(28,28)\n",
        "\tfor img in images:\n",
        "\t\told_img=Image.open(img)\n",
        "\t\tnew_img=old_img.resize(target_size,Image.ANTIALIAS)\n",
        "\t\tnew_img.save(img, \"JPEG\")\n",
        "\n",
        "\tprint(len(images), \" images resized.\")\n",
        "\n",
        "# 가위, 바위, 보 이미지가 저장된 디렉토리 아래의 모든 jpg 파일을 읽어들여서\n",
        "image_dir_path = '/content/drive/MyDrive/rock_scissor_paper/rock'\n",
        "resize_images(image_dir_path)\n",
        "image_dir_path = '/content/drive/MyDrive/rock_scissor_paper/paper'\n",
        "resize_images(image_dir_path)\n",
        "image_dir_path = '/content/drive/MyDrive/rock_scissor_paper/scissor'\n",
        "resize_images(image_dir_path)"
      ],
      "metadata": {
        "colab": {
          "base_uri": "https://localhost:8080/"
        },
        "id": "3EtwucrMLRsz",
        "outputId": "ca8981cd-bf06-47ef-d2c7-40fb242c5569"
      },
      "execution_count": null,
      "outputs": [
        {
          "output_type": "stream",
          "name": "stdout",
          "text": [
            "1712  images to be resized.\n",
            "1712  images resized.\n",
            "1689  images to be resized.\n",
            "1689  images resized.\n",
            "1669  images to be resized.\n",
            "1669  images resized.\n"
          ]
        }
      ]
    },
    {
      "cell_type": "markdown",
      "source": [
        "- 주먹 - 1712장\n",
        "- 보   - 1689장\n",
        "- 가위 - 1669장\n",
        "- 총합 5070장의 사진으로 모델 train\n",
        "- 사진크기를 224x224 ->  28x28로 리사이즈"
      ],
      "metadata": {
        "id": "TRAT2W-pUF_S"
      }
    },
    {
      "cell_type": "code",
      "source": [
        "import numpy as np\n",
        "\n",
        "def load_data(img_path, number_of_data=5070):  # 가위바위보 이미지 개수 총합에 주의하세요.\n",
        "    # 가위 : 0, 바위 : 1, 보 : 2\n",
        "    img_size=28\n",
        "    color=3\n",
        "    #이미지 데이터와 라벨(가위 : 0, 바위 : 1, 보 : 2) 데이터를 담을 행렬(matrix) 영역을 생성합니다.\n",
        "    imgs=np.zeros(number_of_data*img_size*img_size*color,dtype=np.int32).reshape(number_of_data,img_size,img_size,color)\n",
        "    labels=np.zeros(number_of_data,dtype=np.int32)\n",
        "\n",
        "    idx=0\n",
        "    for file in glob.iglob(img_path+'/scissor/*.jpg'):\n",
        "        img = np.array(Image.open(file),dtype=np.int32)\n",
        "        imgs[idx,:,:,:]=img    # 데이터 영역에 이미지 행렬을 복사\n",
        "        labels[idx]=0   # 가위 : 0\n",
        "        idx=idx+1\n",
        "\n",
        "    for file in glob.iglob(img_path+'/rock/*.jpg'):\n",
        "        img = np.array(Image.open(file),dtype=np.int32)\n",
        "        imgs[idx,:,:,:]=img    # 데이터 영역에 이미지 행렬을 복사\n",
        "        labels[idx]=1   # 바위 : 1\n",
        "        idx=idx+1\n",
        "\n",
        "    for file in glob.iglob(img_path+'/paper/*.jpg'):\n",
        "        img = np.array(Image.open(file),dtype=np.int32)\n",
        "        imgs[idx,:,:,:]=img    # 데이터 영역에 이미지 행렬을 복사\n",
        "        labels[idx]=2   # 보 : 2\n",
        "        idx=idx+1\n",
        "\n",
        "    print(\"학습데이터(x_train)의 이미지 개수는\", idx,\"입니다.\")\n",
        "    return imgs, labels"
      ],
      "metadata": {
        "id": "E6vfov4gs9sT"
      },
      "execution_count": null,
      "outputs": []
    },
    {
      "cell_type": "code",
      "source": [
        "image_dir_path = '/content/drive/MyDrive/rock_scissor_paper'\n",
        "(x_train, y_train)=load_data(image_dir_path)\n",
        "x_train_norm = x_train/255.0   # 입력은 0~1 사이의 값으로 정규화\n",
        "\n",
        "print(\"x_train shape: {}\".format(x_train.shape))\n",
        "print(\"y_train shape: {}\".format(y_train.shape))"
      ],
      "metadata": {
        "id": "PmnyJox-fLSW",
        "colab": {
          "base_uri": "https://localhost:8080/"
        },
        "outputId": "4bd51464-e6d2-4ab6-d69a-0f5eea0b88e1"
      },
      "execution_count": null,
      "outputs": [
        {
          "output_type": "stream",
          "name": "stdout",
          "text": [
            "학습데이터(x_train)의 이미지 개수는 5070 입니다.\n",
            "x_train shape: (5070, 28, 28, 3)\n",
            "y_train shape: (5070,)\n"
          ]
        }
      ]
    },
    {
      "cell_type": "markdown",
      "source": [
        "- 리사이즈 한 각 사진을 라벨링으로 분류\n",
        "- (가위 : 0, 바위 : 1, 보 : 2)"
      ],
      "metadata": {
        "id": "m8MW8LZOUwKo"
      }
    },
    {
      "cell_type": "code",
      "source": [
        "import matplotlib.pyplot as plt\n",
        "plt.imshow(x_train[113])\n",
        "print('라벨: ', y_train[1113])"
      ],
      "metadata": {
        "colab": {
          "base_uri": "https://localhost:8080/",
          "height": 283
        },
        "id": "YCKyjPX3tUYs",
        "outputId": "80174c9f-5b62-46e1-f2d8-fd28ee9f9d87"
      },
      "execution_count": null,
      "outputs": [
        {
          "output_type": "stream",
          "name": "stdout",
          "text": [
            "라벨:  0\n"
          ]
        },
        {
          "output_type": "display_data",
          "data": {
            "text/plain": [
              "<Figure size 432x288 with 1 Axes>"
            ],
            "image/png": "[encoded data removed]"
          },
          "metadata": {
            "needs_background": "light"
          }
        }
      ]
    },
    {
      "cell_type": "code",
      "source": [
        "import tensorflow as tf\n",
        "from tensorflow import keras\n",
        "\n",
        "# 바꿔 볼 수 있는 하이퍼파라미터\n",
        "n_channel_1=128\n",
        "n_channel_2=256\n",
        "n_dense=256\n",
        "n_train_epoch=10\n",
        "\n",
        "model=keras.models.Sequential()\n",
        "model.add(keras.layers.Conv2D(n_channel_1, (3,3), activation='relu', input_shape=(28,28,3)))\n",
        "model.add(keras.layers.MaxPool2D(2,2))\n",
        "model.add(keras.layers.Conv2D(n_channel_2, (3,3), activation='relu'))\n",
        "model.add(keras.layers.MaxPooling2D((2,2)))\n",
        "model.add(keras.layers.Flatten())\n",
        "model.add(keras.layers.Dense(n_dense, activation='relu')) # 신경망\n",
        "model.add(keras.layers.Dense(10, activation='softmax')) # 신경망\n",
        "\n",
        "model.summary()\n",
        "\n",
        "model.compile(optimizer='adam',\n",
        "             loss='sparse_categorical_crossentropy',\n",
        "             metrics=['accuracy'])"
      ],
      "metadata": {
        "colab": {
          "base_uri": "https://localhost:8080/"
        },
        "id": "fDlWaJAatcnp",
        "outputId": "59d351ee-ac2e-4d6d-97b0-57e237ee3704"
      },
      "execution_count": null,
      "outputs": [
        {
          "output_type": "stream",
          "name": "stdout",
          "text": [
            "Model: \"sequential_2\"\n",
            "_________________________________________________________________\n",
            " Layer (type)                Output Shape              Param #   \n",
            "=================================================================\n",
            " conv2d_4 (Conv2D)           (None, 26, 26, 128)       3584      \n",
            "                                                                 \n",
            " max_pooling2d_4 (MaxPooling  (None, 13, 13, 128)      0         \n",
            " 2D)                                                             \n",
            "                                                                 \n",
            " conv2d_5 (Conv2D)           (None, 11, 11, 256)       295168    \n",
            "                                                                 \n",
            " max_pooling2d_5 (MaxPooling  (None, 5, 5, 256)        0         \n",
            " 2D)                                                             \n",
            "                                                                 \n",
            " flatten_2 (Flatten)         (None, 6400)              0         \n",
            "                                                                 \n",
            " dense_4 (Dense)             (None, 256)               1638656   \n",
            "                                                                 \n",
            " dense_5 (Dense)             (None, 10)                2570      \n",
            "                                                                 \n",
            "=================================================================\n",
            "Total params: 1,939,978\n",
            "Trainable params: 1,939,978\n",
            "Non-trainable params: 0\n",
            "_________________________________________________________________\n"
          ]
        }
      ]
    },
    {
      "cell_type": "markdown",
      "source": [
        "- train 모델 설명\n",
        "\n",
        "---\n",
        "\n",
        "- Conv2D - 레이어의 사용하는 이미지 특징의 수.\n",
        "- Dense - 레이어의 분류기에 사용되는 뉴런의 숫자.\n",
        "- MaxPooling2D - 공간적 데이터에 대한 최대값 풀링 작업.(사소한 변화는 전부 필터링)\n",
        "- flatten - 2차원 자료를 1차원 자료로 바꿔서 전결합층에 전달."
      ],
      "metadata": {
        "id": "UMOtTE62ZEa5"
      }
    },
    {
      "cell_type": "code",
      "source": [
        "# 모델 훈련\n",
        "model.fit(x_train, y_train, epochs=n_train_epoch)"
      ],
      "metadata": {
        "colab": {
          "base_uri": "https://localhost:8080/"
        },
        "id": "p9eigQRctgFI",
        "outputId": "6f78cfe5-84fc-451a-9131-1be93ccbca64"
      },
      "execution_count": null,
      "outputs": [
        {
          "output_type": "stream",
          "name": "stdout",
          "text": [
            "Epoch 1/10\n",
            "159/159 [==============================] - 1s 4ms/step - loss: 4.6407 - accuracy: 0.7901\n",
            "Epoch 2/10\n",
            "159/159 [==============================] - 1s 4ms/step - loss: 0.0481 - accuracy: 0.9848\n",
            "Epoch 3/10\n",
            "159/159 [==============================] - 1s 4ms/step - loss: 0.0077 - accuracy: 0.9986\n",
            "Epoch 4/10\n",
            "159/159 [==============================] - 1s 4ms/step - loss: 0.0025 - accuracy: 0.9998\n",
            "Epoch 5/10\n",
            "159/159 [==============================] - 1s 4ms/step - loss: 0.0011 - accuracy: 1.0000\n",
            "Epoch 6/10\n",
            "159/159 [==============================] - 1s 4ms/step - loss: 5.7231e-04 - accuracy: 1.0000\n",
            "Epoch 7/10\n",
            "159/159 [==============================] - 1s 4ms/step - loss: 3.5585e-04 - accuracy: 1.0000\n",
            "Epoch 8/10\n",
            "159/159 [==============================] - 1s 4ms/step - loss: 2.1918e-04 - accuracy: 1.0000\n",
            "Epoch 9/10\n",
            "159/159 [==============================] - 1s 4ms/step - loss: 1.7353e-04 - accuracy: 1.0000\n",
            "Epoch 10/10\n",
            "159/159 [==============================] - 1s 4ms/step - loss: 1.5366e-04 - accuracy: 1.0000\n"
          ]
        },
        {
          "output_type": "execute_result",
          "data": {
            "text/plain": [
              "<keras.callbacks.History at 0x7fd6a8fdb6d0>"
            ]
          },
          "metadata": {},
          "execution_count": 65
        }
      ]
    },
    {
      "cell_type": "markdown",
      "source": [
        "- 최종 학습 정확도가 1.0, 손실값은 1.5*10^-4\\\n",
        "- 학습이 잘된 것을 확인 할 수 있다."
      ],
      "metadata": {
        "id": "0pN8wsIfVEu2"
      }
    },
    {
      "cell_type": "markdown",
      "source": [
        "# 테스트 모델"
      ],
      "metadata": {
        "id": "GO8aY0DgT7Vq"
      }
    },
    {
      "cell_type": "code",
      "source": [
        "image_test_path = '/content/drive/MyDrive/rock_scissor_paper/rsp_test'\n",
        "images_test=glob.glob(image_test_path + \"/*.jpg\")"
      ],
      "metadata": {
        "id": "8003AIw8itTA"
      },
      "execution_count": null,
      "outputs": []
    },
    {
      "cell_type": "code",
      "source": [
        "def resize_images(img_path):\n",
        "\timages=glob.glob(img_path + \"/*.jpg\")  \n",
        "\n",
        "\tprint(len(images), \" images to be resized.\")\n",
        "\n",
        "    # 파일마다 모두 28x28 사이즈로 바꾸어 저장합니다.\n",
        "\ttarget_size=(28,28)\n",
        "\tfor img in images:\n",
        "\t\told_img=Image.open(img)\n",
        "\t\tnew_img=old_img.resize(target_size,Image.ANTIALIAS)\n",
        "\t\tnew_img.save(img, \"JPEG\")\n",
        "\n",
        "\tprint(len(images), \" images resized.\")\n",
        "# 가위 테스트 이미지가 저장된 디렉토리 아래의 모든 jpg 파일을 읽어들여서\n",
        "image_test_path = '/content/drive/MyDrive/rock_scissor_paper/rsp_test/scissor'\n",
        "resize_images(image_test_path)\n",
        "print(\"가위 테스트 이미지 resize 완료!\")\n",
        "\n",
        "# 바위 테스트 이미지가 저장된 디렉토리 아래의 모든 .jpg 파일을 읽어들여서\n",
        "image_test_path = '/content/drive/MyDrive/rock_scissor_paper/rsp_test/rock'\n",
        "resize_images(image_test_path)\n",
        "print(\"바위 테스트 이미지 resize 완료!\")\n",
        "\n",
        "#보 테스트 이미지가 저장된 디렉토리 아래의 모든 .jpg 파일을 읽어들여서\n",
        "image_test_path = '/content/drive/MyDrive/rock_scissor_paper/rsp_test/paper'\n",
        "resize_images(image_test_path)\n",
        "print(\"보 테스트 이미지 resize 완료!\")"
      ],
      "metadata": {
        "colab": {
          "base_uri": "https://localhost:8080/"
        },
        "id": "XDsifLeutpEI",
        "outputId": "236ac727-c36a-4fad-e1ba-b6e0f2225eb3"
      },
      "execution_count": null,
      "outputs": [
        {
          "output_type": "stream",
          "name": "stdout",
          "text": [
            "100  images to be resized.\n",
            "100  images resized.\n",
            "가위 테스트 이미지 resize 완료!\n",
            "100  images to be resized.\n",
            "100  images resized.\n",
            "바위 테스트 이미지 resize 완료!\n",
            "100  images to be resized.\n",
            "100  images resized.\n",
            "보 테스트 이미지 resize 완료!\n"
          ]
        }
      ]
    },
    {
      "cell_type": "markdown",
      "source": [
        "- 테스트는 각 클래스별 100장씩 224x224 -> 24x24로 리사이즈 하여 진행"
      ],
      "metadata": {
        "id": "07VJqIYhVpaQ"
      }
    },
    {
      "cell_type": "code",
      "source": [
        "import numpy as np\n",
        "\n",
        "def test_data(test_path, number_of_data=5070):  # 가위바위보 이미지 개수 총합에 주의하세요.\n",
        "    # 가위 : 0, 바위 : 1, 보 : 2\n",
        "    img_size=28\n",
        "    color=3\n",
        "    #이미지 데이터와 라벨(가위 : 0, 바위 : 1, 보 : 2) 데이터를 담을 행렬(matrix) 영역을 생성합니다.\n",
        "    imgs=np.zeros(number_of_data*img_size*img_size*color,dtype=np.int32).reshape(number_of_data,img_size,img_size,color)\n",
        "    labels=np.zeros(number_of_data,dtype=np.int32)\n",
        "\n",
        "    idx=0\n",
        "    for file in glob.iglob(test_path+'/scissor/*.jpg'):\n",
        "        img = np.array(Image.open(file),dtype=np.int32)\n",
        "        imgs[idx,:,:,:]=img    # 데이터 영역에 이미지 행렬을 복사\n",
        "        labels[idx]=0   # 가위 : 0\n",
        "        idx=idx+1\n",
        "\n",
        "    for file in glob.iglob(test_path+'/rock/*.jpg'):\n",
        "        img = np.array(Image.open(file),dtype=np.int32)\n",
        "        imgs[idx,:,:,:]=img    # 데이터 영역에 이미지 행렬을 복사\n",
        "        labels[idx]=1   # 바위 : 1\n",
        "        idx=idx+1\n",
        "\n",
        "    for file in glob.iglob(test_path+'/paper/*.jpg'):\n",
        "        img = np.array(Image.open(file),dtype=np.int32)\n",
        "        imgs[idx,:,:,:]=img    # 데이터 영역에 이미지 행렬을 복사\n",
        "        labels[idx]=2   # 보 : 2\n",
        "        idx=idx+1\n",
        "\n",
        "    print(\"테스트데이터(x_test)의 이미지 개수는\", idx,\"입니다.\")\n",
        "    return imgs, labels"
      ],
      "metadata": {
        "id": "Jm0tdneya31k"
      },
      "execution_count": null,
      "outputs": []
    },
    {
      "cell_type": "code",
      "source": [
        "image_test_path = '/content/drive/MyDrive/rock_scissor_paper/rsp_test'\n",
        "(x_test, y_test)=test_data(image_test_path)\n",
        "x_test_norm = x_test/255.0   # 입력은 0~1 사이의 값으로 정규화\n",
        "\n",
        "print(\"x_test shape: {}\".format(x_test.shape))\n",
        "print(\"y_test shape: {}\".format(y_test.shape))"
      ],
      "metadata": {
        "colab": {
          "base_uri": "https://localhost:8080/"
        },
        "id": "THJuQclLdQHo",
        "outputId": "a0e26b9d-49e3-4c1c-fc2a-af5b83234eb3"
      },
      "execution_count": null,
      "outputs": [
        {
          "output_type": "stream",
          "name": "stdout",
          "text": [
            "테스트데이터(x_train)의 이미지 개수는 300 입니다.\n",
            "x_test shape: (300, 28, 28, 3)\n",
            "y_test shape: (300,)\n"
          ]
        }
      ]
    },
    {
      "cell_type": "markdown",
      "source": [
        "- train과 마찬가지로 리사이즈한 테스트 사진을 라벨링하고 행렬에 데이터로 저장한다."
      ],
      "metadata": {
        "id": "H6TXfyEQVzAm"
      }
    },
    {
      "cell_type": "code",
      "source": [
        "import matplotlib.pyplot as plt\n",
        "plt.imshow(x_test[13])\n",
        "print('라벨: ', y_test[13])"
      ],
      "metadata": {
        "colab": {
          "base_uri": "https://localhost:8080/",
          "height": 283
        },
        "id": "sMLNnxtUhBfL",
        "outputId": "5591ca50-608f-483e-a850-171f66b9944f"
      },
      "execution_count": null,
      "outputs": [
        {
          "output_type": "stream",
          "name": "stdout",
          "text": [
            "라벨:  0\n"
          ]
        },
        {
          "output_type": "display_data",
          "data": {
            "text/plain": [
              "<Figure size 432x288 with 1 Axes>"
            ],
            "image/png": "[encoded data removed]"
          },
          "metadata": {
            "needs_background": "light"
          }
        }
      ]
    },
    {
      "cell_type": "code",
      "source": [
        "test_all_loss, test_all_accuracy = model.evaluate(x_test, y_test, verbose=2)\n",
        "print(\"test_loss: {} \".format(test_all_loss))\n",
        "print(\"test_accuracy: {}\".format(test_all_accuracy))"
      ],
      "metadata": {
        "colab": {
          "base_uri": "https://localhost:8080/"
        },
        "id": "MCXHAv0Jdmpq",
        "outputId": "24c47315-0174-4ec7-dbf9-ebb2e0f87212"
      },
      "execution_count": null,
      "outputs": [
        {
          "output_type": "stream",
          "name": "stdout",
          "text": [
            "10/10 - 0s - loss: 2.3624 - accuracy: 0.6167 - 40ms/epoch - 4ms/step\n",
            "test_loss: 2.3624460697174072 \n",
            "test_accuracy: 0.6166666746139526\n"
          ]
        }
      ]
    },
    {
      "cell_type": "markdown",
      "source": [
        "- 손실 2.3 / 정확도가 약 61.7%가 나온 것을 확인"
      ],
      "metadata": {
        "id": "dmC_14NWWBmZ"
      }
    },
    {
      "cell_type": "markdown",
      "source": [
        "# 회고\n",
        "\n",
        "---\n",
        "\n",
        "- 첫 딥러닝을 활용한 과제라서 조금 어려울 것이라고 생각했다. 10~20%의 정확도만 나오길래 파라미터를 계속 변화를 줘봤지만 큰 영향이 없다고 판단하였다. 그래서 처음에 찍은 사진인 1500장을 전부 폐기하고 다시 5070여장의 사진을 좀 더 공들여서 찍었다. 단지 사진을 바꿨을 뿐인데, 루브릭 요구사항을 바로 성취하였다. \n",
        "\n",
        "- 과제를 하나하나 해 나가면서 느끼는 것이지만, CV든 NLP든 AI 모델 구축에 있어서 데이터 전처리의 중요도가 80~90%의 비중을 차지하고 있다는 것을 다시 한번 느꼈다. "
      ],
      "metadata": {
        "id": "zwBOcwh3uJJf"
      }
    }
  ]
}