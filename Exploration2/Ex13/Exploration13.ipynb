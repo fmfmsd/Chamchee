{
 "cells": [
  {
   "cell_type": "markdown",
   "metadata": {
    "id": "IfnKLH3_QzFm"
   },
   "source": [
    "# 13. 아이유팬이 좋아할 만한 다른 아티스트 찾기(영화추천)"
   ]
  },
  {
   "cell_type": "markdown",
   "metadata": {
    "id": "1pLEbzMHQ5T6"
   },
   "source": [
    "- CSR matrix가 정상적으로 만들어졌다.\n",
    "- MF 모델이 정상적으로 훈련되어 그럴듯한 추천이 이루어졌다.\n",
    "- 비슷한 영화 찾기와 유저에게 추천하기의 과정이 정상적으로 진행되었다."
   ]
  },
  {
   "cell_type": "code",
   "execution_count": null,
   "metadata": {
    "colab": {
     "base_uri": "https://localhost:8080/"
    },
    "id": "2mQseNgoMbsZ",
    "outputId": "3557f3e8-422d-40ab-b0ee-b6309a354bec"
   },
   "outputs": [
    {
     "name": "stdout",
     "output_type": "stream",
     "text": [
      "Looking in indexes: https://pypi.org/simple, https://us-python.pkg.dev/colab-wheels/public/simple/\n",
      "Requirement already satisfied: implicit in /usr/local/lib/python3.7/dist-packages (0.6.1)\n",
      "Requirement already satisfied: tqdm>=4.27 in /usr/local/lib/python3.7/dist-packages (from implicit) (4.64.1)\n",
      "Requirement already satisfied: scipy>=0.16 in /usr/local/lib/python3.7/dist-packages (from implicit) (1.7.3)\n",
      "Requirement already satisfied: numpy in /usr/local/lib/python3.7/dist-packages (from implicit) (1.21.6)\n"
     ]
    }
   ],
   "source": [
    "!pip install implicit"
   ]
  },
  {
   "cell_type": "markdown",
   "metadata": {
    "id": "Zw6NnVt8Z0NT"
   },
   "source": [
    "# Data Processaing\n",
    "\n",
    "- 유저가 영화에 대해 평점을 매긴 데이터가 데이터 크기 별로 존재한다\n",
    "- 별점 데이터는 대표적인 explicit 데이터이나, implicit 데이터로 간주하고 테스트한다.\n",
    "- 별점을 시청횟수로 해석해서 생각한다. 또한 유저가 3점 미만으로 준 데이터는 선호하지 않는다고 가정하고 제외한다."
   ]
  },
  {
   "cell_type": "code",
   "execution_count": 1,
   "metadata": {
    "id": "-IfpNgtyLMX2"
   },
   "outputs": [],
   "source": [
    "import os\n",
    "import numpy as np\n",
    "import pandas as pd\n",
    "from scipy.sparse import csr_matrix\n",
    "from implicit.als import AlternatingLeastSquares"
   ]
  },
  {
   "cell_type": "code",
   "execution_count": 3,
   "metadata": {
    "colab": {
     "base_uri": "https://localhost:8080/",
     "height": 206
    },
    "id": "bnlEovBtSDRN",
    "outputId": "971637b7-fab7-410c-fb42-9b06b72ed2c2"
   },
   "outputs": [
    {
     "data": {
      "text/html": [
       "<div>\n",
       "<style scoped>\n",
       "    .dataframe tbody tr th:only-of-type {\n",
       "        vertical-align: middle;\n",
       "    }\n",
       "\n",
       "    .dataframe tbody tr th {\n",
       "        vertical-align: top;\n",
       "    }\n",
       "\n",
       "    .dataframe thead th {\n",
       "        text-align: right;\n",
       "    }\n",
       "</style>\n",
       "<table border=\"1\" class=\"dataframe\">\n",
       "  <thead>\n",
       "    <tr style=\"text-align: right;\">\n",
       "      <th></th>\n",
       "      <th>user_id</th>\n",
       "      <th>movie_id</th>\n",
       "      <th>ratings</th>\n",
       "      <th>timestamp</th>\n",
       "    </tr>\n",
       "  </thead>\n",
       "  <tbody>\n",
       "    <tr>\n",
       "      <th>0</th>\n",
       "      <td>1</td>\n",
       "      <td>1193</td>\n",
       "      <td>5</td>\n",
       "      <td>978300760</td>\n",
       "    </tr>\n",
       "    <tr>\n",
       "      <th>1</th>\n",
       "      <td>1</td>\n",
       "      <td>661</td>\n",
       "      <td>3</td>\n",
       "      <td>978302109</td>\n",
       "    </tr>\n",
       "    <tr>\n",
       "      <th>2</th>\n",
       "      <td>1</td>\n",
       "      <td>914</td>\n",
       "      <td>3</td>\n",
       "      <td>978301968</td>\n",
       "    </tr>\n",
       "    <tr>\n",
       "      <th>3</th>\n",
       "      <td>1</td>\n",
       "      <td>3408</td>\n",
       "      <td>4</td>\n",
       "      <td>978300275</td>\n",
       "    </tr>\n",
       "    <tr>\n",
       "      <th>4</th>\n",
       "      <td>1</td>\n",
       "      <td>2355</td>\n",
       "      <td>5</td>\n",
       "      <td>978824291</td>\n",
       "    </tr>\n",
       "  </tbody>\n",
       "</table>\n",
       "</div>"
      ],
      "text/plain": [
       "   user_id  movie_id  ratings  timestamp\n",
       "0        1      1193        5  978300760\n",
       "1        1       661        3  978302109\n",
       "2        1       914        3  978301968\n",
       "3        1      3408        4  978300275\n",
       "4        1      2355        5  978824291"
      ]
     },
     "execution_count": 3,
     "metadata": {},
     "output_type": "execute_result"
    }
   ],
   "source": [
    "rating_file_path=os.getenv('HOME') + '/aiffel/recommendata_iu/data/ml-1m/ratings.dat'\n",
    "ratings_cols = ['user_id', 'movie_id', 'ratings', 'timestamp']\n",
    "ratings = pd.read_csv(rating_file_path, sep='::', names=ratings_cols, engine='python', encoding = \"ISO-8859-1\")\n",
    "orginal_data_size = len(ratings)\n",
    "ratings.head()"
   ]
  },
  {
   "cell_type": "code",
   "execution_count": 4,
   "metadata": {
    "colab": {
     "base_uri": "https://localhost:8080/"
    },
    "id": "yFzsZEirSQ2k",
    "outputId": "04be6a99-ae24-416d-b476-2dec7f3eb495"
   },
   "outputs": [
    {
     "name": "stdout",
     "output_type": "stream",
     "text": [
      "원본 데이터: 1000209, 정제된 데이터: 836478\n",
      "남은 데이터 비율 83.63%\n"
     ]
    }
   ],
   "source": [
    "# 3점 이상만 남깁니다.\n",
    "ratings = ratings[ratings['ratings']>=3]\n",
    "filtered_data_size = len(ratings)\n",
    "\n",
    "print(f'원본 데이터: {orginal_data_size}, 정제된 데이터: {filtered_data_size}')\n",
    "print(f'남은 데이터 비율 {filtered_data_size / orginal_data_size:.2%}')"
   ]
  },
  {
   "cell_type": "markdown",
   "metadata": {
    "id": "iy8dyn50EVPL"
   },
   "source": [
    "- 16.37% 의 데이터를 삭제한 것을 확인"
   ]
  },
  {
   "cell_type": "code",
   "execution_count": 5,
   "metadata": {
    "colab": {
     "base_uri": "https://localhost:8080/"
    },
    "id": "j0Uqz8WUT_C3",
    "outputId": "641d1ad7-ac14-40e3-ff1e-7d0cc7abcdf8"
   },
   "outputs": [
    {
     "data": {
      "text/plain": [
       "0          5\n",
       "1          3\n",
       "2          3\n",
       "3          4\n",
       "4          5\n",
       "          ..\n",
       "1000203    3\n",
       "1000205    5\n",
       "1000206    5\n",
       "1000207    4\n",
       "1000208    4\n",
       "Name: count, Length: 836478, dtype: int64"
      ]
     },
     "execution_count": 5,
     "metadata": {},
     "output_type": "execute_result"
    }
   ],
   "source": [
    "# ratings 컬럼의 이름을 count로\n",
    "ratings.rename(columns={'ratings':'count'}, inplace=True)\n",
    "ratings['count']"
   ]
  },
  {
   "cell_type": "code",
   "execution_count": 8,
   "metadata": {
    "colab": {
     "base_uri": "https://localhost:8080/",
     "height": 206
    },
    "id": "nBQRGW6bULoq",
    "outputId": "69be02c0-fa5f-421a-c13c-e09de76fba07"
   },
   "outputs": [
    {
     "data": {
      "text/html": [
       "<div>\n",
       "<style scoped>\n",
       "    .dataframe tbody tr th:only-of-type {\n",
       "        vertical-align: middle;\n",
       "    }\n",
       "\n",
       "    .dataframe tbody tr th {\n",
       "        vertical-align: top;\n",
       "    }\n",
       "\n",
       "    .dataframe thead th {\n",
       "        text-align: right;\n",
       "    }\n",
       "</style>\n",
       "<table border=\"1\" class=\"dataframe\">\n",
       "  <thead>\n",
       "    <tr style=\"text-align: right;\">\n",
       "      <th></th>\n",
       "      <th>movie_id</th>\n",
       "      <th>title</th>\n",
       "      <th>genre</th>\n",
       "    </tr>\n",
       "  </thead>\n",
       "  <tbody>\n",
       "    <tr>\n",
       "      <th>0</th>\n",
       "      <td>1</td>\n",
       "      <td>Toy Story (1995)</td>\n",
       "      <td>Animation|Children's|Comedy</td>\n",
       "    </tr>\n",
       "    <tr>\n",
       "      <th>1</th>\n",
       "      <td>2</td>\n",
       "      <td>Jumanji (1995)</td>\n",
       "      <td>Adventure|Children's|Fantasy</td>\n",
       "    </tr>\n",
       "    <tr>\n",
       "      <th>2</th>\n",
       "      <td>3</td>\n",
       "      <td>Grumpier Old Men (1995)</td>\n",
       "      <td>Comedy|Romance</td>\n",
       "    </tr>\n",
       "    <tr>\n",
       "      <th>3</th>\n",
       "      <td>4</td>\n",
       "      <td>Waiting to Exhale (1995)</td>\n",
       "      <td>Comedy|Drama</td>\n",
       "    </tr>\n",
       "    <tr>\n",
       "      <th>4</th>\n",
       "      <td>5</td>\n",
       "      <td>Father of the Bride Part II (1995)</td>\n",
       "      <td>Comedy</td>\n",
       "    </tr>\n",
       "  </tbody>\n",
       "</table>\n",
       "</div>"
      ],
      "text/plain": [
       "   movie_id                               title                         genre\n",
       "0         1                    Toy Story (1995)   Animation|Children's|Comedy\n",
       "1         2                      Jumanji (1995)  Adventure|Children's|Fantasy\n",
       "2         3             Grumpier Old Men (1995)                Comedy|Romance\n",
       "3         4            Waiting to Exhale (1995)                  Comedy|Drama\n",
       "4         5  Father of the Bride Part II (1995)                        Comedy"
      ]
     },
     "execution_count": 8,
     "metadata": {},
     "output_type": "execute_result"
    }
   ],
   "source": [
    "# 영화 제목 데이터\n",
    "movie_file_path=os.getenv('HOME') + '/aiffel/recommendata_iu/data/ml-1m/movies.dat'\n",
    "cols = ['movie_id', 'title', 'genre'] \n",
    "movies = pd.read_csv(movie_file_path, sep='::', names=cols, engine='python', encoding='ISO-8859-1')\n",
    "movies.head()"
   ]
  },
  {
   "cell_type": "code",
   "execution_count": 9,
   "metadata": {
    "colab": {
     "base_uri": "https://localhost:8080/",
     "height": 206
    },
    "id": "6jmdHU4bUq5o",
    "outputId": "7623ad34-872b-4bbc-a5f4-f2389483f310"
   },
   "outputs": [
    {
     "data": {
      "text/html": [
       "<div>\n",
       "<style scoped>\n",
       "    .dataframe tbody tr th:only-of-type {\n",
       "        vertical-align: middle;\n",
       "    }\n",
       "\n",
       "    .dataframe tbody tr th {\n",
       "        vertical-align: top;\n",
       "    }\n",
       "\n",
       "    .dataframe thead th {\n",
       "        text-align: right;\n",
       "    }\n",
       "</style>\n",
       "<table border=\"1\" class=\"dataframe\">\n",
       "  <thead>\n",
       "    <tr style=\"text-align: right;\">\n",
       "      <th></th>\n",
       "      <th>user_id</th>\n",
       "      <th>movie_id</th>\n",
       "      <th>count</th>\n",
       "      <th>timestamp</th>\n",
       "      <th>title</th>\n",
       "      <th>genre</th>\n",
       "    </tr>\n",
       "  </thead>\n",
       "  <tbody>\n",
       "    <tr>\n",
       "      <th>0</th>\n",
       "      <td>1</td>\n",
       "      <td>1193</td>\n",
       "      <td>5</td>\n",
       "      <td>978300760</td>\n",
       "      <td>One Flew Over the Cuckoo's Nest (1975)</td>\n",
       "      <td>Drama</td>\n",
       "    </tr>\n",
       "    <tr>\n",
       "      <th>1</th>\n",
       "      <td>1</td>\n",
       "      <td>661</td>\n",
       "      <td>3</td>\n",
       "      <td>978302109</td>\n",
       "      <td>James and the Giant Peach (1996)</td>\n",
       "      <td>Animation|Children's|Musical</td>\n",
       "    </tr>\n",
       "    <tr>\n",
       "      <th>2</th>\n",
       "      <td>1</td>\n",
       "      <td>914</td>\n",
       "      <td>3</td>\n",
       "      <td>978301968</td>\n",
       "      <td>My Fair Lady (1964)</td>\n",
       "      <td>Musical|Romance</td>\n",
       "    </tr>\n",
       "    <tr>\n",
       "      <th>3</th>\n",
       "      <td>1</td>\n",
       "      <td>3408</td>\n",
       "      <td>4</td>\n",
       "      <td>978300275</td>\n",
       "      <td>Erin Brockovich (2000)</td>\n",
       "      <td>Drama</td>\n",
       "    </tr>\n",
       "    <tr>\n",
       "      <th>4</th>\n",
       "      <td>1</td>\n",
       "      <td>2355</td>\n",
       "      <td>5</td>\n",
       "      <td>978824291</td>\n",
       "      <td>Bug's Life, A (1998)</td>\n",
       "      <td>Animation|Children's|Comedy</td>\n",
       "    </tr>\n",
       "  </tbody>\n",
       "</table>\n",
       "</div>"
      ],
      "text/plain": [
       "   user_id  movie_id  count  timestamp  \\\n",
       "0        1      1193      5  978300760   \n",
       "1        1       661      3  978302109   \n",
       "2        1       914      3  978301968   \n",
       "3        1      3408      4  978300275   \n",
       "4        1      2355      5  978824291   \n",
       "\n",
       "                                    title                         genre  \n",
       "0  One Flew Over the Cuckoo's Nest (1975)                         Drama  \n",
       "1        James and the Giant Peach (1996)  Animation|Children's|Musical  \n",
       "2                     My Fair Lady (1964)               Musical|Romance  \n",
       "3                  Erin Brockovich (2000)                         Drama  \n",
       "4                    Bug's Life, A (1998)   Animation|Children's|Comedy  "
      ]
     },
     "execution_count": 9,
     "metadata": {},
     "output_type": "execute_result"
    }
   ],
   "source": [
    "# ratings 와 movies 데이터 프레임 합치기\n",
    "movie = ratings.join(movies.set_index('movie_id'), on='movie_id')\n",
    "movie.head()"
   ]
  },
  {
   "cell_type": "code",
   "execution_count": 10,
   "metadata": {
    "colab": {
     "base_uri": "https://localhost:8080/"
    },
    "id": "fXrV9KBeU47G",
    "outputId": "c90ca3df-4465-44d5-b7ff-2ad7f3099d55"
   },
   "outputs": [
    {
     "name": "stdout",
     "output_type": "stream",
     "text": [
      "영화 개수:  3628\n"
     ]
    }
   ],
   "source": [
    "# 영화 개수\n",
    "print('영화 개수: ', movie['movie_id'].nunique())"
   ]
  },
  {
   "cell_type": "code",
   "execution_count": 11,
   "metadata": {
    "colab": {
     "base_uri": "https://localhost:8080/"
    },
    "id": "9irsbhRnVPRo",
    "outputId": "c3858d50-86f0-40bc-d702-afaa90647591"
   },
   "outputs": [
    {
     "name": "stdout",
     "output_type": "stream",
     "text": [
      "사용자 수:  6039\n"
     ]
    }
   ],
   "source": [
    "# 사용자 수\n",
    "print('사용자 수: ', movie['user_id'].nunique())"
   ]
  },
  {
   "cell_type": "code",
   "execution_count": 12,
   "metadata": {
    "colab": {
     "base_uri": "https://localhost:8080/"
    },
    "id": "x7Qw13oCVRep",
    "outputId": "389334f2-948e-4c2d-baef-8dd6d0ed5a2d"
   },
   "outputs": [
    {
     "name": "stdout",
     "output_type": "stream",
     "text": [
      "인기있는 영화 Top 30\n"
     ]
    },
    {
     "data": {
      "text/plain": [
       "title\n",
       "American Beauty (1999)                                   3211\n",
       "Star Wars: Episode IV - A New Hope (1977)                2910\n",
       "Star Wars: Episode V - The Empire Strikes Back (1980)    2885\n",
       "Star Wars: Episode VI - Return of the Jedi (1983)        2716\n",
       "Saving Private Ryan (1998)                               2561\n",
       "Terminator 2: Judgment Day (1991)                        2509\n",
       "Silence of the Lambs, The (1991)                         2498\n",
       "Raiders of the Lost Ark (1981)                           2473\n",
       "Back to the Future (1985)                                2460\n",
       "Matrix, The (1999)                                       2434\n",
       "Jurassic Park (1993)                                     2413\n",
       "Sixth Sense, The (1999)                                  2385\n",
       "Fargo (1996)                                             2371\n",
       "Braveheart (1995)                                        2314\n",
       "Men in Black (1997)                                      2297\n",
       "Schindler's List (1993)                                  2257\n",
       "Princess Bride, The (1987)                               2252\n",
       "Shakespeare in Love (1998)                               2213\n",
       "L.A. Confidential (1997)                                 2210\n",
       "Shawshank Redemption, The (1994)                         2194\n",
       "Godfather, The (1972)                                    2167\n",
       "Groundhog Day (1993)                                     2121\n",
       "E.T. the Extra-Terrestrial (1982)                        2102\n",
       "Being John Malkovich (1999)                              2066\n",
       "Ghostbusters (1984)                                      2051\n",
       "Pulp Fiction (1994)                                      2030\n",
       "Forrest Gump (1994)                                      2022\n",
       "Terminator, The (1984)                                   2019\n",
       "Toy Story (1995)                                         2000\n",
       "Fugitive, The (1993)                                     1941\n",
       "Name: user_id, dtype: int64"
      ]
     },
     "execution_count": 12,
     "metadata": {},
     "output_type": "execute_result"
    }
   ],
   "source": [
    "# 인기있는 영화 Top 30\n",
    "print('인기있는 영화 Top 30')\n",
    "movie_count = movie.groupby('title')['user_id'].count()\n",
    "movie_count.sort_values(ascending=False).head(30)"
   ]
  },
  {
   "cell_type": "code",
   "execution_count": 13,
   "metadata": {
    "colab": {
     "base_uri": "https://localhost:8080/"
    },
    "id": "JzyvPq-qVIx7",
    "outputId": "013732e4-f006-4a09-8b07-7c58e8ac62e4"
   },
   "outputs": [
    {
     "data": {
      "text/plain": [
       "count    6039.000000\n",
       "mean      138.512668\n",
       "std       156.241599\n",
       "min         1.000000\n",
       "25%        38.000000\n",
       "50%        81.000000\n",
       "75%       177.000000\n",
       "max      1968.000000\n",
       "Name: movie_id, dtype: float64"
      ]
     },
     "execution_count": 13,
     "metadata": {},
     "output_type": "execute_result"
    }
   ],
   "source": [
    "# 각 유저가 몇 편의 영화를 봤는지 통계량 확인\n",
    "user_count = movie.groupby('user_id')['movie_id'].count()\n",
    "user_count.describe()"
   ]
  },
  {
   "cell_type": "code",
   "execution_count": 14,
   "metadata": {
    "colab": {
     "base_uri": "https://localhost:8080/"
    },
    "id": "aVXTdE5UVcSm",
    "outputId": "4e49c5aa-68c6-452a-8149-154bc09adfd2"
   },
   "outputs": [
    {
     "data": {
      "text/plain": [
       "count    6039.000000\n",
       "mean        4.055970\n",
       "std         0.432143\n",
       "min         3.000000\n",
       "25%         4.000000\n",
       "50%         4.000000\n",
       "75%         4.000000\n",
       "max         5.000000\n",
       "Name: count, dtype: float64"
      ]
     },
     "execution_count": 14,
     "metadata": {},
     "output_type": "execute_result"
    }
   ],
   "source": [
    "# 영화 별 시청(count)횟수 중앙값에 대한 통계\n",
    "user_median = movie.groupby('user_id')['count'].median()\n",
    "user_median.describe()"
   ]
  },
  {
   "cell_type": "code",
   "execution_count": 17,
   "metadata": {
    "colab": {
     "base_uri": "https://localhost:8080/",
     "height": 175
    },
    "id": "qzZRfRJrYrVV",
    "outputId": "a9a667e5-88ec-49ab-fe5d-bc63ba5fdce7"
   },
   "outputs": [
    {
     "data": {
      "text/html": [
       "<div>\n",
       "<style scoped>\n",
       "    .dataframe tbody tr th:only-of-type {\n",
       "        vertical-align: middle;\n",
       "    }\n",
       "\n",
       "    .dataframe tbody tr th {\n",
       "        vertical-align: top;\n",
       "    }\n",
       "\n",
       "    .dataframe thead th {\n",
       "        text-align: right;\n",
       "    }\n",
       "</style>\n",
       "<table border=\"1\" class=\"dataframe\">\n",
       "  <thead>\n",
       "    <tr style=\"text-align: right;\">\n",
       "      <th></th>\n",
       "      <th>movie_id</th>\n",
       "      <th>title</th>\n",
       "      <th>genre</th>\n",
       "    </tr>\n",
       "  </thead>\n",
       "  <tbody>\n",
       "    <tr>\n",
       "      <th>257</th>\n",
       "      <td>260</td>\n",
       "      <td>Star Wars: Episode IV - A New Hope (1977)</td>\n",
       "      <td>Action|Adventure|Fantasy|Sci-Fi</td>\n",
       "    </tr>\n",
       "    <tr>\n",
       "      <th>1178</th>\n",
       "      <td>1196</td>\n",
       "      <td>Star Wars: Episode V - The Empire Strikes Back...</td>\n",
       "      <td>Action|Adventure|Drama|Sci-Fi|War</td>\n",
       "    </tr>\n",
       "    <tr>\n",
       "      <th>1192</th>\n",
       "      <td>1210</td>\n",
       "      <td>Star Wars: Episode VI - Return of the Jedi (1983)</td>\n",
       "      <td>Action|Adventure|Romance|Sci-Fi|War</td>\n",
       "    </tr>\n",
       "    <tr>\n",
       "      <th>2559</th>\n",
       "      <td>2628</td>\n",
       "      <td>Star Wars: Episode I - The Phantom Menace (1999)</td>\n",
       "      <td>Action|Adventure|Fantasy|Sci-Fi</td>\n",
       "    </tr>\n",
       "  </tbody>\n",
       "</table>\n",
       "</div>"
      ],
      "text/plain": [
       "      movie_id                                              title  \\\n",
       "257        260          Star Wars: Episode IV - A New Hope (1977)   \n",
       "1178      1196  Star Wars: Episode V - The Empire Strikes Back...   \n",
       "1192      1210  Star Wars: Episode VI - Return of the Jedi (1983)   \n",
       "2559      2628   Star Wars: Episode I - The Phantom Menace (1999)   \n",
       "\n",
       "                                    genre  \n",
       "257       Action|Adventure|Fantasy|Sci-Fi  \n",
       "1178    Action|Adventure|Drama|Sci-Fi|War  \n",
       "1192  Action|Adventure|Romance|Sci-Fi|War  \n",
       "2559      Action|Adventure|Fantasy|Sci-Fi  "
      ]
     },
     "execution_count": 17,
     "metadata": {},
     "output_type": "execute_result"
    }
   ],
   "source": [
    "# 영화 제목 키워드로 검색\n",
    "movies[movies['title'].str.lower().str.contains('star wars', regex=False)]"
   ]
  },
  {
   "cell_type": "code",
   "execution_count": 18,
   "metadata": {
    "colab": {
     "base_uri": "https://localhost:8080/",
     "height": 645
    },
    "id": "jEdkxrQ6mVly",
    "outputId": "e9a93764-71b7-409d-bf3d-f8d482bb7338"
   },
   "outputs": [
    {
     "data": {
      "text/html": [
       "<div>\n",
       "<style scoped>\n",
       "    .dataframe tbody tr th:only-of-type {\n",
       "        vertical-align: middle;\n",
       "    }\n",
       "\n",
       "    .dataframe tbody tr th {\n",
       "        vertical-align: top;\n",
       "    }\n",
       "\n",
       "    .dataframe thead th {\n",
       "        text-align: right;\n",
       "    }\n",
       "</style>\n",
       "<table border=\"1\" class=\"dataframe\">\n",
       "  <thead>\n",
       "    <tr style=\"text-align: right;\">\n",
       "      <th></th>\n",
       "      <th>movie_id</th>\n",
       "      <th>title</th>\n",
       "      <th>genre</th>\n",
       "    </tr>\n",
       "  </thead>\n",
       "  <tbody>\n",
       "    <tr>\n",
       "      <th>122</th>\n",
       "      <td>124</td>\n",
       "      <td>Star Maker, The (Uomo delle stelle, L') (1995)</td>\n",
       "      <td>Drama</td>\n",
       "    </tr>\n",
       "    <tr>\n",
       "      <th>257</th>\n",
       "      <td>260</td>\n",
       "      <td>Star Wars: Episode IV - A New Hope (1977)</td>\n",
       "      <td>Action|Adventure|Fantasy|Sci-Fi</td>\n",
       "    </tr>\n",
       "    <tr>\n",
       "      <th>325</th>\n",
       "      <td>329</td>\n",
       "      <td>Star Trek: Generations (1994)</td>\n",
       "      <td>Action|Adventure|Sci-Fi</td>\n",
       "    </tr>\n",
       "    <tr>\n",
       "      <th>790</th>\n",
       "      <td>800</td>\n",
       "      <td>Lone Star (1996)</td>\n",
       "      <td>Drama|Mystery</td>\n",
       "    </tr>\n",
       "    <tr>\n",
       "      <th>1178</th>\n",
       "      <td>1196</td>\n",
       "      <td>Star Wars: Episode V - The Empire Strikes Back...</td>\n",
       "      <td>Action|Adventure|Drama|Sci-Fi|War</td>\n",
       "    </tr>\n",
       "    <tr>\n",
       "      <th>1192</th>\n",
       "      <td>1210</td>\n",
       "      <td>Star Wars: Episode VI - Return of the Jedi (1983)</td>\n",
       "      <td>Action|Adventure|Romance|Sci-Fi|War</td>\n",
       "    </tr>\n",
       "    <tr>\n",
       "      <th>1335</th>\n",
       "      <td>1356</td>\n",
       "      <td>Star Trek: First Contact (1996)</td>\n",
       "      <td>Action|Adventure|Sci-Fi</td>\n",
       "    </tr>\n",
       "    <tr>\n",
       "      <th>1350</th>\n",
       "      <td>1371</td>\n",
       "      <td>Star Trek: The Motion Picture (1979)</td>\n",
       "      <td>Action|Adventure|Sci-Fi</td>\n",
       "    </tr>\n",
       "    <tr>\n",
       "      <th>1351</th>\n",
       "      <td>1372</td>\n",
       "      <td>Star Trek VI: The Undiscovered Country (1991)</td>\n",
       "      <td>Action|Adventure|Sci-Fi</td>\n",
       "    </tr>\n",
       "    <tr>\n",
       "      <th>1352</th>\n",
       "      <td>1373</td>\n",
       "      <td>Star Trek V: The Final Frontier (1989)</td>\n",
       "      <td>Action|Adventure|Sci-Fi</td>\n",
       "    </tr>\n",
       "    <tr>\n",
       "      <th>1353</th>\n",
       "      <td>1374</td>\n",
       "      <td>Star Trek: The Wrath of Khan (1982)</td>\n",
       "      <td>Action|Adventure|Sci-Fi</td>\n",
       "    </tr>\n",
       "    <tr>\n",
       "      <th>1354</th>\n",
       "      <td>1375</td>\n",
       "      <td>Star Trek III: The Search for Spock (1984)</td>\n",
       "      <td>Action|Adventure|Sci-Fi</td>\n",
       "    </tr>\n",
       "    <tr>\n",
       "      <th>1355</th>\n",
       "      <td>1376</td>\n",
       "      <td>Star Trek IV: The Voyage Home (1986)</td>\n",
       "      <td>Action|Adventure|Sci-Fi</td>\n",
       "    </tr>\n",
       "    <tr>\n",
       "      <th>1571</th>\n",
       "      <td>1613</td>\n",
       "      <td>Star Maps (1997)</td>\n",
       "      <td>Drama</td>\n",
       "    </tr>\n",
       "    <tr>\n",
       "      <th>1698</th>\n",
       "      <td>1750</td>\n",
       "      <td>Star Kid (1997)</td>\n",
       "      <td>Adventure|Children's|Fantasy|Sci-Fi</td>\n",
       "    </tr>\n",
       "    <tr>\n",
       "      <th>2324</th>\n",
       "      <td>2393</td>\n",
       "      <td>Star Trek: Insurrection (1998)</td>\n",
       "      <td>Action|Sci-Fi</td>\n",
       "    </tr>\n",
       "    <tr>\n",
       "      <th>2559</th>\n",
       "      <td>2628</td>\n",
       "      <td>Star Wars: Episode I - The Phantom Menace (1999)</td>\n",
       "      <td>Action|Adventure|Fantasy|Sci-Fi</td>\n",
       "    </tr>\n",
       "    <tr>\n",
       "      <th>2838</th>\n",
       "      <td>2907</td>\n",
       "      <td>Superstar (1999)</td>\n",
       "      <td>Comedy</td>\n",
       "    </tr>\n",
       "    <tr>\n",
       "      <th>3148</th>\n",
       "      <td>3217</td>\n",
       "      <td>Star Is Born, A (1937)</td>\n",
       "      <td>Drama</td>\n",
       "    </tr>\n",
       "  </tbody>\n",
       "</table>\n",
       "</div>"
      ],
      "text/plain": [
       "      movie_id                                              title  \\\n",
       "122        124     Star Maker, The (Uomo delle stelle, L') (1995)   \n",
       "257        260          Star Wars: Episode IV - A New Hope (1977)   \n",
       "325        329                      Star Trek: Generations (1994)   \n",
       "790        800                                   Lone Star (1996)   \n",
       "1178      1196  Star Wars: Episode V - The Empire Strikes Back...   \n",
       "1192      1210  Star Wars: Episode VI - Return of the Jedi (1983)   \n",
       "1335      1356                    Star Trek: First Contact (1996)   \n",
       "1350      1371               Star Trek: The Motion Picture (1979)   \n",
       "1351      1372      Star Trek VI: The Undiscovered Country (1991)   \n",
       "1352      1373             Star Trek V: The Final Frontier (1989)   \n",
       "1353      1374                Star Trek: The Wrath of Khan (1982)   \n",
       "1354      1375         Star Trek III: The Search for Spock (1984)   \n",
       "1355      1376               Star Trek IV: The Voyage Home (1986)   \n",
       "1571      1613                                   Star Maps (1997)   \n",
       "1698      1750                                    Star Kid (1997)   \n",
       "2324      2393                     Star Trek: Insurrection (1998)   \n",
       "2559      2628   Star Wars: Episode I - The Phantom Menace (1999)   \n",
       "2838      2907                                   Superstar (1999)   \n",
       "3148      3217                             Star Is Born, A (1937)   \n",
       "\n",
       "                                    genre  \n",
       "122                                 Drama  \n",
       "257       Action|Adventure|Fantasy|Sci-Fi  \n",
       "325               Action|Adventure|Sci-Fi  \n",
       "790                         Drama|Mystery  \n",
       "1178    Action|Adventure|Drama|Sci-Fi|War  \n",
       "1192  Action|Adventure|Romance|Sci-Fi|War  \n",
       "1335              Action|Adventure|Sci-Fi  \n",
       "1350              Action|Adventure|Sci-Fi  \n",
       "1351              Action|Adventure|Sci-Fi  \n",
       "1352              Action|Adventure|Sci-Fi  \n",
       "1353              Action|Adventure|Sci-Fi  \n",
       "1354              Action|Adventure|Sci-Fi  \n",
       "1355              Action|Adventure|Sci-Fi  \n",
       "1571                                Drama  \n",
       "1698  Adventure|Children's|Fantasy|Sci-Fi  \n",
       "2324                        Action|Sci-Fi  \n",
       "2559      Action|Adventure|Fantasy|Sci-Fi  \n",
       "2838                               Comedy  \n",
       "3148                                Drama  "
      ]
     },
     "execution_count": 18,
     "metadata": {},
     "output_type": "execute_result"
    }
   ],
   "source": [
    "# 영화 제목 키워드로 검색\n",
    "movies[movies['title'].str.lower().str.contains('star ', regex=False)]"
   ]
  },
  {
   "cell_type": "code",
   "execution_count": 19,
   "metadata": {
    "colab": {
     "base_uri": "https://localhost:8080/",
     "height": 81
    },
    "id": "1t0XPfLVY2Rf",
    "outputId": "1682879d-bf80-43db-c0c2-e9cafbcb6c26"
   },
   "outputs": [
    {
     "data": {
      "text/html": [
       "<div>\n",
       "<style scoped>\n",
       "    .dataframe tbody tr th:only-of-type {\n",
       "        vertical-align: middle;\n",
       "    }\n",
       "\n",
       "    .dataframe tbody tr th {\n",
       "        vertical-align: top;\n",
       "    }\n",
       "\n",
       "    .dataframe thead th {\n",
       "        text-align: right;\n",
       "    }\n",
       "</style>\n",
       "<table border=\"1\" class=\"dataframe\">\n",
       "  <thead>\n",
       "    <tr style=\"text-align: right;\">\n",
       "      <th></th>\n",
       "      <th>movie_id</th>\n",
       "      <th>title</th>\n",
       "      <th>genre</th>\n",
       "    </tr>\n",
       "  </thead>\n",
       "  <tbody>\n",
       "    <tr>\n",
       "      <th>293</th>\n",
       "      <td>296</td>\n",
       "      <td>Pulp Fiction (1994)</td>\n",
       "      <td>Crime|Drama</td>\n",
       "    </tr>\n",
       "  </tbody>\n",
       "</table>\n",
       "</div>"
      ],
      "text/plain": [
       "     movie_id                title        genre\n",
       "293       296  Pulp Fiction (1994)  Crime|Drama"
      ]
     },
     "execution_count": 19,
     "metadata": {},
     "output_type": "execute_result"
    }
   ],
   "source": [
    "# 영화 제목 키워드로 검색\n",
    "movies[movies['title'].str.lower().str.contains('pulp ', regex=False)]"
   ]
  },
  {
   "cell_type": "code",
   "execution_count": 20,
   "metadata": {
    "colab": {
     "base_uri": "https://localhost:8080/",
     "height": 81
    },
    "id": "BYBVV4laZI5i",
    "outputId": "ebf44881-d5d1-4936-8ae3-50b876982ae0"
   },
   "outputs": [
    {
     "data": {
      "text/html": [
       "<div>\n",
       "<style scoped>\n",
       "    .dataframe tbody tr th:only-of-type {\n",
       "        vertical-align: middle;\n",
       "    }\n",
       "\n",
       "    .dataframe tbody tr th {\n",
       "        vertical-align: top;\n",
       "    }\n",
       "\n",
       "    .dataframe thead th {\n",
       "        text-align: right;\n",
       "    }\n",
       "</style>\n",
       "<table border=\"1\" class=\"dataframe\">\n",
       "  <thead>\n",
       "    <tr style=\"text-align: right;\">\n",
       "      <th></th>\n",
       "      <th>movie_id</th>\n",
       "      <th>title</th>\n",
       "      <th>genre</th>\n",
       "    </tr>\n",
       "  </thead>\n",
       "  <tbody>\n",
       "    <tr>\n",
       "      <th>315</th>\n",
       "      <td>318</td>\n",
       "      <td>Shawshank Redemption, The (1994)</td>\n",
       "      <td>Drama</td>\n",
       "    </tr>\n",
       "  </tbody>\n",
       "</table>\n",
       "</div>"
      ],
      "text/plain": [
       "     movie_id                             title  genre\n",
       "315       318  Shawshank Redemption, The (1994)  Drama"
      ]
     },
     "execution_count": 20,
     "metadata": {},
     "output_type": "execute_result"
    }
   ],
   "source": [
    "# 영화 제목 키워드로 검색\n",
    "movies[movies['title'].str.lower().str.contains('shawshank ', regex=False)]"
   ]
  },
  {
   "cell_type": "code",
   "execution_count": 21,
   "metadata": {
    "colab": {
     "base_uri": "https://localhost:8080/",
     "height": 206
    },
    "id": "LgjkqdOAZSxp",
    "outputId": "3ccb277c-e0f5-427a-e08f-bc5ed25c792e"
   },
   "outputs": [
    {
     "data": {
      "text/html": [
       "<div>\n",
       "<style scoped>\n",
       "    .dataframe tbody tr th:only-of-type {\n",
       "        vertical-align: middle;\n",
       "    }\n",
       "\n",
       "    .dataframe tbody tr th {\n",
       "        vertical-align: top;\n",
       "    }\n",
       "\n",
       "    .dataframe thead th {\n",
       "        text-align: right;\n",
       "    }\n",
       "</style>\n",
       "<table border=\"1\" class=\"dataframe\">\n",
       "  <thead>\n",
       "    <tr style=\"text-align: right;\">\n",
       "      <th></th>\n",
       "      <th>movie_id</th>\n",
       "      <th>title</th>\n",
       "      <th>genre</th>\n",
       "    </tr>\n",
       "  </thead>\n",
       "  <tbody>\n",
       "    <tr>\n",
       "      <th>1119</th>\n",
       "      <td>1135</td>\n",
       "      <td>Private Benjamin (1980)</td>\n",
       "      <td>Comedy</td>\n",
       "    </tr>\n",
       "    <tr>\n",
       "      <th>1448</th>\n",
       "      <td>1476</td>\n",
       "      <td>Private Parts (1997)</td>\n",
       "      <td>Comedy|Drama</td>\n",
       "    </tr>\n",
       "    <tr>\n",
       "      <th>1569</th>\n",
       "      <td>1611</td>\n",
       "      <td>My Own Private Idaho (1991)</td>\n",
       "      <td>Drama</td>\n",
       "    </tr>\n",
       "    <tr>\n",
       "      <th>1959</th>\n",
       "      <td>2028</td>\n",
       "      <td>Saving Private Ryan (1998)</td>\n",
       "      <td>Action|Drama|War</td>\n",
       "    </tr>\n",
       "    <tr>\n",
       "      <th>3622</th>\n",
       "      <td>3691</td>\n",
       "      <td>Private School (1983)</td>\n",
       "      <td>Comedy</td>\n",
       "    </tr>\n",
       "  </tbody>\n",
       "</table>\n",
       "</div>"
      ],
      "text/plain": [
       "      movie_id                        title             genre\n",
       "1119      1135      Private Benjamin (1980)            Comedy\n",
       "1448      1476         Private Parts (1997)      Comedy|Drama\n",
       "1569      1611  My Own Private Idaho (1991)             Drama\n",
       "1959      2028   Saving Private Ryan (1998)  Action|Drama|War\n",
       "3622      3691        Private School (1983)            Comedy"
      ]
     },
     "execution_count": 21,
     "metadata": {},
     "output_type": "execute_result"
    }
   ],
   "source": [
    "# 영화 제목 키워드로 검색\n",
    "movies[movies['title'].str.lower().str.contains('private ', regex=False)]"
   ]
  },
  {
   "cell_type": "code",
   "execution_count": 22,
   "metadata": {
    "colab": {
     "base_uri": "https://localhost:8080/",
     "height": 332
    },
    "id": "jMLqdzarZ3oX",
    "outputId": "34510583-b205-45c4-aec4-0c23a798ff0d"
   },
   "outputs": [
    {
     "data": {
      "text/html": [
       "<div>\n",
       "<style scoped>\n",
       "    .dataframe tbody tr th:only-of-type {\n",
       "        vertical-align: middle;\n",
       "    }\n",
       "\n",
       "    .dataframe tbody tr th {\n",
       "        vertical-align: top;\n",
       "    }\n",
       "\n",
       "    .dataframe thead th {\n",
       "        text-align: right;\n",
       "    }\n",
       "</style>\n",
       "<table border=\"1\" class=\"dataframe\">\n",
       "  <thead>\n",
       "    <tr style=\"text-align: right;\">\n",
       "      <th></th>\n",
       "      <th>movie_id</th>\n",
       "      <th>title</th>\n",
       "      <th>genre</th>\n",
       "    </tr>\n",
       "  </thead>\n",
       "  <tbody>\n",
       "    <tr>\n",
       "      <th>65</th>\n",
       "      <td>66</td>\n",
       "      <td>Lawnmower Man 2: Beyond Cyberspace (1996)</td>\n",
       "      <td>Sci-Fi|Thriller</td>\n",
       "    </tr>\n",
       "    <tr>\n",
       "      <th>667</th>\n",
       "      <td>673</td>\n",
       "      <td>Space Jam (1996)</td>\n",
       "      <td>Adventure|Animation|Children's|Comedy|Fantasy</td>\n",
       "    </tr>\n",
       "    <tr>\n",
       "      <th>912</th>\n",
       "      <td>924</td>\n",
       "      <td>2001: A Space Odyssey (1968)</td>\n",
       "      <td>Drama|Mystery|Sci-Fi|Thriller</td>\n",
       "    </tr>\n",
       "    <tr>\n",
       "      <th>1763</th>\n",
       "      <td>1831</td>\n",
       "      <td>Lost in Space (1998)</td>\n",
       "      <td>Action|Sci-Fi|Thriller</td>\n",
       "    </tr>\n",
       "    <tr>\n",
       "      <th>1855</th>\n",
       "      <td>1924</td>\n",
       "      <td>Plan 9 from Outer Space (1958)</td>\n",
       "      <td>Horror|Sci-Fi</td>\n",
       "    </tr>\n",
       "    <tr>\n",
       "      <th>2433</th>\n",
       "      <td>2502</td>\n",
       "      <td>Office Space (1999)</td>\n",
       "      <td>Comedy|Romance</td>\n",
       "    </tr>\n",
       "    <tr>\n",
       "      <th>2592</th>\n",
       "      <td>2661</td>\n",
       "      <td>It Came from Outer Space (1953)</td>\n",
       "      <td>Sci-Fi</td>\n",
       "    </tr>\n",
       "    <tr>\n",
       "      <th>2640</th>\n",
       "      <td>2709</td>\n",
       "      <td>Muppets From Space (1999)</td>\n",
       "      <td>Children's|Comedy</td>\n",
       "    </tr>\n",
       "    <tr>\n",
       "      <th>3757</th>\n",
       "      <td>3827</td>\n",
       "      <td>Space Cowboys (2000)</td>\n",
       "      <td>Action|Sci-Fi</td>\n",
       "    </tr>\n",
       "  </tbody>\n",
       "</table>\n",
       "</div>"
      ],
      "text/plain": [
       "      movie_id                                      title  \\\n",
       "65          66  Lawnmower Man 2: Beyond Cyberspace (1996)   \n",
       "667        673                           Space Jam (1996)   \n",
       "912        924               2001: A Space Odyssey (1968)   \n",
       "1763      1831                       Lost in Space (1998)   \n",
       "1855      1924             Plan 9 from Outer Space (1958)   \n",
       "2433      2502                        Office Space (1999)   \n",
       "2592      2661            It Came from Outer Space (1953)   \n",
       "2640      2709                  Muppets From Space (1999)   \n",
       "3757      3827                       Space Cowboys (2000)   \n",
       "\n",
       "                                              genre  \n",
       "65                                  Sci-Fi|Thriller  \n",
       "667   Adventure|Animation|Children's|Comedy|Fantasy  \n",
       "912                   Drama|Mystery|Sci-Fi|Thriller  \n",
       "1763                         Action|Sci-Fi|Thriller  \n",
       "1855                                  Horror|Sci-Fi  \n",
       "2433                                 Comedy|Romance  \n",
       "2592                                         Sci-Fi  \n",
       "2640                              Children's|Comedy  \n",
       "3757                                  Action|Sci-Fi  "
      ]
     },
     "execution_count": 22,
     "metadata": {},
     "output_type": "execute_result"
    }
   ],
   "source": [
    "# 영화 제목 키워드로 검색\n",
    "movies[movies['title'].str.lower().str.contains('space ', regex=False)]"
   ]
  },
  {
   "cell_type": "code",
   "execution_count": 23,
   "metadata": {
    "colab": {
     "base_uri": "https://localhost:8080/",
     "height": 112
    },
    "id": "AgXlXdt9aWQA",
    "outputId": "cf960986-5dae-48c0-a8ab-0ae4741b6d14"
   },
   "outputs": [
    {
     "data": {
      "text/html": [
       "<div>\n",
       "<style scoped>\n",
       "    .dataframe tbody tr th:only-of-type {\n",
       "        vertical-align: middle;\n",
       "    }\n",
       "\n",
       "    .dataframe tbody tr th {\n",
       "        vertical-align: top;\n",
       "    }\n",
       "\n",
       "    .dataframe thead th {\n",
       "        text-align: right;\n",
       "    }\n",
       "</style>\n",
       "<table border=\"1\" class=\"dataframe\">\n",
       "  <thead>\n",
       "    <tr style=\"text-align: right;\">\n",
       "      <th></th>\n",
       "      <th>movie_id</th>\n",
       "      <th>title</th>\n",
       "      <th>genre</th>\n",
       "    </tr>\n",
       "  </thead>\n",
       "  <tbody>\n",
       "    <tr>\n",
       "      <th>1002</th>\n",
       "      <td>1015</td>\n",
       "      <td>Homeward Bound: The Incredible Journey (1993)</td>\n",
       "      <td>Adventure|Children's</td>\n",
       "    </tr>\n",
       "    <tr>\n",
       "      <th>1988</th>\n",
       "      <td>2057</td>\n",
       "      <td>Incredible Journey, The (1963)</td>\n",
       "      <td>Adventure|Children's</td>\n",
       "    </tr>\n",
       "  </tbody>\n",
       "</table>\n",
       "</div>"
      ],
      "text/plain": [
       "      movie_id                                          title  \\\n",
       "1002      1015  Homeward Bound: The Incredible Journey (1993)   \n",
       "1988      2057                 Incredible Journey, The (1963)   \n",
       "\n",
       "                     genre  \n",
       "1002  Adventure|Children's  \n",
       "1988  Adventure|Children's  "
      ]
     },
     "execution_count": 23,
     "metadata": {},
     "output_type": "execute_result"
    }
   ],
   "source": [
    "# 영화 제목 키워드로 검색\n",
    "movies[movies['title'].str.lower().str.contains('incredible ', regex=False)]"
   ]
  },
  {
   "cell_type": "code",
   "execution_count": 24,
   "metadata": {
    "colab": {
     "base_uri": "https://localhost:8080/",
     "height": 206
    },
    "id": "wbMoEXLXVjdr",
    "outputId": "d64dee77-bcde-44fd-a48c-55eae2e9fc20"
   },
   "outputs": [
    {
     "data": {
      "text/html": [
       "<div>\n",
       "<style scoped>\n",
       "    .dataframe tbody tr th:only-of-type {\n",
       "        vertical-align: middle;\n",
       "    }\n",
       "\n",
       "    .dataframe tbody tr th {\n",
       "        vertical-align: top;\n",
       "    }\n",
       "\n",
       "    .dataframe thead th {\n",
       "        text-align: right;\n",
       "    }\n",
       "</style>\n",
       "<table border=\"1\" class=\"dataframe\">\n",
       "  <thead>\n",
       "    <tr style=\"text-align: right;\">\n",
       "      <th></th>\n",
       "      <th>user_id</th>\n",
       "      <th>movie_id</th>\n",
       "      <th>title</th>\n",
       "      <th>count</th>\n",
       "    </tr>\n",
       "  </thead>\n",
       "  <tbody>\n",
       "    <tr>\n",
       "      <th>0</th>\n",
       "      <td>6041</td>\n",
       "      <td>1196</td>\n",
       "      <td>Star Wars: Episode V - The Empire Strikes Back...</td>\n",
       "      <td>5</td>\n",
       "    </tr>\n",
       "    <tr>\n",
       "      <th>1</th>\n",
       "      <td>6041</td>\n",
       "      <td>2028</td>\n",
       "      <td>Saving Private Ryan (1998)</td>\n",
       "      <td>5</td>\n",
       "    </tr>\n",
       "    <tr>\n",
       "      <th>2</th>\n",
       "      <td>6041</td>\n",
       "      <td>318</td>\n",
       "      <td>Shawshank Redemption, The (1994)</td>\n",
       "      <td>5</td>\n",
       "    </tr>\n",
       "    <tr>\n",
       "      <th>3</th>\n",
       "      <td>6041</td>\n",
       "      <td>296</td>\n",
       "      <td>Pulp Fiction (1994)</td>\n",
       "      <td>5</td>\n",
       "    </tr>\n",
       "    <tr>\n",
       "      <th>4</th>\n",
       "      <td>6041</td>\n",
       "      <td>924</td>\n",
       "      <td>2001: A Space Odyssey (1968)</td>\n",
       "      <td>5</td>\n",
       "    </tr>\n",
       "  </tbody>\n",
       "</table>\n",
       "</div>"
      ],
      "text/plain": [
       "  user_id  movie_id                                              title  count\n",
       "0    6041      1196  Star Wars: Episode V - The Empire Strikes Back...      5\n",
       "1    6041      2028                         Saving Private Ryan (1998)      5\n",
       "2    6041       318                   Shawshank Redemption, The (1994)      5\n",
       "3    6041       296                                Pulp Fiction (1994)      5\n",
       "4    6041       924                       2001: A Space Odyssey (1968)      5"
      ]
     },
     "execution_count": 24,
     "metadata": {},
     "output_type": "execute_result"
    }
   ],
   "source": [
    "# 좋아하는 영화의 id 리스트\n",
    "my_favoite_id = [1196, 2028, 318, 296\t, 924] # 스타워즈5, 라이언 일병 구하기, 쇼생크탈출, 펄프픽션, 스페이스 오디세이\n",
    "\n",
    "# id 리스트를 title 리스트로 변환.\n",
    "my_favorite_movie = []\n",
    "for mid in my_favoite_id:\n",
    "    my_favorite_movie.append(list(movies[movies['movie_id']==mid]['title'])[0])\n",
    "    \n",
    "# '6041'이라는 임의의 user_id가 위 영화를 5점만점이라고 설정.\n",
    "my_watchlist = pd.DataFrame({'user_id': ['6041']*5, 'movie_id': my_favoite_id, 'title': my_favorite_movie, 'count':[5]*5})\n",
    "\n",
    "if not movie.isin({'user_id':['6041']})['user_id'].any():  # user_id에 '6041'이라는 데이터가 없다면\n",
    "    data = movie.append(my_watchlist)                      # 임의로 만든 my_favorite 데이터를 추가. \n",
    "\n",
    "data = data[['user_id', 'movie_id', 'title', 'count']]\n",
    "data.tail()"
   ]
  },
  {
   "cell_type": "code",
   "execution_count": 25,
   "metadata": {
    "id": "_VilOw3safIe"
   },
   "outputs": [],
   "source": [
    "# 고유한 유저, 영화를 찾기\n",
    "user_unique = data['user_id'].unique()\n",
    "movie_unique = data['title'].unique()"
   ]
  },
  {
   "cell_type": "code",
   "execution_count": 36,
   "metadata": {},
   "outputs": [
    {
     "data": {
      "text/plain": [
       "6040"
      ]
     },
     "execution_count": 36,
     "metadata": {},
     "output_type": "execute_result"
    }
   ],
   "source": [
    "num_user"
   ]
  },
  {
   "cell_type": "code",
   "execution_count": 37,
   "metadata": {},
   "outputs": [
    {
     "data": {
      "text/plain": [
       "3628"
      ]
     },
     "execution_count": 37,
     "metadata": {},
     "output_type": "execute_result"
    }
   ],
   "source": [
    "num_movie"
   ]
  },
  {
   "cell_type": "code",
   "execution_count": 26,
   "metadata": {
    "id": "_hRGCeGBahg4"
   },
   "outputs": [],
   "source": [
    "# 각 키를 인덱스화\n",
    "user_to_idx = {v:k for k,v in enumerate(user_unique)}\n",
    "movie_to_idx = {v:k for k,v in enumerate(movie_unique)}"
   ]
  },
  {
   "cell_type": "code",
   "execution_count": 29,
   "metadata": {
    "colab": {
     "base_uri": "https://localhost:8080/",
     "height": 460
    },
    "id": "ElDzHq8YamtW",
    "outputId": "84a46134-6a91-4dcc-fbc6-7a5fed0507ed"
   },
   "outputs": [
    {
     "name": "stdout",
     "output_type": "stream",
     "text": [
      "\n"
     ]
    },
    {
     "data": {
      "text/html": [
       "<div>\n",
       "<style scoped>\n",
       "    .dataframe tbody tr th:only-of-type {\n",
       "        vertical-align: middle;\n",
       "    }\n",
       "\n",
       "    .dataframe tbody tr th {\n",
       "        vertical-align: top;\n",
       "    }\n",
       "\n",
       "    .dataframe thead th {\n",
       "        text-align: right;\n",
       "    }\n",
       "</style>\n",
       "<table border=\"1\" class=\"dataframe\">\n",
       "  <thead>\n",
       "    <tr style=\"text-align: right;\">\n",
       "      <th></th>\n",
       "      <th>user_id</th>\n",
       "      <th>movie_id</th>\n",
       "      <th>title</th>\n",
       "      <th>count</th>\n",
       "      <th>new_user_id</th>\n",
       "      <th>new_movie_id</th>\n",
       "    </tr>\n",
       "  </thead>\n",
       "  <tbody>\n",
       "    <tr>\n",
       "      <th>0</th>\n",
       "      <td>1</td>\n",
       "      <td>1193</td>\n",
       "      <td>One Flew Over the Cuckoo's Nest (1975)</td>\n",
       "      <td>5</td>\n",
       "      <td>0</td>\n",
       "      <td>0</td>\n",
       "    </tr>\n",
       "    <tr>\n",
       "      <th>1</th>\n",
       "      <td>1</td>\n",
       "      <td>661</td>\n",
       "      <td>James and the Giant Peach (1996)</td>\n",
       "      <td>3</td>\n",
       "      <td>0</td>\n",
       "      <td>1</td>\n",
       "    </tr>\n",
       "    <tr>\n",
       "      <th>2</th>\n",
       "      <td>1</td>\n",
       "      <td>914</td>\n",
       "      <td>My Fair Lady (1964)</td>\n",
       "      <td>3</td>\n",
       "      <td>0</td>\n",
       "      <td>2</td>\n",
       "    </tr>\n",
       "    <tr>\n",
       "      <th>3</th>\n",
       "      <td>1</td>\n",
       "      <td>3408</td>\n",
       "      <td>Erin Brockovich (2000)</td>\n",
       "      <td>4</td>\n",
       "      <td>0</td>\n",
       "      <td>3</td>\n",
       "    </tr>\n",
       "    <tr>\n",
       "      <th>4</th>\n",
       "      <td>1</td>\n",
       "      <td>2355</td>\n",
       "      <td>Bug's Life, A (1998)</td>\n",
       "      <td>5</td>\n",
       "      <td>0</td>\n",
       "      <td>4</td>\n",
       "    </tr>\n",
       "    <tr>\n",
       "      <th>...</th>\n",
       "      <td>...</td>\n",
       "      <td>...</td>\n",
       "      <td>...</td>\n",
       "      <td>...</td>\n",
       "      <td>...</td>\n",
       "      <td>...</td>\n",
       "    </tr>\n",
       "    <tr>\n",
       "      <th>0</th>\n",
       "      <td>6041</td>\n",
       "      <td>1196</td>\n",
       "      <td>Star Wars: Episode V - The Empire Strikes Back...</td>\n",
       "      <td>5</td>\n",
       "      <td>6039</td>\n",
       "      <td>117</td>\n",
       "    </tr>\n",
       "    <tr>\n",
       "      <th>1</th>\n",
       "      <td>6041</td>\n",
       "      <td>2028</td>\n",
       "      <td>Saving Private Ryan (1998)</td>\n",
       "      <td>5</td>\n",
       "      <td>6039</td>\n",
       "      <td>48</td>\n",
       "    </tr>\n",
       "    <tr>\n",
       "      <th>2</th>\n",
       "      <td>6041</td>\n",
       "      <td>318</td>\n",
       "      <td>Shawshank Redemption, The (1994)</td>\n",
       "      <td>5</td>\n",
       "      <td>6039</td>\n",
       "      <td>157</td>\n",
       "    </tr>\n",
       "    <tr>\n",
       "      <th>3</th>\n",
       "      <td>6041</td>\n",
       "      <td>296</td>\n",
       "      <td>Pulp Fiction (1994)</td>\n",
       "      <td>5</td>\n",
       "      <td>6039</td>\n",
       "      <td>222</td>\n",
       "    </tr>\n",
       "    <tr>\n",
       "      <th>4</th>\n",
       "      <td>6041</td>\n",
       "      <td>924</td>\n",
       "      <td>2001: A Space Odyssey (1968)</td>\n",
       "      <td>5</td>\n",
       "      <td>6039</td>\n",
       "      <td>602</td>\n",
       "    </tr>\n",
       "  </tbody>\n",
       "</table>\n",
       "<p>836483 rows × 6 columns</p>\n",
       "</div>"
      ],
      "text/plain": [
       "   user_id  movie_id                                              title  \\\n",
       "0        1      1193             One Flew Over the Cuckoo's Nest (1975)   \n",
       "1        1       661                   James and the Giant Peach (1996)   \n",
       "2        1       914                                My Fair Lady (1964)   \n",
       "3        1      3408                             Erin Brockovich (2000)   \n",
       "4        1      2355                               Bug's Life, A (1998)   \n",
       "..     ...       ...                                                ...   \n",
       "0     6041      1196  Star Wars: Episode V - The Empire Strikes Back...   \n",
       "1     6041      2028                         Saving Private Ryan (1998)   \n",
       "2     6041       318                   Shawshank Redemption, The (1994)   \n",
       "3     6041       296                                Pulp Fiction (1994)   \n",
       "4     6041       924                       2001: A Space Odyssey (1968)   \n",
       "\n",
       "    count  new_user_id  new_movie_id  \n",
       "0       5            0             0  \n",
       "1       3            0             1  \n",
       "2       3            0             2  \n",
       "3       4            0             3  \n",
       "4       5            0             4  \n",
       "..    ...          ...           ...  \n",
       "0       5         6039           117  \n",
       "1       5         6039            48  \n",
       "2       5         6039           157  \n",
       "3       5         6039           222  \n",
       "4       5         6039           602  \n",
       "\n",
       "[836483 rows x 6 columns]"
      ]
     },
     "execution_count": 29,
     "metadata": {},
     "output_type": "execute_result"
    }
   ],
   "source": [
    "# 데이터 컬럼 내 값을 indexing된 값으로 교체\n",
    "\n",
    "# user_to_idx.get을 통해 user_id 컬럼의 모든 값을 인덱싱한 Series구한다. \n",
    "# 혹시 정상적으로 인덱싱되지 않은 row가 있다면 인덱스가 NaN이 될 테니 dropna()로 제거. \n",
    "temp_user_data = data['user_id'].map(user_to_idx.get).dropna()\n",
    "if len(temp_user_data) == len(data):\n",
    "    data['new_user_id'] = temp_user_data   # data['user_id']을 인덱싱된 Series로 교체. \n",
    "else:\n",
    "    print('user_id column indexing Fail')\n",
    "    \n",
    "# movie_to_idx을 통해 title 컬럼도 동일한 방식으로 인덱싱. \n",
    "temp_movie_data = data['title'].map(movie_to_idx.get).dropna()\n",
    "if len(temp_movie_data) == len(data):\n",
    "    print()\n",
    "    data['new_movie_id'] = temp_movie_data\n",
    "else:\n",
    "    print('movie_id column indexing Fail')\n",
    "\n",
    "data"
   ]
  },
  {
   "cell_type": "code",
   "execution_count": 30,
   "metadata": {
    "colab": {
     "base_uri": "https://localhost:8080/"
    },
    "id": "B_HgIoRLatHt",
    "outputId": "d4c40b21-ee8e-4105-a23b-3a4d235a303b"
   },
   "outputs": [
    {
     "data": {
      "text/plain": [
       "<6040x3628 sparse matrix of type '<class 'numpy.int64'>'\n",
       "\twith 836483 stored elements in Compressed Sparse Row format>"
      ]
     },
     "execution_count": 30,
     "metadata": {},
     "output_type": "execute_result"
    }
   ],
   "source": [
    "# CSR Matrix 생성\n",
    "num_user = data['new_user_id'].nunique()\n",
    "num_movie = data['new_movie_id'].nunique()\n",
    "\n",
    "# csr_matrix((data, (row_ind, col_ind)), [shape=(M, N)])\n",
    "csr_data = csr_matrix((data['count'], (data.new_user_id, data.new_movie_id)), shape= (num_user, num_movie))\n",
    "csr_data"
   ]
  },
  {
   "cell_type": "markdown",
   "metadata": {
    "id": "NFmMcBoYavEm"
   },
   "source": [
    "- CSR Matrix가 6040x3628로 생성된 것을 확인."
   ]
  },
  {
   "cell_type": "markdown",
   "metadata": {
    "id": "F_zWnDqkbh4N"
   },
   "source": [
    "# train"
   ]
  },
  {
   "cell_type": "code",
   "execution_count": 31,
   "metadata": {
    "id": "e1PyBV-abjB6"
   },
   "outputs": [],
   "source": [
    "# implicit 라이브러리에서 권장하고 있는 세팅\n",
    "os.environ['OPENBLAS_NUM_THREADS']='1'\n",
    "os.environ['KMP_DUPLICATE_LIB_OK']='True'\n",
    "os.environ['MKL_NUM_THREADS']='1'"
   ]
  },
  {
   "cell_type": "code",
   "execution_count": 32,
   "metadata": {
    "id": "dQC7jpFFbnoS"
   },
   "outputs": [],
   "source": [
    "# Implicit AlternatingLeastSquares 모델의 선언\n",
    "als_model = AlternatingLeastSquares(factors=200, regularization=0.01, use_gpu=False, iterations=20, dtype=np.float32)"
   ]
  },
  {
   "cell_type": "code",
   "execution_count": 38,
   "metadata": {
    "colab": {
     "base_uri": "https://localhost:8080/"
    },
    "id": "8D_giFJdbpnY",
    "outputId": "f314830a-8e8b-44f6-8435-dc402e93a1b1"
   },
   "outputs": [
    {
     "data": {
      "text/plain": [
       "<3628x6040 sparse matrix of type '<class 'numpy.int64'>'\n",
       "\twith 836483 stored elements in Compressed Sparse Column format>"
      ]
     },
     "execution_count": 38,
     "metadata": {},
     "output_type": "execute_result"
    }
   ],
   "source": [
    "# als 모델은 input으로 (item X user 꼴의 matrix를 받기 때문에 Transpose해줍니다.)\n",
    "csr_data_transpose = csr_data.T\n",
    "csr_data_transpose"
   ]
  },
  {
   "cell_type": "code",
   "execution_count": 41,
   "metadata": {
    "colab": {
     "base_uri": "https://localhost:8080/",
     "height": 105,
     "referenced_widgets": [
      "229d01c34be8421f9659960b85b9559b",
      "766d9cd8be0548b58dfe8aa0749295f6",
      "3ea4c9bd929840269dff352cd98918f0",
      "930eeb6330044a59873bfcd2032e0374",
      "2d9c1cae157d491ba8ffe402a50e8069",
      "bb6b1c937c9e40b2bde1be37caf79fe8",
      "b3ee67498d3a41c7aa298e2ba8f0a30f",
      "c31d134ab6374ac2b1748b802f4f9814",
      "1b09b30575fe447db011064534461957",
      "6e82a42ddbca4573b82f4368e19b781d",
      "bdcda3e472d6497f8e13b0f4d7b583a7"
     ]
    },
    "id": "Wvgb1ANXbskZ",
    "outputId": "896aef37-5180-4a70-fb97-346cfc512f7a",
    "scrolled": true
   },
   "outputs": [
    {
     "data": {
      "application/vnd.jupyter.widget-view+json": {
       "model_id": "9f9dde307b3748e389022e9070677b76",
       "version_major": 2,
       "version_minor": 0
      },
      "text/plain": [
       "  0%|          | 0/20 [00:00<?, ?it/s]"
      ]
     },
     "metadata": {},
     "output_type": "display_data"
    }
   ],
   "source": [
    "# 모델 훈련\n",
    "als_model.fit(csr_data_transpose)"
   ]
  },
  {
   "cell_type": "code",
   "execution_count": 43,
   "metadata": {
    "id": "oCs6e-AwbxwA"
   },
   "outputs": [],
   "source": [
    "mine, space =  user_to_idx['6041'], movie_to_idx['2001: A Space Odyssey (1968)']\n",
    "mine_vector, space_vector = als_model.user_factors[mine], als_model.item_factors[space]"
   ]
  },
  {
   "cell_type": "code",
   "execution_count": 44,
   "metadata": {
    "colab": {
     "base_uri": "https://localhost:8080/"
    },
    "id": "kX1ytHcIj81_",
    "outputId": "2809922f-a4a2-49d0-967e-a71b30583dc4"
   },
   "outputs": [
    {
     "data": {
      "text/plain": [
       "array([ 3.42204005e-01, -1.37475461e-01, -2.91089695e-02,  9.17512700e-02,\n",
       "        3.60288054e-01, -3.22375655e-01,  9.67408419e-02, -4.28037822e-01,\n",
       "       -2.53089960e-03, -9.77520198e-02,  9.91620570e-02,  2.65943408e-01,\n",
       "       -2.45662555e-01, -3.47664922e-01,  3.91660370e-02,  1.89245254e-01,\n",
       "       -3.59828800e-01, -9.57142487e-02,  5.30774355e-01,  3.02010514e-02,\n",
       "        1.57282706e-02, -3.60181451e-01,  3.18851054e-01,  3.98368761e-02,\n",
       "        1.87959448e-02,  4.77468371e-01, -2.12120131e-01,  2.70270526e-01,\n",
       "        1.46354884e-01, -4.17777032e-01,  3.05600554e-01, -3.97354923e-02,\n",
       "       -7.25084022e-02, -4.16568443e-02, -1.42566919e-01, -1.64046988e-01,\n",
       "       -1.06784604e-01, -9.98341367e-02,  1.62798062e-01,  4.62252349e-01,\n",
       "        2.31461853e-01,  5.50701320e-01,  4.27928269e-01, -1.23383954e-01,\n",
       "       -3.09755802e-01,  2.68509358e-01,  5.43299392e-02, -2.65072882e-01,\n",
       "        2.30958700e-01,  4.66254950e-01,  2.62117218e-02, -7.28458613e-02,\n",
       "        5.22277057e-02, -1.52113840e-01, -5.14218152e-01, -1.87305152e-01,\n",
       "       -9.58549231e-02, -3.94934118e-02, -5.92467450e-02,  4.06980179e-02,\n",
       "        1.17584212e-04,  2.18665138e-01,  3.99502784e-01, -2.53118664e-01,\n",
       "        1.19036578e-01, -3.32783423e-02, -2.80417502e-02,  1.18753210e-01,\n",
       "        1.78957328e-01,  5.16959932e-03,  7.51822218e-02,  1.99252479e-02,\n",
       "        4.06289667e-01,  3.35760832e-01,  1.99200325e-02,  1.16561353e-01,\n",
       "       -7.17428863e-01, -4.53151554e-01,  7.77180642e-02,  1.95921808e-01,\n",
       "        4.93536800e-01, -4.85245764e-01,  4.26753789e-01, -4.63123620e-01,\n",
       "        7.65114427e-02,  2.80212045e-01,  8.68032873e-03,  1.20486049e-02,\n",
       "       -3.20622250e-02,  4.91010100e-01,  4.84864354e-01,  3.88163239e-01,\n",
       "       -4.57184255e-01,  4.01441991e-01,  4.16897573e-02, -2.02724069e-01,\n",
       "       -1.21792898e-01,  2.87125349e-01,  2.63353258e-01, -3.77871394e-01,\n",
       "        2.45110884e-01,  8.74873623e-02,  1.83896478e-02, -3.58633548e-01,\n",
       "       -1.69335604e-01, -1.89821392e-01, -3.21977586e-03,  2.78500505e-02,\n",
       "       -2.00976536e-01, -9.26476568e-02, -2.29915865e-02, -6.42263174e-01,\n",
       "       -4.67095762e-01, -1.41160995e-01, -4.70503539e-01, -7.82002583e-02,\n",
       "       -3.65101278e-01, -9.82929394e-02,  2.99602076e-02,  1.46378830e-01,\n",
       "        1.18039548e-01,  3.13939631e-01,  1.78169888e-02,  2.86490381e-01,\n",
       "       -1.78416088e-01,  1.02424696e-01, -9.17093679e-02, -8.77759308e-02,\n",
       "        7.89703190e-01, -1.77474916e-01, -2.34644115e-01, -3.03341806e-01,\n",
       "        2.84233779e-01, -2.75375485e-01, -1.94053631e-02,  1.74698383e-01,\n",
       "        1.42630309e-01, -2.07355767e-01,  5.37980258e-01, -1.71811983e-01,\n",
       "        1.44623443e-01,  1.12592027e-01, -1.75882176e-01,  9.13048442e-03,\n",
       "        5.27735278e-02, -8.85291621e-02, -7.01457858e-02, -1.52261496e-01,\n",
       "       -4.95551646e-01, -3.27896416e-01,  3.76036644e-01,  1.71562091e-01,\n",
       "        2.80935347e-01, -5.20253479e-01, -3.48999143e-01,  7.31970891e-02,\n",
       "        3.91279370e-01,  1.51761413e-01,  1.64244518e-01, -4.63715136e-01,\n",
       "       -4.94219184e-01, -1.25416234e-01,  6.36748523e-02,  7.05593646e-01,\n",
       "        4.82460320e-01,  1.81814805e-01,  1.84578791e-01, -5.74044101e-02,\n",
       "       -4.25324328e-02,  4.89447676e-02,  4.82598245e-01,  4.02362794e-01,\n",
       "        2.07002029e-01,  1.95595026e-01, -5.05150259e-01,  3.96666825e-01,\n",
       "       -1.65839627e-01,  3.13709885e-01, -1.07267119e-01,  6.15632385e-02,\n",
       "        2.60754168e-01,  2.27877602e-01, -2.53197640e-01,  1.61917999e-01,\n",
       "       -1.02534041e-01,  8.43625143e-03, -6.61805272e-01, -1.90734416e-02,\n",
       "       -1.12942412e-01,  2.67710835e-01, -6.45344138e-01, -4.48919713e-01,\n",
       "       -6.68667793e-01, -2.78287292e-01, -4.99046475e-01, -1.54778004e-01,\n",
       "       -1.60453334e-01, -1.25930635e-02,  2.39606500e-01, -3.00305188e-01],\n",
       "      dtype=float32)"
      ]
     },
     "execution_count": 44,
     "metadata": {},
     "output_type": "execute_result"
    }
   ],
   "source": [
    "mine_vector"
   ]
  },
  {
   "cell_type": "code",
   "execution_count": 45,
   "metadata": {
    "colab": {
     "base_uri": "https://localhost:8080/"
    },
    "id": "7_flFfp2j_Ko",
    "outputId": "af3b6e28-7160-4c83-f62c-79bded3cf498"
   },
   "outputs": [
    {
     "data": {
      "text/plain": [
       "array([-0.01921556,  0.01807317, -0.00866545,  0.0336165 , -0.00475207,\n",
       "        0.00768362,  0.01527954, -0.0363647 , -0.02152024, -0.00465219,\n",
       "        0.01910445,  0.06018637,  0.00851694, -0.02579739, -0.00789285,\n",
       "       -0.01411365,  0.0015708 , -0.03809979,  0.02845873,  0.00752391,\n",
       "       -0.02258348, -0.04870445,  0.01265216,  0.0194551 ,  0.03587275,\n",
       "        0.05869265, -0.01106951,  0.02922349, -0.00364703, -0.05434728,\n",
       "        0.0388954 ,  0.05294091, -0.0142743 ,  0.03352055,  0.01641319,\n",
       "        0.01716162, -0.05032219, -0.00160964, -0.00186356,  0.01886438,\n",
       "       -0.01354413,  0.03911725, -0.01569379, -0.01214196,  0.03245589,\n",
       "        0.0127113 , -0.02030061,  0.01868403,  0.01735561,  0.020132  ,\n",
       "        0.01886962, -0.00337913,  0.0117549 ,  0.0111974 ,  0.02099679,\n",
       "        0.01210708,  0.0082094 , -0.00564433,  0.02033634, -0.0052459 ,\n",
       "       -0.02099947, -0.0069485 ,  0.01493871, -0.02712357,  0.01802238,\n",
       "        0.00867028, -0.03505559,  0.03960003,  0.05180554,  0.01033466,\n",
       "        0.01553775, -0.00041302,  0.00752639,  0.04412781, -0.02234596,\n",
       "        0.0160422 , -0.0286794 , -0.02008998, -0.01772303,  0.04984355,\n",
       "        0.0403362 , -0.03721981,  0.00184349, -0.00209233, -0.00054409,\n",
       "       -0.02333792,  0.01465316, -0.01492622,  0.00660355,  0.0039425 ,\n",
       "        0.05166191,  0.03039384, -0.00884052,  0.04881721, -0.00676483,\n",
       "       -0.00771257,  0.019836  ,  0.03627466, -0.00021076, -0.00164627,\n",
       "        0.01347717,  0.01939792,  0.01442606, -0.00366797, -0.02973033,\n",
       "       -0.01365728,  0.00961621,  0.03721868,  0.02928184, -0.00746358,\n",
       "       -0.00759262, -0.04773205, -0.03357071, -0.0008347 , -0.0515472 ,\n",
       "        0.01629575, -0.0558892 ,  0.00080999,  0.01464512, -0.02278741,\n",
       "       -0.01983985,  0.01685887,  0.03555468,  0.02262204,  0.00747038,\n",
       "       -0.0054868 ,  0.00490565, -0.02202023,  0.00499098,  0.00790223,\n",
       "       -0.01862557,  0.01275006,  0.01120618, -0.00531688, -0.0016096 ,\n",
       "        0.03069872,  0.03134567, -0.02660238,  0.04680947, -0.02706809,\n",
       "        0.00494718,  0.00208621, -0.03141847, -0.00377889,  0.04035399,\n",
       "        0.03280144,  0.00254877, -0.00919333,  0.00424435,  0.00185021,\n",
       "        0.03037665,  0.01115132,  0.01283236, -0.01973506, -0.03486856,\n",
       "       -0.00577014,  0.01766769,  0.03106663, -0.04466502,  0.01933498,\n",
       "       -0.03708156, -0.00650791, -0.00473814,  0.03329683,  0.06352084,\n",
       "        0.04168578, -0.03691582, -0.02032486, -0.04137147, -0.01843186,\n",
       "        0.03034439,  0.00806602,  0.02421059,  0.0072393 , -0.02650766,\n",
       "        0.02440723, -0.02748383, -0.02899847, -0.00945357,  0.01008277,\n",
       "       -0.00366883,  0.00767541, -0.02537406,  0.01688387, -0.00320599,\n",
       "        0.03183537,  0.04524758, -0.02598354,  0.00176093,  0.02913503,\n",
       "       -0.02853916, -0.03975619, -0.00310276, -0.03542931,  0.00205364,\n",
       "       -0.02268051,  0.02013411,  0.01194832,  0.00257429,  0.03144623],\n",
       "      dtype=float32)"
      ]
     },
     "execution_count": 45,
     "metadata": {},
     "output_type": "execute_result"
    }
   ],
   "source": [
    "space_vector"
   ]
  },
  {
   "cell_type": "code",
   "execution_count": 46,
   "metadata": {
    "colab": {
     "base_uri": "https://localhost:8080/"
    },
    "id": "qDVzkCX5kCoE",
    "outputId": "f8870f7e-6857-42c9-9e59-2915efc58803"
   },
   "outputs": [
    {
     "data": {
      "text/plain": [
       "0.68503314"
      ]
     },
     "execution_count": 46,
     "metadata": {},
     "output_type": "execute_result"
    }
   ],
   "source": [
    "# 나와 스페이스 오디세이의 내적 구하기 (선호 리스트에 있는 영화)\n",
    "np.dot(mine_vector, space_vector)"
   ]
  },
  {
   "cell_type": "code",
   "execution_count": 47,
   "metadata": {
    "colab": {
     "base_uri": "https://localhost:8080/"
    },
    "id": "AYG7SB-Hlxmd",
    "outputId": "788b2861-f1ad-4494-92af-31eae1566404"
   },
   "outputs": [
    {
     "data": {
      "text/plain": [
       "0.046596553"
      ]
     },
     "execution_count": 47,
     "metadata": {},
     "output_type": "execute_result"
    }
   ],
   "source": [
    "# 모델이 나의 titanic 대한 선호도를 어떻게 예측하는지 확인(선호 리스트에 없는 영화)\n",
    "titanic = movie_to_idx['Titanic (1997)']\n",
    "titanic_vector = als_model.item_factors[titanic]\n",
    "np.dot(mine_vector, titanic_vector)"
   ]
  },
  {
   "cell_type": "code",
   "execution_count": 48,
   "metadata": {
    "colab": {
     "base_uri": "https://localhost:8080/"
    },
    "id": "B61X5lonl6HF",
    "outputId": "55d59ffb-f20d-4133-f1de-d77018048398"
   },
   "outputs": [
    {
     "data": {
      "text/plain": [
       "0.051695205"
      ]
     },
     "execution_count": 48,
     "metadata": {},
     "output_type": "execute_result"
    }
   ],
   "source": [
    "terminator2 = movie_to_idx['Terminator 2: Judgment Day (1991)']\n",
    "terminator_vector = als_model.item_factors[terminator2]\n",
    "np.dot(mine_vector, terminator_vector)"
   ]
  },
  {
   "cell_type": "code",
   "execution_count": 49,
   "metadata": {
    "id": "ZsHaS5u3nJLa"
   },
   "outputs": [],
   "source": [
    "def get_similar_artist(movie_title: str):\n",
    "    movie_id = movie_to_idx[movie_title]\n",
    "    similar_movie = als_model.similar_items(movie_id)\n",
    "    idx_to_movie = {v:k for k,v in movie_to_idx.items()}\n",
    "    similar_movie = [idx_to_movie[i[0]] for i in similar_movie]\n",
    "    return similar_movie"
   ]
  },
  {
   "cell_type": "code",
   "execution_count": 51,
   "metadata": {
    "colab": {
     "base_uri": "https://localhost:8080/",
     "height": 305
    },
    "id": "K5xOpCipnK_y",
    "outputId": "f887b0c2-01f4-4ba0-b147-ac8951732031"
   },
   "outputs": [
    {
     "data": {
      "text/plain": [
       "['2001: A Space Odyssey (1968)',\n",
       " 'Close Encounters of the Third Kind (1977)',\n",
       " '2010 (1984)',\n",
       " 'Dr. Strangelove or: How I Learned to Stop Worrying and Love the Bomb (1963)',\n",
       " 'Clockwork Orange, A (1971)',\n",
       " 'Follow the Bitch (1998)',\n",
       " '1-900 (1994)',\n",
       " 'Blade Runner (1982)',\n",
       " 'Blowup (1966)',\n",
       " 'Abominable Snowman, The (1957)']"
      ]
     },
     "execution_count": 51,
     "metadata": {},
     "output_type": "execute_result"
    }
   ],
   "source": [
    "get_similar_artist('2001: A Space Odyssey (1968)')"
   ]
  },
  {
   "cell_type": "code",
   "execution_count": 54,
   "metadata": {
    "colab": {
     "base_uri": "https://localhost:8080/",
     "height": 81
    },
    "id": "_gZTZ188nURH",
    "outputId": "65bcc30b-3a6e-4a48-8fc6-f79095bc8d0c"
   },
   "outputs": [
    {
     "data": {
      "text/plain": [
       "[(924, 1.0),\n",
       " (431, 0.4712427),\n",
       " (878, 0.38367957),\n",
       " (1488, 0.37183177),\n",
       " (228, 0.36734894),\n",
       " (1687, 0.36170962),\n",
       " (919, 0.36045626),\n",
       " (1282, 0.34947473),\n",
       " (915, 0.34684303),\n",
       " (254, 0.34056103),\n",
       " (906, 0.33563215),\n",
       " (2381, 0.3354645),\n",
       " (922, 0.32533145),\n",
       " (1111, 0.32401997),\n",
       " (2533, 0.32279715)]"
      ]
     },
     "execution_count": 54,
     "metadata": {},
     "output_type": "execute_result"
    }
   ],
   "source": [
    "favorite_movie = '2001: A Space Odyssey (1968)'\n",
    "movie_id = movies[movies['title']=='2001: A Space Odyssey (1968)']['movie_id']\n",
    "similar_movie = als_model.similar_items(movie_id.values[0], N=15)\n",
    "similar_movie"
   ]
  },
  {
   "cell_type": "code",
   "execution_count": 55,
   "metadata": {},
   "outputs": [
    {
     "data": {
      "text/html": [
       "<div>\n",
       "<style scoped>\n",
       "    .dataframe tbody tr th:only-of-type {\n",
       "        vertical-align: middle;\n",
       "    }\n",
       "\n",
       "    .dataframe tbody tr th {\n",
       "        vertical-align: top;\n",
       "    }\n",
       "\n",
       "    .dataframe thead th {\n",
       "        text-align: right;\n",
       "    }\n",
       "</style>\n",
       "<table border=\"1\" class=\"dataframe\">\n",
       "  <thead>\n",
       "    <tr style=\"text-align: right;\">\n",
       "      <th></th>\n",
       "      <th>movie_id</th>\n",
       "      <th>title</th>\n",
       "      <th>genre</th>\n",
       "    </tr>\n",
       "  </thead>\n",
       "  <tbody>\n",
       "    <tr>\n",
       "      <th>225</th>\n",
       "      <td>228</td>\n",
       "      <td>Destiny Turns on the Radio (1995)</td>\n",
       "      <td>Comedy</td>\n",
       "    </tr>\n",
       "    <tr>\n",
       "      <th>251</th>\n",
       "      <td>254</td>\n",
       "      <td>Jefferson in Paris (1995)</td>\n",
       "      <td>Drama</td>\n",
       "    </tr>\n",
       "    <tr>\n",
       "      <th>427</th>\n",
       "      <td>431</td>\n",
       "      <td>Carlito's Way (1993)</td>\n",
       "      <td>Crime|Drama</td>\n",
       "    </tr>\n",
       "    <tr>\n",
       "      <th>867</th>\n",
       "      <td>878</td>\n",
       "      <td>Bye-Bye (1995)</td>\n",
       "      <td>Drama</td>\n",
       "    </tr>\n",
       "    <tr>\n",
       "      <th>894</th>\n",
       "      <td>906</td>\n",
       "      <td>Gaslight (1944)</td>\n",
       "      <td>Mystery|Thriller</td>\n",
       "    </tr>\n",
       "    <tr>\n",
       "      <th>903</th>\n",
       "      <td>915</td>\n",
       "      <td>Sabrina (1954)</td>\n",
       "      <td>Comedy|Romance</td>\n",
       "    </tr>\n",
       "    <tr>\n",
       "      <th>907</th>\n",
       "      <td>919</td>\n",
       "      <td>Wizard of Oz, The (1939)</td>\n",
       "      <td>Adventure|Children's|Drama|Musical</td>\n",
       "    </tr>\n",
       "    <tr>\n",
       "      <th>910</th>\n",
       "      <td>922</td>\n",
       "      <td>Sunset Blvd. (a.k.a. Sunset Boulevard) (1950)</td>\n",
       "      <td>Film-Noir</td>\n",
       "    </tr>\n",
       "    <tr>\n",
       "      <th>912</th>\n",
       "      <td>924</td>\n",
       "      <td>2001: A Space Odyssey (1968)</td>\n",
       "      <td>Drama|Mystery|Sci-Fi|Thriller</td>\n",
       "    </tr>\n",
       "    <tr>\n",
       "      <th>1095</th>\n",
       "      <td>1111</td>\n",
       "      <td>Microcosmos (Microcosmos: Le peuple de l'herbe...</td>\n",
       "      <td>Documentary</td>\n",
       "    </tr>\n",
       "    <tr>\n",
       "      <th>1262</th>\n",
       "      <td>1282</td>\n",
       "      <td>Fantasia (1940)</td>\n",
       "      <td>Animation|Children's|Musical</td>\n",
       "    </tr>\n",
       "    <tr>\n",
       "      <th>1458</th>\n",
       "      <td>1488</td>\n",
       "      <td>Devil's Own, The (1997)</td>\n",
       "      <td>Action|Drama|Thriller|War</td>\n",
       "    </tr>\n",
       "    <tr>\n",
       "      <th>1641</th>\n",
       "      <td>1687</td>\n",
       "      <td>Jackal, The (1997)</td>\n",
       "      <td>Action|Thriller</td>\n",
       "    </tr>\n",
       "    <tr>\n",
       "      <th>2312</th>\n",
       "      <td>2381</td>\n",
       "      <td>Police Academy 4: Citizens on Patrol (1987)</td>\n",
       "      <td>Comedy</td>\n",
       "    </tr>\n",
       "    <tr>\n",
       "      <th>2464</th>\n",
       "      <td>2533</td>\n",
       "      <td>Escape from the Planet of the Apes (1971)</td>\n",
       "      <td>Action|Sci-Fi</td>\n",
       "    </tr>\n",
       "  </tbody>\n",
       "</table>\n",
       "</div>"
      ],
      "text/plain": [
       "      movie_id                                              title  \\\n",
       "225        228                  Destiny Turns on the Radio (1995)   \n",
       "251        254                          Jefferson in Paris (1995)   \n",
       "427        431                               Carlito's Way (1993)   \n",
       "867        878                                     Bye-Bye (1995)   \n",
       "894        906                                    Gaslight (1944)   \n",
       "903        915                                     Sabrina (1954)   \n",
       "907        919                           Wizard of Oz, The (1939)   \n",
       "910        922      Sunset Blvd. (a.k.a. Sunset Boulevard) (1950)   \n",
       "912        924                       2001: A Space Odyssey (1968)   \n",
       "1095      1111  Microcosmos (Microcosmos: Le peuple de l'herbe...   \n",
       "1262      1282                                    Fantasia (1940)   \n",
       "1458      1488                            Devil's Own, The (1997)   \n",
       "1641      1687                                 Jackal, The (1997)   \n",
       "2312      2381        Police Academy 4: Citizens on Patrol (1987)   \n",
       "2464      2533          Escape from the Planet of the Apes (1971)   \n",
       "\n",
       "                                   genre  \n",
       "225                               Comedy  \n",
       "251                                Drama  \n",
       "427                          Crime|Drama  \n",
       "867                                Drama  \n",
       "894                     Mystery|Thriller  \n",
       "903                       Comedy|Romance  \n",
       "907   Adventure|Children's|Drama|Musical  \n",
       "910                            Film-Noir  \n",
       "912        Drama|Mystery|Sci-Fi|Thriller  \n",
       "1095                         Documentary  \n",
       "1262        Animation|Children's|Musical  \n",
       "1458           Action|Drama|Thriller|War  \n",
       "1641                     Action|Thriller  \n",
       "2312                              Comedy  \n",
       "2464                       Action|Sci-Fi  "
      ]
     },
     "execution_count": 55,
     "metadata": {},
     "output_type": "execute_result"
    }
   ],
   "source": [
    "movies[movies['movie_id'].isin([s[0] for s in similar_movie])]"
   ]
  },
  {
   "cell_type": "code",
   "execution_count": 62,
   "metadata": {},
   "outputs": [
    {
     "data": {
      "text/plain": [
       "[(44, 0.6059853),\n",
       " (64, 0.5090624),\n",
       " (51, 0.4235536),\n",
       " (269, 0.41590953),\n",
       " (121, 0.4127779),\n",
       " (120, 0.36748683),\n",
       " (23, 0.33691823),\n",
       " (248, 0.25601912),\n",
       " (91, 0.24547955),\n",
       " (124, 0.22782177),\n",
       " (233, 0.21709849),\n",
       " (99, 0.20677274),\n",
       " (7, 0.1858998),\n",
       " (472, 0.17711198),\n",
       " (47, 0.17293721)]"
      ]
     },
     "execution_count": 62,
     "metadata": {},
     "output_type": "execute_result"
    }
   ],
   "source": [
    "user = 6039\n",
    "movie_recommended = als_model.recommend(user, csr_data, N=15, filter_already_liked_items=True)\n",
    "movie_recommended"
   ]
  },
  {
   "cell_type": "code",
   "execution_count": 63,
   "metadata": {},
   "outputs": [
    {
     "data": {
      "text/html": [
       "<div>\n",
       "<style scoped>\n",
       "    .dataframe tbody tr th:only-of-type {\n",
       "        vertical-align: middle;\n",
       "    }\n",
       "\n",
       "    .dataframe tbody tr th {\n",
       "        vertical-align: top;\n",
       "    }\n",
       "\n",
       "    .dataframe thead th {\n",
       "        text-align: right;\n",
       "    }\n",
       "</style>\n",
       "<table border=\"1\" class=\"dataframe\">\n",
       "  <thead>\n",
       "    <tr style=\"text-align: right;\">\n",
       "      <th></th>\n",
       "      <th>movie_id</th>\n",
       "      <th>title</th>\n",
       "      <th>genre</th>\n",
       "    </tr>\n",
       "  </thead>\n",
       "  <tbody>\n",
       "    <tr>\n",
       "      <th>6</th>\n",
       "      <td>7</td>\n",
       "      <td>Sabrina (1995)</td>\n",
       "      <td>Comedy|Romance</td>\n",
       "    </tr>\n",
       "    <tr>\n",
       "      <th>22</th>\n",
       "      <td>23</td>\n",
       "      <td>Assassins (1995)</td>\n",
       "      <td>Thriller</td>\n",
       "    </tr>\n",
       "    <tr>\n",
       "      <th>43</th>\n",
       "      <td>44</td>\n",
       "      <td>Mortal Kombat (1995)</td>\n",
       "      <td>Action|Adventure</td>\n",
       "    </tr>\n",
       "    <tr>\n",
       "      <th>46</th>\n",
       "      <td>47</td>\n",
       "      <td>Seven (Se7en) (1995)</td>\n",
       "      <td>Crime|Thriller</td>\n",
       "    </tr>\n",
       "    <tr>\n",
       "      <th>50</th>\n",
       "      <td>51</td>\n",
       "      <td>Guardian Angel (1994)</td>\n",
       "      <td>Action|Drama|Thriller</td>\n",
       "    </tr>\n",
       "    <tr>\n",
       "      <th>63</th>\n",
       "      <td>64</td>\n",
       "      <td>Two if by Sea (1996)</td>\n",
       "      <td>Comedy|Romance</td>\n",
       "    </tr>\n",
       "    <tr>\n",
       "      <th>97</th>\n",
       "      <td>99</td>\n",
       "      <td>Heidi Fleiss: Hollywood Madam (1995)</td>\n",
       "      <td>Documentary</td>\n",
       "    </tr>\n",
       "    <tr>\n",
       "      <th>118</th>\n",
       "      <td>120</td>\n",
       "      <td>Race the Sun (1996)</td>\n",
       "      <td>Drama</td>\n",
       "    </tr>\n",
       "    <tr>\n",
       "      <th>119</th>\n",
       "      <td>121</td>\n",
       "      <td>Boys of St. Vincent, The (1993)</td>\n",
       "      <td>Drama</td>\n",
       "    </tr>\n",
       "    <tr>\n",
       "      <th>122</th>\n",
       "      <td>124</td>\n",
       "      <td>Star Maker, The (Uomo delle stelle, L') (1995)</td>\n",
       "      <td>Drama</td>\n",
       "    </tr>\n",
       "    <tr>\n",
       "      <th>230</th>\n",
       "      <td>233</td>\n",
       "      <td>Exotica (1994)</td>\n",
       "      <td>Drama</td>\n",
       "    </tr>\n",
       "    <tr>\n",
       "      <th>245</th>\n",
       "      <td>248</td>\n",
       "      <td>Houseguest (1994)</td>\n",
       "      <td>Comedy</td>\n",
       "    </tr>\n",
       "    <tr>\n",
       "      <th>266</th>\n",
       "      <td>269</td>\n",
       "      <td>My Crazy Life (Mi vida loca) (1993)</td>\n",
       "      <td>Drama</td>\n",
       "    </tr>\n",
       "    <tr>\n",
       "      <th>468</th>\n",
       "      <td>472</td>\n",
       "      <td>I'll Do Anything (1994)</td>\n",
       "      <td>Comedy|Drama</td>\n",
       "    </tr>\n",
       "  </tbody>\n",
       "</table>\n",
       "</div>"
      ],
      "text/plain": [
       "     movie_id                                           title  \\\n",
       "6           7                                  Sabrina (1995)   \n",
       "22         23                                Assassins (1995)   \n",
       "43         44                            Mortal Kombat (1995)   \n",
       "46         47                            Seven (Se7en) (1995)   \n",
       "50         51                           Guardian Angel (1994)   \n",
       "63         64                            Two if by Sea (1996)   \n",
       "97         99            Heidi Fleiss: Hollywood Madam (1995)   \n",
       "118       120                             Race the Sun (1996)   \n",
       "119       121                 Boys of St. Vincent, The (1993)   \n",
       "122       124  Star Maker, The (Uomo delle stelle, L') (1995)   \n",
       "230       233                                  Exotica (1994)   \n",
       "245       248                               Houseguest (1994)   \n",
       "266       269             My Crazy Life (Mi vida loca) (1993)   \n",
       "468       472                         I'll Do Anything (1994)   \n",
       "\n",
       "                     genre  \n",
       "6           Comedy|Romance  \n",
       "22                Thriller  \n",
       "43        Action|Adventure  \n",
       "46          Crime|Thriller  \n",
       "50   Action|Drama|Thriller  \n",
       "63          Comedy|Romance  \n",
       "97             Documentary  \n",
       "118                  Drama  \n",
       "119                  Drama  \n",
       "122                  Drama  \n",
       "230                  Drama  \n",
       "245                 Comedy  \n",
       "266                  Drama  \n",
       "468           Comedy|Drama  "
      ]
     },
     "execution_count": 63,
     "metadata": {},
     "output_type": "execute_result"
    }
   ],
   "source": [
    "movies[movies['movie_id'].isin([m[0] for m in movie_recommended])]"
   ]
  }
 ],
 "metadata": {
  "colab": {
   "collapsed_sections": [],
   "machine_shape": "hm",
   "provenance": []
  },
  "gpuClass": "standard",
  "kernelspec": {
   "display_name": "Python 3 (ipykernel)",
   "language": "python",
   "name": "python3"
  },
  "language_info": {
   "codemirror_mode": {
    "name": "ipython",
    "version": 3
   },
   "file_extension": ".py",
   "mimetype": "text/x-python",
   "name": "python",
   "nbconvert_exporter": "python",
   "pygments_lexer": "ipython3",
   "version": "3.9.7"
  },
  "widgets": {
   "application/vnd.jupyter.widget-state+json": {
    "1b09b30575fe447db011064534461957": {
     "model_module": "@jupyter-widgets/controls",
     "model_module_version": "1.5.0",
     "model_name": "ProgressStyleModel",
     "state": {
      "_model_module": "@jupyter-widgets/controls",
      "_model_module_version": "1.5.0",
      "_model_name": "ProgressStyleModel",
      "_view_count": null,
      "_view_module": "@jupyter-widgets/base",
      "_view_module_version": "1.2.0",
      "_view_name": "StyleView",
      "bar_color": null,
      "description_width": ""
     }
    },
    "229d01c34be8421f9659960b85b9559b": {
     "model_module": "@jupyter-widgets/controls",
     "model_module_version": "1.5.0",
     "model_name": "HBoxModel",
     "state": {
      "_dom_classes": [],
      "_model_module": "@jupyter-widgets/controls",
      "_model_module_version": "1.5.0",
      "_model_name": "HBoxModel",
      "_view_count": null,
      "_view_module": "@jupyter-widgets/controls",
      "_view_module_version": "1.5.0",
      "_view_name": "HBoxView",
      "box_style": "",
      "children": [
       "IPY_MODEL_766d9cd8be0548b58dfe8aa0749295f6",
       "IPY_MODEL_3ea4c9bd929840269dff352cd98918f0",
       "IPY_MODEL_930eeb6330044a59873bfcd2032e0374"
      ],
      "layout": "IPY_MODEL_2d9c1cae157d491ba8ffe402a50e8069"
     }
    },
    "2d9c1cae157d491ba8ffe402a50e8069": {
     "model_module": "@jupyter-widgets/base",
     "model_module_version": "1.2.0",
     "model_name": "LayoutModel",
     "state": {
      "_model_module": "@jupyter-widgets/base",
      "_model_module_version": "1.2.0",
      "_model_name": "LayoutModel",
      "_view_count": null,
      "_view_module": "@jupyter-widgets/base",
      "_view_module_version": "1.2.0",
      "_view_name": "LayoutView",
      "align_content": null,
      "align_items": null,
      "align_self": null,
      "border": null,
      "bottom": null,
      "display": null,
      "flex": null,
      "flex_flow": null,
      "grid_area": null,
      "grid_auto_columns": null,
      "grid_auto_flow": null,
      "grid_auto_rows": null,
      "grid_column": null,
      "grid_gap": null,
      "grid_row": null,
      "grid_template_areas": null,
      "grid_template_columns": null,
      "grid_template_rows": null,
      "height": null,
      "justify_content": null,
      "justify_items": null,
      "left": null,
      "margin": null,
      "max_height": null,
      "max_width": null,
      "min_height": null,
      "min_width": null,
      "object_fit": null,
      "object_position": null,
      "order": null,
      "overflow": null,
      "overflow_x": null,
      "overflow_y": null,
      "padding": null,
      "right": null,
      "top": null,
      "visibility": null,
      "width": null
     }
    },
    "3ea4c9bd929840269dff352cd98918f0": {
     "model_module": "@jupyter-widgets/controls",
     "model_module_version": "1.5.0",
     "model_name": "FloatProgressModel",
     "state": {
      "_dom_classes": [],
      "_model_module": "@jupyter-widgets/controls",
      "_model_module_version": "1.5.0",
      "_model_name": "FloatProgressModel",
      "_view_count": null,
      "_view_module": "@jupyter-widgets/controls",
      "_view_module_version": "1.5.0",
      "_view_name": "ProgressView",
      "bar_style": "success",
      "description": "",
      "description_tooltip": null,
      "layout": "IPY_MODEL_c31d134ab6374ac2b1748b802f4f9814",
      "max": 20,
      "min": 0,
      "orientation": "horizontal",
      "style": "IPY_MODEL_1b09b30575fe447db011064534461957",
      "value": 20
     }
    },
    "6e82a42ddbca4573b82f4368e19b781d": {
     "model_module": "@jupyter-widgets/base",
     "model_module_version": "1.2.0",
     "model_name": "LayoutModel",
     "state": {
      "_model_module": "@jupyter-widgets/base",
      "_model_module_version": "1.2.0",
      "_model_name": "LayoutModel",
      "_view_count": null,
      "_view_module": "@jupyter-widgets/base",
      "_view_module_version": "1.2.0",
      "_view_name": "LayoutView",
      "align_content": null,
      "align_items": null,
      "align_self": null,
      "border": null,
      "bottom": null,
      "display": null,
      "flex": null,
      "flex_flow": null,
      "grid_area": null,
      "grid_auto_columns": null,
      "grid_auto_flow": null,
      "grid_auto_rows": null,
      "grid_column": null,
      "grid_gap": null,
      "grid_row": null,
      "grid_template_areas": null,
      "grid_template_columns": null,
      "grid_template_rows": null,
      "height": null,
      "justify_content": null,
      "justify_items": null,
      "left": null,
      "margin": null,
      "max_height": null,
      "max_width": null,
      "min_height": null,
      "min_width": null,
      "object_fit": null,
      "object_position": null,
      "order": null,
      "overflow": null,
      "overflow_x": null,
      "overflow_y": null,
      "padding": null,
      "right": null,
      "top": null,
      "visibility": null,
      "width": null
     }
    },
    "766d9cd8be0548b58dfe8aa0749295f6": {
     "model_module": "@jupyter-widgets/controls",
     "model_module_version": "1.5.0",
     "model_name": "HTMLModel",
     "state": {
      "_dom_classes": [],
      "_model_module": "@jupyter-widgets/controls",
      "_model_module_version": "1.5.0",
      "_model_name": "HTMLModel",
      "_view_count": null,
      "_view_module": "@jupyter-widgets/controls",
      "_view_module_version": "1.5.0",
      "_view_name": "HTMLView",
      "description": "",
      "description_tooltip": null,
      "layout": "IPY_MODEL_bb6b1c937c9e40b2bde1be37caf79fe8",
      "placeholder": "​",
      "style": "IPY_MODEL_b3ee67498d3a41c7aa298e2ba8f0a30f",
      "value": "100%"
     }
    },
    "930eeb6330044a59873bfcd2032e0374": {
     "model_module": "@jupyter-widgets/controls",
     "model_module_version": "1.5.0",
     "model_name": "HTMLModel",
     "state": {
      "_dom_classes": [],
      "_model_module": "@jupyter-widgets/controls",
      "_model_module_version": "1.5.0",
      "_model_name": "HTMLModel",
      "_view_count": null,
      "_view_module": "@jupyter-widgets/controls",
      "_view_module_version": "1.5.0",
      "_view_name": "HTMLView",
      "description": "",
      "description_tooltip": null,
      "layout": "IPY_MODEL_6e82a42ddbca4573b82f4368e19b781d",
      "placeholder": "​",
      "style": "IPY_MODEL_bdcda3e472d6497f8e13b0f4d7b583a7",
      "value": " 20/20 [00:25&lt;00:00,  1.12s/it]"
     }
    },
    "b3ee67498d3a41c7aa298e2ba8f0a30f": {
     "model_module": "@jupyter-widgets/controls",
     "model_module_version": "1.5.0",
     "model_name": "DescriptionStyleModel",
     "state": {
      "_model_module": "@jupyter-widgets/controls",
      "_model_module_version": "1.5.0",
      "_model_name": "DescriptionStyleModel",
      "_view_count": null,
      "_view_module": "@jupyter-widgets/base",
      "_view_module_version": "1.2.0",
      "_view_name": "StyleView",
      "description_width": ""
     }
    },
    "bb6b1c937c9e40b2bde1be37caf79fe8": {
     "model_module": "@jupyter-widgets/base",
     "model_module_version": "1.2.0",
     "model_name": "LayoutModel",
     "state": {
      "_model_module": "@jupyter-widgets/base",
      "_model_module_version": "1.2.0",
      "_model_name": "LayoutModel",
      "_view_count": null,
      "_view_module": "@jupyter-widgets/base",
      "_view_module_version": "1.2.0",
      "_view_name": "LayoutView",
      "align_content": null,
      "align_items": null,
      "align_self": null,
      "border": null,
      "bottom": null,
      "display": null,
      "flex": null,
      "flex_flow": null,
      "grid_area": null,
      "grid_auto_columns": null,
      "grid_auto_flow": null,
      "grid_auto_rows": null,
      "grid_column": null,
      "grid_gap": null,
      "grid_row": null,
      "grid_template_areas": null,
      "grid_template_columns": null,
      "grid_template_rows": null,
      "height": null,
      "justify_content": null,
      "justify_items": null,
      "left": null,
      "margin": null,
      "max_height": null,
      "max_width": null,
      "min_height": null,
      "min_width": null,
      "object_fit": null,
      "object_position": null,
      "order": null,
      "overflow": null,
      "overflow_x": null,
      "overflow_y": null,
      "padding": null,
      "right": null,
      "top": null,
      "visibility": null,
      "width": null
     }
    },
    "bdcda3e472d6497f8e13b0f4d7b583a7": {
     "model_module": "@jupyter-widgets/controls",
     "model_module_version": "1.5.0",
     "model_name": "DescriptionStyleModel",
     "state": {
      "_model_module": "@jupyter-widgets/controls",
      "_model_module_version": "1.5.0",
      "_model_name": "DescriptionStyleModel",
      "_view_count": null,
      "_view_module": "@jupyter-widgets/base",
      "_view_module_version": "1.2.0",
      "_view_name": "StyleView",
      "description_width": ""
     }
    },
    "c31d134ab6374ac2b1748b802f4f9814": {
     "model_module": "@jupyter-widgets/base",
     "model_module_version": "1.2.0",
     "model_name": "LayoutModel",
     "state": {
      "_model_module": "@jupyter-widgets/base",
      "_model_module_version": "1.2.0",
      "_model_name": "LayoutModel",
      "_view_count": null,
      "_view_module": "@jupyter-widgets/base",
      "_view_module_version": "1.2.0",
      "_view_name": "LayoutView",
      "align_content": null,
      "align_items": null,
      "align_self": null,
      "border": null,
      "bottom": null,
      "display": null,
      "flex": null,
      "flex_flow": null,
      "grid_area": null,
      "grid_auto_columns": null,
      "grid_auto_flow": null,
      "grid_auto_rows": null,
      "grid_column": null,
      "grid_gap": null,
      "grid_row": null,
      "grid_template_areas": null,
      "grid_template_columns": null,
      "grid_template_rows": null,
      "height": null,
      "justify_content": null,
      "justify_items": null,
      "left": null,
      "margin": null,
      "max_height": null,
      "max_width": null,
      "min_height": null,
      "min_width": null,
      "object_fit": null,
      "object_position": null,
      "order": null,
      "overflow": null,
      "overflow_x": null,
      "overflow_y": null,
      "padding": null,
      "right": null,
      "top": null,
      "visibility": null,
      "width": null
     }
    }
   }
  }
 },
 "nbformat": 4,
 "nbformat_minor": 1
}
